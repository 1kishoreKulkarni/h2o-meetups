{
 "cells": [
  {
   "cell_type": "code",
   "execution_count": 1,
   "metadata": {
    "collapsed": false
   },
   "outputs": [],
   "source": [
    "import pandas as pd\n",
    "import h2o\n",
    "import numpy as np\n",
    "from sklearn.feature_extraction.text import TfidfVectorizer"
   ]
  },
  {
   "cell_type": "code",
   "execution_count": 11,
   "metadata": {
    "collapsed": false
   },
   "outputs": [
    {
     "data": {
      "text/html": [
       "<div>\n",
       "<table border=\"1\" class=\"dataframe\">\n",
       "  <thead>\n",
       "    <tr style=\"text-align: right;\">\n",
       "      <th></th>\n",
       "      <th>tweets_author</th>\n",
       "      <th>tweets_id</th>\n",
       "      <th>tweets_text</th>\n",
       "    </tr>\n",
       "  </thead>\n",
       "  <tbody>\n",
       "    <tr>\n",
       "      <th>0</th>\n",
       "      <td>Trump</td>\n",
       "      <td>783436108176629760</td>\n",
       "      <td>Thank you ARIZONA! This is a MOVEMENT like nob...</td>\n",
       "    </tr>\n",
       "    <tr>\n",
       "      <th>1</th>\n",
       "      <td>Trump</td>\n",
       "      <td>783393314309484544</td>\n",
       "      <td>My childcare plan makes a difference for worki...</td>\n",
       "    </tr>\n",
       "    <tr>\n",
       "      <th>2</th>\n",
       "      <td>Trump</td>\n",
       "      <td>783391423663964160</td>\n",
       "      <td>I will be watching the great Governor @Mike_Pe...</td>\n",
       "    </tr>\n",
       "    <tr>\n",
       "      <th>3</th>\n",
       "      <td>Trump</td>\n",
       "      <td>783390310969651200</td>\n",
       "      <td>Join me in Reno, Nevada tomorrow at 3:30pm! #A...</td>\n",
       "    </tr>\n",
       "    <tr>\n",
       "      <th>4</th>\n",
       "      <td>Trump</td>\n",
       "      <td>783149570721144832</td>\n",
       "      <td>Join me in Reno, Nevada on Wednesday at 3:30pm...</td>\n",
       "    </tr>\n",
       "  </tbody>\n",
       "</table>\n",
       "</div>"
      ],
      "text/plain": [
       "  tweets_author           tweets_id  \\\n",
       "0         Trump  783436108176629760   \n",
       "1         Trump  783393314309484544   \n",
       "2         Trump  783391423663964160   \n",
       "3         Trump  783390310969651200   \n",
       "4         Trump  783149570721144832   \n",
       "\n",
       "                                         tweets_text  \n",
       "0  Thank you ARIZONA! This is a MOVEMENT like nob...  \n",
       "1  My childcare plan makes a difference for worki...  \n",
       "2  I will be watching the great Governor @Mike_Pe...  \n",
       "3  Join me in Reno, Nevada tomorrow at 3:30pm! #A...  \n",
       "4  Join me in Reno, Nevada on Wednesday at 3:30pm...  "
      ]
     },
     "execution_count": 11,
     "metadata": {},
     "output_type": "execute_result"
    }
   ],
   "source": [
    "# Read in files from our previous .ipynb: \"TweetGetter\"\n",
    "trump_tweets = pd.read_csv('realdonaldtrump_tweets.csv')\n",
    "clinton_tweets = pd.read_csv('hillaryclinton_tweets.csv')\n",
    "\n",
    "# Assign labels to each DataFrame\n",
    "trump_tweets[\"tweets_author\"] = \"Trump\"\n",
    "clinton_tweets[\"tweets_author\"] = \"Clinton\"\n",
    "\n",
    "# Concatenate the two into one DataFrame, and clean the data\n",
    "tweets = pd.concat([trump_tweets, clinton_tweets])\n",
    "tweets = tweets[[ u'id', u'text', u'tweets_author']]\n",
    "tweets[\"tweets_id\"] = tweets[\"id\"].astype(\"str\") \n",
    "tweets[\"tweets_text\"] = tweets[\"text\"].apply(lambda x: x.decode('utf-8'))\n",
    "tweets = tweets.reset_index()\n",
    "tweets = tweets.drop([\"index\", \"text\", \"id\"],1)\n",
    "tweets.head()"
   ]
  },
  {
   "cell_type": "code",
   "execution_count": 14,
   "metadata": {
    "collapsed": false
   },
   "outputs": [],
   "source": [
    "# Take just the Tweets text\n",
    "tfidf_tweets = tweets[\"tweets_text\"].values\n",
    "\n",
    "# Initialize our TF-IDF Vectorizer & create our (sparse) TF-IDF matrix\n",
    "tfidf_vectorizer = TfidfVectorizer()\n",
    "tfidf_matrix = tfidf_vectorizer.fit_transform(tfidf_tweets)\n",
    "\n",
    "# Convert our matrix to a dense matrix and convert to a DataFrame, adding the actual column names\n",
    "dense = pd.DataFrame(tfidf_matrix.todense(), columns=tfidf_vectorizer.get_feature_names())\n",
    "\n",
    "# Re-join with our original dataset\n",
    "output_tweets = pd.concat([tweets, dense], 1)\n",
    "output_tweets = output_tweets.drop(\"tweets_text\", 1)\n",
    "output_tweets.to_csv(\"tfidf_tweets.csv\", encoding='utf-8') # Takes a long time -- very large dataset!"
   ]
  },
  {
   "cell_type": "code",
   "execution_count": 26,
   "metadata": {
    "collapsed": false
   },
   "outputs": [
    {
     "name": "stdout",
     "output_type": "stream",
     "text": [
      "Connecting to H2O server at http://localhost:54321....... failed.\n",
      "Attempting to start a local H2O server...\n",
      "  Java Version: java version \"1.8.0_101\"; Java(TM) SE Runtime Environment (build 1.8.0_101-b13); Java HotSpot(TM) 64-Bit Server VM (build 25.101-b13, mixed mode)\n",
      "  Starting server from /Users/jaymahabal/anaconda/h2o_jar/h2o.jar\n",
      "  Ice root: /var/folders/0p/j0cz67k54b51w765vbyvq69m0000gn/T/tmpBQTMOe\n",
      "  JVM stdout: /var/folders/0p/j0cz67k54b51w765vbyvq69m0000gn/T/tmpBQTMOe/h2o_jaymahabal_started_from_python.out\n",
      "  JVM stderr: /var/folders/0p/j0cz67k54b51w765vbyvq69m0000gn/T/tmpBQTMOe/h2o_jaymahabal_started_from_python.err\n",
      "Server is running at http://127.0.0.1:54321\n",
      "Connecting to H2O server at http://127.0.0.1:54321... successful!\n"
     ]
    }
   ],
   "source": [
    "# Start our modeling using H2O\n",
    "# You can do so in H2O Flow: \n",
    "# After running H2O, run file \"NLPTweets.flow\"\n",
    "\n",
    "h2o.init(nthreads = -1)"
   ]
  },
  {
   "cell_type": "code",
   "execution_count": null,
   "metadata": {
    "collapsed": true
   },
   "outputs": [],
   "source": []
  }
 ],
 "metadata": {
  "anaconda-cloud": {},
  "kernelspec": {
   "display_name": "Python [Root]",
   "language": "python",
   "name": "Python [Root]"
  },
  "language_info": {
   "codemirror_mode": {
    "name": "ipython",
    "version": 2
   },
   "file_extension": ".py",
   "mimetype": "text/x-python",
   "name": "python",
   "nbconvert_exporter": "python",
   "pygments_lexer": "ipython2",
   "version": "2.7.12"
  }
 },
 "nbformat": 4,
 "nbformat_minor": 0
}
