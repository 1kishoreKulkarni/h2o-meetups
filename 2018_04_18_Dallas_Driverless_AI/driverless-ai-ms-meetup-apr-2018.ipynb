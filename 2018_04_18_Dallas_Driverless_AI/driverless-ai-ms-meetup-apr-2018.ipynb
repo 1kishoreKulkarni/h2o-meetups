{
 "cells": [
  {
   "cell_type": "markdown",
   "metadata": {},
   "source": [
    "# H2O Driverless AI on Azure\n",
    "\n",
    "## Dataset and Use Case\n",
    "\n",
    "### Dataset\n",
    "\n",
    "For this demo, we will be using data from [Dallas OpenData](https://www.dallasopendata.com), namely, Dallas Animal Shelter Data FY [2015](https://www.dallasopendata.com/City-Services/FY-2015-Dallas-Animal-Shelter-Data/4j5h-8vay), [2016](https://www.dallasopendata.com/City-Services/FY-2016-Dallas-Animal-Shelter-Data/bg5d-mj5u), [2017](https://www.dallasopendata.com/City-Services/FY-2017-Dallas-Animal-Shelter-Data/sjyj-ydcj), and [2018](https://www.dallasopendata.com/City-Services/FY-2018-Dallas-Animal-Shelter-Data/7h2m-3um5).\n",
    "\n",
    "Dallas Animal Shelter Data pertains to operational processes carried out by shelter personnel who assist citizens by receiving surrendered and stray animals, facilitating adoptions, transferring animals to rescue groups, and providing care to the animals in the shelter every day. The Dallas Animal Shelter Data is updated daily and includes records of every animal admitted and then dischared from the city shelters qualified by various intake and outcome attributes.\n",
    "\n",
    "### Animal Survival Use Case\n",
    "Amongst many possible scenarios Dallas Animal Shelter data may pertain one is of obvious interest: how and why animals survive or don't survive after being admitted to a shelter. For this purpose the data attributes collected at admission become independent variables and data attributes collected at discharge used to obtain outcome.\n",
    "\n",
    "Available intake attributes:\n",
    "\n",
    "  * animal type\n",
    "  * breed\n",
    "  * origin\n",
    "  * census tract (neighborhood, see [Finding Census Tract Data: About Census Tracts](https://libguides.lib.msu.edu/tracts))\n",
    "  * council district\n",
    "  * intake type\n",
    "  * intake subtype\n",
    "  * reason\n",
    "  * staff id\n",
    "  * intake date\n",
    "  * intake time\n",
    "  * intake condition\n",
    "  * chip status\n",
    "  * animal origin\n",
    "  * month\n",
    "  * year\n",
    "  \n",
    "Available outcome attributes:\n",
    "\n",
    "  * outcome type\n",
    "  * outcome subtype\n",
    "  * outcome condition\n",
    "  \n",
    "Dallas OpenData recently added [Animal Medical Record](https://www.dallasopendata.com/City-Services/FY-2018-Dallas-Animal-Medical-Record/utjn-mhn6) datasets for 2017 and 2018 but after collobarating them shelter records we determined insufficient amount of data. In a future when medical records become more pervasive they will be valuable addition to Dallas Animal Shelter models.\n",
    "\n",
    "## Import Data\n",
    "\n",
    "We imported and formatted datasets with [RSocrata](https://dev.socrata.com/libraries/) and [data.table](https://cran.r-project.org/web/packages/data.table/vignettes/datatable-intro.html) packages in R. Resulting data files formed training and test sets:\n",
    "\n",
    "  * FY 2015-2017 training set: *dallas_animal_services_train.csv*\n",
    "  * FY 2018 test set: *dallas_animal_services_test.csv*\n",
    "  \n",
    "Completed files were moved to Azure available to Driverless AI."
   ]
  },
  {
   "cell_type": "markdown",
   "metadata": {},
   "source": [
    "```r\n",
    "library(data.table)\n",
    "library(RSocrata)\n",
    "\n",
    "#### some OSX work-around \n",
    "if (Sys.info()[\"sysname\"] == \"Darwin\")\n",
    "  Sys.setenv (TZ=\"America/Chicago\")\n",
    "\n",
    "#### Read Dallas Animal Shelters Data 2015 - 2018\n",
    "data15.source = read.socrata(url = \"https://www.dallasopendata.com/resource/8pn8-24ku.csv\")\n",
    "data16.source = read.socrata(url = \"https://www.dallasopendata.com/resource/4qfv-27du.csv\")\n",
    "data17.source = read.socrata(url = \"https://www.dallasopendata.com/resource/8849-mzxh.csv\")\n",
    "data18.source = read.socrata(url = \"https://www.dallasopendata.com/resource/4jgt-nenk.csv\")\n",
    "\n",
    "#### Read Dallas Animal Medical Records 2018 (not used)\n",
    "data18.recs.source = read.socrata(url = \"https://www.dallasopendata.com/resource/5dkq-vasv.csv\")\n",
    "data17.recs.source = read.socrata(url = \"https://www.dallasopendata.com/resource/tab8-7f9r.csv\")\n",
    "\n",
    "#### Create data tables for speed\n",
    "dt15 = data.table(data15.source)\n",
    "dt16 = data.table(data16.source)\n",
    "dt17 = data.table(data17.source)\n",
    "dt18 = data.table(data18.source)\n",
    "\n",
    "#### Minimal changes to make all years compatible\n",
    "dt15n16 = bind_rows(list(dt15,dt16))\n",
    "dt15n16[, c(\"intake_time\",\"outcome_time\") := \n",
    "          list(strftime(intake_time, format=\"%H:%M:%S.\"), \n",
    "               strftime(outcome_time, format=\"%H:%M:%S.\"))]\n",
    "\n",
    "names(dt17)[21] = 'month'\n",
    "\n",
    "alldata = bind_rows(dt15n16,dt17,dt18)\n",
    "\n",
    "alldogs = alldata[!is.na(outcome_date) & \n",
    "                    (intake_total == 1 | is.na(intake_total)) &\n",
    "                    animal_type == 'DOG' &\n",
    "                    !outcome_type %in% c(\"DEAD ON ARRIVAL\",\"FOUND REPORT\",\"LOST REPORT\")]\n",
    "\n",
    "alldogs[, c(\"activity_number\",\"activity_sequence\",\"tag_type\",\n",
    "            \"animal_type\",\"additional_information\") := NULL]\n",
    "alldogs[, c(\"intake_time\", \"outcome_time\",\"month\",\"lost\",\n",
    "            \"intake_is_contagious\",\"intake_treatable\") := list(\n",
    "  substring(intake_time, 1, 8),\n",
    "  substring(outcome_time, 1, 8),\n",
    "  substring(month, 1, 3),\n",
    "  ifelse(outcome_type %in% c(\"DIED\",\"EUTHANIZED\",\"MISSING\"), 1, 0),\n",
    "  ifelse(is.na(str_match(intake_condition, ' CONTAGIOUS$')[,1]), 'NO','YES'),\n",
    "  ifelse(is.na(str_match(intake_condition, '^TREATABLE ')[,1]), 'UNTREATABLE',\n",
    "         ifelse(is.na(str_match(intake_condition, 'MANAGEABLE')[,1]),\n",
    "                'REHABILITABLE', 'MANAGEABLE'))\n",
    ")]\n",
    "            \n",
    "#### Write CSV Files       \n",
    "fwrite(alldogs[!year %in% \"FY2018\"], file = \"~/Projects/Playground/data/dallas_animal_services_train.csv\")\n",
    "fwrite(alldogs[year %in% \"FY2018\"], file = \"~/Projects/Playground/data/dallas_animal_services_test.csv\")\n",
    "```"
   ]
  },
  {
   "cell_type": "code",
   "execution_count": 25,
   "metadata": {},
   "outputs": [],
   "source": [
    "import pandas as pd\n",
    "import numpy as np\n",
    "import h2oai_client\n",
    "# import h2o\n",
    "import requests\n",
    "import math\n",
    "from h2oai_client import Client, ModelParameters, InterpretParameters"
   ]
  },
  {
   "cell_type": "code",
   "execution_count": 18,
   "metadata": {},
   "outputs": [],
   "source": [
    "ip = \"52.170.113.117\"\n",
    "server_address = 'http://' + ip + ':12345'\n",
    "h2oai = Client(address = server_address, username = \"h2oai\", password = \"h2oai\")"
   ]
  },
  {
   "cell_type": "code",
   "execution_count": 37,
   "metadata": {},
   "outputs": [
    {
     "name": "stdout",
     "output_type": "stream",
     "text": [
      "[('buhunavo', 'dallas_animal_services_weather_train.csv'), ('gacupapu', 'dallas_animal_services_weather_test.csv'), ('nalewohi', 'dallas_animal_services_train.csv'), ('necumove', 'dallas_animal_services_test.csv')]\n"
     ]
    }
   ],
   "source": [
    "print(list(map(lambda x: (x.key,x.name), h2oai.list_datasets(offset=0, limit=100))))"
   ]
  },
  {
   "cell_type": "code",
   "execution_count": 15,
   "metadata": {},
   "outputs": [
    {
     "data": {
      "text/plain": [
       "('nalewohi', 'necumove')"
      ]
     },
     "execution_count": 15,
     "metadata": {},
     "output_type": "execute_result"
    }
   ],
   "source": [
    "# Datasets\n",
    "dataset_key=h2oai.list_datasets(offset=0, limit=100)[2].key \n",
    "validset_key = '', # No validation data provided\n",
    "testset_key=h2oai.list_datasets(offset=0, limit=100)[3].key\n",
    "dataset_key,testset_key"
   ]
  },
  {
   "cell_type": "code",
   "execution_count": 8,
   "metadata": {},
   "outputs": [
    {
     "name": "stdout",
     "output_type": "stream",
     "text": [
      "['nuvuromu', 'nedurupe']\n"
     ]
    }
   ],
   "source": [
    "print(list(map(lambda x: x.key, h2oai.list_models(offset=0, limit=100))))"
   ]
  },
  {
   "cell_type": "markdown",
   "metadata": {},
   "source": [
    "Run experiments with fixed accuracy (=3) and time (=3) and varying interpretability (from 2 to 10) to see how change in interpretability affects model performance."
   ]
  },
  {
   "cell_type": "code",
   "execution_count": 19,
   "metadata": {},
   "outputs": [],
   "source": [
    "experiment_array = np.empty((5))\n",
    "for i in range(experiment_array.shape[0]):\n",
    "    experiment = h2oai.start_experiment_sync(ModelParameters(\n",
    "            \n",
    "                dataset_key=dataset_key,\n",
    "                validset_key='',\n",
    "                testset_key=testset_key,\n",
    "                \n",
    "                # Columns\n",
    "                target_col='lost',\n",
    "                cols_to_drop=['animal_id','due_out','hold_request','impound_number',\n",
    "                              'intake_total','kennel_status','kennel_number',\n",
    "                              'outcome_condition','outcome_date','outcome_time','outcome_type',\n",
    "                              'reason','receipt_number','service_request_number','source_id',\n",
    "                              'staff_id','year','outcome_subtype'],\n",
    "                weight_col='',\n",
    "                fold_col='',\n",
    "                time_col='intake_date',\n",
    "                \n",
    "                # Parameters\n",
    "                is_classification=True,\n",
    "                enable_gpus=True,\n",
    "                seed=1234,\n",
    "                \n",
    "                accuracy=3,\n",
    "                time=3,\n",
    "                interpretability=(i + 1) * 2, \n",
    "    \n",
    "                scorer=\"AUC\"\n",
    "            ))\n",
    "    experiment_array[i] = experiment.test_score"
   ]
  },
  {
   "cell_type": "code",
   "execution_count": 20,
   "metadata": {},
   "outputs": [
    {
     "name": "stdout",
     "output_type": "stream",
     "text": [
      "[0.82437 0.82517 0.82402 0.81725 0.82075]\n"
     ]
    }
   ],
   "source": [
    "float_formatter = lambda x: \"%.5f\" % x\n",
    "np.set_printoptions(formatter={'float_kind':float_formatter})\n",
    "\n",
    "print(experiment_array)"
   ]
  },
  {
   "cell_type": "code",
   "execution_count": 31,
   "metadata": {},
   "outputs": [],
   "source": [
    "xs = (np.arange(0,experiment_array.shape[0]) + 1) * 2\n",
    "ys = experiment_array"
   ]
  },
  {
   "cell_type": "code",
   "execution_count": 36,
   "metadata": {},
   "outputs": [
    {
     "data": {
      "image/png": "[encoded data removed]",
      "text/plain": [
       "<Figure size 432x288 with 1 Axes>"
      ]
     },
     "metadata": {},
     "output_type": "display_data"
    }
   ],
   "source": [
    "import matplotlib.pyplot as plt\n",
    "# %matplotlib inline\n",
    "plt.plot(xs, ys)\n",
    "plt.title('Model Performance vs. Interpretability')\n",
    "plt.xlabel('Interpretability')\n",
    "plt.ylabel('AUC (Area Under the Curve)')\n",
    "plt.show()"
   ]
  }
 ],
 "metadata": {
  "kernelspec": {
   "display_name": "Python 3",
   "language": "python",
   "name": "python3"
  },
  "language_info": {
   "codemirror_mode": {
    "name": "ipython",
    "version": 3
   },
   "file_extension": ".py",
   "mimetype": "text/x-python",
   "name": "python",
   "nbconvert_exporter": "python",
   "pygments_lexer": "ipython3",
   "version": "3.6.3"
  }
 },
 "nbformat": 4,
 "nbformat_minor": 2
}
