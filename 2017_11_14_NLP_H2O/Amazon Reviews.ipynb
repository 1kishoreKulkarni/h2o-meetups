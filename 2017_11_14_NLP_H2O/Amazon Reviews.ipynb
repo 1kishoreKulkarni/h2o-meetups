{
 "cells": [
  {
   "cell_type": "markdown",
   "metadata": {},
   "source": [
    "## Predicting Good Amazon Reviews\n",
    "\n",
    "For this demo, we will be using the [Amazon Fine Food Reviews Data](https://www.kaggle.com/snap/amazon-fine-food-reviews).  The Amazon Fine Food Reviews dataset consists of 568,454 food reviews Amazon users left up to October 2012.\n",
    "\n",
    "## Import Data\n",
    "\n",
    "We will begin by importing our review data into our H2O cluster.  In this case, I will be starting up an H2O cluster on my local computer."
   ]
  },
  {
   "cell_type": "code",
   "execution_count": 1,
   "metadata": {
    "collapsed": true
   },
   "outputs": [],
   "source": [
    "import h2o"
   ]
  },
  {
   "cell_type": "code",
   "execution_count": 2,
   "metadata": {
    "collapsed": false
   },
   "outputs": [
    {
     "name": "stdout",
     "output_type": "stream",
     "text": [
      "Checking whether there is an H2O instance running at http://localhost:54321..... not found.\n",
      "Attempting to start a local H2O server...\n",
      "  Java Version: java version \"1.7.0_80\"; Java(TM) SE Runtime Environment (build 1.7.0_80-b15); Java HotSpot(TM) 64-Bit Server VM (build 24.80-b11, mixed mode)\n",
      "  Starting server from /Users/megankurka/anaconda3/envs/py27/lib/python2.7/site-packages/h2o/backend/bin/h2o.jar\n",
      "  Ice root: /var/folders/gv/w2f3zs_d33l3dt5j67k9nhhr0000gn/T/tmpmWHY4w\n",
      "  JVM stdout: /var/folders/gv/w2f3zs_d33l3dt5j67k9nhhr0000gn/T/tmpmWHY4w/h2o_megankurka_started_from_python.out\n",
      "  JVM stderr: /var/folders/gv/w2f3zs_d33l3dt5j67k9nhhr0000gn/T/tmpmWHY4w/h2o_megankurka_started_from_python.err\n",
      "  Server is running at http://127.0.0.1:54321\n",
      "Connecting to H2O server at http://127.0.0.1:54321... successful.\n"
     ]
    },
    {
     "data": {
      "text/html": [
       "<div style=\"overflow:auto\"><table style=\"width:50%\"><tr><td>H2O cluster uptime:</td>\n",
       "<td>02 secs</td></tr>\n",
       "<tr><td>H2O cluster version:</td>\n",
       "<td>3.14.0.7</td></tr>\n",
       "<tr><td>H2O cluster version age:</td>\n",
       "<td>25 days </td></tr>\n",
       "<tr><td>H2O cluster name:</td>\n",
       "<td>H2O_from_python_megankurka_7bn4og</td></tr>\n",
       "<tr><td>H2O cluster total nodes:</td>\n",
       "<td>1</td></tr>\n",
       "<tr><td>H2O cluster free memory:</td>\n",
       "<td>5.750 Gb</td></tr>\n",
       "<tr><td>H2O cluster total cores:</td>\n",
       "<td>8</td></tr>\n",
       "<tr><td>H2O cluster allowed cores:</td>\n",
       "<td>8</td></tr>\n",
       "<tr><td>H2O cluster status:</td>\n",
       "<td>accepting new members, healthy</td></tr>\n",
       "<tr><td>H2O connection url:</td>\n",
       "<td>http://127.0.0.1:54321</td></tr>\n",
       "<tr><td>H2O connection proxy:</td>\n",
       "<td>None</td></tr>\n",
       "<tr><td>H2O internal security:</td>\n",
       "<td>False</td></tr>\n",
       "<tr><td>H2O API Extensions:</td>\n",
       "<td>AutoML, XGBoost, Algos, Core V3, Core V4</td></tr>\n",
       "<tr><td>Python version:</td>\n",
       "<td>2.7.13 final</td></tr></table></div>"
      ],
      "text/plain": [
       "--------------------------  ----------------------------------------\n",
       "H2O cluster uptime:         02 secs\n",
       "H2O cluster version:        3.14.0.7\n",
       "H2O cluster version age:    25 days\n",
       "H2O cluster name:           H2O_from_python_megankurka_7bn4og\n",
       "H2O cluster total nodes:    1\n",
       "H2O cluster free memory:    5.750 Gb\n",
       "H2O cluster total cores:    8\n",
       "H2O cluster allowed cores:  8\n",
       "H2O cluster status:         accepting new members, healthy\n",
       "H2O connection url:         http://127.0.0.1:54321\n",
       "H2O connection proxy:\n",
       "H2O internal security:      False\n",
       "H2O API Extensions:         AutoML, XGBoost, Algos, Core V3, Core V4\n",
       "Python version:             2.7.13 final\n",
       "--------------------------  ----------------------------------------"
      ]
     },
     "metadata": {},
     "output_type": "display_data"
    }
   ],
   "source": [
    "h2o.init()"
   ]
  },
  {
   "cell_type": "code",
   "execution_count": 3,
   "metadata": {
    "collapsed": false
   },
   "outputs": [
    {
     "name": "stdout",
     "output_type": "stream",
     "text": [
      "Parse progress: |█████████████████████████████████████████████████████████| 100%\n"
     ]
    }
   ],
   "source": [
    "# Import Data\n",
    "reviewsHex = h2o.import_file(\"./amazon-fine-food-reviews/Reviews.csv\")"
   ]
  },
  {
   "cell_type": "code",
   "execution_count": 4,
   "metadata": {
    "collapsed": true
   },
   "outputs": [],
   "source": [
    "#' Add Target Column: \"GoodReview\"\n",
    "reviewsHex[\"GoodReview\"] = (reviewsHex[\"Score\"] >= 4).ifelse(\"Yes\", \"No\")"
   ]
  },
  {
   "cell_type": "code",
   "execution_count": 5,
   "metadata": {
    "collapsed": false
   },
   "outputs": [
    {
     "data": {
      "text/html": [
       "<table>\n",
       "<thead>\n",
       "<tr><th style=\"text-align: right;\">  Id</th><th>ProductId  </th><th>UserId        </th><th>ProfileName                    </th><th style=\"text-align: right;\">  HelpfulnessNumerator</th><th style=\"text-align: right;\">  HelpfulnessDenominator</th><th style=\"text-align: right;\">  Score</th><th style=\"text-align: right;\">       Time</th><th>Summary                                      </th><th>Text                                                                                                                                                                                                                                                                                                                                                                                                                                                                                                                         </th><th>GoodReview  </th></tr>\n",
       "</thead>\n",
       "<tbody>\n",
       "<tr><td style=\"text-align: right;\">   1</td><td>B001E4KFG0 </td><td>A3SGXH7AUHU8GW</td><td>delmartian                     </td><td style=\"text-align: right;\">                     1</td><td style=\"text-align: right;\">                       1</td><td style=\"text-align: right;\">      5</td><td style=\"text-align: right;\">1.30386e+09</td><td>Good Quality Dog Food                        </td><td>I have bought several of the Vitality canned dog food products and have found them all to be of good quality. The product looks more like a stew than a processed meat and it smells better. My Labrador is finicky and she appreciates this product better than  most.                                                                                                                                                                                                                                                      </td><td>Yes         </td></tr>\n",
       "<tr><td style=\"text-align: right;\">   2</td><td>B00813GRG4 </td><td>A1D87F6ZCVE5NK</td><td>dll pa                         </td><td style=\"text-align: right;\">                     0</td><td style=\"text-align: right;\">                       0</td><td style=\"text-align: right;\">      1</td><td style=\"text-align: right;\">1.34698e+09</td><td>Not as Advertised                            </td><td>Product arrived labeled as Jumbo Salted Peanuts...the peanuts were actually small sized unsalted. Not sure if this was an error or if the vendor intended to represent the product as \"\"Jumbo\"                                                                                                                                                                                                                                                                                                                               </td><td>No          </td></tr>\n",
       "<tr><td style=\"text-align: right;\">   3</td><td>B000LQOCH0 </td><td>ABXLMWJIXXAIN </td><td>Natalia Corres \"\"Natalia Corres</td><td style=\"text-align: right;\">                     1</td><td style=\"text-align: right;\">                       1</td><td style=\"text-align: right;\">      4</td><td style=\"text-align: right;\">1.21902e+09</td><td>\"\"Delight\"\" says it a                        </td><td>This is a confection that has been around a few centuries.  It is a light, pillowy citrus gelatin with nuts - in this case Filberts. And it is cut into tiny squares and then liberally coated with powdered sugar.  And it is a tiny mouthful of heaven.  Not too chewy, and very flavorful.  I highly recommend this yummy treat.  If you are familiar with the story of C.S. Lewis' \"\"The Lion, The Witch, and The Wardrobe\"\" - this is the treat that seduces Edmund into selling out his Brother and Sisters to the Witc</td><td>Yes         </td></tr>\n",
       "<tr><td style=\"text-align: right;\">   4</td><td>B000UA0QIQ </td><td>A395BORC6FGVXV</td><td>Karl                           </td><td style=\"text-align: right;\">                     3</td><td style=\"text-align: right;\">                       3</td><td style=\"text-align: right;\">      2</td><td style=\"text-align: right;\">1.30792e+09</td><td>Cough Medicine                               </td><td>If you are looking for the secret ingredient in Robitussin I believe I have found it.  I got this in addition to the Root Beer Extract I ordered (which was good) and made some cherry soda.  The flavor is very medicinal.                                                                                                                                                                                                                                                                                                  </td><td>No          </td></tr>\n",
       "<tr><td style=\"text-align: right;\">   5</td><td>B006K2ZZ7K </td><td>A1UQRSCLF8GW1T</td><td>Michael D. Bigham \"\"M. Wassir  </td><td style=\"text-align: right;\">                     0</td><td style=\"text-align: right;\">                       0</td><td style=\"text-align: right;\">      5</td><td style=\"text-align: right;\">1.35078e+09</td><td>Great taffy                                  </td><td>Great taffy at a great price.  There was a wide assortment of yummy taffy.  Delivery was very quick.  If your a taffy lover, this is a deal.                                                                                                                                                                                                                                                                                                                                                                                 </td><td>Yes         </td></tr>\n",
       "<tr><td style=\"text-align: right;\">   6</td><td>B006K2ZZ7K </td><td>ADT0SRK1MGOEU </td><td>Twoapennything                 </td><td style=\"text-align: right;\">                     0</td><td style=\"text-align: right;\">                       0</td><td style=\"text-align: right;\">      4</td><td style=\"text-align: right;\">1.34205e+09</td><td>Nice Taffy                                   </td><td>I got a wild hair for taffy and ordered this five pound bag. The taffy was all very enjoyable with many flavors: watermelon, root beer, melon, peppermint, grape, etc. My only complaint is there was a bit too much red/black licorice-flavored pieces (just not my particular favorites). Between me, my kids, and my husband, this lasted only two weeks! I would recommend this brand of taffy -- it was a delightful treat.                                                                                             </td><td>Yes         </td></tr>\n",
       "<tr><td style=\"text-align: right;\">   7</td><td>B006K2ZZ7K </td><td>A1SP2KVKFXXRU1</td><td>David C. Sullivan              </td><td style=\"text-align: right;\">                     0</td><td style=\"text-align: right;\">                       0</td><td style=\"text-align: right;\">      5</td><td style=\"text-align: right;\">1.34015e+09</td><td>Great!  Just as good as the expensive brands!</td><td>This saltwater taffy had great flavors and was very soft and chewy.  Each candy was individually wrapped well.  None of the candies were stuck together, which did happen in the expensive version, Fralinger's.  Would highly recommend this candy!  I served it at a beach-themed party and everyone loved it!                                                                                                                                                                                                             </td><td>Yes         </td></tr>\n",
       "<tr><td style=\"text-align: right;\">   8</td><td>B006K2ZZ7K </td><td>A3JRGQVEQN31IQ</td><td>Pamela G. Williams             </td><td style=\"text-align: right;\">                     0</td><td style=\"text-align: right;\">                       0</td><td style=\"text-align: right;\">      5</td><td style=\"text-align: right;\">1.336e+09  </td><td>Wonderful, tasty taffy                       </td><td>This taffy is so good.  It is very soft and chewy.  The flavors are amazing.  I would definitely recommend you buying it.  Very satisfying!!                                                                                                                                                                                                                                                                                                                                                                                 </td><td>Yes         </td></tr>\n",
       "<tr><td style=\"text-align: right;\">   9</td><td>B000E7L2R4 </td><td>A1MZYO9TZK0BBI</td><td>R. James                       </td><td style=\"text-align: right;\">                     1</td><td style=\"text-align: right;\">                       1</td><td style=\"text-align: right;\">      5</td><td style=\"text-align: right;\">1.32201e+09</td><td>Yay Barley                                   </td><td>Right now I'm mostly just sprouting this so my cats can eat the grass. They love it. I rotate it around with Wheatgrass and Rye too                                                                                                                                                                                                                                                                                                                                                                                          </td><td>Yes         </td></tr>\n",
       "<tr><td style=\"text-align: right;\">  10</td><td>B00171APVA </td><td>A21BT40VZCCYT4</td><td>Carol A. Reed                  </td><td style=\"text-align: right;\">                     0</td><td style=\"text-align: right;\">                       0</td><td style=\"text-align: right;\">      5</td><td style=\"text-align: right;\">1.35121e+09</td><td>Healthy Dog Food                             </td><td>This is a very healthy dog food. Good for their digestion. Also good for small puppies. My dog eats her required amount at every feeding.                                                                                                                                                                                                                                                                                                                                                                                    </td><td>Yes         </td></tr>\n",
       "</tbody>\n",
       "</table>"
      ]
     },
     "metadata": {},
     "output_type": "display_data"
    },
    {
     "data": {
      "text/plain": []
     },
     "execution_count": 5,
     "metadata": {},
     "output_type": "execute_result"
    }
   ],
   "source": [
    "reviewsHex.head()"
   ]
  },
  {
   "cell_type": "code",
   "execution_count": 6,
   "metadata": {
    "collapsed": false
   },
   "outputs": [
    {
     "data": {
      "text/html": [
       "<table>\n",
       "<thead>\n",
       "<tr><th>GoodReview  </th><th style=\"text-align: right;\">  Count</th></tr>\n",
       "</thead>\n",
       "<tbody>\n",
       "<tr><td>No          </td><td style=\"text-align: right;\"> 124677</td></tr>\n",
       "<tr><td>Yes         </td><td style=\"text-align: right;\"> 443777</td></tr>\n",
       "</tbody>\n",
       "</table>"
      ]
     },
     "metadata": {},
     "output_type": "display_data"
    },
    {
     "data": {
      "text/plain": []
     },
     "execution_count": 6,
     "metadata": {},
     "output_type": "execute_result"
    }
   ],
   "source": [
    "reviewsHex[\"GoodReview\"].table()"
   ]
  },
  {
   "cell_type": "code",
   "execution_count": 7,
   "metadata": {
    "collapsed": false
   },
   "outputs": [
    {
     "data": {
      "text/plain": [
       "568454"
      ]
     },
     "execution_count": 7,
     "metadata": {},
     "output_type": "execute_result"
    }
   ],
   "source": [
    "reviewsHex.nrow"
   ]
  },
  {
   "cell_type": "code",
   "execution_count": 8,
   "metadata": {
    "collapsed": true
   },
   "outputs": [],
   "source": [
    "# Filter so we can run this comfortably locally\n",
    "# Comment this line out to train on the whole dataset\n",
    "\n",
    "reviewsHex = reviewsHex[0:100000, :]"
   ]
  },
  {
   "cell_type": "markdown",
   "metadata": {},
   "source": [
    "## Tokenize Words in Review\n",
    "\n",
    "Our first step will be to tokenize the words in the review column. We will do this by creating a function called `tokenize`.  This will split the reviews into words and remove any stop words, small words, or words with numbers in them."
   ]
  },
  {
   "cell_type": "code",
   "execution_count": 9,
   "metadata": {
    "collapsed": false
   },
   "outputs": [],
   "source": [
    "# Set Stop Words\n",
    "\n",
    "STOP_WORDS = [\"ax\",\"i\",\"you\",\"edu\",\"s\",\"t\",\"m\",\"subject\",\"can\",\"lines\",\"re\",\"what\",\n",
    "               \"there\",\"all\",\"we\",\"one\",\"the\",\"a\",\"an\",\"of\",\"or\",\"in\",\"for\",\"by\",\"on\",\n",
    "               \"but\",\"is\",\"in\",\"a\",\"not\",\"with\",\"as\",\"was\",\"if\",\"they\",\"are\",\"this\",\"and\",\"it\",\"have\",\n",
    "               \"from\",\"at\",\"my\",\"be\",\"by\",\"not\",\"that\",\"to\",\"from\",\"com\",\"org\",\"like\",\"likes\",\"so\"]\n",
    "\n",
    "# We can also use packages like nltk for stop words\n",
    "\n",
    "from nltk.corpus import stopwords\n",
    "STOP_WORDS = set(stopwords.words('english'))"
   ]
  },
  {
   "cell_type": "code",
   "execution_count": 10,
   "metadata": {
    "collapsed": true
   },
   "outputs": [],
   "source": [
    "def tokenize(sentences, stop_word = STOP_WORDS):\n",
    "    tokenized = sentences.tokenize(\"\\\\W+\")\n",
    "    tokenized_lower = tokenized.tolower()\n",
    "    tokenized_filtered = tokenized_lower[(tokenized_lower.nchar() >= 2) | (tokenized_lower.isna()),:]\n",
    "    tokenized_words = tokenized_filtered[tokenized_filtered.grep(\"[0-9]\",invert=True,output_logical=True),:]\n",
    "    tokenized_words = tokenized_words[(tokenized_words.isna()) | (~ tokenized_words.isin(STOP_WORDS)),:]\n",
    "    return tokenized_words"
   ]
  },
  {
   "cell_type": "code",
   "execution_count": 11,
   "metadata": {
    "collapsed": false
   },
   "outputs": [],
   "source": [
    "# Break job titles into sequence of words\n",
    "words = tokenize(reviewsHex[\"Text\"])"
   ]
  },
  {
   "cell_type": "code",
   "execution_count": 12,
   "metadata": {
    "collapsed": false
   },
   "outputs": [
    {
     "data": {
      "text/html": [
       "<table>\n",
       "<thead>\n",
       "<tr><th>C1      </th></tr>\n",
       "</thead>\n",
       "<tbody>\n",
       "<tr><td>bought  </td></tr>\n",
       "<tr><td>several </td></tr>\n",
       "<tr><td>vitality</td></tr>\n",
       "<tr><td>canned  </td></tr>\n",
       "<tr><td>dog     </td></tr>\n",
       "<tr><td>food    </td></tr>\n",
       "<tr><td>products</td></tr>\n",
       "<tr><td>found   </td></tr>\n",
       "<tr><td>good    </td></tr>\n",
       "<tr><td>quality </td></tr>\n",
       "</tbody>\n",
       "</table>"
      ]
     },
     "metadata": {},
     "output_type": "display_data"
    },
    {
     "data": {
      "text/plain": []
     },
     "execution_count": 12,
     "metadata": {},
     "output_type": "execute_result"
    }
   ],
   "source": [
    "words.head()"
   ]
  },
  {
   "cell_type": "code",
   "execution_count": 13,
   "metadata": {
    "collapsed": false
   },
   "outputs": [
    {
     "data": {
      "text/plain": [
       "4218105"
      ]
     },
     "execution_count": 13,
     "metadata": {},
     "output_type": "execute_result"
    }
   ],
   "source": [
    "words.nrow"
   ]
  },
  {
   "cell_type": "markdown",
   "metadata": {},
   "source": [
    "## Train Word2Vec Model\n",
    "\n",
    "Now that we've tokenized our words, we can train a word2vec model.  We can use the `find_synonms` function to sanity check our word2vec model after training."
   ]
  },
  {
   "cell_type": "code",
   "execution_count": 14,
   "metadata": {
    "collapsed": false
   },
   "outputs": [
    {
     "name": "stdout",
     "output_type": "stream",
     "text": [
      "word2vec Model Build progress: |██████████████████████████████████████████| 100%\n"
     ]
    }
   ],
   "source": [
    "# Train Word2Vec Model\n",
    "from h2o.estimators.word2vec import H2OWord2vecEstimator\n",
    "\n",
    "w2v_model = H2OWord2vecEstimator(vec_size = 100, model_id = \"w2v.hex\")\n",
    "w2v_model.train(training_frame=words)"
   ]
  },
  {
   "cell_type": "code",
   "execution_count": 15,
   "metadata": {
    "collapsed": false,
    "scrolled": true
   },
   "outputs": [
    {
     "data": {
      "text/plain": [
       "OrderedDict([(u'coffees', 0.8039896488189697),\n",
       "             (u'coffe', 0.7849918603897095),\n",
       "             (u'starbucks', 0.7691516280174255),\n",
       "             (u'gevalia', 0.7566434741020203),\n",
       "             (u'espresso', 0.7507617473602295)])"
      ]
     },
     "execution_count": 15,
     "metadata": {},
     "output_type": "execute_result"
    }
   ],
   "source": [
    "# Sanity check - find synonyms for the word 'coffee'\n",
    "w2v_model.find_synonyms(\"coffee\", count = 5)"
   ]
  },
  {
   "cell_type": "code",
   "execution_count": 16,
   "metadata": {
    "collapsed": false
   },
   "outputs": [
    {
     "data": {
      "text/plain": [
       "OrderedDict([(u'rancid', 0.7066834568977356),\n",
       "             (u'moldy', 0.6781209707260132),\n",
       "             (u'expired', 0.6481258869171143),\n",
       "             (u'disappointing', 0.6162458658218384),\n",
       "             (u'musty', 0.6065858602523804)])"
      ]
     },
     "execution_count": 16,
     "metadata": {},
     "output_type": "execute_result"
    }
   ],
   "source": [
    "# Sanity check - find synonyms for the word 'stale'\n",
    "w2v_model.find_synonyms(\"stale\", count = 5)"
   ]
  },
  {
   "cell_type": "markdown",
   "metadata": {},
   "source": [
    "Now that we have a word embedding for each word in our vocabulary, we will aggregate the words for each review using the `transform` function.  This will give us one aggregated word embedding for each review."
   ]
  },
  {
   "cell_type": "code",
   "execution_count": 17,
   "metadata": {
    "collapsed": true
   },
   "outputs": [],
   "source": [
    "# Calculate a vector for each review\n",
    "review_vecs = w2v_model.transform(words, aggregate_method = \"AVERAGE\")"
   ]
  },
  {
   "cell_type": "code",
   "execution_count": 18,
   "metadata": {
    "collapsed": false
   },
   "outputs": [
    {
     "data": {
      "text/html": [
       "<table>\n",
       "<thead>\n",
       "<tr><th style=\"text-align: right;\">        C1</th><th style=\"text-align: right;\">         C2</th><th style=\"text-align: right;\">          C3</th><th style=\"text-align: right;\">         C4</th><th style=\"text-align: right;\">         C5</th><th style=\"text-align: right;\">        C6</th><th style=\"text-align: right;\">        C7</th><th style=\"text-align: right;\">         C8</th><th style=\"text-align: right;\">         C9</th><th style=\"text-align: right;\">        C10</th><th style=\"text-align: right;\">        C11</th><th style=\"text-align: right;\">       C12</th><th style=\"text-align: right;\">       C13</th><th style=\"text-align: right;\">       C14</th><th style=\"text-align: right;\">        C15</th><th style=\"text-align: right;\">        C16</th><th style=\"text-align: right;\">        C17</th><th style=\"text-align: right;\">        C18</th><th style=\"text-align: right;\">       C19</th><th style=\"text-align: right;\">        C20</th><th style=\"text-align: right;\">       C21</th><th style=\"text-align: right;\">         C22</th><th style=\"text-align: right;\">      C23</th><th style=\"text-align: right;\">        C24</th><th style=\"text-align: right;\">        C25</th><th style=\"text-align: right;\">       C26</th><th style=\"text-align: right;\">        C27</th><th style=\"text-align: right;\">      C28</th><th style=\"text-align: right;\">        C29</th><th style=\"text-align: right;\">        C30</th><th style=\"text-align: right;\">       C31</th><th style=\"text-align: right;\">        C32</th><th style=\"text-align: right;\">        C33</th><th style=\"text-align: right;\">        C34</th><th style=\"text-align: right;\">        C35</th><th style=\"text-align: right;\">        C36</th><th style=\"text-align: right;\">     C37</th><th style=\"text-align: right;\">        C38</th><th style=\"text-align: right;\">        C39</th><th style=\"text-align: right;\">         C40</th><th style=\"text-align: right;\">       C41</th><th style=\"text-align: right;\">        C42</th><th style=\"text-align: right;\">      C43</th><th style=\"text-align: right;\">        C44</th><th style=\"text-align: right;\">       C45</th><th style=\"text-align: right;\">      C46</th><th style=\"text-align: right;\">       C47</th><th style=\"text-align: right;\">        C48</th><th style=\"text-align: right;\">       C49</th><th style=\"text-align: right;\">        C50</th><th style=\"text-align: right;\">        C51</th><th style=\"text-align: right;\">       C52</th><th style=\"text-align: right;\">      C53</th><th style=\"text-align: right;\">       C54</th><th style=\"text-align: right;\">        C55</th><th style=\"text-align: right;\">        C56</th><th style=\"text-align: right;\">       C57</th><th style=\"text-align: right;\">       C58</th><th style=\"text-align: right;\">       C59</th><th style=\"text-align: right;\">        C60</th><th style=\"text-align: right;\">       C61</th><th style=\"text-align: right;\">       C62</th><th style=\"text-align: right;\">       C63</th><th style=\"text-align: right;\">         C64</th><th style=\"text-align: right;\">       C65</th><th style=\"text-align: right;\">       C66</th><th style=\"text-align: right;\">        C67</th><th style=\"text-align: right;\">       C68</th><th style=\"text-align: right;\">       C69</th><th style=\"text-align: right;\">       C70</th><th style=\"text-align: right;\">       C71</th><th style=\"text-align: right;\">      C72</th><th style=\"text-align: right;\">         C73</th><th style=\"text-align: right;\">        C74</th><th style=\"text-align: right;\">        C75</th><th style=\"text-align: right;\">       C76</th><th style=\"text-align: right;\">        C77</th><th style=\"text-align: right;\">       C78</th><th style=\"text-align: right;\">        C79</th><th style=\"text-align: right;\">        C80</th><th style=\"text-align: right;\">       C81</th><th style=\"text-align: right;\">       C82</th><th style=\"text-align: right;\">      C83</th><th style=\"text-align: right;\">        C84</th><th style=\"text-align: right;\">       C85</th><th style=\"text-align: right;\">        C86</th><th style=\"text-align: right;\">       C87</th><th style=\"text-align: right;\">       C88</th><th style=\"text-align: right;\">        C89</th><th style=\"text-align: right;\">       C90</th><th style=\"text-align: right;\">        C91</th><th style=\"text-align: right;\">      C92</th><th style=\"text-align: right;\">       C93</th><th style=\"text-align: right;\">     C94</th><th style=\"text-align: right;\">       C95</th><th style=\"text-align: right;\">        C96</th><th style=\"text-align: right;\">       C97</th><th style=\"text-align: right;\">        C98</th><th style=\"text-align: right;\">       C99</th><th style=\"text-align: right;\">      C100</th></tr>\n",
       "</thead>\n",
       "<tbody>\n",
       "<tr><td style=\"text-align: right;\">-0.0927789</td><td style=\"text-align: right;\">-0.0780789 </td><td style=\"text-align: right;\"> 0.0400514  </td><td style=\"text-align: right;\"> 0.078961  </td><td style=\"text-align: right;\"> 0.00621785</td><td style=\"text-align: right;\">-0.183841 </td><td style=\"text-align: right;\"> 0.0509493</td><td style=\"text-align: right;\">-0.0994213 </td><td style=\"text-align: right;\">-0.0343305 </td><td style=\"text-align: right;\"> 0.010621  </td><td style=\"text-align: right;\"> 0.00218504</td><td style=\"text-align: right;\"> 0.0488486</td><td style=\"text-align: right;\">-0.0995271</td><td style=\"text-align: right;\"> 0.04161  </td><td style=\"text-align: right;\">-0.0239654 </td><td style=\"text-align: right;\">-0.211431  </td><td style=\"text-align: right;\"> 0.00839208</td><td style=\"text-align: right;\">-0.0822046 </td><td style=\"text-align: right;\">-0.0172611</td><td style=\"text-align: right;\">-0.122725  </td><td style=\"text-align: right;\"> 0.0173305</td><td style=\"text-align: right;\">-0.0126777  </td><td style=\"text-align: right;\">0.0822573</td><td style=\"text-align: right;\"> 0.0447836 </td><td style=\"text-align: right;\"> 0.0226046 </td><td style=\"text-align: right;\">-0.150754 </td><td style=\"text-align: right;\">-0.0202274 </td><td style=\"text-align: right;\">0.0826349</td><td style=\"text-align: right;\"> 0.0411864 </td><td style=\"text-align: right;\">-0.00231425</td><td style=\"text-align: right;\"> 0.0441491</td><td style=\"text-align: right;\">-0.0662871 </td><td style=\"text-align: right;\">-0.0501635 </td><td style=\"text-align: right;\"> 0.0833037 </td><td style=\"text-align: right;\"> 0.00427557</td><td style=\"text-align: right;\"> 0.053497  </td><td style=\"text-align: right;\">0.139145</td><td style=\"text-align: right;\"> 0.0870243 </td><td style=\"text-align: right;\">-0.123576  </td><td style=\"text-align: right;\"> 0.0426633  </td><td style=\"text-align: right;\">-0.217072 </td><td style=\"text-align: right;\"> 0.0109024 </td><td style=\"text-align: right;\">0.110409 </td><td style=\"text-align: right;\">-0.00837098</td><td style=\"text-align: right;\"> 0.0325347</td><td style=\"text-align: right;\">0.0905762</td><td style=\"text-align: right;\">-0.106751 </td><td style=\"text-align: right;\"> 0.0246276 </td><td style=\"text-align: right;\"> 0.103316 </td><td style=\"text-align: right;\">-0.00432012</td><td style=\"text-align: right;\">-0.0849231 </td><td style=\"text-align: right;\">-0.131995 </td><td style=\"text-align: right;\">0.0656901</td><td style=\"text-align: right;\">-0.105888 </td><td style=\"text-align: right;\"> 0.0551366 </td><td style=\"text-align: right;\">-0.0464983 </td><td style=\"text-align: right;\">-0.126418 </td><td style=\"text-align: right;\">-0.135266 </td><td style=\"text-align: right;\">-0.0152979</td><td style=\"text-align: right;\">-0.0330269 </td><td style=\"text-align: right;\">-0.176351 </td><td style=\"text-align: right;\">-0.0782321</td><td style=\"text-align: right;\"> 0.0109124</td><td style=\"text-align: right;\">-0.0714267  </td><td style=\"text-align: right;\"> 0.129922 </td><td style=\"text-align: right;\">-0.0672304</td><td style=\"text-align: right;\">-0.0109547 </td><td style=\"text-align: right;\"> 0.221899 </td><td style=\"text-align: right;\"> 0.179982 </td><td style=\"text-align: right;\">-0.0812537</td><td style=\"text-align: right;\">-0.127889 </td><td style=\"text-align: right;\">0.119524 </td><td style=\"text-align: right;\"> 0.0570894  </td><td style=\"text-align: right;\">-0.0318549 </td><td style=\"text-align: right;\"> 0.0745752 </td><td style=\"text-align: right;\">-0.0429706</td><td style=\"text-align: right;\"> 0.0922999 </td><td style=\"text-align: right;\"> 0.018533 </td><td style=\"text-align: right;\"> 0.102974  </td><td style=\"text-align: right;\">-0.0327891 </td><td style=\"text-align: right;\">-0.0141071</td><td style=\"text-align: right;\">-0.0208345</td><td style=\"text-align: right;\">0.125753 </td><td style=\"text-align: right;\">-0.0854937 </td><td style=\"text-align: right;\">-0.147191 </td><td style=\"text-align: right;\">-0.0114635 </td><td style=\"text-align: right;\">-0.0606758</td><td style=\"text-align: right;\">-0.0526381</td><td style=\"text-align: right;\">-0.0416607 </td><td style=\"text-align: right;\"> 0.0281737</td><td style=\"text-align: right;\">-0.0202411 </td><td style=\"text-align: right;\">-0.219648</td><td style=\"text-align: right;\"> 0.161414 </td><td style=\"text-align: right;\">0.262375</td><td style=\"text-align: right;\">-0.0811713</td><td style=\"text-align: right;\"> 0.0391989 </td><td style=\"text-align: right;\"> 0.0148403</td><td style=\"text-align: right;\"> 0.00146639</td><td style=\"text-align: right;\">-0.181178 </td><td style=\"text-align: right;\">-0.171293 </td></tr>\n",
       "<tr><td style=\"text-align: right;\">-0.276033 </td><td style=\"text-align: right;\"> 0.0151484 </td><td style=\"text-align: right;\"> 0.0113293  </td><td style=\"text-align: right;\"> 0.0677438 </td><td style=\"text-align: right;\">-0.0905324 </td><td style=\"text-align: right;\">-0.118774 </td><td style=\"text-align: right;\">-0.0999573</td><td style=\"text-align: right;\"> 0.125073  </td><td style=\"text-align: right;\"> 0.051549  </td><td style=\"text-align: right;\"> 0.0185647 </td><td style=\"text-align: right;\">-0.0383856 </td><td style=\"text-align: right;\"> 0.136076 </td><td style=\"text-align: right;\"> 0.192993 </td><td style=\"text-align: right;\">-0.062511 </td><td style=\"text-align: right;\"> 0.100237  </td><td style=\"text-align: right;\">-0.0218334 </td><td style=\"text-align: right;\"> 0.0439181 </td><td style=\"text-align: right;\">-0.237055  </td><td style=\"text-align: right;\"> 0.0889052</td><td style=\"text-align: right;\">-0.018011  </td><td style=\"text-align: right;\">-0.0731727</td><td style=\"text-align: right;\">-0.0683486  </td><td style=\"text-align: right;\">0.0459292</td><td style=\"text-align: right;\"> 0.132132  </td><td style=\"text-align: right;\">-0.0988538 </td><td style=\"text-align: right;\">-0.0150929</td><td style=\"text-align: right;\">-0.013194  </td><td style=\"text-align: right;\">0.150352 </td><td style=\"text-align: right;\">-0.0150005 </td><td style=\"text-align: right;\">-0.066652  </td><td style=\"text-align: right;\">-0.132323 </td><td style=\"text-align: right;\">-0.00393814</td><td style=\"text-align: right;\"> 0.0117565 </td><td style=\"text-align: right;\"> 0.104176  </td><td style=\"text-align: right;\"> 0.0079745 </td><td style=\"text-align: right;\"> 0.0149131 </td><td style=\"text-align: right;\">0.196219</td><td style=\"text-align: right;\"> 0.164746  </td><td style=\"text-align: right;\">-0.0922121 </td><td style=\"text-align: right;\"> 0.0097616  </td><td style=\"text-align: right;\">-0.0173784</td><td style=\"text-align: right;\">-0.028756  </td><td style=\"text-align: right;\">0.254574 </td><td style=\"text-align: right;\">-0.283968  </td><td style=\"text-align: right;\"> 0.165734 </td><td style=\"text-align: right;\">0.0759202</td><td style=\"text-align: right;\">-0.0449227</td><td style=\"text-align: right;\"> 0.0166824 </td><td style=\"text-align: right;\">-0.0533121</td><td style=\"text-align: right;\"> 0.171682  </td><td style=\"text-align: right;\"> 0.0518452 </td><td style=\"text-align: right;\">-0.0854528</td><td style=\"text-align: right;\">0.0639833</td><td style=\"text-align: right;\"> 0.0595394</td><td style=\"text-align: right;\"> 0.0330438 </td><td style=\"text-align: right;\"> 0.0793302 </td><td style=\"text-align: right;\">-0.20656  </td><td style=\"text-align: right;\">-0.029051 </td><td style=\"text-align: right;\">-0.0258373</td><td style=\"text-align: right;\"> 0.0854011 </td><td style=\"text-align: right;\">-0.176907 </td><td style=\"text-align: right;\">-0.0136716</td><td style=\"text-align: right;\">-0.257297 </td><td style=\"text-align: right;\"> 0.0196326  </td><td style=\"text-align: right;\"> 0.0695244</td><td style=\"text-align: right;\"> 0.054746 </td><td style=\"text-align: right;\">-0.00785023</td><td style=\"text-align: right;\"> 0.166544 </td><td style=\"text-align: right;\"> 0.0979964</td><td style=\"text-align: right;\">-0.0771203</td><td style=\"text-align: right;\">-0.116782 </td><td style=\"text-align: right;\">0.108944 </td><td style=\"text-align: right;\"> 0.19234    </td><td style=\"text-align: right;\"> 0.118503  </td><td style=\"text-align: right;\"> 0.232888  </td><td style=\"text-align: right;\">-0.0798198</td><td style=\"text-align: right;\"> 0.151042  </td><td style=\"text-align: right;\"> 0.0179298</td><td style=\"text-align: right;\">-0.0448813 </td><td style=\"text-align: right;\"> 0.0679556 </td><td style=\"text-align: right;\">-0.167542 </td><td style=\"text-align: right;\"> 0.152458 </td><td style=\"text-align: right;\">0.0433542</td><td style=\"text-align: right;\"> 0.0893348 </td><td style=\"text-align: right;\">-0.238303 </td><td style=\"text-align: right;\"> 0.00790076</td><td style=\"text-align: right;\">-0.112416 </td><td style=\"text-align: right;\">-0.161058 </td><td style=\"text-align: right;\">-0.00302351</td><td style=\"text-align: right;\"> 0.100816 </td><td style=\"text-align: right;\">-0.12185   </td><td style=\"text-align: right;\">-0.118988</td><td style=\"text-align: right;\"> 0.0961822</td><td style=\"text-align: right;\">0.118514</td><td style=\"text-align: right;\">-0.0246701</td><td style=\"text-align: right;\"> 0.0992028 </td><td style=\"text-align: right;\"> 0.0939886</td><td style=\"text-align: right;\"> 0.0549001 </td><td style=\"text-align: right;\">-0.0921721</td><td style=\"text-align: right;\">-0.140011 </td></tr>\n",
       "<tr><td style=\"text-align: right;\">-0.134752 </td><td style=\"text-align: right;\">-0.0238701 </td><td style=\"text-align: right;\"> 0.0591484  </td><td style=\"text-align: right;\">-0.0536172 </td><td style=\"text-align: right;\"> 0.0340914 </td><td style=\"text-align: right;\">-0.043856 </td><td style=\"text-align: right;\">-0.0683675</td><td style=\"text-align: right;\"> 0.0223286 </td><td style=\"text-align: right;\"> 0.0176382 </td><td style=\"text-align: right;\"> 0.034513  </td><td style=\"text-align: right;\"> 0.0265027 </td><td style=\"text-align: right;\"> 0.0285649</td><td style=\"text-align: right;\"> 0.0419748</td><td style=\"text-align: right;\"> 0.0340118</td><td style=\"text-align: right;\"> 0.0171392 </td><td style=\"text-align: right;\">-0.00798347</td><td style=\"text-align: right;\">-0.0237852 </td><td style=\"text-align: right;\"> 0.0323425 </td><td style=\"text-align: right;\">-0.0520917</td><td style=\"text-align: right;\"> 0.00469608</td><td style=\"text-align: right;\">-0.0351473</td><td style=\"text-align: right;\">-0.0619472  </td><td style=\"text-align: right;\">0.054983 </td><td style=\"text-align: right;\">-0.020135  </td><td style=\"text-align: right;\"> 0.0118908 </td><td style=\"text-align: right;\">-0.0719161</td><td style=\"text-align: right;\"> 0.00587609</td><td style=\"text-align: right;\">0.218797 </td><td style=\"text-align: right;\">-0.0201062 </td><td style=\"text-align: right;\">-0.0775392 </td><td style=\"text-align: right;\">-0.117753 </td><td style=\"text-align: right;\"> 0.0643857 </td><td style=\"text-align: right;\">-0.0164111 </td><td style=\"text-align: right;\"> 0.0537017 </td><td style=\"text-align: right;\">-0.0119928 </td><td style=\"text-align: right;\">-0.0852235 </td><td style=\"text-align: right;\">0.113387</td><td style=\"text-align: right;\"> 0.134459  </td><td style=\"text-align: right;\">-0.0989895 </td><td style=\"text-align: right;\"> 0.0487934  </td><td style=\"text-align: right;\">-0.116117 </td><td style=\"text-align: right;\"> 0.00537046</td><td style=\"text-align: right;\">0.145004 </td><td style=\"text-align: right;\">-0.0995211 </td><td style=\"text-align: right;\"> 0.0166673</td><td style=\"text-align: right;\">0.0260838</td><td style=\"text-align: right;\">-0.0482889</td><td style=\"text-align: right;\"> 0.144023  </td><td style=\"text-align: right;\"> 0.146793 </td><td style=\"text-align: right;\"> 0.0522942 </td><td style=\"text-align: right;\">-0.118236  </td><td style=\"text-align: right;\">-0.0705569</td><td style=\"text-align: right;\">0.119445 </td><td style=\"text-align: right;\"> 0.0230592</td><td style=\"text-align: right;\"> 0.00564553</td><td style=\"text-align: right;\"> 0.00201827</td><td style=\"text-align: right;\">-0.0131597</td><td style=\"text-align: right;\">-0.250324 </td><td style=\"text-align: right;\">-0.0669661</td><td style=\"text-align: right;\">-0.00745133</td><td style=\"text-align: right;\">-0.0545438</td><td style=\"text-align: right;\">-0.0887173</td><td style=\"text-align: right;\">-0.0438246</td><td style=\"text-align: right;\">-0.00846831 </td><td style=\"text-align: right;\"> 0.191976 </td><td style=\"text-align: right;\"> 0.0266586</td><td style=\"text-align: right;\">-0.049748  </td><td style=\"text-align: right;\"> 0.113843 </td><td style=\"text-align: right;\">-0.13312  </td><td style=\"text-align: right;\">-0.0873035</td><td style=\"text-align: right;\">-0.0578611</td><td style=\"text-align: right;\">0.109486 </td><td style=\"text-align: right;\"> 0.0221456  </td><td style=\"text-align: right;\"> 0.0657341 </td><td style=\"text-align: right;\">-0.00800932</td><td style=\"text-align: right;\">-0.0780109</td><td style=\"text-align: right;\"> 0.106349  </td><td style=\"text-align: right;\">-0.0625127</td><td style=\"text-align: right;\"> 0.00185641</td><td style=\"text-align: right;\">-0.00238178</td><td style=\"text-align: right;\">-0.0630112</td><td style=\"text-align: right;\"> 0.117973 </td><td style=\"text-align: right;\">0.084102 </td><td style=\"text-align: right;\"> 0.0754979 </td><td style=\"text-align: right;\">-0.0258171</td><td style=\"text-align: right;\">-0.075556  </td><td style=\"text-align: right;\">-0.179709 </td><td style=\"text-align: right;\">-0.151821 </td><td style=\"text-align: right;\"> 0.0253475 </td><td style=\"text-align: right;\"> 0.123583 </td><td style=\"text-align: right;\">-0.00576569</td><td style=\"text-align: right;\">-0.279481</td><td style=\"text-align: right;\"> 0.133486 </td><td style=\"text-align: right;\">0.22093 </td><td style=\"text-align: right;\">-0.045265 </td><td style=\"text-align: right;\"> 0.00444191</td><td style=\"text-align: right;\"> 0.133329 </td><td style=\"text-align: right;\"> 0.020618  </td><td style=\"text-align: right;\">-0.105955 </td><td style=\"text-align: right;\">-0.0213722</td></tr>\n",
       "<tr><td style=\"text-align: right;\">-0.218111 </td><td style=\"text-align: right;\">-0.113166  </td><td style=\"text-align: right;\"> 0.0573562  </td><td style=\"text-align: right;\">-0.0972486 </td><td style=\"text-align: right;\">-0.0813074 </td><td style=\"text-align: right;\"> 0.0199388</td><td style=\"text-align: right;\"> 0.175864 </td><td style=\"text-align: right;\"> 0.0571747 </td><td style=\"text-align: right;\"> 0.0559835 </td><td style=\"text-align: right;\"> 0.00238658</td><td style=\"text-align: right;\"> 0.143382  </td><td style=\"text-align: right;\"> 0.0398854</td><td style=\"text-align: right;\"> 0.0135824</td><td style=\"text-align: right;\"> 0.0193048</td><td style=\"text-align: right;\"> 0.0123202 </td><td style=\"text-align: right;\">-0.0178229 </td><td style=\"text-align: right;\"> 0.0122007 </td><td style=\"text-align: right;\">-0.00338829</td><td style=\"text-align: right;\">-0.0508756</td><td style=\"text-align: right;\">-0.0543691 </td><td style=\"text-align: right;\"> 0.0249526</td><td style=\"text-align: right;\"> 0.0671062  </td><td style=\"text-align: right;\">0.190153 </td><td style=\"text-align: right;\"> 0.0867405 </td><td style=\"text-align: right;\"> 0.04638   </td><td style=\"text-align: right;\">-0.10859  </td><td style=\"text-align: right;\"> 0.104918  </td><td style=\"text-align: right;\">0.174844 </td><td style=\"text-align: right;\">-0.0453587 </td><td style=\"text-align: right;\">-0.0986282 </td><td style=\"text-align: right;\"> 0.0344955</td><td style=\"text-align: right;\">-0.0529464 </td><td style=\"text-align: right;\"> 0.00632489</td><td style=\"text-align: right;\">-0.0265126 </td><td style=\"text-align: right;\">-0.0121773 </td><td style=\"text-align: right;\">-0.0774013 </td><td style=\"text-align: right;\">0.124208</td><td style=\"text-align: right;\">-0.0268536 </td><td style=\"text-align: right;\">-0.0847079 </td><td style=\"text-align: right;\">-0.116635   </td><td style=\"text-align: right;\">-0.149274 </td><td style=\"text-align: right;\">-0.0646061 </td><td style=\"text-align: right;\">0.175258 </td><td style=\"text-align: right;\">-0.11059   </td><td style=\"text-align: right;\">-0.0011508</td><td style=\"text-align: right;\">0.164264 </td><td style=\"text-align: right;\">-0.0174991</td><td style=\"text-align: right;\">-0.0644633 </td><td style=\"text-align: right;\"> 0.0850723</td><td style=\"text-align: right;\"> 0.0201789 </td><td style=\"text-align: right;\"> 0.00886196</td><td style=\"text-align: right;\">-0.0805991</td><td style=\"text-align: right;\">0.198137 </td><td style=\"text-align: right;\">-0.0964649</td><td style=\"text-align: right;\"> 0.087594  </td><td style=\"text-align: right;\"> 0.0809863 </td><td style=\"text-align: right;\"> 0.183059 </td><td style=\"text-align: right;\">-0.0450126</td><td style=\"text-align: right;\">-0.0519566</td><td style=\"text-align: right;\"> 0.0214565 </td><td style=\"text-align: right;\">-0.162119 </td><td style=\"text-align: right;\">-0.182353 </td><td style=\"text-align: right;\">-0.0204847</td><td style=\"text-align: right;\"> 0.0559091  </td><td style=\"text-align: right;\">-0.0173891</td><td style=\"text-align: right;\">-0.0833333</td><td style=\"text-align: right;\">-0.0287405 </td><td style=\"text-align: right;\"> 0.198887 </td><td style=\"text-align: right;\">-0.086227 </td><td style=\"text-align: right;\">-0.0331231</td><td style=\"text-align: right;\"> 0.174156 </td><td style=\"text-align: right;\">0.170661 </td><td style=\"text-align: right;\"> 0.122867   </td><td style=\"text-align: right;\"> 0.0753585 </td><td style=\"text-align: right;\">-0.0127748 </td><td style=\"text-align: right;\">-0.030156 </td><td style=\"text-align: right;\"> 0.193282  </td><td style=\"text-align: right;\"> 0.0559672</td><td style=\"text-align: right;\">-0.050237  </td><td style=\"text-align: right;\">-0.0802609 </td><td style=\"text-align: right;\"> 0.0225468</td><td style=\"text-align: right;\"> 0.0676945</td><td style=\"text-align: right;\">0.120941 </td><td style=\"text-align: right;\">-0.0446354 </td><td style=\"text-align: right;\">-0.0228145</td><td style=\"text-align: right;\">-0.0763407 </td><td style=\"text-align: right;\">-0.0119726</td><td style=\"text-align: right;\">-0.172694 </td><td style=\"text-align: right;\"> 0.10089   </td><td style=\"text-align: right;\"> 0.191519 </td><td style=\"text-align: right;\"> 0.0701205 </td><td style=\"text-align: right;\">-0.251216</td><td style=\"text-align: right;\"> 0.152735 </td><td style=\"text-align: right;\">0.262098</td><td style=\"text-align: right;\"> 0.0776794</td><td style=\"text-align: right;\"> 0.129544  </td><td style=\"text-align: right;\">-0.0194112</td><td style=\"text-align: right;\"> 0.00323001</td><td style=\"text-align: right;\">-0.010946 </td><td style=\"text-align: right;\">-0.0322118</td></tr>\n",
       "<tr><td style=\"text-align: right;\">-0.20589  </td><td style=\"text-align: right;\"> 0.0869326 </td><td style=\"text-align: right;\"> 0.0851589  </td><td style=\"text-align: right;\"> 0.142325  </td><td style=\"text-align: right;\">-0.0997874 </td><td style=\"text-align: right;\">-0.0467692</td><td style=\"text-align: right;\">-0.0404354</td><td style=\"text-align: right;\">-0.0280117 </td><td style=\"text-align: right;\"> 0.0464426 </td><td style=\"text-align: right;\"> 0.106955  </td><td style=\"text-align: right;\"> 0.0760617 </td><td style=\"text-align: right;\">-0.0298713</td><td style=\"text-align: right;\"> 0.113908 </td><td style=\"text-align: right;\"> 0.100697 </td><td style=\"text-align: right;\">-0.0324245 </td><td style=\"text-align: right;\">-0.0640293 </td><td style=\"text-align: right;\">-0.070812  </td><td style=\"text-align: right;\"> 0.0407964 </td><td style=\"text-align: right;\"> 0.112598 </td><td style=\"text-align: right;\"> 0.0521713 </td><td style=\"text-align: right;\">-0.121319 </td><td style=\"text-align: right;\"> 0.0831655  </td><td style=\"text-align: right;\">0.125523 </td><td style=\"text-align: right;\">-0.152535  </td><td style=\"text-align: right;\"> 0.100367  </td><td style=\"text-align: right;\">-0.0780869</td><td style=\"text-align: right;\"> 0.0331708 </td><td style=\"text-align: right;\">0.183781 </td><td style=\"text-align: right;\">-0.203142  </td><td style=\"text-align: right;\">-0.0709629 </td><td style=\"text-align: right;\">-0.125542 </td><td style=\"text-align: right;\"> 0.210066  </td><td style=\"text-align: right;\">-0.0713307 </td><td style=\"text-align: right;\"> 0.222651  </td><td style=\"text-align: right;\"> 0.0562614 </td><td style=\"text-align: right;\">-0.0378191 </td><td style=\"text-align: right;\">0.168683</td><td style=\"text-align: right;\"> 0.0426703 </td><td style=\"text-align: right;\">-0.128508  </td><td style=\"text-align: right;\">-0.0947379  </td><td style=\"text-align: right;\">-0.128781 </td><td style=\"text-align: right;\">-0.099127  </td><td style=\"text-align: right;\">0.0919802</td><td style=\"text-align: right;\">-0.0167116 </td><td style=\"text-align: right;\">-0.0139121</td><td style=\"text-align: right;\">0.115426 </td><td style=\"text-align: right;\"> 0.0444971</td><td style=\"text-align: right;\">-0.0666434 </td><td style=\"text-align: right;\">-0.022655 </td><td style=\"text-align: right;\"> 0.139497  </td><td style=\"text-align: right;\"> 0.00938953</td><td style=\"text-align: right;\">-0.221906 </td><td style=\"text-align: right;\">0.228423 </td><td style=\"text-align: right;\">-0.0224392</td><td style=\"text-align: right;\"> 0.10576   </td><td style=\"text-align: right;\">-0.0922064 </td><td style=\"text-align: right;\">-0.0952483</td><td style=\"text-align: right;\">-0.0911158</td><td style=\"text-align: right;\">-0.218305 </td><td style=\"text-align: right;\"> 0.0879467 </td><td style=\"text-align: right;\">-0.0716068</td><td style=\"text-align: right;\"> 0.0804909</td><td style=\"text-align: right;\">-0.0803547</td><td style=\"text-align: right;\">-0.0566346  </td><td style=\"text-align: right;\"> 0.0998149</td><td style=\"text-align: right;\">-0.304139 </td><td style=\"text-align: right;\">-0.102646  </td><td style=\"text-align: right;\"> 0.0592325</td><td style=\"text-align: right;\">-0.0114411</td><td style=\"text-align: right;\">-0.180969 </td><td style=\"text-align: right;\">-0.0282936</td><td style=\"text-align: right;\">0.283136 </td><td style=\"text-align: right;\"> 0.136408   </td><td style=\"text-align: right;\"> 0.101835  </td><td style=\"text-align: right;\"> 0.215871  </td><td style=\"text-align: right;\">-0.144401 </td><td style=\"text-align: right;\"> 0.0406634 </td><td style=\"text-align: right;\"> 0.0885874</td><td style=\"text-align: right;\">-0.0117407 </td><td style=\"text-align: right;\"> 0.00415474</td><td style=\"text-align: right;\"> 0.0401529</td><td style=\"text-align: right;\"> 0.170184 </td><td style=\"text-align: right;\">0.162026 </td><td style=\"text-align: right;\">-0.0245618 </td><td style=\"text-align: right;\">-0.0352714</td><td style=\"text-align: right;\">-0.0456735 </td><td style=\"text-align: right;\">-0.238013 </td><td style=\"text-align: right;\"> 0.0329308</td><td style=\"text-align: right;\"> 0.0471944 </td><td style=\"text-align: right;\"> 0.0256827</td><td style=\"text-align: right;\">-0.0643933 </td><td style=\"text-align: right;\">-0.225166</td><td style=\"text-align: right;\"> 0.0543109</td><td style=\"text-align: right;\">0.042771</td><td style=\"text-align: right;\">-0.0956011</td><td style=\"text-align: right;\">-0.056808  </td><td style=\"text-align: right;\"> 0.0494968</td><td style=\"text-align: right;\">-0.117455  </td><td style=\"text-align: right;\"> 0.122416 </td><td style=\"text-align: right;\">-0.107812 </td></tr>\n",
       "<tr><td style=\"text-align: right;\">-0.233316 </td><td style=\"text-align: right;\">-0.0162013 </td><td style=\"text-align: right;\"> 0.000910413</td><td style=\"text-align: right;\">-0.0297927 </td><td style=\"text-align: right;\">-0.022029  </td><td style=\"text-align: right;\"> 0.024053 </td><td style=\"text-align: right;\"> 0.045717 </td><td style=\"text-align: right;\">-0.00814373</td><td style=\"text-align: right;\"> 0.0464591 </td><td style=\"text-align: right;\">-0.0193309 </td><td style=\"text-align: right;\"> 0.0678756 </td><td style=\"text-align: right;\">-0.0353301</td><td style=\"text-align: right;\"> 0.110628 </td><td style=\"text-align: right;\"> 0.0563743</td><td style=\"text-align: right;\"> 0.00216285</td><td style=\"text-align: right;\">-0.00777244</td><td style=\"text-align: right;\">-0.0471953 </td><td style=\"text-align: right;\">-0.0107306 </td><td style=\"text-align: right;\"> 0.0770042</td><td style=\"text-align: right;\">-0.00713638</td><td style=\"text-align: right;\">-0.027179 </td><td style=\"text-align: right;\"> 0.0448549  </td><td style=\"text-align: right;\">0.141248 </td><td style=\"text-align: right;\">-0.0501512 </td><td style=\"text-align: right;\"> 0.0136459 </td><td style=\"text-align: right;\">-0.103841 </td><td style=\"text-align: right;\"> 0.124878  </td><td style=\"text-align: right;\">0.148223 </td><td style=\"text-align: right;\">-0.0212376 </td><td style=\"text-align: right;\">-0.0998712 </td><td style=\"text-align: right;\">-0.109706 </td><td style=\"text-align: right;\"> 0.0303795 </td><td style=\"text-align: right;\"> 0.0545624 </td><td style=\"text-align: right;\"> 0.0423162 </td><td style=\"text-align: right;\">-0.040686  </td><td style=\"text-align: right;\"> 0.0404493 </td><td style=\"text-align: right;\">0.158151</td><td style=\"text-align: right;\">-0.00813706</td><td style=\"text-align: right;\">-0.0930113 </td><td style=\"text-align: right;\">-0.0478028  </td><td style=\"text-align: right;\">-0.145339 </td><td style=\"text-align: right;\">-0.0463161 </td><td style=\"text-align: right;\">0.113339 </td><td style=\"text-align: right;\">-0.00495821</td><td style=\"text-align: right;\">-0.0373396</td><td style=\"text-align: right;\">0.152068 </td><td style=\"text-align: right;\">-0.0795366</td><td style=\"text-align: right;\">-0.0120444 </td><td style=\"text-align: right;\"> 0.15197  </td><td style=\"text-align: right;\"> 0.0585503 </td><td style=\"text-align: right;\">-0.130805  </td><td style=\"text-align: right;\">-0.0397238</td><td style=\"text-align: right;\">0.12428  </td><td style=\"text-align: right;\">-0.057315 </td><td style=\"text-align: right;\"> 0.107584  </td><td style=\"text-align: right;\">-0.00793543</td><td style=\"text-align: right;\"> 0.04521  </td><td style=\"text-align: right;\">-0.128365 </td><td style=\"text-align: right;\">-0.218305 </td><td style=\"text-align: right;\"> 0.00983368</td><td style=\"text-align: right;\">-0.0824524</td><td style=\"text-align: right;\">-0.0856944</td><td style=\"text-align: right;\">-0.0362062</td><td style=\"text-align: right;\"> 5.60883e-05</td><td style=\"text-align: right;\"> 0.0678752</td><td style=\"text-align: right;\">-0.12936  </td><td style=\"text-align: right;\">-0.0626066 </td><td style=\"text-align: right;\"> 0.20017  </td><td style=\"text-align: right;\">-0.0971442</td><td style=\"text-align: right;\">-0.067802 </td><td style=\"text-align: right;\"> 0.027271 </td><td style=\"text-align: right;\">0.220005 </td><td style=\"text-align: right;\"> 0.103425   </td><td style=\"text-align: right;\"> 0.0522546 </td><td style=\"text-align: right;\"> 0.189026  </td><td style=\"text-align: right;\">-0.0853383</td><td style=\"text-align: right;\"> 0.113515  </td><td style=\"text-align: right;\"> 0.106914 </td><td style=\"text-align: right;\">-0.0771387 </td><td style=\"text-align: right;\">-0.0316714 </td><td style=\"text-align: right;\">-0.0140564</td><td style=\"text-align: right;\"> 0.117768 </td><td style=\"text-align: right;\">0.0891404</td><td style=\"text-align: right;\">-0.064906  </td><td style=\"text-align: right;\"> 0.0404567</td><td style=\"text-align: right;\"> 0.0332063 </td><td style=\"text-align: right;\">-0.0880038</td><td style=\"text-align: right;\">-0.042708 </td><td style=\"text-align: right;\"> 0.0865838 </td><td style=\"text-align: right;\"> 0.138901 </td><td style=\"text-align: right;\"> 0.0449346 </td><td style=\"text-align: right;\">-0.227786</td><td style=\"text-align: right;\"> 0.132685 </td><td style=\"text-align: right;\">0.2426  </td><td style=\"text-align: right;\">-0.0425189</td><td style=\"text-align: right;\"> 0.0809665 </td><td style=\"text-align: right;\"> 0.0198945</td><td style=\"text-align: right;\"> 0.00639036</td><td style=\"text-align: right;\"> 0.0575071</td><td style=\"text-align: right;\">-0.0134921</td></tr>\n",
       "<tr><td style=\"text-align: right;\">-0.305682 </td><td style=\"text-align: right;\"> 0.0565248 </td><td style=\"text-align: right;\"> 0.071522   </td><td style=\"text-align: right;\">-0.00275146</td><td style=\"text-align: right;\">-0.0403075 </td><td style=\"text-align: right;\">-0.0258281</td><td style=\"text-align: right;\">-0.0286106</td><td style=\"text-align: right;\">-0.0068101 </td><td style=\"text-align: right;\">-0.00678966</td><td style=\"text-align: right;\"> 0.0142498 </td><td style=\"text-align: right;\"> 0.0797559 </td><td style=\"text-align: right;\"> 0.0579673</td><td style=\"text-align: right;\"> 0.125075 </td><td style=\"text-align: right;\"> 0.117599 </td><td style=\"text-align: right;\">-0.100898  </td><td style=\"text-align: right;\">-0.0193312 </td><td style=\"text-align: right;\">-0.0122029 </td><td style=\"text-align: right;\"> 0.013296  </td><td style=\"text-align: right;\"> 0.0969745</td><td style=\"text-align: right;\">-0.0155902 </td><td style=\"text-align: right;\">-0.0609759</td><td style=\"text-align: right;\">-0.0100311  </td><td style=\"text-align: right;\">0.160634 </td><td style=\"text-align: right;\">-0.206707  </td><td style=\"text-align: right;\"> 0.0182521 </td><td style=\"text-align: right;\">-0.0928148</td><td style=\"text-align: right;\"> 0.0856533 </td><td style=\"text-align: right;\">0.169446 </td><td style=\"text-align: right;\">-0.109771  </td><td style=\"text-align: right;\">-0.111968  </td><td style=\"text-align: right;\">-0.165263 </td><td style=\"text-align: right;\"> 0.0888833 </td><td style=\"text-align: right;\">-0.0815519 </td><td style=\"text-align: right;\"> 0.209151  </td><td style=\"text-align: right;\"> 0.176624  </td><td style=\"text-align: right;\">-0.00945198</td><td style=\"text-align: right;\">0.157283</td><td style=\"text-align: right;\"> 0.0594597 </td><td style=\"text-align: right;\">-0.12686   </td><td style=\"text-align: right;\">-0.000298915</td><td style=\"text-align: right;\">-0.139514 </td><td style=\"text-align: right;\">-0.0564167 </td><td style=\"text-align: right;\">0.14455  </td><td style=\"text-align: right;\">-0.140589  </td><td style=\"text-align: right;\"> 0.0376306</td><td style=\"text-align: right;\">0.077787 </td><td style=\"text-align: right;\">-0.0240385</td><td style=\"text-align: right;\"> 0.00787647</td><td style=\"text-align: right;\"> 0.105409 </td><td style=\"text-align: right;\"> 0.0562837 </td><td style=\"text-align: right;\">-0.0797954 </td><td style=\"text-align: right;\">-0.0780841</td><td style=\"text-align: right;\">0.189389 </td><td style=\"text-align: right;\"> 0.0312306</td><td style=\"text-align: right;\"> 0.00439948</td><td style=\"text-align: right;\">-0.058151  </td><td style=\"text-align: right;\"> 0.0450884</td><td style=\"text-align: right;\">-0.209973 </td><td style=\"text-align: right;\">-0.106841 </td><td style=\"text-align: right;\">-0.0132415 </td><td style=\"text-align: right;\">-0.0935574</td><td style=\"text-align: right;\">-0.0424893</td><td style=\"text-align: right;\">-0.0897976</td><td style=\"text-align: right;\"> 0.00288485 </td><td style=\"text-align: right;\"> 0.104068 </td><td style=\"text-align: right;\">-0.0952707</td><td style=\"text-align: right;\">-0.0664927 </td><td style=\"text-align: right;\"> 0.0398227</td><td style=\"text-align: right;\">-0.151461 </td><td style=\"text-align: right;\">-0.091218 </td><td style=\"text-align: right;\">-0.103473 </td><td style=\"text-align: right;\">0.19663  </td><td style=\"text-align: right;\">-0.0340856  </td><td style=\"text-align: right;\">-0.00892374</td><td style=\"text-align: right;\"> 0.121992  </td><td style=\"text-align: right;\">-0.104127 </td><td style=\"text-align: right;\"> 0.105348  </td><td style=\"text-align: right;\">-0.0110889</td><td style=\"text-align: right;\">-0.0205328 </td><td style=\"text-align: right;\"> 0.0571445 </td><td style=\"text-align: right;\">-0.0201722</td><td style=\"text-align: right;\"> 0.197577 </td><td style=\"text-align: right;\">0.103401 </td><td style=\"text-align: right;\"> 0.00501326</td><td style=\"text-align: right;\"> 0.033283 </td><td style=\"text-align: right;\">-0.0429763 </td><td style=\"text-align: right;\">-0.0671934</td><td style=\"text-align: right;\">-0.0887151</td><td style=\"text-align: right;\"> 0.0295948 </td><td style=\"text-align: right;\"> 0.0944247</td><td style=\"text-align: right;\"> 0.0677363 </td><td style=\"text-align: right;\">-0.130821</td><td style=\"text-align: right;\"> 0.180894 </td><td style=\"text-align: right;\">0.18234 </td><td style=\"text-align: right;\">-0.141904 </td><td style=\"text-align: right;\">-0.0722962 </td><td style=\"text-align: right;\"> 0.0984932</td><td style=\"text-align: right;\"> 0.00172581</td><td style=\"text-align: right;\">-0.07352  </td><td style=\"text-align: right;\">-0.0575564</td></tr>\n",
       "<tr><td style=\"text-align: right;\">-0.201013 </td><td style=\"text-align: right;\">-0.0100037 </td><td style=\"text-align: right;\"> 0.0606123  </td><td style=\"text-align: right;\"> 0.00841521</td><td style=\"text-align: right;\">-0.00562609</td><td style=\"text-align: right;\"> 0.0124049</td><td style=\"text-align: right;\">-0.0291879</td><td style=\"text-align: right;\">-0.108379  </td><td style=\"text-align: right;\"> 0.0014154 </td><td style=\"text-align: right;\"> 0.106856  </td><td style=\"text-align: right;\"> 0.0332467 </td><td style=\"text-align: right;\"> 0.104274 </td><td style=\"text-align: right;\">-0.0687721</td><td style=\"text-align: right;\"> 0.0788657</td><td style=\"text-align: right;\">-0.0591912 </td><td style=\"text-align: right;\">-0.0608913 </td><td style=\"text-align: right;\">-0.0320873 </td><td style=\"text-align: right;\"> 0.0914844 </td><td style=\"text-align: right;\">-0.0604932</td><td style=\"text-align: right;\"> 0.0758693 </td><td style=\"text-align: right;\">-0.0533436</td><td style=\"text-align: right;\">-0.000919942</td><td style=\"text-align: right;\">0.197412 </td><td style=\"text-align: right;\">-0.0859667 </td><td style=\"text-align: right;\">-0.0034941 </td><td style=\"text-align: right;\">-0.13886  </td><td style=\"text-align: right;\"> 0.123832  </td><td style=\"text-align: right;\">0.165328 </td><td style=\"text-align: right;\">-0.179808  </td><td style=\"text-align: right;\">-0.075386  </td><td style=\"text-align: right;\">-0.0926043</td><td style=\"text-align: right;\"> 0.00578613</td><td style=\"text-align: right;\">-0.06813   </td><td style=\"text-align: right;\"> 0.178574  </td><td style=\"text-align: right;\">-0.0208631 </td><td style=\"text-align: right;\"> 0.0249753 </td><td style=\"text-align: right;\">0.247344</td><td style=\"text-align: right;\">-0.00450978</td><td style=\"text-align: right;\">-0.0660443 </td><td style=\"text-align: right;\">-0.0598978  </td><td style=\"text-align: right;\">-0.144012 </td><td style=\"text-align: right;\"> 0.0313425 </td><td style=\"text-align: right;\">0.0423589</td><td style=\"text-align: right;\">-0.0285788 </td><td style=\"text-align: right;\">-0.0780264</td><td style=\"text-align: right;\">0.152271 </td><td style=\"text-align: right;\">-0.0367283</td><td style=\"text-align: right;\">-0.00827098</td><td style=\"text-align: right;\"> 0.0508052</td><td style=\"text-align: right;\"> 0.128709  </td><td style=\"text-align: right;\">-0.173354  </td><td style=\"text-align: right;\">-0.131931 </td><td style=\"text-align: right;\">0.208519 </td><td style=\"text-align: right;\">-0.0564018</td><td style=\"text-align: right;\">-0.0663336 </td><td style=\"text-align: right;\">-0.0270304 </td><td style=\"text-align: right;\">-0.0574073</td><td style=\"text-align: right;\">-0.133952 </td><td style=\"text-align: right;\">-0.172601 </td><td style=\"text-align: right;\">-0.060063  </td><td style=\"text-align: right;\">-0.0713716</td><td style=\"text-align: right;\">-0.0734186</td><td style=\"text-align: right;\">-0.0200233</td><td style=\"text-align: right;\">-0.00930231 </td><td style=\"text-align: right;\"> 0.0897574</td><td style=\"text-align: right;\">-0.0387392</td><td style=\"text-align: right;\">-0.0630779 </td><td style=\"text-align: right;\"> 0.07266  </td><td style=\"text-align: right;\">-0.0660248</td><td style=\"text-align: right;\">-0.0742825</td><td style=\"text-align: right;\">-0.165262 </td><td style=\"text-align: right;\">0.222509 </td><td style=\"text-align: right;\">-0.000941014</td><td style=\"text-align: right;\">-0.00766347</td><td style=\"text-align: right;\"> 0.19481   </td><td style=\"text-align: right;\">-0.190255 </td><td style=\"text-align: right;\"> 0.212397  </td><td style=\"text-align: right;\"> 0.159499 </td><td style=\"text-align: right;\"> 0.0195763 </td><td style=\"text-align: right;\"> 0.0402981 </td><td style=\"text-align: right;\">-0.0354127</td><td style=\"text-align: right;\"> 0.188322 </td><td style=\"text-align: right;\">0.239839 </td><td style=\"text-align: right;\">-0.0205494 </td><td style=\"text-align: right;\">-0.06279  </td><td style=\"text-align: right;\">-0.049997  </td><td style=\"text-align: right;\">-0.0873836</td><td style=\"text-align: right;\">-0.048001 </td><td style=\"text-align: right;\"> 0.0100153 </td><td style=\"text-align: right;\"> 0.208445 </td><td style=\"text-align: right;\"> 0.0134653 </td><td style=\"text-align: right;\">-0.250745</td><td style=\"text-align: right;\"> 0.0430798</td><td style=\"text-align: right;\">0.18568 </td><td style=\"text-align: right;\">-0.158516 </td><td style=\"text-align: right;\">-0.0129059 </td><td style=\"text-align: right;\"> 0.134794 </td><td style=\"text-align: right;\">-0.0614507 </td><td style=\"text-align: right;\">-0.0404981</td><td style=\"text-align: right;\">-0.16993  </td></tr>\n",
       "<tr><td style=\"text-align: right;\"> 0.128307 </td><td style=\"text-align: right;\"> 0.00542657</td><td style=\"text-align: right;\">-0.0942258  </td><td style=\"text-align: right;\"> 0.0406852 </td><td style=\"text-align: right;\">-0.124691  </td><td style=\"text-align: right;\">-0.191265 </td><td style=\"text-align: right;\"> 0.0763916</td><td style=\"text-align: right;\"> 0.105382  </td><td style=\"text-align: right;\"> 0.00772811</td><td style=\"text-align: right;\"> 0.0101403 </td><td style=\"text-align: right;\"> 0.0660166 </td><td style=\"text-align: right;\"> 0.0179806</td><td style=\"text-align: right;\">-0.0259909</td><td style=\"text-align: right;\"> 0.0225209</td><td style=\"text-align: right;\"> 0.0681239 </td><td style=\"text-align: right;\"> 0.0469641 </td><td style=\"text-align: right;\"> 0.104684  </td><td style=\"text-align: right;\">-0.131207  </td><td style=\"text-align: right;\"> 0.0489763</td><td style=\"text-align: right;\"> 0.0564066 </td><td style=\"text-align: right;\">-0.0146692</td><td style=\"text-align: right;\">-0.114331   </td><td style=\"text-align: right;\">0.089002 </td><td style=\"text-align: right;\"> 0.0102348 </td><td style=\"text-align: right;\"> 0.00296944</td><td style=\"text-align: right;\">-0.107844 </td><td style=\"text-align: right;\"> 0.240671  </td><td style=\"text-align: right;\">0.0578529</td><td style=\"text-align: right;\"> 0.0593879 </td><td style=\"text-align: right;\">-0.122447  </td><td style=\"text-align: right;\">-0.0171408</td><td style=\"text-align: right;\"> 0.120021  </td><td style=\"text-align: right;\"> 0.199309  </td><td style=\"text-align: right;\">-0.00735868</td><td style=\"text-align: right;\">-0.183478  </td><td style=\"text-align: right;\"> 0.0109141 </td><td style=\"text-align: right;\">0.162813</td><td style=\"text-align: right;\"> 0.152638  </td><td style=\"text-align: right;\">-0.00720876</td><td style=\"text-align: right;\"> 0.00456383 </td><td style=\"text-align: right;\">-0.113457 </td><td style=\"text-align: right;\">-0.00229935</td><td style=\"text-align: right;\">0.0212801</td><td style=\"text-align: right;\">-0.0266805 </td><td style=\"text-align: right;\"> 0.124035 </td><td style=\"text-align: right;\">0.166244 </td><td style=\"text-align: right;\"> 0.0147262</td><td style=\"text-align: right;\">-0.0120771 </td><td style=\"text-align: right;\"> 0.239319 </td><td style=\"text-align: right;\">-0.160251  </td><td style=\"text-align: right;\">-0.152527  </td><td style=\"text-align: right;\">-0.103171 </td><td style=\"text-align: right;\">0.139403 </td><td style=\"text-align: right;\">-0.117566 </td><td style=\"text-align: right;\"> 0.181718  </td><td style=\"text-align: right;\">-0.0793983 </td><td style=\"text-align: right;\"> 0.0384228</td><td style=\"text-align: right;\">-0.0573687</td><td style=\"text-align: right;\">-0.0668985</td><td style=\"text-align: right;\">-0.15837   </td><td style=\"text-align: right;\">-0.126178 </td><td style=\"text-align: right;\">-0.0183698</td><td style=\"text-align: right;\">-0.0797084</td><td style=\"text-align: right;\">-0.0754805  </td><td style=\"text-align: right;\"> 0.179627 </td><td style=\"text-align: right;\">-0.139029 </td><td style=\"text-align: right;\">-0.0227262 </td><td style=\"text-align: right;\">-0.026706 </td><td style=\"text-align: right;\"> 0.0391642</td><td style=\"text-align: right;\">-0.0634715</td><td style=\"text-align: right;\">-0.055345 </td><td style=\"text-align: right;\">0.138409 </td><td style=\"text-align: right;\"> 0.0558141  </td><td style=\"text-align: right;\"> 0.0707872 </td><td style=\"text-align: right;\"> 0.128375  </td><td style=\"text-align: right;\">-0.0140268</td><td style=\"text-align: right;\">-0.00338109</td><td style=\"text-align: right;\"> 0.001848 </td><td style=\"text-align: right;\"> 0.0420762 </td><td style=\"text-align: right;\">-0.0494459 </td><td style=\"text-align: right;\">-0.046904 </td><td style=\"text-align: right;\"> 0.198954 </td><td style=\"text-align: right;\">0.0895926</td><td style=\"text-align: right;\"> 0.0631848 </td><td style=\"text-align: right;\"> 0.0257755</td><td style=\"text-align: right;\"> 0.0858116 </td><td style=\"text-align: right;\">-0.151597 </td><td style=\"text-align: right;\">-0.0479603</td><td style=\"text-align: right;\"> 0.0364596 </td><td style=\"text-align: right;\">-0.10666  </td><td style=\"text-align: right;\">-0.166298  </td><td style=\"text-align: right;\">-0.241534</td><td style=\"text-align: right;\">-0.0635681</td><td style=\"text-align: right;\">0.401671</td><td style=\"text-align: right;\">-0.0675325</td><td style=\"text-align: right;\">-0.0073461 </td><td style=\"text-align: right;\">-0.138787 </td><td style=\"text-align: right;\"> 0.0585824 </td><td style=\"text-align: right;\">-0.183772 </td><td style=\"text-align: right;\">-0.180439 </td></tr>\n",
       "<tr><td style=\"text-align: right;\">-0.0285419</td><td style=\"text-align: right;\">-0.113466  </td><td style=\"text-align: right;\"> 0.144726   </td><td style=\"text-align: right;\"> 0.027744  </td><td style=\"text-align: right;\"> 0.00384745</td><td style=\"text-align: right;\">-0.280694 </td><td style=\"text-align: right;\"> 0.0306433</td><td style=\"text-align: right;\">-0.152041  </td><td style=\"text-align: right;\"> 0.0148834 </td><td style=\"text-align: right;\">-0.0314171 </td><td style=\"text-align: right;\"> 0.00305657</td><td style=\"text-align: right;\"> 0.162999 </td><td style=\"text-align: right;\">-0.109891 </td><td style=\"text-align: right;\">-0.069446 </td><td style=\"text-align: right;\">-0.0183515 </td><td style=\"text-align: right;\">-0.123094  </td><td style=\"text-align: right;\">-0.0114677 </td><td style=\"text-align: right;\">-0.193459  </td><td style=\"text-align: right;\"> 0.110431 </td><td style=\"text-align: right;\">-0.0373532 </td><td style=\"text-align: right;\">-0.0576323</td><td style=\"text-align: right;\">-0.0541042  </td><td style=\"text-align: right;\">0.0621944</td><td style=\"text-align: right;\">-0.00338378</td><td style=\"text-align: right;\"> 0.0100952 </td><td style=\"text-align: right;\">-0.138187 </td><td style=\"text-align: right;\"> 0.0208626 </td><td style=\"text-align: right;\">0.0338309</td><td style=\"text-align: right;\"> 0.00431247</td><td style=\"text-align: right;\">-0.00816851</td><td style=\"text-align: right;\">-0.0279386</td><td style=\"text-align: right;\"> 0.00654756</td><td style=\"text-align: right;\"> 0.0768422 </td><td style=\"text-align: right;\">-0.0357746 </td><td style=\"text-align: right;\">-0.0326763 </td><td style=\"text-align: right;\">-0.0653268 </td><td style=\"text-align: right;\">0.157914</td><td style=\"text-align: right;\">-0.00976328</td><td style=\"text-align: right;\"> 0.0327575 </td><td style=\"text-align: right;\"> 0.0398886  </td><td style=\"text-align: right;\">-0.199941 </td><td style=\"text-align: right;\"> 0.0608896 </td><td style=\"text-align: right;\">0.0236719</td><td style=\"text-align: right;\">-0.0581698 </td><td style=\"text-align: right;\">-0.0940618</td><td style=\"text-align: right;\">0.0877165</td><td style=\"text-align: right;\">-0.0901926</td><td style=\"text-align: right;\"> 0.0235042 </td><td style=\"text-align: right;\"> 0.147529 </td><td style=\"text-align: right;\">-0.0647938 </td><td style=\"text-align: right;\">-0.0499205 </td><td style=\"text-align: right;\">-0.13189  </td><td style=\"text-align: right;\">0.0850734</td><td style=\"text-align: right;\">-0.16072  </td><td style=\"text-align: right;\"> 0.10643   </td><td style=\"text-align: right;\">-0.135073  </td><td style=\"text-align: right;\">-0.0426584</td><td style=\"text-align: right;\">-0.113683 </td><td style=\"text-align: right;\"> 0.0615631</td><td style=\"text-align: right;\">-0.0535432 </td><td style=\"text-align: right;\">-0.065697 </td><td style=\"text-align: right;\"> 0.0674993</td><td style=\"text-align: right;\"> 0.0302348</td><td style=\"text-align: right;\">-0.0234367  </td><td style=\"text-align: right;\"> 0.142522 </td><td style=\"text-align: right;\">-0.159577 </td><td style=\"text-align: right;\"> 0.00534414</td><td style=\"text-align: right;\"> 0.143846 </td><td style=\"text-align: right;\"> 0.0823071</td><td style=\"text-align: right;\">-0.157333 </td><td style=\"text-align: right;\">-0.111571 </td><td style=\"text-align: right;\">0.0745466</td><td style=\"text-align: right;\">-0.00674859 </td><td style=\"text-align: right;\"> 0.0805642 </td><td style=\"text-align: right;\"> 0.0386168 </td><td style=\"text-align: right;\">-0.103409 </td><td style=\"text-align: right;\"> 0.0773772 </td><td style=\"text-align: right;\"> 0.0417055</td><td style=\"text-align: right;\"> 0.144611  </td><td style=\"text-align: right;\">-0.0339428 </td><td style=\"text-align: right;\">-0.0274688</td><td style=\"text-align: right;\">-0.117457 </td><td style=\"text-align: right;\">0.0342502</td><td style=\"text-align: right;\"> 0.0675874 </td><td style=\"text-align: right;\">-0.151318 </td><td style=\"text-align: right;\">-0.0557271 </td><td style=\"text-align: right;\">-0.177395 </td><td style=\"text-align: right;\">-0.0513505</td><td style=\"text-align: right;\"> 0.00195182</td><td style=\"text-align: right;\">-0.0263397</td><td style=\"text-align: right;\"> 0.0389669 </td><td style=\"text-align: right;\">-0.126226</td><td style=\"text-align: right;\"> 0.171381 </td><td style=\"text-align: right;\">0.327606</td><td style=\"text-align: right;\">-0.153531 </td><td style=\"text-align: right;\">-0.0281352 </td><td style=\"text-align: right;\"> 0.0883938</td><td style=\"text-align: right;\"> 0.0552393 </td><td style=\"text-align: right;\">-0.223078 </td><td style=\"text-align: right;\">-0.174226 </td></tr>\n",
       "</tbody>\n",
       "</table>"
      ]
     },
     "metadata": {},
     "output_type": "display_data"
    },
    {
     "data": {
      "text/plain": []
     },
     "execution_count": 18,
     "metadata": {},
     "output_type": "execute_result"
    }
   ],
   "source": [
    "review_vecs"
   ]
  },
  {
   "cell_type": "code",
   "execution_count": 19,
   "metadata": {
    "collapsed": true
   },
   "outputs": [],
   "source": [
    "# Prepare training & validation data (keep only reviews made of known words)\n",
    "valid_reviews = ~ review_vecs[\"C1\"].isna()\n",
    "data = reviewsHex[valid_reviews,:].cbind(review_vecs[valid_reviews,:])\n",
    "data_split = data.split_frame(ratios=[0.8], seed = 1234)"
   ]
  },
  {
   "cell_type": "markdown",
   "metadata": {},
   "source": [
    "## Train GBM Model to Predict Good Review\n",
    "\n",
    "We will train a GBM model to predict whether the product has a positive or negative review using solely the aggregated word embeddings as predictors."
   ]
  },
  {
   "cell_type": "code",
   "execution_count": 20,
   "metadata": {
    "collapsed": false
   },
   "outputs": [
    {
     "name": "stdout",
     "output_type": "stream",
     "text": [
      "gbm Model Build progress: |███████████████████████████████████████████████| 100%\n"
     ]
    }
   ],
   "source": [
    "# Build a basic GBM model\n",
    "from h2o.estimators import H2OGradientBoostingEstimator\n",
    "\n",
    "gbm_model = H2OGradientBoostingEstimator()\n",
    "gbm_model.train(x = review_vecs.names,\n",
    "                y = \"GoodReview\", \n",
    "                training_frame = data_split[0], \n",
    "                validation_frame = data_split[1], \n",
    "                model_id = \"gbm.hex\")"
   ]
  },
  {
   "cell_type": "code",
   "execution_count": 21,
   "metadata": {
    "collapsed": false
   },
   "outputs": [
    {
     "name": "stdout",
     "output_type": "stream",
     "text": [
      "AUC: 0.881\n"
     ]
    }
   ],
   "source": [
    "print(\"AUC: \" + str(round(gbm_model.auc(valid = True), 3)))"
   ]
  },
  {
   "cell_type": "code",
   "execution_count": 22,
   "metadata": {
    "collapsed": false
   },
   "outputs": [
    {
     "name": "stdout",
     "output_type": "stream",
     "text": [
      "Accuracy: 0.85\n"
     ]
    }
   ],
   "source": [
    "print(\"Accuracy: \" + str(round(gbm_model.accuracy(valid = True)[0][1], 3)))"
   ]
  },
  {
   "cell_type": "code",
   "execution_count": 23,
   "metadata": {
    "collapsed": true
   },
   "outputs": [],
   "source": [
    "def predict(reviews, w2v, gbm):\n",
    "    words = tokenize(h2o.H2OFrame(reviews).ascharacter())\n",
    "    reviews_vec = w2v.transform(words, aggregate_method=\"AVERAGE\")\n",
    "    print(gbm.predict(test_data=reviews_vec))"
   ]
  },
  {
   "cell_type": "code",
   "execution_count": 24,
   "metadata": {
    "collapsed": false
   },
   "outputs": [
    {
     "name": "stdout",
     "output_type": "stream",
     "text": [
      "Parse progress: |█████████████████████████████████████████████████████████| 100%\n",
      "gbm prediction progress: |████████████████████████████████████████████████| 100%\n"
     ]
    },
    {
     "data": {
      "text/html": [
       "<table>\n",
       "<thead>\n",
       "<tr><th>predict  </th><th style=\"text-align: right;\">      No</th><th style=\"text-align: right;\">      Yes</th></tr>\n",
       "</thead>\n",
       "<tbody>\n",
       "<tr><td>No       </td><td style=\"text-align: right;\">0.952698</td><td style=\"text-align: right;\">0.0473021</td></tr>\n",
       "</tbody>\n",
       "</table>"
      ]
     },
     "metadata": {},
     "output_type": "display_data"
    },
    {
     "name": "stdout",
     "output_type": "stream",
     "text": [
      "\n",
      "None\n",
      "Parse progress: |█████████████████████████████████████████████████████████| 100%\n",
      "gbm prediction progress: |████████████████████████████████████████████████| 100%\n"
     ]
    },
    {
     "data": {
      "text/html": [
       "<table>\n",
       "<thead>\n",
       "<tr><th>predict  </th><th style=\"text-align: right;\">       No</th><th style=\"text-align: right;\">     Yes</th></tr>\n",
       "</thead>\n",
       "<tbody>\n",
       "<tr><td>Yes      </td><td style=\"text-align: right;\">0.0249092</td><td style=\"text-align: right;\">0.975091</td></tr>\n",
       "</tbody>\n",
       "</table>"
      ]
     },
     "metadata": {},
     "output_type": "display_data"
    },
    {
     "name": "stdout",
     "output_type": "stream",
     "text": [
      "\n",
      "None\n"
     ]
    }
   ],
   "source": [
    "# Predict!\n",
    "print(predict([\"Seriously this product was as tasteless as they come.\"], w2v_model, gbm_model))\n",
    "\n",
    "print(predict([\"Great taffy at a great price.  There was a wide assortment of yummy taffy.  Delivery was very quick.  If your a taffy lover, this is a deal.\"], w2v_model, gbm_model))"
   ]
  },
  {
   "cell_type": "markdown",
   "metadata": {
    "collapsed": true
   },
   "source": [
    "## Add Word Embeddings from Pretrained Glove Model\n",
    "\n",
    "We will see if we can improve our performance by including word embeddings from a pretrained Glove model.  Glove is a different algorithm from Word2Vec but its goal is the same: convert words to word embeddings.  A pre-trained Glove model using Wikipedia articles can be found here http://nlp.stanford.edu/data/glove.6B.zip."
   ]
  },
  {
   "cell_type": "code",
   "execution_count": 25,
   "metadata": {
    "collapsed": false
   },
   "outputs": [
    {
     "name": "stderr",
     "output_type": "stream",
     "text": [
      "/Users/megankurka/anaconda3/envs/py27/lib/python2.7/site-packages/h2o/h2o.py:562: UserWarning: [Lwater.parser.ParseWriter$ParseErr;@7178676e\n",
      "  warnings.warn(w)\n"
     ]
    },
    {
     "name": "stdout",
     "output_type": "stream",
     "text": [
      "Parse progress: |█████████████████████████████████████████████████████████| 100%\n"
     ]
    },
    {
     "name": "stderr",
     "output_type": "stream",
     "text": [
      "/Users/megankurka/anaconda3/envs/py27/lib/python2.7/site-packages/h2o/job.py:69: UserWarning: ParseError at file /Users/megankurka/Documents/Meetups/March_23_2017/glove/glove.6B.100d.txt  at byte offset 7674; error = 'Unmatched quote char \"'\n",
      "  warnings.warn(w)\n"
     ]
    }
   ],
   "source": [
    "g6b = h2o.import_file(\"./glove.6B.100d.txt\")"
   ]
  },
  {
   "cell_type": "code",
   "execution_count": 26,
   "metadata": {
    "collapsed": false
   },
   "outputs": [
    {
     "name": "stdout",
     "output_type": "stream",
     "text": [
      "word2vec Model Build progress: |██████████████████████████████████████████| 100%\n"
     ]
    }
   ],
   "source": [
    "glove_g6B = H2OWord2vecEstimator(pre_trained = g6b, vec_size = 100)\n",
    "glove_g6B.train(training_frame = words)"
   ]
  },
  {
   "cell_type": "code",
   "execution_count": 27,
   "metadata": {
    "collapsed": false
   },
   "outputs": [],
   "source": [
    "# Calculate a vector for each review from the pretrained Glove model\n",
    "pretrained_review_vecs = glove_g6B.transform(words, aggregate_method = \"AVERAGE\")"
   ]
  },
  {
   "cell_type": "code",
   "execution_count": 28,
   "metadata": {
    "collapsed": true
   },
   "outputs": [],
   "source": [
    "# Change Column Names to indicate from pretrained model\n",
    "pretrained_review_vecs.names = [\"pretrained_\" + s for s in pretrained_review_vecs.names]"
   ]
  },
  {
   "cell_type": "code",
   "execution_count": 29,
   "metadata": {
    "collapsed": true
   },
   "outputs": [],
   "source": [
    "# Prepare training & validation data \n",
    "# Add the pretrained Glove word embeddings\n",
    "data = data.cbind(pretrained_review_vecs[valid_reviews,:])\n",
    "data_split = data.split_frame(ratios=[0.8], seed = 1234)"
   ]
  },
  {
   "cell_type": "code",
   "execution_count": 30,
   "metadata": {
    "collapsed": false
   },
   "outputs": [
    {
     "name": "stdout",
     "output_type": "stream",
     "text": [
      "gbm Model Build progress: |███████████████████████████████████████████████| 100%\n"
     ]
    }
   ],
   "source": [
    "# Build a new GBM model with the added vectors\n",
    "\n",
    "gbm_v2 = H2OGradientBoostingEstimator()\n",
    "gbm_v2.train(x = review_vecs.names + pretrained_review_vecs.names,\n",
    "             y=\"GoodReview\", \n",
    "             training_frame = data_split[0], \n",
    "             validation_frame = data_split[1], \n",
    "             model_id = \"gbm_v2.hex\")"
   ]
  },
  {
   "cell_type": "code",
   "execution_count": 31,
   "metadata": {
    "collapsed": false
   },
   "outputs": [
    {
     "name": "stdout",
     "output_type": "stream",
     "text": [
      "Original AUC: 0.881\n",
      "New AUC: 0.88\n"
     ]
    }
   ],
   "source": [
    "print(\"Original AUC: \" + str(round(gbm_model.auc(valid = True), 3)))\n",
    "print(\"New AUC: \" + str(round(gbm_v2.auc(valid = True), 3)))"
   ]
  },
  {
   "cell_type": "markdown",
   "metadata": {
    "collapsed": true
   },
   "source": [
    "## References\n",
    "\n",
    "- Kaggle Amazon Reviews Data: https://www.kaggle.com/snap/amazon-fine-food-reviews\n",
    "\n",
    "- J. McAuley and J. Leskovec. From amateurs to connoisseurs: modeling the evolution of user expertise through online reviews. WWW, 2013.\n",
    "\n",
    "- Glove: https://nlp.stanford.edu/projects/glove/\n",
    "\n",
    "- This script is based off of the [Craigslist Word2Vec Demo](https://github.com/h2oai/h2o-3/blob/master/h2o-py/demos/word2vec_craigslistjobtitles.ipynb)"
   ]
  },
  {
   "cell_type": "code",
   "execution_count": null,
   "metadata": {
    "collapsed": true
   },
   "outputs": [],
   "source": []
  }
 ],
 "metadata": {
  "kernelspec": {
   "display_name": "Python 3",
   "language": "python",
   "name": "python3"
  },
  "language_info": {
   "codemirror_mode": {
    "name": "ipython",
    "version": 3
   },
   "file_extension": ".py",
   "mimetype": "text/x-python",
   "name": "python",
   "nbconvert_exporter": "python",
   "pygments_lexer": "ipython3",
   "version": "3.6.0"
  }
 },
 "nbformat": 4,
 "nbformat_minor": 2
}
