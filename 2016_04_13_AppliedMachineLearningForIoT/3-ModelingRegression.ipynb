{
 "cells": [
  {
   "cell_type": "markdown",
   "metadata": {},
   "source": [
    "# Using H2O Machine Learning and Kalman Filters for Machine Prognostics"
   ]
  },
  {
   "cell_type": "markdown",
   "metadata": {},
   "source": [
    "# Import and initialize h2o"
   ]
  },
  {
   "cell_type": "code",
   "execution_count": 29,
   "metadata": {
    "collapsed": true
   },
   "outputs": [
    {
     "name": "stderr",
     "output_type": "stream",
     "text": [
      "//anaconda/envs/h2o-latest-py27/lib/python2.7/site-packages/ipykernel/pylab/config.py:66: DeprecationWarning: metadata {'config': True} was set from the constructor.  Metadata should be set using the .tag() method, e.g., Int().tag(key1='value1', key2='value2')\n",
      "  inline backend.\"\"\"\n",
      "//anaconda/envs/h2o-latest-py27/lib/python2.7/site-packages/ipykernel/pylab/config.py:71: DeprecationWarning: metadata {'config': True} was set from the constructor.  Metadata should be set using the .tag() method, e.g., Int().tag(key1='value1', key2='value2')\n",
      "  'retina', 'jpeg', 'svg', 'pdf'.\"\"\")\n",
      "//anaconda/envs/h2o-latest-py27/lib/python2.7/site-packages/ipykernel/pylab/config.py:85: DeprecationWarning: metadata {'config': True} was set from the constructor.  Metadata should be set using the .tag() method, e.g., Int().tag(key1='value1', key2='value2')\n",
      "  use `figure_formats` instead)\"\"\")\n",
      "//anaconda/envs/h2o-latest-py27/lib/python2.7/site-packages/ipykernel/pylab/config.py:95: DeprecationWarning: metadata {'config': True} was set from the constructor.  Metadata should be set using the .tag() method, e.g., Int().tag(key1='value1', key2='value2')\n",
      "  \"\"\"\n",
      "//anaconda/envs/h2o-latest-py27/lib/python2.7/site-packages/ipykernel/pylab/config.py:114: DeprecationWarning: metadata {'config': True} was set from the constructor.  Metadata should be set using the .tag() method, e.g., Int().tag(key1='value1', key2='value2')\n",
      "  \"\"\")\n",
      "//anaconda/envs/h2o-latest-py27/lib/python2.7/site-packages/ipykernel/pylab/config.py:44: DeprecationWarning: InlineBackend._config_changed is deprecated: use @observe and @unobserve instead.\n",
      "  def _config_changed(self, name, old, new):\n",
      "//anaconda/envs/h2o-latest-py27/lib/python2.7/site-packages/traitlets/traitlets.py:770: DeprecationWarning: A parent of InlineBackend._config_changed has adopted the new @observe(change) API\n",
      "  clsname, change_or_name), DeprecationWarning)\n"
     ]
    }
   ],
   "source": [
    "import h2o\n",
    "import re\n",
    "import numpy as np\n",
    "import pandas as pd\n",
    "\n",
    "import matplotlib.pyplot as plt\n",
    "import seaborn as sns\n",
    "%matplotlib inline\n",
    "sns.set()"
   ]
  },
  {
   "cell_type": "code",
   "execution_count": 2,
   "metadata": {
    "collapsed": true
   },
   "outputs": [
    {
     "name": "stdout",
     "output_type": "stream",
     "text": [
      "\n",
      "\n",
      "No instance found at ip and port: localhost:54321. Trying to start local jar...\n",
      "\n",
      "\n",
      "JVM stdout: /var/folders/wg/3qx1qchx1jsfjqqbmz3stj7c0000gn/T/tmpq4cttu/h2o_hank_started_from_python.out\n",
      "JVM stderr: /var/folders/wg/3qx1qchx1jsfjqqbmz3stj7c0000gn/T/tmpAG9ykL/h2o_hank_started_from_python.err\n",
      "Using ice_root: /var/folders/wg/3qx1qchx1jsfjqqbmz3stj7c0000gn/T/tmpdFai8z\n",
      "\n",
      "\n",
      "Java Version: java version \"1.8.0_40\"\n",
      "Java(TM) SE Runtime Environment (build 1.8.0_40-b27)\n",
      "Java HotSpot(TM) 64-Bit Server VM (build 25.40-b25, mixed mode)\n",
      "\n",
      "\n",
      "Starting H2O JVM and connecting: ........................ Connection successful!\n"
     ]
    },
    {
     "name": "stderr",
     "output_type": "stream",
     "text": [
      "//anaconda/envs/h2o-latest-py27/lib/python2.7/site-packages/IPython/core/formatters.py:90: DeprecationWarning: DisplayFormatter._ipython_display_formatter_default is deprecated: use @default decorator instead.\n",
      "  def _ipython_display_formatter_default(self):\n",
      "//anaconda/envs/h2o-latest-py27/lib/python2.7/site-packages/IPython/core/formatters.py:96: DeprecationWarning: DisplayFormatter._formatters_default is deprecated: use @default decorator instead.\n",
      "  def _formatters_default(self):\n",
      "//anaconda/envs/h2o-latest-py27/lib/python2.7/site-packages/IPython/core/formatters.py:675: DeprecationWarning: PlainTextFormatter._deferred_printers_default is deprecated: use @default decorator instead.\n",
      "  def _deferred_printers_default(self):\n",
      "//anaconda/envs/h2o-latest-py27/lib/python2.7/site-packages/IPython/core/formatters.py:667: DeprecationWarning: PlainTextFormatter._singleton_printers_default is deprecated: use @default decorator instead.\n",
      "  def _singleton_printers_default(self):\n",
      "//anaconda/envs/h2o-latest-py27/lib/python2.7/site-packages/IPython/core/formatters.py:670: DeprecationWarning: PlainTextFormatter._type_printers_default is deprecated: use @default decorator instead.\n",
      "  def _type_printers_default(self):\n",
      "//anaconda/envs/h2o-latest-py27/lib/python2.7/site-packages/IPython/core/formatters.py:667: DeprecationWarning: PlainTextFormatter._singleton_printers_default is deprecated: use @default decorator instead.\n",
      "  def _singleton_printers_default(self):\n",
      "//anaconda/envs/h2o-latest-py27/lib/python2.7/site-packages/IPython/core/formatters.py:670: DeprecationWarning: PlainTextFormatter._type_printers_default is deprecated: use @default decorator instead.\n",
      "  def _type_printers_default(self):\n",
      "//anaconda/envs/h2o-latest-py27/lib/python2.7/site-packages/IPython/core/formatters.py:675: DeprecationWarning: PlainTextFormatter._deferred_printers_default is deprecated: use @default decorator instead.\n",
      "  def _deferred_printers_default(self):\n"
     ]
    },
    {
     "data": {
      "text/html": [
       "<div style=\"overflow:auto\"><table style=\"width:50%\"><tr><td>H2O cluster uptime: </td>\n",
       "<td>2 seconds 653 milliseconds </td></tr>\n",
       "<tr><td>H2O cluster version: </td>\n",
       "<td>3.8.0.4</td></tr>\n",
       "<tr><td>H2O cluster name: </td>\n",
       "<td>H2O_started_from_python_hank_jbr469</td></tr>\n",
       "<tr><td>H2O cluster total nodes: </td>\n",
       "<td>1</td></tr>\n",
       "<tr><td>H2O cluster total free memory: </td>\n",
       "<td>3.56 GB</td></tr>\n",
       "<tr><td>H2O cluster total cores: </td>\n",
       "<td>4</td></tr>\n",
       "<tr><td>H2O cluster allowed cores: </td>\n",
       "<td>4</td></tr>\n",
       "<tr><td>H2O cluster healthy: </td>\n",
       "<td>True</td></tr>\n",
       "<tr><td>H2O Connection ip: </td>\n",
       "<td>127.0.0.1</td></tr>\n",
       "<tr><td>H2O Connection port: </td>\n",
       "<td>54321</td></tr>\n",
       "<tr><td>H2O Connection proxy: </td>\n",
       "<td>None</td></tr>\n",
       "<tr><td>Python Version: </td>\n",
       "<td>2.7.11</td></tr></table></div>"
      ],
      "text/plain": [
       "------------------------------  -----------------------------------\n",
       "H2O cluster uptime:             2 seconds 653 milliseconds\n",
       "H2O cluster version:            3.8.0.4\n",
       "H2O cluster name:               H2O_started_from_python_hank_jbr469\n",
       "H2O cluster total nodes:        1\n",
       "H2O cluster total free memory:  3.56 GB\n",
       "H2O cluster total cores:        4\n",
       "H2O cluster allowed cores:      4\n",
       "H2O cluster healthy:            True\n",
       "H2O Connection ip:              127.0.0.1\n",
       "H2O Connection port:            54321\n",
       "H2O Connection proxy:\n",
       "Python Version:                 2.7.11\n",
       "------------------------------  -----------------------------------"
      ]
     },
     "metadata": {},
     "output_type": "display_data"
    }
   ],
   "source": [
    "h2o.init()"
   ]
  },
  {
   "cell_type": "markdown",
   "metadata": {},
   "source": [
    "# Import the training and test sets, look at summary statistics"
   ]
  },
  {
   "cell_type": "code",
   "execution_count": 3,
   "metadata": {
    "collapsed": false,
    "scrolled": true
   },
   "outputs": [
    {
     "name": "stdout",
     "output_type": "stream",
     "text": [
      "\n",
      "Parse Progress: [##################################################] 100%\n",
      "\n",
      "Parse Progress: [##################################################] 100%\n"
     ]
    }
   ],
   "source": [
    "train = h2o.upload_file(\"train_FD004_processed.csv\")\n",
    "test  = h2o.upload_file(\"test_FD004_processed.csv\")"
   ]
  },
  {
   "cell_type": "markdown",
   "metadata": {},
   "source": [
    "# Define the names of the features\n",
    "These are both the features in the original data file and some of the features that will be created later on."
   ]
  },
  {
   "cell_type": "code",
   "execution_count": 4,
   "metadata": {
    "collapsed": false
   },
   "outputs": [
    {
     "data": {
      "text/plain": [
       "[u'CountInMode1',\n",
       " u'CountInMode0',\n",
       " u'CountInMode5',\n",
       " u'CountInMode4',\n",
       " u'CountInMode2',\n",
       " u'CountInMode3',\n",
       " u'stdized_SensorMeasure2',\n",
       " u'stdized_SensorMeasure3',\n",
       " u'stdized_SensorMeasure4',\n",
       " u'stdized_SensorMeasure6',\n",
       " u'stdized_SensorMeasure7',\n",
       " u'stdized_SensorMeasure8',\n",
       " u'stdized_SensorMeasure9',\n",
       " u'stdized_SensorMeasure10',\n",
       " u'stdized_SensorMeasure11',\n",
       " u'stdized_SensorMeasure12',\n",
       " u'stdized_SensorMeasure13',\n",
       " u'stdized_SensorMeasure14',\n",
       " u'stdized_SensorMeasure15',\n",
       " u'stdized_SensorMeasure17',\n",
       " u'stdized_SensorMeasure20',\n",
       " u'stdized_SensorMeasure21']"
      ]
     },
     "execution_count": 4,
     "metadata": {},
     "output_type": "execute_result"
    }
   ],
   "source": [
    "# Setup the column names of the training file\n",
    "index_columns_names =  [\"UnitNumber\",\"Cycle\"]\n",
    "\n",
    "weight_column = \"Cycle\"\n",
    "\n",
    "# And the name of the to be engineered target variable\n",
    "dependent_var = ['RemainingUsefulLife']\n",
    "\n",
    "independent_vars = [column_name for column_name in train.columns if re.search(\"CountInMode|stdized_SensorMeasure\", column_name)]\n",
    "independent_vars"
   ]
  },
  {
   "cell_type": "markdown",
   "metadata": {},
   "source": [
    "## Cross validation strategy\n",
    "Use approximately 80% of the units for model building and cross validate with the other 20% of the units.  Use units as the information for the fold, not individual observations of the units."
   ]
  },
  {
   "cell_type": "code",
   "execution_count": 5,
   "metadata": {
    "collapsed": false
   },
   "outputs": [],
   "source": [
    "fold_column_name = \"FoldColumn\"\n",
    "train[fold_column_name] = train[\"UnitNumber\"] % 5"
   ]
  },
  {
   "cell_type": "markdown",
   "metadata": {},
   "source": [
    "## Build a H2O GBM Estimator, train the estimator, and review model results"
   ]
  },
  {
   "cell_type": "code",
   "execution_count": 6,
   "metadata": {
    "collapsed": true
   },
   "outputs": [],
   "source": [
    "from h2o.estimators.gbm import H2OGradientBoostingEstimator"
   ]
  },
  {
   "cell_type": "code",
   "execution_count": 9,
   "metadata": {
    "collapsed": false
   },
   "outputs": [
    {
     "name": "stdout",
     "output_type": "stream",
     "text": [
      "\n",
      "gbm Model Build Progress: [##################################################] 100%\n"
     ]
    }
   ],
   "source": [
    "gbm_regressor = H2OGradientBoostingEstimator(distribution=\"laplace\", \n",
    "                                             score_each_iteration=True,\n",
    "                                             stopping_metric=\"MSE\", \n",
    "                                             stopping_tolerance=0.001,\n",
    "                                             stopping_rounds=5,\n",
    "                                             max_depth=10, ntrees=300)\n",
    "gbm_regressor.train(x=independent_vars, y=dependent_var, \n",
    "                    training_frame=train, weights_column=weight_column,\n",
    "                    fold_column=fold_column_name)"
   ]
  },
  {
   "cell_type": "code",
   "execution_count": 10,
   "metadata": {
    "collapsed": false
   },
   "outputs": [
    {
     "name": "stdout",
     "output_type": "stream",
     "text": [
      "Model Details\n",
      "=============\n",
      "H2OGradientBoostingEstimator :  Gradient Boosting Method\n",
      "Model Key:  GBM_model_python_1456252414214_8\n",
      "\n",
      "Model Summary: \n"
     ]
    },
    {
     "data": {
      "text/html": [
       "<div style=\"overflow:auto\"><table style=\"width:50%\"><tr><td><b></b></td>\n",
       "<td><b>number_of_trees</b></td>\n",
       "<td><b>model_size_in_bytes</b></td>\n",
       "<td><b>min_depth</b></td>\n",
       "<td><b>max_depth</b></td>\n",
       "<td><b>mean_depth</b></td>\n",
       "<td><b>min_leaves</b></td>\n",
       "<td><b>max_leaves</b></td>\n",
       "<td><b>mean_leaves</b></td></tr>\n",
       "<tr><td></td>\n",
       "<td>166.0</td>\n",
       "<td>590233.0</td>\n",
       "<td>10.0</td>\n",
       "<td>10.0</td>\n",
       "<td>10.0</td>\n",
       "<td>86.0</td>\n",
       "<td>629.0</td>\n",
       "<td>302.0723</td></tr></table></div>"
      ],
      "text/plain": [
       "    number_of_trees    model_size_in_bytes    min_depth    max_depth    mean_depth    min_leaves    max_leaves    mean_leaves\n",
       "--  -----------------  ---------------------  -----------  -----------  ------------  ------------  ------------  -------------\n",
       "    166                590233                 10           10           10            86            629           302.072"
      ]
     },
     "metadata": {},
     "output_type": "display_data"
    },
    {
     "name": "stdout",
     "output_type": "stream",
     "text": [
      "\n",
      "\n",
      "ModelMetricsRegression: gbm\n",
      "** Reported on train data. **\n",
      "\n",
      "MSE: 1070.84726192\n",
      "R^2: 0.818647124106\n",
      "Mean Residual Deviance: 16.9290717449\n",
      "\n",
      "ModelMetricsRegression: gbm\n",
      "** Reported on cross-validation data. **\n",
      "\n",
      "MSE: 1143.5872459\n",
      "R^2: 0.806328275513\n",
      "Mean Residual Deviance: 18.076473259\n",
      "\n",
      "Scoring History: \n"
     ]
    },
    {
     "data": {
      "text/html": [
       "<div style=\"overflow:auto\"><table style=\"width:50%\"><tr><td><b></b></td>\n",
       "<td><b>timestamp</b></td>\n",
       "<td><b>duration</b></td>\n",
       "<td><b>number_of_trees</b></td>\n",
       "<td><b>training_MSE</b></td>\n",
       "<td><b>training_deviance</b></td></tr>\n",
       "<tr><td></td>\n",
       "<td>2016-02-23 11:11:06</td>\n",
       "<td>24 min 38.485 sec</td>\n",
       "<td>0.0</td>\n",
       "<td>6182.4618525</td>\n",
       "<td>59.7451581</td></tr>\n",
       "<tr><td></td>\n",
       "<td>2016-02-23 11:11:10</td>\n",
       "<td>24 min 42.685 sec</td>\n",
       "<td>1.0</td>\n",
       "<td>5422.3766001</td>\n",
       "<td>54.9015613</td></tr>\n",
       "<tr><td></td>\n",
       "<td>2016-02-23 11:11:15</td>\n",
       "<td>24 min 47.664 sec</td>\n",
       "<td>2.0</td>\n",
       "<td>4773.7105913</td>\n",
       "<td>50.6092767</td></tr>\n",
       "<tr><td></td>\n",
       "<td>2016-02-23 11:11:17</td>\n",
       "<td>24 min 49.559 sec</td>\n",
       "<td>3.0</td>\n",
       "<td>4235.5205670</td>\n",
       "<td>46.8769544</td></tr>\n",
       "<tr><td></td>\n",
       "<td>2016-02-23 11:11:19</td>\n",
       "<td>24 min 51.573 sec</td>\n",
       "<td>4.0</td>\n",
       "<td>3783.4904248</td>\n",
       "<td>43.5608910</td></tr>\n",
       "<tr><td>---</td>\n",
       "<td>---</td>\n",
       "<td>---</td>\n",
       "<td>---</td>\n",
       "<td>---</td>\n",
       "<td>---</td></tr>\n",
       "<tr><td></td>\n",
       "<td>2016-02-23 11:15:03</td>\n",
       "<td>28 min 35.395 sec</td>\n",
       "<td>162.0</td>\n",
       "<td>1073.3492063</td>\n",
       "<td>16.9773693</td></tr>\n",
       "<tr><td></td>\n",
       "<td>2016-02-23 11:15:04</td>\n",
       "<td>28 min 36.465 sec</td>\n",
       "<td>163.0</td>\n",
       "<td>1073.2769747</td>\n",
       "<td>16.9759016</td></tr>\n",
       "<tr><td></td>\n",
       "<td>2016-02-23 11:15:06</td>\n",
       "<td>28 min 38.233 sec</td>\n",
       "<td>164.0</td>\n",
       "<td>1072.0568113</td>\n",
       "<td>16.9524455</td></tr>\n",
       "<tr><td></td>\n",
       "<td>2016-02-23 11:15:07</td>\n",
       "<td>28 min 39.627 sec</td>\n",
       "<td>165.0</td>\n",
       "<td>1071.4833432</td>\n",
       "<td>16.9411230</td></tr>\n",
       "<tr><td></td>\n",
       "<td>2016-02-23 11:15:08</td>\n",
       "<td>28 min 41.002 sec</td>\n",
       "<td>166.0</td>\n",
       "<td>1070.8472619</td>\n",
       "<td>16.9290717</td></tr></table></div>"
      ],
      "text/plain": [
       "     timestamp            duration           number_of_trees    training_MSE    training_deviance\n",
       "---  -------------------  -----------------  -----------------  --------------  -------------------\n",
       "     2016-02-23 11:11:06  24 min 38.485 sec  0.0                6182.46185251   59.7451580514\n",
       "     2016-02-23 11:11:10  24 min 42.685 sec  1.0                5422.37660015   54.9015612542\n",
       "     2016-02-23 11:11:15  24 min 47.664 sec  2.0                4773.71059125   50.6092767263\n",
       "     2016-02-23 11:11:17  24 min 49.559 sec  3.0                4235.52056699   46.8769543502\n",
       "     2016-02-23 11:11:19  24 min 51.573 sec  4.0                3783.49042482   43.5608910046\n",
       "---  ---                  ---                ---                ---             ---\n",
       "     2016-02-23 11:15:03  28 min 35.395 sec  162.0              1073.34920631   16.9773692686\n",
       "     2016-02-23 11:15:04  28 min 36.465 sec  163.0              1073.27697467   16.9759015727\n",
       "     2016-02-23 11:15:06  28 min 38.233 sec  164.0              1072.05681126   16.9524455163\n",
       "     2016-02-23 11:15:07  28 min 39.627 sec  165.0              1071.4833432    16.9411230116\n",
       "     2016-02-23 11:15:08  28 min 41.002 sec  166.0              1070.84726192   16.9290717449"
      ]
     },
     "metadata": {},
     "output_type": "display_data"
    },
    {
     "name": "stdout",
     "output_type": "stream",
     "text": [
      "\n",
      "See the whole table with table.as_data_frame()\n",
      "\n",
      "Variable Importances: \n"
     ]
    },
    {
     "data": {
      "text/html": [
       "<div style=\"overflow:auto\"><table style=\"width:50%\"><tr><td><b>variable</b></td>\n",
       "<td><b>relative_importance</b></td>\n",
       "<td><b>scaled_importance</b></td>\n",
       "<td><b>percentage</b></td></tr>\n",
       "<tr><td>stdized_SensorMeasure11</td>\n",
       "<td>102608640.0000000</td>\n",
       "<td>1.0</td>\n",
       "<td>0.2517591</td></tr>\n",
       "<tr><td>stdized_SensorMeasure14</td>\n",
       "<td>31405408.0000000</td>\n",
       "<td>0.3060698</td>\n",
       "<td>0.0770559</td></tr>\n",
       "<tr><td>CountInMode1</td>\n",
       "<td>30830854.0000000</td>\n",
       "<td>0.3004704</td>\n",
       "<td>0.0756461</td></tr>\n",
       "<tr><td>stdized_SensorMeasure13</td>\n",
       "<td>21343802.0000000</td>\n",
       "<td>0.2080117</td>\n",
       "<td>0.0523688</td></tr>\n",
       "<tr><td>CountInMode4</td>\n",
       "<td>20709766.0000000</td>\n",
       "<td>0.2018326</td>\n",
       "<td>0.0508132</td></tr>\n",
       "<tr><td>---</td>\n",
       "<td>---</td>\n",
       "<td>---</td>\n",
       "<td>---</td></tr>\n",
       "<tr><td>stdized_SensorMeasure7</td>\n",
       "<td>7751859.5</td>\n",
       "<td>0.0755478</td>\n",
       "<td>0.0190199</td></tr>\n",
       "<tr><td>stdized_SensorMeasure17</td>\n",
       "<td>6539798.5</td>\n",
       "<td>0.0637354</td>\n",
       "<td>0.0160460</td></tr>\n",
       "<tr><td>stdized_SensorMeasure20</td>\n",
       "<td>5631693.5</td>\n",
       "<td>0.0548852</td>\n",
       "<td>0.0138178</td></tr>\n",
       "<tr><td>stdized_SensorMeasure21</td>\n",
       "<td>5406277.0</td>\n",
       "<td>0.0526883</td>\n",
       "<td>0.0132648</td></tr>\n",
       "<tr><td>stdized_SensorMeasure10</td>\n",
       "<td>4379810.0</td>\n",
       "<td>0.0426846</td>\n",
       "<td>0.0107462</td></tr></table></div>"
      ],
      "text/plain": [
       "variable                 relative_importance    scaled_importance    percentage\n",
       "-----------------------  ---------------------  -------------------  ---------------\n",
       "stdized_SensorMeasure11  102608640.0            1.0                  0.251759095842\n",
       "stdized_SensorMeasure14  31405408.0             0.306069820241       0.0770558612085\n",
       "CountInMode1             30830854.0             0.300470350255       0.0756461437076\n",
       "stdized_SensorMeasure13  21343802.0             0.208011742481       0.0523688482116\n",
       "CountInMode4             20709766.0             0.201832574723       0.0508131865237\n",
       "---                      ---                    ---                  ---\n",
       "stdized_SensorMeasure7   7751859.5              0.0755478242378      0.019019851923\n",
       "stdized_SensorMeasure17  6539798.5              0.0637353589327      0.0160459563381\n",
       "stdized_SensorMeasure20  5631693.5              0.0548851782852      0.0138178428602\n",
       "stdized_SensorMeasure21  5406277.0              0.0526883213733      0.0132647641504\n",
       "stdized_SensorMeasure10  4379810.0              0.042684612134       0.0107462393572"
      ]
     },
     "metadata": {},
     "output_type": "display_data"
    },
    {
     "name": "stdout",
     "output_type": "stream",
     "text": [
      "\n",
      "See the whole table with table.as_data_frame()\n"
     ]
    },
    {
     "data": {
      "text/plain": []
     },
     "execution_count": 10,
     "metadata": {},
     "output_type": "execute_result"
    }
   ],
   "source": [
    "gbm_regressor"
   ]
  },
  {
   "cell_type": "markdown",
   "metadata": {},
   "source": [
    "## Prediction on the test data\n",
    "Using the best model from the grid search (using MSE)\n",
    "\n",
    "There is previous version of the work that uses the final scoring to pick the best model, this was kept simple on purpose."
   ]
  },
  {
   "cell_type": "code",
   "execution_count": 12,
   "metadata": {
    "collapsed": false
   },
   "outputs": [],
   "source": [
    "best_model = gbm_regressor"
   ]
  },
  {
   "cell_type": "markdown",
   "metadata": {},
   "source": [
    "# Prediction post processing\n",
    "Because these are linear dynamic systems, with the prior belief that after each operation the unit's remaining useful life decreases by one, a Kalman filter is used to post process and ensemble the data.\n",
    "\n",
    "### Signal processing using Kalman smoothing filter\n",
    "Kalman filters use the prior belief about the state of a system, and ensembles measurement of the next measured state and model of how the system evolves from prior state (physics!) to make an improved estimate of the current system state.  In the absense of having the 'physics' and knowledge about the sensors, here we estimate the parameters for the Kalman filter.  Kalman filters are like smoothers, but  use future state information in addition to prior state information.\n",
    "\n",
    "A visual introduction to Kalman filters is available at http://www.bzarg.com/p/how-a-kalman-filter-works-in-pictures/ .  A great hackers introduction to Kalman and Bayseian filters is at  https://github.com/rlabbe/Kalman-and-Bayesian-Filters-in-Python .\n",
    "\n",
    "<img src=\"cycle.png\">\n",
    "\n",
    "The hypothesis is that the state of the systems under consideration evolves in this time series manner and that remaining useful life decreases by 1 each operation. \n",
    "\n",
    "H2O now has Discrete Cosine Transforms (DCT) so those can be applied to data at scale in a distributed, in memory environment:  https://0xdata.atlassian.net/browse/PUBDEV-1865.  Also, see SciPy's signal and interpolation packages.\n",
    "\n",
    "(image courtesy of http://www.codeproject.com/Articles/865935/Object-Tracking-Kalman-Filter-with-Ease)"
   ]
  },
  {
   "cell_type": "markdown",
   "metadata": {},
   "source": [
    "### Use the main model and each cross validated model to build an ensemble of predictions"
   ]
  },
  {
   "cell_type": "code",
   "execution_count": 70,
   "metadata": {
    "collapsed": false
   },
   "outputs": [],
   "source": [
    "def sensor_preds(frame):\n",
    "    frame[\"predict\"] = ((frame[\"predict\"] < 0.).ifelse(0., frame[\"predict\"]))[0]\n",
    "    return frame\n",
    "\n",
    "models_for_pred = [best_model]+best_model.xvals\n",
    "preds = [ sensor_preds(model.predict(test)) for model in models_for_pred ]\n",
    "index = test[[\"UnitNumber\",\"Cycle\"]]\n",
    "for i,pred in enumerate(preds):\n",
    "    if i == 0:  # special handling for first model\n",
    "        predictions = index.cbind(preds[i])\n",
    "    else:\n",
    "        predictions = predictions.cbind(preds[i])\n",
    "\n",
    "predictions_df = predictions.as_data_frame(use_pandas=True)"
   ]
  },
  {
   "cell_type": "code",
   "execution_count": 71,
   "metadata": {
    "collapsed": false
   },
   "outputs": [],
   "source": [
    "# state is represented as [RUL, -1]\n",
    "n_dim_state=2\n",
    "n_dim_obs=len(preds)\n",
    "a_transition_matrix = np.array([[1,1],[0,1]]) # Dynamics take state of [RUL, -1] and transition to [RUL-1, -1]\n",
    "r_observation_covariance = np.diag( [ model.mse() for model in models_for_pred ] )\n",
    "h_observation_matrices = np.array([[1,0] for _ in models_for_pred])"
   ]
  },
  {
   "cell_type": "code",
   "execution_count": 72,
   "metadata": {
    "collapsed": false
   },
   "outputs": [],
   "source": [
    "import pykalman as pyk\n",
    "\n",
    "final_ensembled_preds = {}\n",
    "pred_cols = [ name for name in predictions_df.columns if \"predict\" in name]\n",
    "for unit in predictions_df.UnitNumber.unique():\n",
    "    preds_for_unit = predictions_df[ predictions_df.UnitNumber == unit ]\n",
    "    observations = preds_for_unit.as_matrix(pred_cols)\n",
    "    initial_state_mean = np.array( [np.mean(observations[0]),-1] )\n",
    "    kf = pyk.KalmanFilter(transition_matrices=a_transition_matrix,\\\n",
    "                          initial_state_mean=initial_state_mean,\\\n",
    "                          observation_covariance=r_observation_covariance,\\\n",
    "                          observation_matrices=h_observation_matrices,\\\n",
    "                          n_dim_state=n_dim_state, n_dim_obs=n_dim_obs)\n",
    "    mean,_ = kf.filter(observations)\n",
    "    final_ensembled_preds[unit] = mean"
   ]
  },
  {
   "cell_type": "code",
   "execution_count": 73,
   "metadata": {
    "collapsed": true
   },
   "outputs": [],
   "source": [
    "final_preds = { k:final_ensembled_preds[k][-1][0] for k in final_ensembled_preds.keys() }"
   ]
  },
  {
   "cell_type": "code",
   "execution_count": 74,
   "metadata": {
    "collapsed": false
   },
   "outputs": [],
   "source": [
    "final_preds_df = pd.DataFrame.from_dict(final_preds,orient='index')\n",
    "final_preds_df.columns = ['predicted']"
   ]
  },
  {
   "cell_type": "code",
   "execution_count": 75,
   "metadata": {
    "collapsed": false
   },
   "outputs": [
    {
     "data": {
      "text/plain": [
       "<matplotlib.axes._subplots.AxesSubplot at 0x10faee110>"
      ]
     },
     "execution_count": 75,
     "metadata": {},
     "output_type": "execute_result"
    },
    {
     "data": {
      "image/png": "[encoded data removed]",
      "text/plain": [
       "<matplotlib.figure.Figure at 0x10facfa90>"
      ]
     },
     "metadata": {},
     "output_type": "display_data"
    }
   ],
   "source": [
    "sns.tsplot(predictions_df[ predictions_df.UnitNumber == 2 ][\"predict\"])"
   ]
  },
  {
   "cell_type": "code",
   "execution_count": 76,
   "metadata": {
    "collapsed": false
   },
   "outputs": [
    {
     "data": {
      "text/plain": [
       "<matplotlib.axes._subplots.AxesSubplot at 0x10fd06f50>"
      ]
     },
     "execution_count": 76,
     "metadata": {},
     "output_type": "execute_result"
    },
    {
     "data": {
      "image/png": "[encoded data removed]",
      "text/plain": [
       "<matplotlib.figure.Figure at 0x10f5cfa50>"
      ]
     },
     "metadata": {},
     "output_type": "display_data"
    }
   ],
   "source": [
    "sns.tsplot(final_ensembled_preds[2].T[0])"
   ]
  },
  {
   "cell_type": "markdown",
   "metadata": {},
   "source": [
    "## Do final scoring on the test data"
   ]
  },
  {
   "cell_type": "code",
   "execution_count": 77,
   "metadata": {
    "collapsed": false
   },
   "outputs": [
    {
     "data": {
      "text/plain": [
       "2542.2908657117891"
      ]
     },
     "execution_count": 77,
     "metadata": {},
     "output_type": "execute_result"
    }
   ],
   "source": [
    "actual_RUL = pd.read_csv(\"RUL_FD004.txt\",header=None,names=[\"actual\"])\n",
    "actual_RUL.index = actual_RUL.index+1\n",
    "actual_preds = actual_RUL.join(final_preds_df)\n",
    "\n",
    "def score(x):\n",
    "    diff = x.predicted-x.actual\n",
    "    result = np.expm1(diff/-13.) if diff < 0. else np.expm1(diff/10.)\n",
    "    return result\n",
    "\n",
    "actual_preds[\"score\"] = actual_preds.apply(score, axis=1)\n",
    "sum(actual_preds.score)/len(actual_preds)"
   ]
  },
  {
   "cell_type": "code",
   "execution_count": 78,
   "metadata": {
    "collapsed": false
   },
   "outputs": [
    {
     "data": {
      "image/png": "[encoded data removed]",
      "text/plain": [
       "<matplotlib.figure.Figure at 0x10785ac50>"
      ]
     },
     "metadata": {},
     "output_type": "display_data"
    }
   ],
   "source": [
    "g = sns.regplot(\"actual\", \"predicted\", data=actual_preds, fit_reg=False)\n",
    "g.set(xlim=(0, 160), ylim=(0, 180));\n",
    "g.axes.plot((0, 160), (0, 160), c=\".2\", ls=\"--\");"
   ]
  },
  {
   "cell_type": "code",
   "execution_count": null,
   "metadata": {
    "collapsed": true
   },
   "outputs": [],
   "source": [
    "h2o.shutdown(prompt=False)"
   ]
  }
 ],
 "metadata": {
  "kernelspec": {
   "display_name": "Python 3",
   "language": "python",
   "name": "python3"
  },
  "language_info": {
   "codemirror_mode": {
    "name": "ipython",
    "version": 3
   },
   "file_extension": ".py",
   "mimetype": "text/x-python",
   "name": "python",
   "nbconvert_exporter": "python",
   "pygments_lexer": "ipython3",
   "version": "3.5.1"
  }
 },
 "nbformat": 4,
 "nbformat_minor": 0
}
