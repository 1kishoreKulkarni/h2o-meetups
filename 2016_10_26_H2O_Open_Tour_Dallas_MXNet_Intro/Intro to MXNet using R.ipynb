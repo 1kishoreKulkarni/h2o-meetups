{
 "cells": [
  {
   "cell_type": "markdown",
   "metadata": {},
   "source": [
    "### Deep learning with MXNet \n",
    "\n",
    "#### What is MXNet?\n",
    "\n",
    "MXNet is a deep learning framework designed for both efficiency and flexibility.\n",
    "\n",
    "The library is portable and lightweight, and it scales to multiple GPUs and multiple machines. \n",
    "\n",
    "Project’s GitHub: https://github.com/dmlc/mxnet\n",
    "\n",
    "#### Why MXNet?\n",
    "\n",
    "MXNet is a great tool for buidling neural nets and currently there are not many deep learning frameworks with GPU support you can use from R.\n",
    "\n",
    "#### What this notebook is about?\n",
    "\n",
    "In this notebook I'm going to show you how to build simple neural nets using MXNet. Instead of using well-known image datasets like MNIST, I will use data from financial domain to make task more intresting :)"
   ]
  },
  {
   "cell_type": "markdown",
   "metadata": {},
   "source": [
    "First of all let's load some packages we will need for future work."
   ]
  },
  {
   "cell_type": "code",
   "execution_count": 1,
   "metadata": {
    "collapsed": false
   },
   "outputs": [
    {
     "name": "stdout",
     "output_type": "stream",
     "text": [
      "\n",
      "The downloaded binary packages are in\n",
      "\t/var/folders/qt/prymr5xs3xld425ggh5ym4wm0000gn/T//Rtmp9BoADU/downloaded_packages\n",
      "\n",
      "The downloaded binary packages are in\n",
      "\t/var/folders/qt/prymr5xs3xld425ggh5ym4wm0000gn/T//Rtmp9BoADU/downloaded_packages\n"
     ]
    }
   ],
   "source": [
    "install.packages(\"drat\", repos=\"https://cran.rstudio.com\")\n",
    "drat:::addRepo(\"dmlc\")\n",
    "install.packages(\"mxnet\")"
   ]
  },
  {
   "cell_type": "code",
   "execution_count": 2,
   "metadata": {
    "collapsed": false
   },
   "outputs": [
    {
     "name": "stdout",
     "output_type": "stream",
     "text": [
      "\n",
      "The downloaded binary packages are in\n",
      "\t/var/folders/qt/prymr5xs3xld425ggh5ym4wm0000gn/T//Rtmp9BoADU/downloaded_packages\n",
      "\n",
      "The downloaded binary packages are in\n",
      "\t/var/folders/qt/prymr5xs3xld425ggh5ym4wm0000gn/T//Rtmp9BoADU/downloaded_packages\n",
      "\n",
      "The downloaded binary packages are in\n",
      "\t/var/folders/qt/prymr5xs3xld425ggh5ym4wm0000gn/T//Rtmp9BoADU/downloaded_packages\n",
      "\n",
      "The downloaded binary packages are in\n",
      "\t/var/folders/qt/prymr5xs3xld425ggh5ym4wm0000gn/T//Rtmp9BoADU/downloaded_packages\n",
      "\n",
      "The downloaded binary packages are in\n",
      "\t/var/folders/qt/prymr5xs3xld425ggh5ym4wm0000gn/T//Rtmp9BoADU/downloaded_packages\n"
     ]
    }
   ],
   "source": [
    "install.packages(\"DiagrammeRsvg\")\n",
    "install.packages(\"Metrics\")\n",
    "install.packages(\"ranger\")\n",
    "install.packages(\"caret\")\n",
    "install.packages(\"vtreat\")"
   ]
  },
  {
   "cell_type": "code",
   "execution_count": 3,
   "metadata": {
    "collapsed": false
   },
   "outputs": [
    {
     "name": "stderr",
     "output_type": "stream",
     "text": [
      "Loading required package: mxnet\n",
      "Loading required package: vtreat\n",
      "Loading required package: ranger\n",
      "Loading required package: caret\n",
      "Loading required package: lattice\n",
      "Loading required package: ggplot2\n",
      "Loading required package: Metrics\n"
     ]
    }
   ],
   "source": [
    "require(mxnet) # for buidling Neural Nets \n",
    "require(vtreat)# for data preprocessing\n",
    "require(ranger)# fast multi CPU random forest (our baseline model)\n",
    "require(caret) # for train/test split\n",
    "require(Metrics) #diffrent metrics (auc in our case)"
   ]
  },
  {
   "cell_type": "markdown",
   "metadata": {},
   "source": [
    "#### Dataset\n",
    "\n",
    "Our dataset comes from UCI Machine Learning repository. Here is the [link](http://archive.ics.uci.edu/ml/datasets/default+of+credit+card+clients).\n",
    "\n",
    "The original format is .xls so I changed it to CSV by removing first row from the file and converting it to CSV.\n",
    "\n",
    "Our goal will be to predict default of credit cards clients for the next month. A short data set description provided below:\n",
    "\n",
    "Size: 30K rows, 23 features (3 categorical, 20 numeric)\n",
    "\n",
    "* **default payment next month**: binary variable (Yes = 1, No = 0). \n",
    "* **LIMIT_BAL**: Amount of the given credit (NT dollar) \n",
    "* **SEX** : Gender (1 = male; 2 = female). \n",
    "* **EDUCATION** : Education (1 = graduate school; 2 = university; 3 = high school; 4 = others). \n",
    "* **MARRIAGE** : Marital status (1 = married; 2 = single; 3 = others). \n",
    "* **AGE** : Age (in years). \n",
    "* **PAY_0 - PAY_6**: History of past payment (from April to September, 2005) in months, so -1 = pay duly, 1 = payment delay for one month;. . .; 9 = payment delay for nine months and above\n",
    "* **BILL_AMT1 - BILL_AMT6** : Amount of bill statement (from April to September, 2005) \n",
    "* **PAY_AMT1 - PAY_AMT6** : Amount of previous payment (from April to September, 2005) \n",
    "\n",
    "We need convert 3 variabels to categorical (they encoded by integers), remove \"ID\" field and rename target variable."
   ]
  },
  {
   "cell_type": "code",
   "execution_count": 4,
   "metadata": {
    "collapsed": false
   },
   "outputs": [],
   "source": [
    "setwd(\"~/Desktop/Data/UCI_CCdefaults\")\n",
    "dataset <- read.csv(\"default of credit card clients.csv\")\n",
    "#convert to categical\n",
    "dataset$SEX <- as.factor(dataset$SEX)\n",
    "dataset$EDUCATION <- as.factor(dataset$EDUCATION)\n",
    "dataset$MARRIAGE <- as.factor(dataset$MARRIAGE)\n",
    "#rename target variable\n",
    "names(dataset)[names(dataset) == 'default.payment.next.month'] <- 'target'\n",
    "#remove ID from data\n",
    "dataset[,\"ID\"] <-NULL"
   ]
  },
  {
   "cell_type": "markdown",
   "metadata": {},
   "source": [
    "We splitting data into train and validation(test) parts in order to be able chack model's performance. I'm using _createDataPartition()_ function from _[caret](http://topepo.github.io/caret/index.html)_ package."
   ]
  },
  {
   "cell_type": "code",
   "execution_count": 5,
   "metadata": {
    "collapsed": true
   },
   "outputs": [],
   "source": [
    "set.seed(3456)\n",
    "testIndex <- createDataPartition(as.factor(dataset$target), times = 1, p = 0.2, list = F)\n",
    "dTrain <- dataset[-testIndex,]\n",
    "dTest <- dataset[testIndex,]"
   ]
  },
  {
   "cell_type": "markdown",
   "metadata": {},
   "source": [
    "#### Cleaning data and preparing it for MXNet\n",
    "\n",
    "Data cleaning process can be vary difficult and time consuming, to avoid this I'm going to use vtreat package which does exactly what I need:\n",
    "\n",
    "[vtreat](https://github.com/WinVector/vtreat) is an R data.frame processor/conditioner that prepares real-world data for predictive modeling in a statistically sound manner.\n",
    "\n",
    "The library is designed to produce a 'data.frame' that is entirely numeric and takes common precautions to guard against the following real world data issues:\n",
    "* Categorical variables with very many levels.\n",
    "* Rare categorical levels.\n",
    "* Novel categorical levels.\n",
    "* Missing/invalid values NA, NaN, +/- Inf.\n",
    "* Extreme values.\n",
    "* Constant and near-constant variables.\n",
    "* Need for estimated single-variable model effect sizes and significances.\n",
    "\n",
    "In short: vtreat is AWESOME!!! \n"
   ]
  },
  {
   "cell_type": "code",
   "execution_count": 6,
   "metadata": {
    "collapsed": true
   },
   "outputs": [],
   "source": [
    "yName <- 'target' # define target variable\n",
    "yTarget <- 1 # define level to be considered \"success\"\n",
    "varNames <- setdiff(names(dTrain),yName) # get variable names for vtreat\n",
    "\n",
    "set.seed(8765)\n",
    "treatmentsC <- designTreatmentsC(dTrain,varNames,yName,yTarget, verbose=FALSE)\n",
    "dTrainTreated <- prepare(treatmentsC,dTrain,pruneSig=c(),scale=TRUE)\n",
    "dTestTreated <- prepare(treatmentsC,dTest,pruneSig=c(),scale=TRUE)"
   ]
  },
  {
   "cell_type": "markdown",
   "metadata": {},
   "source": [
    "MXNet allows you to monitor net performance during training process by using pre-defined or custom metrics. MXNet does not have logLoss metric in R package, so I added my own in order to be able track it."
   ]
  },
  {
   "cell_type": "code",
   "execution_count": 7,
   "metadata": {
    "collapsed": false
   },
   "outputs": [],
   "source": [
    "mx.metric.mlogloss <- mx.metric.custom(\"mlogloss\", function(label, pred){\n",
    "    score <- -(label * log(pred) + (1 - label) * log(1 - pred))\n",
    "    score[label == pred] <- 0\n",
    "    score[is.nan(score)] <- Inf\n",
    "    return(mean(score))\n",
    "})"
   ]
  },
  {
   "cell_type": "markdown",
   "metadata": {},
   "source": [
    "The easiest way to build neural net in MXNet is by using **_mx.mlp()_** function. Basically it's a wrapper which build multi-layer perceptron (MLP) for you. \n",
    "\n",
    "This function allows you to build MLP pretty much in the same way as H2O. YOu can define how many layers and how many neurons per layer you would like to have. You also can specify dropout rate for the _last_ layer (and only for the last layer) as well as many other things like optimizer, activations, evaluation metric, etc.\n",
    "\n",
    "In our case I will build 4 layer MLP with 128 neurons for each layer, RELU will be our activation function. Adam will be an optimizer, we run our training process for 20 epochs using batch size of 256."
   ]
  },
  {
   "cell_type": "code",
   "execution_count": 8,
   "metadata": {
    "collapsed": false
   },
   "outputs": [
    {
     "name": "stdout",
     "output_type": "stream",
     "text": [
      "Start training with 1 devices\n",
      "[1] Train-mlogloss=0.484432607020532\n",
      "[2] Train-mlogloss=0.450422443085471\n",
      "[3] Train-mlogloss=0.444419767648091\n",
      "[4] Train-mlogloss=0.439558608846886\n",
      "[5] Train-mlogloss=0.437309859477733\n",
      "[6] Train-mlogloss=0.434940793689841\n",
      "[7] Train-mlogloss=0.433230154347481\n",
      "[8] Train-mlogloss=0.431733996033972\n",
      "[9] Train-mlogloss=0.430648501011328\n",
      "[10] Train-mlogloss=0.430082955654967\n",
      "[11] Train-mlogloss=0.42899153209709\n",
      "[12] Train-mlogloss=0.427946614787315\n",
      "[13] Train-mlogloss=0.427722135995491\n",
      "[14] Train-mlogloss=0.42743837289673\n",
      "[15] Train-mlogloss=0.427052213552287\n",
      "[16] Train-mlogloss=0.426828598140015\n",
      "[17] Train-mlogloss=0.42695100514335\n",
      "[18] Train-mlogloss=0.426270963319918\n",
      "[19] Train-mlogloss=0.425710349060679\n",
      "[20] Train-mlogloss=0.425194091092481\n"
     ]
    }
   ],
   "source": [
    "varNames <- setdiff(names(dTestTreated),yName) #get variables name for mx.mlp\n",
    "mx.set.seed(1234) # set random seed, MXNet has its own!!!\n",
    "\n",
    "model <- mx.mlp(data.matrix(dTrainTreated[,varNames]), # data\n",
    "                dTrainTreated[,\"target\"], # target variable\n",
    "                hidden_node=c(128,128,128,128), # number of hidden nodes per layer\n",
    "                activation = \"relu\", # activation function, \n",
    "                                     # can be a vector as well, \n",
    "                                     # like c(\"relu\",\"tanh\", \"tanh\")\n",
    "                out_node=1, # output node, 1 in our case (binary classification)\n",
    "                out_activation=\"logistic\", # can be \"rmse\" for regression \n",
    "                                           # or \"softmax\" for multiclassification\n",
    "                optimizer = \"adam\", # \"sgd\" by default, \n",
    "                                    # can be \"rmsprop\", \"adagrad\", \"adadelta\"\n",
    "                num.round=20, # number of epochs\n",
    "                array.batch.size=256, # batch size\n",
    "                learning.rate=0.01, # learning rate\n",
    "                device = mx.cpu(), # uses mx.cpu() by default, can use mx.gpu() for CUDA-enabled GPU\n",
    "                eval.metric=mx.metric.mlogloss, # LogLoss as evaluation metric\n",
    "                verbose = T, array.layout = \"rowmajor\")"
   ]
  },
  {
   "cell_type": "markdown",
   "metadata": {},
   "source": [
    "We can visualize our net \n",
    "\n",
    "\n",
    "_Note, from RStudio you just need to execute this command:_\n",
    "```S\n",
    "graph.viz(model$symbol$as.json(),graph.title.font.size = 15)\n",
    "```\n",
    "_The rest is just an attempt to visualize network in Jupyter Notebook_"
   ]
  },
  {
   "cell_type": "code",
   "execution_count": 9,
   "metadata": {
    "collapsed": false,
    "scrolled": false
   },
   "outputs": [
    {
     "data": {
      "text/html": [
       "<?xml version=\"1.0\" encoding=\"UTF-8\" standalone=\"no\"?>\n",
       "<!DOCTYPE svg PUBLIC \"-//W3C//DTD SVG 1.1//EN\"\n",
       " \"http://www.w3.org/Graphics/SVG/1.1/DTD/svg11.dtd\">\n",
       "<!-- Generated by graphviz version 2.38.0 (20140413.2041)\n",
       " -->\n",
       "<!-- Title: %3 Pages: 1 -->\n",
       "<svg width=\"166pt\" height=\"1079pt\"\n",
       " viewBox=\"0.00 0.00 165.53 1079.05\" xmlns=\"http://www.w3.org/2000/svg\" xmlns:xlink=\"http://www.w3.org/1999/xlink\">\n",
       "<g id=\"graph0\" class=\"graph\" transform=\"scale(1 1) rotate(0) translate(4 1075.05)\">\n",
       "<title>%3</title>\n",
       "<polygon fill=\"white\" stroke=\"none\" points=\"-4,4 -4,-1075.05 161.533,-1075.05 161.533,4 -4,4\"/>\n",
       "<text text-anchor=\"middle\" x=\"78.7665\" y=\"-1053.55\" font-family=\"Helvetica,sans-Serif\" font-size=\"15.00\">Computation graph</text>\n",
       "<!-- 0 -->\n",
       "<g id=\"node1\" class=\"node\"><title>0</title>\n",
       "<polygon fill=\"#8dd3c7\" stroke=\"black\" points=\"134.228,-1004.93 91.8593,-1004.93 78.7665,-1045.08 65.6737,-1004.93 23.3047,-1004.93 57.582,-980.121 44.4892,-939.973 78.7665,-964.786 113.044,-939.973 99.951,-980.121 134.228,-1004.93\"/>\n",
       "<text text-anchor=\"middle\" x=\"78.7665\" y=\"-988.327\" font-family=\"Times,serif\" font-size=\"14.00\">data</text>\n",
       "</g>\n",
       "<!-- 3 -->\n",
       "<g id=\"node2\" class=\"node\"><title>3</title>\n",
       "<polygon fill=\"#fb8072\" stroke=\"black\" points=\"131.702,-904 25.8308,-904 25.8308,-846 131.702,-846 131.702,-904\"/>\n",
       "<text text-anchor=\"middle\" x=\"78.7665\" y=\"-879.2\" font-family=\"Times,serif\" font-size=\"14.00\">FullyConnected</text>\n",
       "<text text-anchor=\"middle\" x=\"78.7665\" y=\"-862.4\" font-family=\"Times,serif\" font-size=\"14.00\">128</text>\n",
       "</g>\n",
       "<!-- 0&#45;&gt;3 -->\n",
       "<g id=\"edge10\" class=\"edge\"><title>0&#45;&gt;3</title>\n",
       "<path fill=\"none\" stroke=\"#333333\" d=\"M78.7665,-964.733C78.7665,-949.152 78.7665,-929.303 78.7665,-912.331\"/>\n",
       "<polygon fill=\"#333333\" stroke=\"#333333\" points=\"78.7665,-904.261 82.3666,-912.261 78.7665,-908.261 78.7666,-912.261 78.7666,-912.261 78.7666,-912.261 78.7665,-908.261 75.1666,-912.261 78.7665,-904.261 78.7665,-904.261\"/>\n",
       "</g>\n",
       "<!-- 4 -->\n",
       "<g id=\"node3\" class=\"node\"><title>4</title>\n",
       "<polygon fill=\"#ffffb3\" stroke=\"black\" points=\"125.767,-810 31.7665,-810 31.7665,-752 125.767,-752 125.767,-810\"/>\n",
       "<text text-anchor=\"middle\" x=\"78.7665\" y=\"-785.2\" font-family=\"Times,serif\" font-size=\"14.00\">Activation</text>\n",
       "<text text-anchor=\"middle\" x=\"78.7665\" y=\"-768.4\" font-family=\"Times,serif\" font-size=\"14.00\">relu</text>\n",
       "</g>\n",
       "<!-- 3&#45;&gt;4 -->\n",
       "<g id=\"edge9\" class=\"edge\"><title>3&#45;&gt;4</title>\n",
       "<path fill=\"none\" stroke=\"#333333\" d=\"M78.7665,-845.897C78.7665,-837.239 78.7665,-827.579 78.7665,-818.445\"/>\n",
       "<polygon fill=\"#333333\" stroke=\"#333333\" points=\"78.7665,-810.248 82.3666,-818.248 78.7665,-814.248 78.7666,-818.248 78.7666,-818.248 78.7666,-818.248 78.7665,-814.248 75.1666,-818.248 78.7665,-810.248 78.7665,-810.248\"/>\n",
       "</g>\n",
       "<!-- 7 -->\n",
       "<g id=\"node4\" class=\"node\"><title>7</title>\n",
       "<polygon fill=\"#fb8072\" stroke=\"black\" points=\"131.702,-716 25.8308,-716 25.8308,-658 131.702,-658 131.702,-716\"/>\n",
       "<text text-anchor=\"middle\" x=\"78.7665\" y=\"-691.2\" font-family=\"Times,serif\" font-size=\"14.00\">FullyConnected</text>\n",
       "<text text-anchor=\"middle\" x=\"78.7665\" y=\"-674.4\" font-family=\"Times,serif\" font-size=\"14.00\">128</text>\n",
       "</g>\n",
       "<!-- 4&#45;&gt;7 -->\n",
       "<g id=\"edge8\" class=\"edge\"><title>4&#45;&gt;7</title>\n",
       "<path fill=\"none\" stroke=\"#333333\" d=\"M78.7665,-751.897C78.7665,-743.239 78.7665,-733.579 78.7665,-724.445\"/>\n",
       "<polygon fill=\"#333333\" stroke=\"#333333\" points=\"78.7665,-716.248 82.3666,-724.248 78.7665,-720.248 78.7666,-724.248 78.7666,-724.248 78.7666,-724.248 78.7665,-720.248 75.1666,-724.248 78.7665,-716.248 78.7665,-716.248\"/>\n",
       "</g>\n",
       "<!-- 8 -->\n",
       "<g id=\"node5\" class=\"node\"><title>8</title>\n",
       "<polygon fill=\"#ffffb3\" stroke=\"black\" points=\"125.767,-622 31.7665,-622 31.7665,-564 125.767,-564 125.767,-622\"/>\n",
       "<text text-anchor=\"middle\" x=\"78.7665\" y=\"-597.2\" font-family=\"Times,serif\" font-size=\"14.00\">Activation</text>\n",
       "<text text-anchor=\"middle\" x=\"78.7665\" y=\"-580.4\" font-family=\"Times,serif\" font-size=\"14.00\">relu</text>\n",
       "</g>\n",
       "<!-- 7&#45;&gt;8 -->\n",
       "<g id=\"edge7\" class=\"edge\"><title>7&#45;&gt;8</title>\n",
       "<path fill=\"none\" stroke=\"#333333\" d=\"M78.7665,-657.897C78.7665,-649.239 78.7665,-639.579 78.7665,-630.445\"/>\n",
       "<polygon fill=\"#333333\" stroke=\"#333333\" points=\"78.7665,-622.248 82.3666,-630.248 78.7665,-626.248 78.7666,-630.248 78.7666,-630.248 78.7666,-630.248 78.7665,-626.248 75.1666,-630.248 78.7665,-622.248 78.7665,-622.248\"/>\n",
       "</g>\n",
       "<!-- 11 -->\n",
       "<g id=\"node6\" class=\"node\"><title>11</title>\n",
       "<polygon fill=\"#fb8072\" stroke=\"black\" points=\"131.702,-528 25.8308,-528 25.8308,-470 131.702,-470 131.702,-528\"/>\n",
       "<text text-anchor=\"middle\" x=\"78.7665\" y=\"-503.2\" font-family=\"Times,serif\" font-size=\"14.00\">FullyConnected</text>\n",
       "<text text-anchor=\"middle\" x=\"78.7665\" y=\"-486.4\" font-family=\"Times,serif\" font-size=\"14.00\">128</text>\n",
       "</g>\n",
       "<!-- 8&#45;&gt;11 -->\n",
       "<g id=\"edge6\" class=\"edge\"><title>8&#45;&gt;11</title>\n",
       "<path fill=\"none\" stroke=\"#333333\" d=\"M78.7665,-563.897C78.7665,-555.239 78.7665,-545.579 78.7665,-536.445\"/>\n",
       "<polygon fill=\"#333333\" stroke=\"#333333\" points=\"78.7665,-528.248 82.3666,-536.248 78.7665,-532.248 78.7666,-536.248 78.7666,-536.248 78.7666,-536.248 78.7665,-532.248 75.1666,-536.248 78.7665,-528.248 78.7665,-528.248\"/>\n",
       "</g>\n",
       "<!-- 12 -->\n",
       "<g id=\"node7\" class=\"node\"><title>12</title>\n",
       "<polygon fill=\"#ffffb3\" stroke=\"black\" points=\"125.767,-434 31.7665,-434 31.7665,-376 125.767,-376 125.767,-434\"/>\n",
       "<text text-anchor=\"middle\" x=\"78.7665\" y=\"-409.2\" font-family=\"Times,serif\" font-size=\"14.00\">Activation</text>\n",
       "<text text-anchor=\"middle\" x=\"78.7665\" y=\"-392.4\" font-family=\"Times,serif\" font-size=\"14.00\">relu</text>\n",
       "</g>\n",
       "<!-- 11&#45;&gt;12 -->\n",
       "<g id=\"edge5\" class=\"edge\"><title>11&#45;&gt;12</title>\n",
       "<path fill=\"none\" stroke=\"#333333\" d=\"M78.7665,-469.897C78.7665,-461.239 78.7665,-451.579 78.7665,-442.445\"/>\n",
       "<polygon fill=\"#333333\" stroke=\"#333333\" points=\"78.7665,-434.248 82.3666,-442.248 78.7665,-438.248 78.7666,-442.248 78.7666,-442.248 78.7666,-442.248 78.7665,-438.248 75.1666,-442.248 78.7665,-434.248 78.7665,-434.248\"/>\n",
       "</g>\n",
       "<!-- 15 -->\n",
       "<g id=\"node8\" class=\"node\"><title>15</title>\n",
       "<polygon fill=\"#fb8072\" stroke=\"black\" points=\"131.702,-340 25.8308,-340 25.8308,-282 131.702,-282 131.702,-340\"/>\n",
       "<text text-anchor=\"middle\" x=\"78.7665\" y=\"-315.2\" font-family=\"Times,serif\" font-size=\"14.00\">FullyConnected</text>\n",
       "<text text-anchor=\"middle\" x=\"78.7665\" y=\"-298.4\" font-family=\"Times,serif\" font-size=\"14.00\">128</text>\n",
       "</g>\n",
       "<!-- 12&#45;&gt;15 -->\n",
       "<g id=\"edge4\" class=\"edge\"><title>12&#45;&gt;15</title>\n",
       "<path fill=\"none\" stroke=\"#333333\" d=\"M78.7665,-375.897C78.7665,-367.239 78.7665,-357.579 78.7665,-348.445\"/>\n",
       "<polygon fill=\"#333333\" stroke=\"#333333\" points=\"78.7665,-340.248 82.3666,-348.248 78.7665,-344.248 78.7666,-348.248 78.7666,-348.248 78.7666,-348.248 78.7665,-344.248 75.1666,-348.248 78.7665,-340.248 78.7665,-340.248\"/>\n",
       "</g>\n",
       "<!-- 16 -->\n",
       "<g id=\"node9\" class=\"node\"><title>16</title>\n",
       "<polygon fill=\"#ffffb3\" stroke=\"black\" points=\"125.767,-246 31.7665,-246 31.7665,-188 125.767,-188 125.767,-246\"/>\n",
       "<text text-anchor=\"middle\" x=\"78.7665\" y=\"-221.2\" font-family=\"Times,serif\" font-size=\"14.00\">Activation</text>\n",
       "<text text-anchor=\"middle\" x=\"78.7665\" y=\"-204.4\" font-family=\"Times,serif\" font-size=\"14.00\">relu</text>\n",
       "</g>\n",
       "<!-- 15&#45;&gt;16 -->\n",
       "<g id=\"edge3\" class=\"edge\"><title>15&#45;&gt;16</title>\n",
       "<path fill=\"none\" stroke=\"#333333\" d=\"M78.7665,-281.897C78.7665,-273.239 78.7665,-263.579 78.7665,-254.445\"/>\n",
       "<polygon fill=\"#333333\" stroke=\"#333333\" points=\"78.7665,-246.248 82.3666,-254.248 78.7665,-250.248 78.7666,-254.248 78.7666,-254.248 78.7666,-254.248 78.7665,-250.248 75.1666,-254.248 78.7665,-246.248 78.7665,-246.248\"/>\n",
       "</g>\n",
       "<!-- 19 -->\n",
       "<g id=\"node10\" class=\"node\"><title>19</title>\n",
       "<polygon fill=\"#fb8072\" stroke=\"black\" points=\"131.702,-152 25.8308,-152 25.8308,-94 131.702,-94 131.702,-152\"/>\n",
       "<text text-anchor=\"middle\" x=\"78.7665\" y=\"-127.2\" font-family=\"Times,serif\" font-size=\"14.00\">FullyConnected</text>\n",
       "<text text-anchor=\"middle\" x=\"78.7665\" y=\"-110.4\" font-family=\"Times,serif\" font-size=\"14.00\">1</text>\n",
       "</g>\n",
       "<!-- 16&#45;&gt;19 -->\n",
       "<g id=\"edge2\" class=\"edge\"><title>16&#45;&gt;19</title>\n",
       "<path fill=\"none\" stroke=\"#333333\" d=\"M78.7665,-187.897C78.7665,-179.239 78.7665,-169.579 78.7665,-160.445\"/>\n",
       "<polygon fill=\"#333333\" stroke=\"#333333\" points=\"78.7665,-152.248 82.3666,-160.248 78.7665,-156.248 78.7666,-160.248 78.7666,-160.248 78.7666,-160.248 78.7665,-156.248 75.1666,-160.248 78.7665,-152.248 78.7665,-152.248\"/>\n",
       "</g>\n",
       "<!-- 21 -->\n",
       "<g id=\"node11\" class=\"node\"><title>21</title>\n",
       "<polygon fill=\"#fccde5\" stroke=\"black\" points=\"157.3,-58 0.23281,-58 0.23281,-0 157.3,-0 157.3,-58\"/>\n",
       "<text text-anchor=\"middle\" x=\"78.7665\" y=\"-24.8\" font-family=\"Times,serif\" font-size=\"14.00\">logisticregressionoutput0</text>\n",
       "</g>\n",
       "<!-- 19&#45;&gt;21 -->\n",
       "<g id=\"edge1\" class=\"edge\"><title>19&#45;&gt;21</title>\n",
       "<path fill=\"none\" stroke=\"#333333\" d=\"M78.7665,-93.8971C78.7665,-85.2391 78.7665,-75.579 78.7665,-66.4448\"/>\n",
       "<polygon fill=\"#333333\" stroke=\"#333333\" points=\"78.7665,-58.2479 82.3666,-66.2478 78.7665,-62.2479 78.7666,-66.2479 78.7666,-66.2479 78.7666,-66.2479 78.7665,-62.2479 75.1666,-66.2479 78.7665,-58.2479 78.7665,-58.2479\"/>\n",
       "</g>\n",
       "</g>\n",
       "</svg>\n"
      ]
     },
     "metadata": {},
     "output_type": "display_data"
    },
    {
     "name": "stdout",
     "output_type": "stream",
     "text": [
      "pre-main prep time: 1 ms\n"
     ]
    }
   ],
   "source": [
    "IRdisplay::display_html(DiagrammeRsvg::export_svg(graph.viz(model$symbol$as.json(),graph.title.font.size = 15)))"
   ]
  },
  {
   "cell_type": "markdown",
   "metadata": {},
   "source": [
    "Now we have a trained neural net (MLP) and we can validate it's performance on test set."
   ]
  },
  {
   "cell_type": "code",
   "execution_count": 10,
   "metadata": {
    "collapsed": false
   },
   "outputs": [],
   "source": [
    "preds = t(predict(model, data.matrix(dTestTreated[,varNames]), \n",
    "                  array.layout = \"rowmajor\"))\n",
    "auc_nn <- auc(dTestTreated[,\"target\"], preds[,1])\n",
    "logloss_nn <-logLoss(dTestTreated[,\"target\"], preds[,1])"
   ]
  },
  {
   "cell_type": "markdown",
   "metadata": {},
   "source": [
    "As a baseline model I'm going to use random forest with 500 trees from _[ranger](https://cran.r-project.org/web/packages/ranger/index.html)_ package."
   ]
  },
  {
   "cell_type": "code",
   "execution_count": 11,
   "metadata": {
    "collapsed": true
   },
   "outputs": [],
   "source": [
    "set.seed(42)\n",
    "rf <- ranger(as.factor(target) ~., data = dTrain, probability = T)\n",
    "rf_preds <- predict(rf, dTest)$predictions\n",
    "auc_rf <- auc(dTestTreated[,\"target\"], rf_preds[,2])\n",
    "logloss_rf <- logLoss(dTestTreated[,\"target\"], rf_preds[,2])"
   ]
  },
  {
   "cell_type": "code",
   "execution_count": 12,
   "metadata": {
    "collapsed": false
   },
   "outputs": [
    {
     "data": {
      "text/html": [
       "<table>\n",
       "<thead><tr><th></th><th scope=col>model</th><th scope=col>logloss</th><th scope=col>AUC</th></tr></thead>\n",
       "<tbody>\n",
       "\t<tr><th scope=row>2</th><td>Baseline (randomForest)   </td><td>0.4318725                 </td><td>0.7770181                 </td></tr>\n",
       "\t<tr><th scope=row>1</th><td>MXNet ver 1.0 using mx.mlp</td><td>0.4332011                 </td><td>0.7832295                 </td></tr>\n",
       "</tbody>\n",
       "</table>\n"
      ],
      "text/latex": [
       "\\begin{tabular}{r|lll}\n",
       "  & model & logloss & AUC\\\\\n",
       "\\hline\n",
       "\t2 & Baseline (randomForest)    & 0.4318725                  & 0.7770181                 \\\\\n",
       "\t1 & MXNet ver 1.0 using mx.mlp & 0.4332011                  & 0.7832295                 \\\\\n",
       "\\end{tabular}\n"
      ],
      "text/plain": [
       "  model                      logloss   AUC      \n",
       "2 Baseline (randomForest)    0.4318725 0.7770181\n",
       "1 MXNet ver 1.0 using mx.mlp 0.4332011 0.7832295"
      ]
     },
     "metadata": {},
     "output_type": "display_data"
    }
   ],
   "source": [
    "results <- data.frame(model = \"MXNet ver 1.0 using mx.mlp\", logloss = logloss_nn, AUC = auc_nn)\n",
    "results <- rbind(results, data.frame(model = \"Baseline (randomForest)\", logloss = logloss_rf, AUC = auc_rf))\n",
    "results[order(as.character(results$model)),]"
   ]
  },
  {
   "cell_type": "markdown",
   "metadata": {},
   "source": [
    "As you can see our model does pretty good compare to a baseline. It was able to produce better AUC score but worse logloss."
   ]
  },
  {
   "cell_type": "markdown",
   "metadata": {},
   "source": [
    "#### Building your own net\n",
    "\n",
    "As you might notice by using ***mx.mlp()*** we having a lot of limitations, like we can't using dropout for any layer except the last one. Also there is no way to add some additional layers (like BatchNorm, always wanted do to that for MLP).\n",
    "\n",
    "If we need the full flexibility we can think of neural net as some sort of connected graph. And MXNet allows you to build such graph by youself. Lewt's try to build the very same network using symbolic capabilities of MXNet."
   ]
  },
  {
   "cell_type": "code",
   "execution_count": 13,
   "metadata": {
    "collapsed": true
   },
   "outputs": [],
   "source": [
    "data <- mx.symbol.Variable('data')\n",
    "fc1  <- mx.symbol.FullyConnected(data = data, name = 'fc1', num_hidden = 128)\n",
    "act1 <- mx.symbol.Activation(data = fc1, name = 'relu1', act_type = \"relu\")\n",
    "\n",
    "fc2  <- mx.symbol.FullyConnected(data = act1, name = 'fc2', num_hidden = 128)\n",
    "act2 <- mx.symbol.Activation(data = fc2, name = 'relu2', act_type = \"relu\")\n",
    "\n",
    "fc3 <- mx.symbol.FullyConnected(data = act2, name = 'fc3', num_hidden = 128)\n",
    "act3 <- mx.symbol.Activation(data = fc3, name = 'relu3', act_type = \"relu\")\n",
    "\n",
    "fc4  <- mx.symbol.FullyConnected(data = act3, name = 'fc4', num_hidden = 128)\n",
    "act4 <- mx.symbol.Activation(data = fc4, name = 'relu4', act_type = \"relu\")\n",
    "\n",
    "fc5  <- mx.symbol.FullyConnected(data = act4, name = 'fc5', num_hidden = 1)\n",
    "mlp2  <- mx.symbol.LogisticRegressionOutput(data = fc5, name = 'logistic')"
   ]
  },
  {
   "cell_type": "markdown",
   "metadata": {},
   "source": [
    "After we define the graph we need to run training process with help of ***FeedForward.create()*** function."
   ]
  },
  {
   "cell_type": "code",
   "execution_count": 14,
   "metadata": {
    "collapsed": false
   },
   "outputs": [
    {
     "name": "stdout",
     "output_type": "stream",
     "text": [
      "Start training with 1 devices\n",
      "[1] Train-mlogloss=0.484432607020532\n",
      "[2] Train-mlogloss=0.450422443085471\n",
      "[3] Train-mlogloss=0.444419767648091\n",
      "[4] Train-mlogloss=0.439558608846886\n",
      "[5] Train-mlogloss=0.437309859477733\n",
      "[6] Train-mlogloss=0.434940793689841\n",
      "[7] Train-mlogloss=0.433230154347481\n",
      "[8] Train-mlogloss=0.431733996033972\n",
      "[9] Train-mlogloss=0.430648501011328\n",
      "[10] Train-mlogloss=0.430082955654967\n",
      "[11] Train-mlogloss=0.42899153209709\n",
      "[12] Train-mlogloss=0.427946614787315\n",
      "[13] Train-mlogloss=0.427722135995491\n",
      "[14] Train-mlogloss=0.42743837289673\n",
      "[15] Train-mlogloss=0.427052213552287\n",
      "[16] Train-mlogloss=0.426828598140015\n",
      "[17] Train-mlogloss=0.42695100514335\n",
      "[18] Train-mlogloss=0.426270963319918\n",
      "[19] Train-mlogloss=0.425710349060679\n",
      "[20] Train-mlogloss=0.425194091092481\n"
     ]
    }
   ],
   "source": [
    "mx.set.seed(1234)\n",
    "model2 <- mx.model.FeedForward.create(\n",
    "  X                 = data.matrix(dTrainTreated[,varNames]),\n",
    "  y                 = dTrainTreated[,\"target\"],\n",
    "  optimizer         = \"adam\",\n",
    "  ctx               = mx.cpu(),\n",
    "  symbol            = mlp2,\n",
    "  eval.metric       = mx.metric.mlogloss,\n",
    "  num.round         = 20,\n",
    "  learning.rate     = 0.01,\n",
    "  array.batch.size  = 256,\n",
    "  verbose = T, array.layout = \"rowmajor\"\n",
    ")"
   ]
  },
  {
   "cell_type": "markdown",
   "metadata": {},
   "source": [
    "If I visualize this net you will see that it's completely the same as net generated by *mx.mlp()*"
   ]
  },
  {
   "cell_type": "code",
   "execution_count": 15,
   "metadata": {
    "collapsed": false,
    "scrolled": true
   },
   "outputs": [
    {
     "data": {
      "text/html": [
       "<?xml version=\"1.0\" encoding=\"UTF-8\" standalone=\"no\"?>\n",
       "<!DOCTYPE svg PUBLIC \"-//W3C//DTD SVG 1.1//EN\"\n",
       " \"http://www.w3.org/Graphics/SVG/1.1/DTD/svg11.dtd\">\n",
       "<!-- Generated by graphviz version 2.38.0 (20140413.2041)\n",
       " -->\n",
       "<!-- Title: %3 Pages: 1 -->\n",
       "<svg width=\"152pt\" height=\"1079pt\"\n",
       " viewBox=\"0.00 0.00 151.53 1079.05\" xmlns=\"http://www.w3.org/2000/svg\" xmlns:xlink=\"http://www.w3.org/1999/xlink\">\n",
       "<g id=\"graph0\" class=\"graph\" transform=\"scale(1 1) rotate(0) translate(4 1075.05)\">\n",
       "<title>%3</title>\n",
       "<polygon fill=\"white\" stroke=\"none\" points=\"-4,4 -4,-1075.05 147.534,-1075.05 147.534,4 -4,4\"/>\n",
       "<text text-anchor=\"middle\" x=\"71.7672\" y=\"-1053.55\" font-family=\"Helvetica,sans-Serif\" font-size=\"15.00\">Computation graph</text>\n",
       "<!-- 0 -->\n",
       "<g id=\"node1\" class=\"node\"><title>0</title>\n",
       "<polygon fill=\"#8dd3c7\" stroke=\"black\" points=\"127.229,-1004.93 84.86,-1004.93 71.7672,-1045.08 58.6745,-1004.93 16.3055,-1004.93 50.5827,-980.121 37.49,-939.973 71.7672,-964.786 106.045,-939.973 92.9518,-980.121 127.229,-1004.93\"/>\n",
       "<text text-anchor=\"middle\" x=\"71.7672\" y=\"-988.327\" font-family=\"Times,serif\" font-size=\"14.00\">data</text>\n",
       "</g>\n",
       "<!-- 3 -->\n",
       "<g id=\"node2\" class=\"node\"><title>3</title>\n",
       "<polygon fill=\"#fb8072\" stroke=\"black\" points=\"124.703,-904 18.8315,-904 18.8315,-846 124.703,-846 124.703,-904\"/>\n",
       "<text text-anchor=\"middle\" x=\"71.7672\" y=\"-879.2\" font-family=\"Times,serif\" font-size=\"14.00\">FullyConnected</text>\n",
       "<text text-anchor=\"middle\" x=\"71.7672\" y=\"-862.4\" font-family=\"Times,serif\" font-size=\"14.00\">128</text>\n",
       "</g>\n",
       "<!-- 0&#45;&gt;3 -->\n",
       "<g id=\"edge10\" class=\"edge\"><title>0&#45;&gt;3</title>\n",
       "<path fill=\"none\" stroke=\"#333333\" d=\"M71.7672,-964.733C71.7672,-949.152 71.7672,-929.303 71.7672,-912.331\"/>\n",
       "<polygon fill=\"#333333\" stroke=\"#333333\" points=\"71.7672,-904.261 75.3673,-912.261 71.7673,-908.261 71.7673,-912.261 71.7673,-912.261 71.7673,-912.261 71.7673,-908.261 68.1673,-912.261 71.7672,-904.261 71.7672,-904.261\"/>\n",
       "</g>\n",
       "<!-- 4 -->\n",
       "<g id=\"node3\" class=\"node\"><title>4</title>\n",
       "<polygon fill=\"#ffffb3\" stroke=\"black\" points=\"118.767,-810 24.7672,-810 24.7672,-752 118.767,-752 118.767,-810\"/>\n",
       "<text text-anchor=\"middle\" x=\"71.7672\" y=\"-785.2\" font-family=\"Times,serif\" font-size=\"14.00\">Activation</text>\n",
       "<text text-anchor=\"middle\" x=\"71.7672\" y=\"-768.4\" font-family=\"Times,serif\" font-size=\"14.00\">relu</text>\n",
       "</g>\n",
       "<!-- 3&#45;&gt;4 -->\n",
       "<g id=\"edge9\" class=\"edge\"><title>3&#45;&gt;4</title>\n",
       "<path fill=\"none\" stroke=\"#333333\" d=\"M71.7672,-845.897C71.7672,-837.239 71.7672,-827.579 71.7672,-818.445\"/>\n",
       "<polygon fill=\"#333333\" stroke=\"#333333\" points=\"71.7672,-810.248 75.3673,-818.248 71.7673,-814.248 71.7673,-818.248 71.7673,-818.248 71.7673,-818.248 71.7673,-814.248 68.1673,-818.248 71.7672,-810.248 71.7672,-810.248\"/>\n",
       "</g>\n",
       "<!-- 7 -->\n",
       "<g id=\"node4\" class=\"node\"><title>7</title>\n",
       "<polygon fill=\"#fb8072\" stroke=\"black\" points=\"124.703,-716 18.8315,-716 18.8315,-658 124.703,-658 124.703,-716\"/>\n",
       "<text text-anchor=\"middle\" x=\"71.7672\" y=\"-691.2\" font-family=\"Times,serif\" font-size=\"14.00\">FullyConnected</text>\n",
       "<text text-anchor=\"middle\" x=\"71.7672\" y=\"-674.4\" font-family=\"Times,serif\" font-size=\"14.00\">128</text>\n",
       "</g>\n",
       "<!-- 4&#45;&gt;7 -->\n",
       "<g id=\"edge8\" class=\"edge\"><title>4&#45;&gt;7</title>\n",
       "<path fill=\"none\" stroke=\"#333333\" d=\"M71.7672,-751.897C71.7672,-743.239 71.7672,-733.579 71.7672,-724.445\"/>\n",
       "<polygon fill=\"#333333\" stroke=\"#333333\" points=\"71.7672,-716.248 75.3673,-724.248 71.7673,-720.248 71.7673,-724.248 71.7673,-724.248 71.7673,-724.248 71.7673,-720.248 68.1673,-724.248 71.7672,-716.248 71.7672,-716.248\"/>\n",
       "</g>\n",
       "<!-- 8 -->\n",
       "<g id=\"node5\" class=\"node\"><title>8</title>\n",
       "<polygon fill=\"#ffffb3\" stroke=\"black\" points=\"118.767,-622 24.7672,-622 24.7672,-564 118.767,-564 118.767,-622\"/>\n",
       "<text text-anchor=\"middle\" x=\"71.7672\" y=\"-597.2\" font-family=\"Times,serif\" font-size=\"14.00\">Activation</text>\n",
       "<text text-anchor=\"middle\" x=\"71.7672\" y=\"-580.4\" font-family=\"Times,serif\" font-size=\"14.00\">relu</text>\n",
       "</g>\n",
       "<!-- 7&#45;&gt;8 -->\n",
       "<g id=\"edge7\" class=\"edge\"><title>7&#45;&gt;8</title>\n",
       "<path fill=\"none\" stroke=\"#333333\" d=\"M71.7672,-657.897C71.7672,-649.239 71.7672,-639.579 71.7672,-630.445\"/>\n",
       "<polygon fill=\"#333333\" stroke=\"#333333\" points=\"71.7672,-622.248 75.3673,-630.248 71.7673,-626.248 71.7673,-630.248 71.7673,-630.248 71.7673,-630.248 71.7673,-626.248 68.1673,-630.248 71.7672,-622.248 71.7672,-622.248\"/>\n",
       "</g>\n",
       "<!-- 11 -->\n",
       "<g id=\"node6\" class=\"node\"><title>11</title>\n",
       "<polygon fill=\"#fb8072\" stroke=\"black\" points=\"124.703,-528 18.8315,-528 18.8315,-470 124.703,-470 124.703,-528\"/>\n",
       "<text text-anchor=\"middle\" x=\"71.7672\" y=\"-503.2\" font-family=\"Times,serif\" font-size=\"14.00\">FullyConnected</text>\n",
       "<text text-anchor=\"middle\" x=\"71.7672\" y=\"-486.4\" font-family=\"Times,serif\" font-size=\"14.00\">128</text>\n",
       "</g>\n",
       "<!-- 8&#45;&gt;11 -->\n",
       "<g id=\"edge6\" class=\"edge\"><title>8&#45;&gt;11</title>\n",
       "<path fill=\"none\" stroke=\"#333333\" d=\"M71.7672,-563.897C71.7672,-555.239 71.7672,-545.579 71.7672,-536.445\"/>\n",
       "<polygon fill=\"#333333\" stroke=\"#333333\" points=\"71.7672,-528.248 75.3673,-536.248 71.7673,-532.248 71.7673,-536.248 71.7673,-536.248 71.7673,-536.248 71.7673,-532.248 68.1673,-536.248 71.7672,-528.248 71.7672,-528.248\"/>\n",
       "</g>\n",
       "<!-- 12 -->\n",
       "<g id=\"node7\" class=\"node\"><title>12</title>\n",
       "<polygon fill=\"#ffffb3\" stroke=\"black\" points=\"118.767,-434 24.7672,-434 24.7672,-376 118.767,-376 118.767,-434\"/>\n",
       "<text text-anchor=\"middle\" x=\"71.7672\" y=\"-409.2\" font-family=\"Times,serif\" font-size=\"14.00\">Activation</text>\n",
       "<text text-anchor=\"middle\" x=\"71.7672\" y=\"-392.4\" font-family=\"Times,serif\" font-size=\"14.00\">relu</text>\n",
       "</g>\n",
       "<!-- 11&#45;&gt;12 -->\n",
       "<g id=\"edge5\" class=\"edge\"><title>11&#45;&gt;12</title>\n",
       "<path fill=\"none\" stroke=\"#333333\" d=\"M71.7672,-469.897C71.7672,-461.239 71.7672,-451.579 71.7672,-442.445\"/>\n",
       "<polygon fill=\"#333333\" stroke=\"#333333\" points=\"71.7672,-434.248 75.3673,-442.248 71.7673,-438.248 71.7673,-442.248 71.7673,-442.248 71.7673,-442.248 71.7673,-438.248 68.1673,-442.248 71.7672,-434.248 71.7672,-434.248\"/>\n",
       "</g>\n",
       "<!-- 15 -->\n",
       "<g id=\"node8\" class=\"node\"><title>15</title>\n",
       "<polygon fill=\"#fb8072\" stroke=\"black\" points=\"124.703,-340 18.8315,-340 18.8315,-282 124.703,-282 124.703,-340\"/>\n",
       "<text text-anchor=\"middle\" x=\"71.7672\" y=\"-315.2\" font-family=\"Times,serif\" font-size=\"14.00\">FullyConnected</text>\n",
       "<text text-anchor=\"middle\" x=\"71.7672\" y=\"-298.4\" font-family=\"Times,serif\" font-size=\"14.00\">128</text>\n",
       "</g>\n",
       "<!-- 12&#45;&gt;15 -->\n",
       "<g id=\"edge4\" class=\"edge\"><title>12&#45;&gt;15</title>\n",
       "<path fill=\"none\" stroke=\"#333333\" d=\"M71.7672,-375.897C71.7672,-367.239 71.7672,-357.579 71.7672,-348.445\"/>\n",
       "<polygon fill=\"#333333\" stroke=\"#333333\" points=\"71.7672,-340.248 75.3673,-348.248 71.7673,-344.248 71.7673,-348.248 71.7673,-348.248 71.7673,-348.248 71.7673,-344.248 68.1673,-348.248 71.7672,-340.248 71.7672,-340.248\"/>\n",
       "</g>\n",
       "<!-- 16 -->\n",
       "<g id=\"node9\" class=\"node\"><title>16</title>\n",
       "<polygon fill=\"#ffffb3\" stroke=\"black\" points=\"118.767,-246 24.7672,-246 24.7672,-188 118.767,-188 118.767,-246\"/>\n",
       "<text text-anchor=\"middle\" x=\"71.7672\" y=\"-221.2\" font-family=\"Times,serif\" font-size=\"14.00\">Activation</text>\n",
       "<text text-anchor=\"middle\" x=\"71.7672\" y=\"-204.4\" font-family=\"Times,serif\" font-size=\"14.00\">relu</text>\n",
       "</g>\n",
       "<!-- 15&#45;&gt;16 -->\n",
       "<g id=\"edge3\" class=\"edge\"><title>15&#45;&gt;16</title>\n",
       "<path fill=\"none\" stroke=\"#333333\" d=\"M71.7672,-281.897C71.7672,-273.239 71.7672,-263.579 71.7672,-254.445\"/>\n",
       "<polygon fill=\"#333333\" stroke=\"#333333\" points=\"71.7672,-246.248 75.3673,-254.248 71.7673,-250.248 71.7673,-254.248 71.7673,-254.248 71.7673,-254.248 71.7673,-250.248 68.1673,-254.248 71.7672,-246.248 71.7672,-246.248\"/>\n",
       "</g>\n",
       "<!-- 19 -->\n",
       "<g id=\"node10\" class=\"node\"><title>19</title>\n",
       "<polygon fill=\"#fb8072\" stroke=\"black\" points=\"124.703,-152 18.8315,-152 18.8315,-94 124.703,-94 124.703,-152\"/>\n",
       "<text text-anchor=\"middle\" x=\"71.7672\" y=\"-127.2\" font-family=\"Times,serif\" font-size=\"14.00\">FullyConnected</text>\n",
       "<text text-anchor=\"middle\" x=\"71.7672\" y=\"-110.4\" font-family=\"Times,serif\" font-size=\"14.00\">1</text>\n",
       "</g>\n",
       "<!-- 16&#45;&gt;19 -->\n",
       "<g id=\"edge2\" class=\"edge\"><title>16&#45;&gt;19</title>\n",
       "<path fill=\"none\" stroke=\"#333333\" d=\"M71.7672,-187.897C71.7672,-179.239 71.7672,-169.579 71.7672,-160.445\"/>\n",
       "<polygon fill=\"#333333\" stroke=\"#333333\" points=\"71.7672,-152.248 75.3673,-160.248 71.7673,-156.248 71.7673,-160.248 71.7673,-160.248 71.7673,-160.248 71.7673,-156.248 68.1673,-160.248 71.7672,-152.248 71.7672,-152.248\"/>\n",
       "</g>\n",
       "<!-- 21 -->\n",
       "<g id=\"node11\" class=\"node\"><title>21</title>\n",
       "<polygon fill=\"#fccde5\" stroke=\"black\" points=\"118.767,-58 24.7672,-58 24.7672,-0 118.767,-0 118.767,-58\"/>\n",
       "<text text-anchor=\"middle\" x=\"71.7672\" y=\"-24.8\" font-family=\"Times,serif\" font-size=\"14.00\">logistic</text>\n",
       "</g>\n",
       "<!-- 19&#45;&gt;21 -->\n",
       "<g id=\"edge1\" class=\"edge\"><title>19&#45;&gt;21</title>\n",
       "<path fill=\"none\" stroke=\"#333333\" d=\"M71.7672,-93.8971C71.7672,-85.2391 71.7672,-75.579 71.7672,-66.4448\"/>\n",
       "<polygon fill=\"#333333\" stroke=\"#333333\" points=\"71.7672,-58.2479 75.3673,-66.2478 71.7673,-62.2479 71.7673,-66.2479 71.7673,-66.2479 71.7673,-66.2479 71.7673,-62.2479 68.1673,-66.2479 71.7672,-58.2479 71.7672,-58.2479\"/>\n",
       "</g>\n",
       "</g>\n",
       "</svg>\n"
      ]
     },
     "metadata": {},
     "output_type": "display_data"
    },
    {
     "name": "stdout",
     "output_type": "stream",
     "text": [
      "pre-main prep time: 0 ms\n"
     ]
    }
   ],
   "source": [
    "IRdisplay::display_html(DiagrammeRsvg::export_svg(graph.viz(model2$symbol$as.json(),graph.title.font.size = 15)))"
   ]
  },
  {
   "cell_type": "markdown",
   "metadata": {},
   "source": [
    "Let's check it's performance"
   ]
  },
  {
   "cell_type": "code",
   "execution_count": 16,
   "metadata": {
    "collapsed": true
   },
   "outputs": [],
   "source": [
    "preds2 = t(predict(model2, data.matrix(dTestTreated[,varNames]), \n",
    "                  array.layout = \"rowmajor\"))\n",
    "auc_nn2 <- auc(dTestTreated[,\"target\"], preds[,1])\n",
    "logloss_nn2 <-logLoss(dTestTreated[,\"target\"], preds[,1])"
   ]
  },
  {
   "cell_type": "code",
   "execution_count": 17,
   "metadata": {
    "collapsed": false
   },
   "outputs": [
    {
     "data": {
      "text/html": [
       "<table>\n",
       "<thead><tr><th></th><th scope=col>model</th><th scope=col>logloss</th><th scope=col>AUC</th></tr></thead>\n",
       "<tbody>\n",
       "\t<tr><th scope=row>2</th><td>Baseline (randomForest)   </td><td>0.4318725                 </td><td>0.7770181                 </td></tr>\n",
       "\t<tr><th scope=row>3</th><td>MXNet ver 1.0 using graph </td><td>0.4332011                 </td><td>0.7832295                 </td></tr>\n",
       "\t<tr><th scope=row>1</th><td>MXNet ver 1.0 using mx.mlp</td><td>0.4332011                 </td><td>0.7832295                 </td></tr>\n",
       "</tbody>\n",
       "</table>\n"
      ],
      "text/latex": [
       "\\begin{tabular}{r|lll}\n",
       "  & model & logloss & AUC\\\\\n",
       "\\hline\n",
       "\t2 & Baseline (randomForest)    & 0.4318725                  & 0.7770181                 \\\\\n",
       "\t3 & MXNet ver 1.0 using graph  & 0.4332011                  & 0.7832295                 \\\\\n",
       "\t1 & MXNet ver 1.0 using mx.mlp & 0.4332011                  & 0.7832295                 \\\\\n",
       "\\end{tabular}\n"
      ],
      "text/plain": [
       "  model                      logloss   AUC      \n",
       "2 Baseline (randomForest)    0.4318725 0.7770181\n",
       "3 MXNet ver 1.0 using graph  0.4332011 0.7832295\n",
       "1 MXNet ver 1.0 using mx.mlp 0.4332011 0.7832295"
      ]
     },
     "metadata": {},
     "output_type": "display_data"
    }
   ],
   "source": [
    "results <- rbind(results, data.frame(model = \"MXNet ver 1.0 using graph\", logloss = logloss_nn2, AUC = auc_nn2))\n",
    "results[order(as.character(results$model)),]"
   ]
  },
  {
   "cell_type": "markdown",
   "metadata": {},
   "source": [
    "Yep, results are completely the same"
   ]
  },
  {
   "cell_type": "markdown",
   "metadata": {},
   "source": [
    "Now, let's constract something interesting using this approach.\n",
    "\n",
    "I'm reducing amount of fully-connected layers from 4 to 2.\n",
    "\n",
    "Adding dropout after input layer with a relatevely small probability value, sometimes it might be helpful if input is noisy. \n",
    "\n",
    "Also, I always wanted to use BatchNorm for MLP, so I'm adding a BatchNorm layer after each fully connected but before activation layer. To learn more about Batch normalization use this [link](https://www.quora.com/Why-does-batch-normalization-help)\n",
    "\n",
    "And the last thing let's connect our fully connected layers in some fancy fashion :) I'm going to use ResNet-like approach for that. Have no idea how it is going to work and odes it make any sense. Basically I'm also connecting output of activation layer 1 with output of fully-connected layer 2 via sum operation. "
   ]
  },
  {
   "cell_type": "code",
   "execution_count": 18,
   "metadata": {
    "collapsed": true
   },
   "outputs": [],
   "source": [
    "data <- mx.symbol.Variable('data')\n",
    "dr0 = mx.symbol.Dropout(data = data, p = 0.1)\n",
    "fc1  <- mx.symbol.FullyConnected(data = dr0, name = 'fc1', num_hidden = 128)\n",
    "bn1 <- mx.symbol.BatchNorm(data = fc1, name = 'bn1')\n",
    "act1 <- mx.symbol.Activation(data = bn1, name = 'relu1', act_type = \"relu\")\n",
    "\n",
    "fc2 <- mx.symbol.FullyConnected(data = act1, name = 'fc2', num_hidden = 128)\n",
    "resid <- act1 + fc2\n",
    "bn2 <- mx.symbol.BatchNorm(data = resid, name = 'bn2')\n",
    "act2 <- mx.symbol.Activation(data = bn2, name = 'relu2', act_type = \"relu\")\n",
    "\n",
    "dr1 = mx.symbol.Dropout(data = act2, p = 0.5)\n",
    "fc3  <- mx.symbol.FullyConnected(data = dr1, name = 'fc3', num_hidden = 1)\n",
    "mlp3  <- mx.symbol.LogisticRegressionOutput(data = fc3, name = 'logistic')"
   ]
  },
  {
   "cell_type": "markdown",
   "metadata": {},
   "source": [
    "Train our new model"
   ]
  },
  {
   "cell_type": "code",
   "execution_count": 19,
   "metadata": {
    "collapsed": false
   },
   "outputs": [
    {
     "name": "stdout",
     "output_type": "stream",
     "text": [
      "Start training with 1 devices\n",
      "[1] Train-mlogloss=0.461843923579264\n",
      "[2] Train-mlogloss=0.448860052886505\n",
      "[3] Train-mlogloss=0.445368511766574\n",
      "[4] Train-mlogloss=0.444801046262184\n",
      "[5] Train-mlogloss=0.443465393225882\n",
      "[6] Train-mlogloss=0.442632714927177\n",
      "[7] Train-mlogloss=0.442063168128457\n",
      "[8] Train-mlogloss=0.440379944156467\n",
      "[9] Train-mlogloss=0.439795547163999\n",
      "[10] Train-mlogloss=0.440374455696086\n",
      "[11] Train-mlogloss=0.437733539743392\n",
      "[12] Train-mlogloss=0.435790743747493\n",
      "[13] Train-mlogloss=0.436919547500027\n",
      "[14] Train-mlogloss=0.43663233656735\n",
      "[15] Train-mlogloss=0.438787030385001\n",
      "[16] Train-mlogloss=0.435706863462959\n",
      "[17] Train-mlogloss=0.435756255628331\n",
      "[18] Train-mlogloss=0.435729597216346\n",
      "[19] Train-mlogloss=0.435499953242892\n",
      "[20] Train-mlogloss=0.434456923363966\n"
     ]
    }
   ],
   "source": [
    "mx.set.seed(1234)\n",
    "model3 <- mx.model.FeedForward.create(\n",
    "  X                 = data.matrix(dTrainTreated[,varNames]),\n",
    "  y                 = dTrainTreated[,\"target\"],\n",
    "  initializer = mx.init.uniform(0.01),\n",
    "  array.layout = \"rowmajor\",\n",
    "  optimizer = \"adam\",\n",
    "  ctx                = mx.cpu(),\n",
    "  symbol             = mlp3,\n",
    "  eval.metric        = mx.metric.mlogloss,\n",
    "  num.round          = 20,\n",
    "  learning.rate      = 0.01,\n",
    "  array.batch.size   = 256,\n",
    "  verbose = T\n",
    ")"
   ]
  },
  {
   "cell_type": "markdown",
   "metadata": {},
   "source": [
    "Display it."
   ]
  },
  {
   "cell_type": "code",
   "execution_count": 20,
   "metadata": {
    "collapsed": false,
    "scrolled": true
   },
   "outputs": [
    {
     "data": {
      "text/html": [
       "<?xml version=\"1.0\" encoding=\"UTF-8\" standalone=\"no\"?>\n",
       "<!DOCTYPE svg PUBLIC \"-//W3C//DTD SVG 1.1//EN\"\n",
       " \"http://www.w3.org/Graphics/SVG/1.1/DTD/svg11.dtd\">\n",
       "<!-- Generated by graphviz version 2.38.0 (20140413.2041)\n",
       " -->\n",
       "<!-- Title: %3 Pages: 1 -->\n",
       "<svg width=\"156pt\" height=\"1173pt\"\n",
       " viewBox=\"0.00 0.00 155.95 1173.05\" xmlns=\"http://www.w3.org/2000/svg\" xmlns:xlink=\"http://www.w3.org/1999/xlink\">\n",
       "<g id=\"graph0\" class=\"graph\" transform=\"scale(1 1) rotate(0) translate(4 1169.05)\">\n",
       "<title>%3</title>\n",
       "<polygon fill=\"white\" stroke=\"none\" points=\"-4,4 -4,-1169.05 151.948,-1169.05 151.948,4 -4,4\"/>\n",
       "<text text-anchor=\"middle\" x=\"73.9739\" y=\"-1147.55\" font-family=\"Helvetica,sans-Serif\" font-size=\"15.00\">Computation graph</text>\n",
       "<!-- 0 -->\n",
       "<g id=\"node1\" class=\"node\"><title>0</title>\n",
       "<polygon fill=\"#8dd3c7\" stroke=\"black\" points=\"148.179,-1098.93 105.81,-1098.93 92.7174,-1139.08 79.6246,-1098.93 37.2556,-1098.93 71.5329,-1074.12 58.4401,-1033.97 92.7174,-1058.79 126.995,-1033.97 113.902,-1074.12 148.179,-1098.93\"/>\n",
       "<text text-anchor=\"middle\" x=\"92.7174\" y=\"-1082.33\" font-family=\"Times,serif\" font-size=\"14.00\">data</text>\n",
       "</g>\n",
       "<!-- 1 -->\n",
       "<g id=\"node2\" class=\"node\"><title>1</title>\n",
       "<polygon fill=\"#fccde5\" stroke=\"black\" points=\"139.717,-998 45.7174,-998 45.7174,-940 139.717,-940 139.717,-998\"/>\n",
       "<text text-anchor=\"middle\" x=\"92.7174\" y=\"-964.8\" font-family=\"Times,serif\" font-size=\"14.00\">Dropout</text>\n",
       "</g>\n",
       "<!-- 0&#45;&gt;1 -->\n",
       "<g id=\"edge12\" class=\"edge\"><title>0&#45;&gt;1</title>\n",
       "<path fill=\"none\" stroke=\"#333333\" d=\"M92.7174,-1058.73C92.7174,-1043.15 92.7174,-1023.3 92.7174,-1006.33\"/>\n",
       "<polygon fill=\"#333333\" stroke=\"#333333\" points=\"92.7174,-998.261 96.3175,-1006.26 92.7174,-1002.26 92.7175,-1006.26 92.7175,-1006.26 92.7175,-1006.26 92.7174,-1002.26 89.1175,-1006.26 92.7174,-998.261 92.7174,-998.261\"/>\n",
       "</g>\n",
       "<!-- 4 -->\n",
       "<g id=\"node3\" class=\"node\"><title>4</title>\n",
       "<polygon fill=\"#fb8072\" stroke=\"black\" points=\"145.653,-904 39.7817,-904 39.7817,-846 145.653,-846 145.653,-904\"/>\n",
       "<text text-anchor=\"middle\" x=\"92.7174\" y=\"-879.2\" font-family=\"Times,serif\" font-size=\"14.00\">FullyConnected</text>\n",
       "<text text-anchor=\"middle\" x=\"92.7174\" y=\"-862.4\" font-family=\"Times,serif\" font-size=\"14.00\">128</text>\n",
       "</g>\n",
       "<!-- 1&#45;&gt;4 -->\n",
       "<g id=\"edge11\" class=\"edge\"><title>1&#45;&gt;4</title>\n",
       "<path fill=\"none\" stroke=\"#333333\" d=\"M92.7174,-939.897C92.7174,-931.239 92.7174,-921.579 92.7174,-912.445\"/>\n",
       "<polygon fill=\"#333333\" stroke=\"#333333\" points=\"92.7174,-904.248 96.3175,-912.248 92.7174,-908.248 92.7175,-912.248 92.7175,-912.248 92.7175,-912.248 92.7174,-908.248 89.1175,-912.248 92.7174,-904.248 92.7174,-904.248\"/>\n",
       "</g>\n",
       "<!-- 7 -->\n",
       "<g id=\"node4\" class=\"node\"><title>7</title>\n",
       "<polygon fill=\"#bebada\" stroke=\"black\" points=\"139.717,-810 45.7174,-810 45.7174,-752 139.717,-752 139.717,-810\"/>\n",
       "<text text-anchor=\"middle\" x=\"92.7174\" y=\"-776.8\" font-family=\"Times,serif\" font-size=\"14.00\">BatchNorm</text>\n",
       "</g>\n",
       "<!-- 4&#45;&gt;7 -->\n",
       "<g id=\"edge10\" class=\"edge\"><title>4&#45;&gt;7</title>\n",
       "<path fill=\"none\" stroke=\"#333333\" d=\"M92.7174,-845.897C92.7174,-837.239 92.7174,-827.579 92.7174,-818.445\"/>\n",
       "<polygon fill=\"#333333\" stroke=\"#333333\" points=\"92.7174,-810.248 96.3175,-818.248 92.7174,-814.248 92.7175,-818.248 92.7175,-818.248 92.7175,-818.248 92.7174,-814.248 89.1175,-818.248 92.7174,-810.248 92.7174,-810.248\"/>\n",
       "</g>\n",
       "<!-- 8 -->\n",
       "<g id=\"node5\" class=\"node\"><title>8</title>\n",
       "<polygon fill=\"#ffffb3\" stroke=\"black\" points=\"139.717,-716 45.7174,-716 45.7174,-658 139.717,-658 139.717,-716\"/>\n",
       "<text text-anchor=\"middle\" x=\"92.7174\" y=\"-691.2\" font-family=\"Times,serif\" font-size=\"14.00\">Activation</text>\n",
       "<text text-anchor=\"middle\" x=\"92.7174\" y=\"-674.4\" font-family=\"Times,serif\" font-size=\"14.00\">relu</text>\n",
       "</g>\n",
       "<!-- 7&#45;&gt;8 -->\n",
       "<g id=\"edge9\" class=\"edge\"><title>7&#45;&gt;8</title>\n",
       "<path fill=\"none\" stroke=\"#333333\" d=\"M92.7174,-751.897C92.7174,-743.239 92.7174,-733.579 92.7174,-724.445\"/>\n",
       "<polygon fill=\"#333333\" stroke=\"#333333\" points=\"92.7174,-716.248 96.3175,-724.248 92.7174,-720.248 92.7175,-724.248 92.7175,-724.248 92.7175,-724.248 92.7174,-720.248 89.1175,-724.248 92.7174,-716.248 92.7174,-716.248\"/>\n",
       "</g>\n",
       "<!-- 11 -->\n",
       "<g id=\"node6\" class=\"node\"><title>11</title>\n",
       "<polygon fill=\"#fb8072\" stroke=\"black\" points=\"105.653,-622 -0.2183,-622 -0.2183,-564 105.653,-564 105.653,-622\"/>\n",
       "<text text-anchor=\"middle\" x=\"52.7174\" y=\"-597.2\" font-family=\"Times,serif\" font-size=\"14.00\">FullyConnected</text>\n",
       "<text text-anchor=\"middle\" x=\"52.7174\" y=\"-580.4\" font-family=\"Times,serif\" font-size=\"14.00\">128</text>\n",
       "</g>\n",
       "<!-- 8&#45;&gt;11 -->\n",
       "<g id=\"edge8\" class=\"edge\"><title>8&#45;&gt;11</title>\n",
       "<path fill=\"none\" stroke=\"#333333\" d=\"M80.4987,-657.897C76.6192,-648.974 72.2768,-638.987 68.1989,-629.607\"/>\n",
       "<polygon fill=\"#333333\" stroke=\"#333333\" points=\"64.9991,-622.248 71.4904,-628.149 66.594,-625.916 68.1889,-629.584 68.1889,-629.584 68.1889,-629.584 66.594,-625.916 64.8875,-631.02 64.9991,-622.248 64.9991,-622.248\"/>\n",
       "</g>\n",
       "<!-- 12 -->\n",
       "<g id=\"node7\" class=\"node\"><title>12</title>\n",
       "<polygon fill=\"#fccde5\" stroke=\"black\" points=\"139.717,-528 45.7174,-528 45.7174,-470 139.717,-470 139.717,-528\"/>\n",
       "<text text-anchor=\"middle\" x=\"92.7174\" y=\"-494.8\" font-family=\"Times,serif\" font-size=\"14.00\">_Plus</text>\n",
       "</g>\n",
       "<!-- 8&#45;&gt;12 -->\n",
       "<g id=\"edge6\" class=\"edge\"><title>8&#45;&gt;12</title>\n",
       "<path fill=\"none\" stroke=\"#333333\" d=\"M104.645,-657.852C108.695,-646.874 112.704,-634.052 114.717,-622 118.965,-596.575 118.965,-589.425 114.717,-564 113.16,-554.678 110.409,-544.896 107.369,-535.863\"/>\n",
       "<polygon fill=\"#333333\" stroke=\"#333333\" points=\"104.645,-528.148 110.703,-534.493 105.977,-531.92 107.308,-535.692 107.308,-535.692 107.308,-535.692 105.977,-531.92 103.914,-536.89 104.645,-528.148 104.645,-528.148\"/>\n",
       "</g>\n",
       "<!-- 11&#45;&gt;12 -->\n",
       "<g id=\"edge7\" class=\"edge\"><title>11&#45;&gt;12</title>\n",
       "<path fill=\"none\" stroke=\"#333333\" d=\"M64.9361,-563.897C68.8156,-554.974 73.158,-544.987 77.2359,-535.607\"/>\n",
       "<polygon fill=\"#333333\" stroke=\"#333333\" points=\"80.4357,-528.248 80.5473,-537.02 78.8408,-531.916 77.2459,-535.584 77.2459,-535.584 77.2459,-535.584 78.8408,-531.916 73.9444,-534.149 80.4357,-528.248 80.4357,-528.248\"/>\n",
       "</g>\n",
       "<!-- 15 -->\n",
       "<g id=\"node8\" class=\"node\"><title>15</title>\n",
       "<polygon fill=\"#bebada\" stroke=\"black\" points=\"139.717,-434 45.7174,-434 45.7174,-376 139.717,-376 139.717,-434\"/>\n",
       "<text text-anchor=\"middle\" x=\"92.7174\" y=\"-400.8\" font-family=\"Times,serif\" font-size=\"14.00\">BatchNorm</text>\n",
       "</g>\n",
       "<!-- 12&#45;&gt;15 -->\n",
       "<g id=\"edge5\" class=\"edge\"><title>12&#45;&gt;15</title>\n",
       "<path fill=\"none\" stroke=\"#333333\" d=\"M92.7174,-469.897C92.7174,-461.239 92.7174,-451.579 92.7174,-442.445\"/>\n",
       "<polygon fill=\"#333333\" stroke=\"#333333\" points=\"92.7174,-434.248 96.3175,-442.248 92.7174,-438.248 92.7175,-442.248 92.7175,-442.248 92.7175,-442.248 92.7174,-438.248 89.1175,-442.248 92.7174,-434.248 92.7174,-434.248\"/>\n",
       "</g>\n",
       "<!-- 16 -->\n",
       "<g id=\"node9\" class=\"node\"><title>16</title>\n",
       "<polygon fill=\"#ffffb3\" stroke=\"black\" points=\"139.717,-340 45.7174,-340 45.7174,-282 139.717,-282 139.717,-340\"/>\n",
       "<text text-anchor=\"middle\" x=\"92.7174\" y=\"-315.2\" font-family=\"Times,serif\" font-size=\"14.00\">Activation</text>\n",
       "<text text-anchor=\"middle\" x=\"92.7174\" y=\"-298.4\" font-family=\"Times,serif\" font-size=\"14.00\">relu</text>\n",
       "</g>\n",
       "<!-- 15&#45;&gt;16 -->\n",
       "<g id=\"edge4\" class=\"edge\"><title>15&#45;&gt;16</title>\n",
       "<path fill=\"none\" stroke=\"#333333\" d=\"M92.7174,-375.897C92.7174,-367.239 92.7174,-357.579 92.7174,-348.445\"/>\n",
       "<polygon fill=\"#333333\" stroke=\"#333333\" points=\"92.7174,-340.248 96.3175,-348.248 92.7174,-344.248 92.7175,-348.248 92.7175,-348.248 92.7175,-348.248 92.7174,-344.248 89.1175,-348.248 92.7174,-340.248 92.7174,-340.248\"/>\n",
       "</g>\n",
       "<!-- 17 -->\n",
       "<g id=\"node10\" class=\"node\"><title>17</title>\n",
       "<polygon fill=\"#fccde5\" stroke=\"black\" points=\"139.717,-246 45.7174,-246 45.7174,-188 139.717,-188 139.717,-246\"/>\n",
       "<text text-anchor=\"middle\" x=\"92.7174\" y=\"-212.8\" font-family=\"Times,serif\" font-size=\"14.00\">Dropout</text>\n",
       "</g>\n",
       "<!-- 16&#45;&gt;17 -->\n",
       "<g id=\"edge3\" class=\"edge\"><title>16&#45;&gt;17</title>\n",
       "<path fill=\"none\" stroke=\"#333333\" d=\"M92.7174,-281.897C92.7174,-273.239 92.7174,-263.579 92.7174,-254.445\"/>\n",
       "<polygon fill=\"#333333\" stroke=\"#333333\" points=\"92.7174,-246.248 96.3175,-254.248 92.7174,-250.248 92.7175,-254.248 92.7175,-254.248 92.7175,-254.248 92.7174,-250.248 89.1175,-254.248 92.7174,-246.248 92.7174,-246.248\"/>\n",
       "</g>\n",
       "<!-- 20 -->\n",
       "<g id=\"node11\" class=\"node\"><title>20</title>\n",
       "<polygon fill=\"#fb8072\" stroke=\"black\" points=\"145.653,-152 39.7817,-152 39.7817,-94 145.653,-94 145.653,-152\"/>\n",
       "<text text-anchor=\"middle\" x=\"92.7174\" y=\"-127.2\" font-family=\"Times,serif\" font-size=\"14.00\">FullyConnected</text>\n",
       "<text text-anchor=\"middle\" x=\"92.7174\" y=\"-110.4\" font-family=\"Times,serif\" font-size=\"14.00\">1</text>\n",
       "</g>\n",
       "<!-- 17&#45;&gt;20 -->\n",
       "<g id=\"edge2\" class=\"edge\"><title>17&#45;&gt;20</title>\n",
       "<path fill=\"none\" stroke=\"#333333\" d=\"M92.7174,-187.897C92.7174,-179.239 92.7174,-169.579 92.7174,-160.445\"/>\n",
       "<polygon fill=\"#333333\" stroke=\"#333333\" points=\"92.7174,-152.248 96.3175,-160.248 92.7174,-156.248 92.7175,-160.248 92.7175,-160.248 92.7175,-160.248 92.7174,-156.248 89.1175,-160.248 92.7174,-152.248 92.7174,-152.248\"/>\n",
       "</g>\n",
       "<!-- 22 -->\n",
       "<g id=\"node12\" class=\"node\"><title>22</title>\n",
       "<polygon fill=\"#fccde5\" stroke=\"black\" points=\"139.717,-58 45.7174,-58 45.7174,-0 139.717,-0 139.717,-58\"/>\n",
       "<text text-anchor=\"middle\" x=\"92.7174\" y=\"-24.8\" font-family=\"Times,serif\" font-size=\"14.00\">logistic</text>\n",
       "</g>\n",
       "<!-- 20&#45;&gt;22 -->\n",
       "<g id=\"edge1\" class=\"edge\"><title>20&#45;&gt;22</title>\n",
       "<path fill=\"none\" stroke=\"#333333\" d=\"M92.7174,-93.8971C92.7174,-85.2391 92.7174,-75.579 92.7174,-66.4448\"/>\n",
       "<polygon fill=\"#333333\" stroke=\"#333333\" points=\"92.7174,-58.2479 96.3175,-66.2478 92.7174,-62.2479 92.7175,-66.2479 92.7175,-66.2479 92.7175,-66.2479 92.7174,-62.2479 89.1175,-66.2479 92.7174,-58.2479 92.7174,-58.2479\"/>\n",
       "</g>\n",
       "</g>\n",
       "</svg>\n"
      ]
     },
     "metadata": {},
     "output_type": "display_data"
    },
    {
     "name": "stdout",
     "output_type": "stream",
     "text": [
      "pre-main prep time: 1 ms\n"
     ]
    }
   ],
   "source": [
    "IRdisplay::display_html(DiagrammeRsvg::export_svg(graph.viz(model3$symbol$as.json(),graph.title.font.size = 15)))"
   ]
  },
  {
   "cell_type": "markdown",
   "metadata": {},
   "source": [
    "Check model's performance using validation dataset"
   ]
  },
  {
   "cell_type": "code",
   "execution_count": 21,
   "metadata": {
    "collapsed": true
   },
   "outputs": [],
   "source": [
    "preds = predict(model3, data.matrix(dTestTreated[,varNames]), array.layout = \"rowmajor\")\n",
    "preds <- t(preds)\n",
    "auc_nn3 <- auc(dTestTreated[,\"target\"], preds[,1])\n",
    "logloss_nn3 <-logLoss(dTestTreated[,\"target\"], preds[,1])"
   ]
  },
  {
   "cell_type": "code",
   "execution_count": 22,
   "metadata": {
    "collapsed": false
   },
   "outputs": [
    {
     "data": {
      "text/html": [
       "<table>\n",
       "<thead><tr><th></th><th scope=col>model</th><th scope=col>logloss</th><th scope=col>AUC</th></tr></thead>\n",
       "<tbody>\n",
       "\t<tr><th scope=row>2</th><td>Baseline (randomForest)   </td><td>0.4318725                 </td><td>0.7770181                 </td></tr>\n",
       "\t<tr><th scope=row>3</th><td>MXNet ver 1.0 using graph </td><td>0.4332011                 </td><td>0.7832295                 </td></tr>\n",
       "\t<tr><th scope=row>1</th><td>MXNet ver 1.0 using mx.mlp</td><td>0.4332011                 </td><td>0.7832295                 </td></tr>\n",
       "\t<tr><th scope=row>4</th><td>MXNet ver 2.0             </td><td>0.4291513                 </td><td>0.7875946                 </td></tr>\n",
       "</tbody>\n",
       "</table>\n"
      ],
      "text/latex": [
       "\\begin{tabular}{r|lll}\n",
       "  & model & logloss & AUC\\\\\n",
       "\\hline\n",
       "\t2 & Baseline (randomForest)    & 0.4318725                  & 0.7770181                 \\\\\n",
       "\t3 & MXNet ver 1.0 using graph  & 0.4332011                  & 0.7832295                 \\\\\n",
       "\t1 & MXNet ver 1.0 using mx.mlp & 0.4332011                  & 0.7832295                 \\\\\n",
       "\t4 & MXNet ver 2.0              & 0.4291513                  & 0.7875946                 \\\\\n",
       "\\end{tabular}\n"
      ],
      "text/plain": [
       "  model                      logloss   AUC      \n",
       "2 Baseline (randomForest)    0.4318725 0.7770181\n",
       "3 MXNet ver 1.0 using graph  0.4332011 0.7832295\n",
       "1 MXNet ver 1.0 using mx.mlp 0.4332011 0.7832295\n",
       "4 MXNet ver 2.0              0.4291513 0.7875946"
      ]
     },
     "metadata": {},
     "output_type": "display_data"
    }
   ],
   "source": [
    "results <- rbind(results, data.frame(model = \"MXNet ver 2.0\", logloss = logloss_nn3, AUC = auc_nn3))\n",
    "results[order(as.character(results$model)),]"
   ]
  },
  {
   "cell_type": "markdown",
   "metadata": {},
   "source": [
    "As you can see our second version of the model doing better than baseline and version 1, despite being simpler model in terms of neurons and layers.\n",
    "\n",
    "As the last step I'm going to run 5-fold cross-validation  for 5 times to check models performance."
   ]
  },
  {
   "cell_type": "code",
   "execution_count": 23,
   "metadata": {
    "collapsed": true
   },
   "outputs": [],
   "source": [
    "set.seed(3456)\n",
    "folds <- createMultiFolds(as.factor(dataset$target), k = 5, times = 5)\n",
    "cv_results <- data.frame()"
   ]
  },
  {
   "cell_type": "code",
   "execution_count": 26,
   "metadata": {
    "collapsed": false
   },
   "outputs": [],
   "source": [
    "for(fold in folds) {\n",
    "  #splitting dataset into train and validation\n",
    "  trainIndex <- fold\n",
    "  dTrain <- dataset[trainIndex,]\n",
    "  dTest <- dataset[-trainIndex,]\n",
    "  \n",
    "  yName <- 'target' # define target variable\n",
    "  yTarget <- 1 # define level to be considered \"success\"\n",
    "  varNames <- setdiff(names(dTrain),yName) # get variable names for vtreat\n",
    "  \n",
    "  treatmentsC <- designTreatmentsC(dTrain,varNames,yName,yTarget, verbose=FALSE)\n",
    "  dTrainTreated <- prepare(treatmentsC,dTrain,pruneSig=c(),scale=TRUE)\n",
    "  dTestTreated <- prepare(treatmentsC,dTest,pruneSig=c(),scale=TRUE)\n",
    "\n",
    "  varNames <- setdiff(names(dTestTreated),yName)\n",
    "  \n",
    "  mx.set.seed(1234)\n",
    "  model <- mx.model.FeedForward.create(\n",
    "    X                 = data.matrix(dTrainTreated[,varNames]),\n",
    "    y                 = dTrainTreated[,\"target\"],\n",
    "    initializer = mx.init.uniform(0.01),\n",
    "    array.layout = \"rowmajor\",\n",
    "    optimizer = \"adam\",\n",
    "    ctx                = mx.cpu(),\n",
    "    symbol             = mlp3,\n",
    "    eval.metric        = mx.metric.mlogloss,\n",
    "    num.round          = 20,\n",
    "    learning.rate      = 0.01,\n",
    "    array.batch.size   = 256,\n",
    "    verbose = F\n",
    "  )\n",
    "  \n",
    "  preds = predict(model, data.matrix(dTestTreated[,varNames]), array.layout = \"rowmajor\")\n",
    "  preds <- t(preds)\n",
    "  auc_nn <- auc(dTestTreated[,\"target\"], preds[,1])\n",
    "  logloss_nn <-logLoss(dTestTreated[,\"target\"], preds[,1])\n",
    "  \n",
    "  mx.set.seed(1234)\n",
    "  model_mlp <- mx.model.FeedForward.create(\n",
    "    X                 = data.matrix(dTrainTreated[,varNames]),\n",
    "    y                 = dTrainTreated[,\"target\"],\n",
    "    initializer = mx.init.uniform(0.01),\n",
    "    array.layout = \"rowmajor\",\n",
    "    optimizer = \"adam\",\n",
    "    ctx                = mx.cpu(),\n",
    "    symbol             = mlp2,\n",
    "    eval.metric        = mx.metric.mlogloss,\n",
    "    num.round          = 20,\n",
    "    learning.rate      = 0.01,\n",
    "    array.batch.size   = 256,\n",
    "    verbose = F\n",
    "  )\n",
    "\n",
    "  preds_mlp = predict(model_mlp, data.matrix(dTestTreated[,varNames]), array.layout = \"rowmajor\")\n",
    "  preds_mlp <- t(preds_mlp)\n",
    "  auc_mlp <- auc(dTestTreated[,\"target\"], preds_mlp[,1])\n",
    "  logloss_mlp <-logLoss(dTestTreated[,\"target\"], preds_mlp[,1])\n",
    "  \n",
    "  set.seed(42)\n",
    "  rf <- ranger(as.factor(target) ~., data = dTrain, probability = T)\n",
    "  rf_preds <- predict(rf, dTest)$predictions\n",
    "  auc_rf <- auc(dTestTreated[,\"target\"], rf_preds[,2])\n",
    "  logloss_rf <- logLoss(dTestTreated[,\"target\"], rf_preds[,2])\n",
    "  cv_results <- rbind(\n",
    "    cv_results, \n",
    "    data.frame(model = \"MXnet ver 1\", logloss = logloss_mlp, auc = auc_mlp),\n",
    "    data.frame(model = \"MXnet ver 2\", logloss = logloss_nn, auc = auc_nn),\n",
    "    data.frame(model = \"RandomForest\", logloss = logloss_rf, auc = auc_rf))\n",
    "}"
   ]
  },
  {
   "cell_type": "markdown",
   "metadata": {},
   "source": [
    "Let's plot our models performance using boxplot"
   ]
  },
  {
   "cell_type": "code",
   "execution_count": 27,
   "metadata": {
    "collapsed": false
   },
   "outputs": [
    {
     "name": "stderr",
     "output_type": "stream",
     "text": [
      "Loading required package: reshape2\n",
      "Using model as id variables\n"
     ]
    },
    {
     "data": {},
     "metadata": {},
     "output_type": "display_data"
    },
    {
     "data": {
      "image/png": "[encoded data removed]",
      "text/plain": [
       "plot without title"
      ]
     },
     "metadata": {},
     "output_type": "display_data"
    }
   ],
   "source": [
    "require(ggplot2)\n",
    "require(reshape2)\n",
    "p <- ggplot(melt(cv_results), aes(x=model, y=value, colour=model)) + \n",
    "  geom_boxplot(outlier.colour=\"red\", outlier.shape=8,\n",
    "               outlier.size=4)\n",
    "p + facet_grid(\"variable~.\", scales = \"free\", space = \"free\")"
   ]
  },
  {
   "cell_type": "markdown",
   "metadata": {},
   "source": [
    "#### Summary\n",
    "\n",
    "In this notebook a bacis priciples of building neural nets using MXNet were shown. \n",
    "\n",
    "vtreat+MXNet approach was introduced for using neural nets for structured data. \n",
    "\n",
    "I hope you found this notebook (or part of it) helpful :)"
   ]
  },
  {
   "cell_type": "markdown",
   "metadata": {
    "collapsed": true
   },
   "source": [
    "Code available on GitHub: https://github.com/IzuiT/H2O_Dallas_MXNet"
   ]
  },
  {
   "cell_type": "code",
   "execution_count": null,
   "metadata": {
    "collapsed": true
   },
   "outputs": [],
   "source": []
  }
 ],
 "metadata": {
  "anaconda-cloud": {},
  "kernelspec": {
   "display_name": "R",
   "language": "R",
   "name": "ir"
  },
  "language_info": {
   "codemirror_mode": "r",
   "file_extension": ".r",
   "mimetype": "text/x-r-source",
   "name": "R",
   "pygments_lexer": "r",
   "version": "3.3.1"
  }
 },
 "nbformat": 4,
 "nbformat_minor": 1
}
