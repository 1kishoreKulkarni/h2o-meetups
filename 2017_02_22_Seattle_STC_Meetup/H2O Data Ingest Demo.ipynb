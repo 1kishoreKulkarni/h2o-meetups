{
 "cells": [
  {
   "cell_type": "code",
   "execution_count": 1,
   "metadata": {
    "collapsed": false
   },
   "outputs": [
    {
     "name": "stderr",
     "output_type": "stream",
     "text": [
      "ERROR:h2o:Key init.version_check is not a valid config key\n"
     ]
    },
    {
     "name": "stdout",
     "output_type": "stream",
     "text": [
      "Checking whether there is an H2O instance running at http://localhost:54321. connected.\n"
     ]
    },
    {
     "data": {
      "text/html": [
       "<div style=\"overflow:auto\"><table style=\"width:50%\"><tr><td>H2O cluster uptime:</td>\n",
       "<td>30 mins 27 secs</td></tr>\n",
       "<tr><td>H2O cluster version:</td>\n",
       "<td>3.11.0.99999</td></tr>\n",
       "<tr><td>H2O cluster version age:</td>\n",
       "<td>18 hours and 29 minutes </td></tr>\n",
       "<tr><td>H2O cluster name:</td>\n",
       "<td>avkashchauhan</td></tr>\n",
       "<tr><td>H2O cluster total nodes:</td>\n",
       "<td>1</td></tr>\n",
       "<tr><td>H2O cluster free memory:</td>\n",
       "<td>3.537 Gb</td></tr>\n",
       "<tr><td>H2O cluster total cores:</td>\n",
       "<td>8</td></tr>\n",
       "<tr><td>H2O cluster allowed cores:</td>\n",
       "<td>8</td></tr>\n",
       "<tr><td>H2O cluster status:</td>\n",
       "<td>locked, healthy</td></tr>\n",
       "<tr><td>H2O connection url:</td>\n",
       "<td>http://localhost:54321</td></tr>\n",
       "<tr><td>H2O connection proxy:</td>\n",
       "<td>None</td></tr>\n",
       "<tr><td>Python version:</td>\n",
       "<td>2.7.10 final</td></tr></table></div>"
      ],
      "text/plain": [
       "--------------------------  -----------------------\n",
       "H2O cluster uptime:         30 mins 27 secs\n",
       "H2O cluster version:        3.11.0.99999\n",
       "H2O cluster version age:    18 hours and 29 minutes\n",
       "H2O cluster name:           avkashchauhan\n",
       "H2O cluster total nodes:    1\n",
       "H2O cluster free memory:    3.537 Gb\n",
       "H2O cluster total cores:    8\n",
       "H2O cluster allowed cores:  8\n",
       "H2O cluster status:         locked, healthy\n",
       "H2O connection url:         http://localhost:54321\n",
       "H2O connection proxy:\n",
       "Python version:             2.7.10 final\n",
       "--------------------------  -----------------------"
      ]
     },
     "metadata": {},
     "output_type": "display_data"
    }
   ],
   "source": [
    "import h2o\n",
    "h2o.init()"
   ]
  },
  {
   "cell_type": "code",
   "execution_count": 2,
   "metadata": {
    "collapsed": true
   },
   "outputs": [],
   "source": [
    "prostate = \"https://raw.github.com/h2oai/h2o/master/smalldata/logreg/prostate.csv\""
   ]
  },
  {
   "cell_type": "code",
   "execution_count": 3,
   "metadata": {
    "collapsed": false
   },
   "outputs": [
    {
     "name": "stdout",
     "output_type": "stream",
     "text": [
      "Parse progress: |█████████████████████████████████████████████████████████| 100%\n"
     ]
    }
   ],
   "source": [
    "prostate_df = h2o.import_file(path=prostate)"
   ]
  },
  {
   "cell_type": "code",
   "execution_count": 4,
   "metadata": {
    "collapsed": false
   },
   "outputs": [
    {
     "data": {
      "text/html": [
       "<table>\n",
       "<tr><th style=\"text-align: right;\">  ID</th><th style=\"text-align: right;\">  CAPSULE</th><th style=\"text-align: right;\">  AGE</th><th style=\"text-align: right;\">  RACE</th><th style=\"text-align: right;\">  DPROS</th><th style=\"text-align: right;\">  DCAPS</th><th style=\"text-align: right;\">  PSA</th><th style=\"text-align: right;\">  VOL</th><th style=\"text-align: right;\">  GLEASON</th></tr>\n",
       "<tr><td style=\"text-align: right;\">   1</td><td style=\"text-align: right;\">        0</td><td style=\"text-align: right;\">   65</td><td style=\"text-align: right;\">     1</td><td style=\"text-align: right;\">      2</td><td style=\"text-align: right;\">      1</td><td style=\"text-align: right;\">  1.4</td><td style=\"text-align: right;\">  0  </td><td style=\"text-align: right;\">        6</td></tr>\n",
       "<tr><td style=\"text-align: right;\">   2</td><td style=\"text-align: right;\">        0</td><td style=\"text-align: right;\">   72</td><td style=\"text-align: right;\">     1</td><td style=\"text-align: right;\">      3</td><td style=\"text-align: right;\">      2</td><td style=\"text-align: right;\">  6.7</td><td style=\"text-align: right;\">  0  </td><td style=\"text-align: right;\">        7</td></tr>\n",
       "<tr><td style=\"text-align: right;\">   3</td><td style=\"text-align: right;\">        0</td><td style=\"text-align: right;\">   70</td><td style=\"text-align: right;\">     1</td><td style=\"text-align: right;\">      1</td><td style=\"text-align: right;\">      2</td><td style=\"text-align: right;\">  4.9</td><td style=\"text-align: right;\">  0  </td><td style=\"text-align: right;\">        6</td></tr>\n",
       "<tr><td style=\"text-align: right;\">   4</td><td style=\"text-align: right;\">        0</td><td style=\"text-align: right;\">   76</td><td style=\"text-align: right;\">     2</td><td style=\"text-align: right;\">      2</td><td style=\"text-align: right;\">      1</td><td style=\"text-align: right;\"> 51.2</td><td style=\"text-align: right;\"> 20  </td><td style=\"text-align: right;\">        7</td></tr>\n",
       "<tr><td style=\"text-align: right;\">   5</td><td style=\"text-align: right;\">        0</td><td style=\"text-align: right;\">   69</td><td style=\"text-align: right;\">     1</td><td style=\"text-align: right;\">      1</td><td style=\"text-align: right;\">      1</td><td style=\"text-align: right;\"> 12.3</td><td style=\"text-align: right;\"> 55.9</td><td style=\"text-align: right;\">        6</td></tr>\n",
       "<tr><td style=\"text-align: right;\">   6</td><td style=\"text-align: right;\">        1</td><td style=\"text-align: right;\">   71</td><td style=\"text-align: right;\">     1</td><td style=\"text-align: right;\">      3</td><td style=\"text-align: right;\">      2</td><td style=\"text-align: right;\">  3.3</td><td style=\"text-align: right;\">  0  </td><td style=\"text-align: right;\">        8</td></tr>\n",
       "<tr><td style=\"text-align: right;\">   7</td><td style=\"text-align: right;\">        0</td><td style=\"text-align: right;\">   68</td><td style=\"text-align: right;\">     2</td><td style=\"text-align: right;\">      4</td><td style=\"text-align: right;\">      2</td><td style=\"text-align: right;\"> 31.9</td><td style=\"text-align: right;\">  0  </td><td style=\"text-align: right;\">        7</td></tr>\n",
       "<tr><td style=\"text-align: right;\">   8</td><td style=\"text-align: right;\">        0</td><td style=\"text-align: right;\">   61</td><td style=\"text-align: right;\">     2</td><td style=\"text-align: right;\">      4</td><td style=\"text-align: right;\">      2</td><td style=\"text-align: right;\"> 66.7</td><td style=\"text-align: right;\"> 27.2</td><td style=\"text-align: right;\">        7</td></tr>\n",
       "<tr><td style=\"text-align: right;\">   9</td><td style=\"text-align: right;\">        0</td><td style=\"text-align: right;\">   69</td><td style=\"text-align: right;\">     1</td><td style=\"text-align: right;\">      1</td><td style=\"text-align: right;\">      1</td><td style=\"text-align: right;\">  3.9</td><td style=\"text-align: right;\"> 24  </td><td style=\"text-align: right;\">        7</td></tr>\n",
       "<tr><td style=\"text-align: right;\">  10</td><td style=\"text-align: right;\">        0</td><td style=\"text-align: right;\">   68</td><td style=\"text-align: right;\">     2</td><td style=\"text-align: right;\">      1</td><td style=\"text-align: right;\">      2</td><td style=\"text-align: right;\"> 13  </td><td style=\"text-align: right;\">  0  </td><td style=\"text-align: right;\">        6</td></tr>\n",
       "</table>"
      ]
     },
     "metadata": {},
     "output_type": "display_data"
    },
    {
     "data": {
      "text/plain": []
     },
     "execution_count": 4,
     "metadata": {},
     "output_type": "execute_result"
    }
   ],
   "source": [
    "prostate_df"
   ]
  },
  {
   "cell_type": "code",
   "execution_count": 5,
   "metadata": {
    "collapsed": true
   },
   "outputs": [],
   "source": [
    "airline = \"/Users/avkashchauhan/src/github.com/h2oai/h2o-3/smalldata/airlines/allyears2k.csv\""
   ]
  },
  {
   "cell_type": "code",
   "execution_count": 6,
   "metadata": {
    "collapsed": false
   },
   "outputs": [
    {
     "name": "stdout",
     "output_type": "stream",
     "text": [
      "Parse progress: |█████████████████████████████████████████████████████████| 100%\n"
     ]
    }
   ],
   "source": [
    "airline_df = h2o.import_file(path=airline)"
   ]
  },
  {
   "cell_type": "code",
   "execution_count": 7,
   "metadata": {
    "collapsed": false
   },
   "outputs": [
    {
     "data": {
      "text/html": [
       "<table>\n",
       "<tr><th style=\"text-align: right;\">  C1</th><th style=\"text-align: right;\">  C2</th><th style=\"text-align: right;\">  C3</th><th style=\"text-align: right;\">  C4</th><th style=\"text-align: right;\">  C5</th><th style=\"text-align: right;\">  C6</th><th style=\"text-align: right;\">  C7</th><th style=\"text-align: right;\">  C8</th><th>C9  </th><th style=\"text-align: right;\">  C10</th><th>C11  </th><th style=\"text-align: right;\">  C12</th><th style=\"text-align: right;\">  C13</th><th style=\"text-align: right;\">  C14</th><th style=\"text-align: right;\">  C15</th><th style=\"text-align: right;\">  C16</th><th>C17  </th><th>C18  </th><th style=\"text-align: right;\">  C19</th><th style=\"text-align: right;\">  C20</th><th style=\"text-align: right;\">  C21</th><th style=\"text-align: right;\">  C22</th><th>C23  </th><th style=\"text-align: right;\">  C24</th><th style=\"text-align: right;\">  C25</th><th style=\"text-align: right;\">  C26</th><th style=\"text-align: right;\">  C27</th><th style=\"text-align: right;\">  C28</th><th style=\"text-align: right;\">  C29</th><th>C30  </th><th>C31  </th></tr>\n",
       "<tr><td style=\"text-align: right;\">1987</td><td style=\"text-align: right;\">  10</td><td style=\"text-align: right;\">  14</td><td style=\"text-align: right;\">   3</td><td style=\"text-align: right;\"> 741</td><td style=\"text-align: right;\"> 730</td><td style=\"text-align: right;\"> 912</td><td style=\"text-align: right;\"> 849</td><td>PS  </td><td style=\"text-align: right;\"> 1451</td><td>NA   </td><td style=\"text-align: right;\">   91</td><td style=\"text-align: right;\">   79</td><td style=\"text-align: right;\">  nan</td><td style=\"text-align: right;\">   23</td><td style=\"text-align: right;\">   11</td><td>SAN  </td><td>SFO  </td><td style=\"text-align: right;\">  447</td><td style=\"text-align: right;\">  nan</td><td style=\"text-align: right;\">  nan</td><td style=\"text-align: right;\">    0</td><td>NA   </td><td style=\"text-align: right;\">    0</td><td style=\"text-align: right;\">  nan</td><td style=\"text-align: right;\">  nan</td><td style=\"text-align: right;\">  nan</td><td style=\"text-align: right;\">  nan</td><td style=\"text-align: right;\">  nan</td><td>YES  </td><td>YES  </td></tr>\n",
       "<tr><td style=\"text-align: right;\">1987</td><td style=\"text-align: right;\">  10</td><td style=\"text-align: right;\">  15</td><td style=\"text-align: right;\">   4</td><td style=\"text-align: right;\"> 729</td><td style=\"text-align: right;\"> 730</td><td style=\"text-align: right;\"> 903</td><td style=\"text-align: right;\"> 849</td><td>PS  </td><td style=\"text-align: right;\"> 1451</td><td>NA   </td><td style=\"text-align: right;\">   94</td><td style=\"text-align: right;\">   79</td><td style=\"text-align: right;\">  nan</td><td style=\"text-align: right;\">   14</td><td style=\"text-align: right;\">   -1</td><td>SAN  </td><td>SFO  </td><td style=\"text-align: right;\">  447</td><td style=\"text-align: right;\">  nan</td><td style=\"text-align: right;\">  nan</td><td style=\"text-align: right;\">    0</td><td>NA   </td><td style=\"text-align: right;\">    0</td><td style=\"text-align: right;\">  nan</td><td style=\"text-align: right;\">  nan</td><td style=\"text-align: right;\">  nan</td><td style=\"text-align: right;\">  nan</td><td style=\"text-align: right;\">  nan</td><td>YES  </td><td>NO   </td></tr>\n",
       "<tr><td style=\"text-align: right;\">1987</td><td style=\"text-align: right;\">  10</td><td style=\"text-align: right;\">  17</td><td style=\"text-align: right;\">   6</td><td style=\"text-align: right;\"> 741</td><td style=\"text-align: right;\"> 730</td><td style=\"text-align: right;\"> 918</td><td style=\"text-align: right;\"> 849</td><td>PS  </td><td style=\"text-align: right;\"> 1451</td><td>NA   </td><td style=\"text-align: right;\">   97</td><td style=\"text-align: right;\">   79</td><td style=\"text-align: right;\">  nan</td><td style=\"text-align: right;\">   29</td><td style=\"text-align: right;\">   11</td><td>SAN  </td><td>SFO  </td><td style=\"text-align: right;\">  447</td><td style=\"text-align: right;\">  nan</td><td style=\"text-align: right;\">  nan</td><td style=\"text-align: right;\">    0</td><td>NA   </td><td style=\"text-align: right;\">    0</td><td style=\"text-align: right;\">  nan</td><td style=\"text-align: right;\">  nan</td><td style=\"text-align: right;\">  nan</td><td style=\"text-align: right;\">  nan</td><td style=\"text-align: right;\">  nan</td><td>YES  </td><td>YES  </td></tr>\n",
       "<tr><td style=\"text-align: right;\">1987</td><td style=\"text-align: right;\">  10</td><td style=\"text-align: right;\">  18</td><td style=\"text-align: right;\">   7</td><td style=\"text-align: right;\"> 729</td><td style=\"text-align: right;\"> 730</td><td style=\"text-align: right;\"> 847</td><td style=\"text-align: right;\"> 849</td><td>PS  </td><td style=\"text-align: right;\"> 1451</td><td>NA   </td><td style=\"text-align: right;\">   78</td><td style=\"text-align: right;\">   79</td><td style=\"text-align: right;\">  nan</td><td style=\"text-align: right;\">   -2</td><td style=\"text-align: right;\">   -1</td><td>SAN  </td><td>SFO  </td><td style=\"text-align: right;\">  447</td><td style=\"text-align: right;\">  nan</td><td style=\"text-align: right;\">  nan</td><td style=\"text-align: right;\">    0</td><td>NA   </td><td style=\"text-align: right;\">    0</td><td style=\"text-align: right;\">  nan</td><td style=\"text-align: right;\">  nan</td><td style=\"text-align: right;\">  nan</td><td style=\"text-align: right;\">  nan</td><td style=\"text-align: right;\">  nan</td><td>NO   </td><td>NO   </td></tr>\n",
       "<tr><td style=\"text-align: right;\">1987</td><td style=\"text-align: right;\">  10</td><td style=\"text-align: right;\">  19</td><td style=\"text-align: right;\">   1</td><td style=\"text-align: right;\"> 749</td><td style=\"text-align: right;\"> 730</td><td style=\"text-align: right;\"> 922</td><td style=\"text-align: right;\"> 849</td><td>PS  </td><td style=\"text-align: right;\"> 1451</td><td>NA   </td><td style=\"text-align: right;\">   93</td><td style=\"text-align: right;\">   79</td><td style=\"text-align: right;\">  nan</td><td style=\"text-align: right;\">   33</td><td style=\"text-align: right;\">   19</td><td>SAN  </td><td>SFO  </td><td style=\"text-align: right;\">  447</td><td style=\"text-align: right;\">  nan</td><td style=\"text-align: right;\">  nan</td><td style=\"text-align: right;\">    0</td><td>NA   </td><td style=\"text-align: right;\">    0</td><td style=\"text-align: right;\">  nan</td><td style=\"text-align: right;\">  nan</td><td style=\"text-align: right;\">  nan</td><td style=\"text-align: right;\">  nan</td><td style=\"text-align: right;\">  nan</td><td>YES  </td><td>YES  </td></tr>\n",
       "<tr><td style=\"text-align: right;\">1987</td><td style=\"text-align: right;\">  10</td><td style=\"text-align: right;\">  21</td><td style=\"text-align: right;\">   3</td><td style=\"text-align: right;\"> 728</td><td style=\"text-align: right;\"> 730</td><td style=\"text-align: right;\"> 848</td><td style=\"text-align: right;\"> 849</td><td>PS  </td><td style=\"text-align: right;\"> 1451</td><td>NA   </td><td style=\"text-align: right;\">   80</td><td style=\"text-align: right;\">   79</td><td style=\"text-align: right;\">  nan</td><td style=\"text-align: right;\">   -1</td><td style=\"text-align: right;\">   -2</td><td>SAN  </td><td>SFO  </td><td style=\"text-align: right;\">  447</td><td style=\"text-align: right;\">  nan</td><td style=\"text-align: right;\">  nan</td><td style=\"text-align: right;\">    0</td><td>NA   </td><td style=\"text-align: right;\">    0</td><td style=\"text-align: right;\">  nan</td><td style=\"text-align: right;\">  nan</td><td style=\"text-align: right;\">  nan</td><td style=\"text-align: right;\">  nan</td><td style=\"text-align: right;\">  nan</td><td>NO   </td><td>NO   </td></tr>\n",
       "<tr><td style=\"text-align: right;\">1987</td><td style=\"text-align: right;\">  10</td><td style=\"text-align: right;\">  22</td><td style=\"text-align: right;\">   4</td><td style=\"text-align: right;\"> 728</td><td style=\"text-align: right;\"> 730</td><td style=\"text-align: right;\"> 852</td><td style=\"text-align: right;\"> 849</td><td>PS  </td><td style=\"text-align: right;\"> 1451</td><td>NA   </td><td style=\"text-align: right;\">   84</td><td style=\"text-align: right;\">   79</td><td style=\"text-align: right;\">  nan</td><td style=\"text-align: right;\">    3</td><td style=\"text-align: right;\">   -2</td><td>SAN  </td><td>SFO  </td><td style=\"text-align: right;\">  447</td><td style=\"text-align: right;\">  nan</td><td style=\"text-align: right;\">  nan</td><td style=\"text-align: right;\">    0</td><td>NA   </td><td style=\"text-align: right;\">    0</td><td style=\"text-align: right;\">  nan</td><td style=\"text-align: right;\">  nan</td><td style=\"text-align: right;\">  nan</td><td style=\"text-align: right;\">  nan</td><td style=\"text-align: right;\">  nan</td><td>YES  </td><td>NO   </td></tr>\n",
       "<tr><td style=\"text-align: right;\">1987</td><td style=\"text-align: right;\">  10</td><td style=\"text-align: right;\">  23</td><td style=\"text-align: right;\">   5</td><td style=\"text-align: right;\"> 731</td><td style=\"text-align: right;\"> 730</td><td style=\"text-align: right;\"> 902</td><td style=\"text-align: right;\"> 849</td><td>PS  </td><td style=\"text-align: right;\"> 1451</td><td>NA   </td><td style=\"text-align: right;\">   91</td><td style=\"text-align: right;\">   79</td><td style=\"text-align: right;\">  nan</td><td style=\"text-align: right;\">   13</td><td style=\"text-align: right;\">    1</td><td>SAN  </td><td>SFO  </td><td style=\"text-align: right;\">  447</td><td style=\"text-align: right;\">  nan</td><td style=\"text-align: right;\">  nan</td><td style=\"text-align: right;\">    0</td><td>NA   </td><td style=\"text-align: right;\">    0</td><td style=\"text-align: right;\">  nan</td><td style=\"text-align: right;\">  nan</td><td style=\"text-align: right;\">  nan</td><td style=\"text-align: right;\">  nan</td><td style=\"text-align: right;\">  nan</td><td>YES  </td><td>YES  </td></tr>\n",
       "<tr><td style=\"text-align: right;\">1987</td><td style=\"text-align: right;\">  10</td><td style=\"text-align: right;\">  24</td><td style=\"text-align: right;\">   6</td><td style=\"text-align: right;\"> 744</td><td style=\"text-align: right;\"> 730</td><td style=\"text-align: right;\"> 908</td><td style=\"text-align: right;\"> 849</td><td>PS  </td><td style=\"text-align: right;\"> 1451</td><td>NA   </td><td style=\"text-align: right;\">   84</td><td style=\"text-align: right;\">   79</td><td style=\"text-align: right;\">  nan</td><td style=\"text-align: right;\">   19</td><td style=\"text-align: right;\">   14</td><td>SAN  </td><td>SFO  </td><td style=\"text-align: right;\">  447</td><td style=\"text-align: right;\">  nan</td><td style=\"text-align: right;\">  nan</td><td style=\"text-align: right;\">    0</td><td>NA   </td><td style=\"text-align: right;\">    0</td><td style=\"text-align: right;\">  nan</td><td style=\"text-align: right;\">  nan</td><td style=\"text-align: right;\">  nan</td><td style=\"text-align: right;\">  nan</td><td style=\"text-align: right;\">  nan</td><td>YES  </td><td>YES  </td></tr>\n",
       "<tr><td style=\"text-align: right;\">1987</td><td style=\"text-align: right;\">  10</td><td style=\"text-align: right;\">  25</td><td style=\"text-align: right;\">   7</td><td style=\"text-align: right;\"> 729</td><td style=\"text-align: right;\"> 730</td><td style=\"text-align: right;\"> 851</td><td style=\"text-align: right;\"> 849</td><td>PS  </td><td style=\"text-align: right;\"> 1451</td><td>NA   </td><td style=\"text-align: right;\">   82</td><td style=\"text-align: right;\">   79</td><td style=\"text-align: right;\">  nan</td><td style=\"text-align: right;\">    2</td><td style=\"text-align: right;\">   -1</td><td>SAN  </td><td>SFO  </td><td style=\"text-align: right;\">  447</td><td style=\"text-align: right;\">  nan</td><td style=\"text-align: right;\">  nan</td><td style=\"text-align: right;\">    0</td><td>NA   </td><td style=\"text-align: right;\">    0</td><td style=\"text-align: right;\">  nan</td><td style=\"text-align: right;\">  nan</td><td style=\"text-align: right;\">  nan</td><td style=\"text-align: right;\">  nan</td><td style=\"text-align: right;\">  nan</td><td>YES  </td><td>NO   </td></tr>\n",
       "</table>"
      ]
     },
     "metadata": {},
     "output_type": "display_data"
    },
    {
     "data": {
      "text/plain": []
     },
     "execution_count": 7,
     "metadata": {},
     "output_type": "execute_result"
    }
   ],
   "source": [
    "airline_df"
   ]
  },
  {
   "cell_type": "code",
   "execution_count": 7,
   "metadata": {
    "collapsed": false
   },
   "outputs": [
    {
     "name": "stdout",
     "output_type": "stream",
     "text": [
      "Rows:43978\n",
      "Cols:31\n",
      "\n",
      "\n"
     ]
    },
    {
     "data": {
      "text/html": [
       "<table>\n",
       "<tr><th>       </th><th>C1           </th><th>C2           </th><th>C3           </th><th>C4           </th><th>C5           </th><th>C6           </th><th>C7           </th><th>C8           </th><th>C9  </th><th>C10          </th><th>C11  </th><th>C12          </th><th>C13          </th><th>C14          </th><th>C15          </th><th>C16          </th><th>C17  </th><th>C18  </th><th>C19          </th><th>C20          </th><th>C21          </th><th>C22            </th><th>C23  </th><th>C24             </th><th>C25          </th><th>C26           </th><th>C27          </th><th>C28            </th><th>C29          </th><th>C30  </th><th>C31  </th></tr>\n",
       "<tr><td>type   </td><td>int          </td><td>int          </td><td>int          </td><td>int          </td><td>int          </td><td>int          </td><td>int          </td><td>int          </td><td>enum</td><td>int          </td><td>enum </td><td>int          </td><td>int          </td><td>int          </td><td>int          </td><td>int          </td><td>enum </td><td>enum </td><td>int          </td><td>int          </td><td>int          </td><td>int            </td><td>enum </td><td>int             </td><td>int          </td><td>int           </td><td>int          </td><td>int            </td><td>int          </td><td>enum </td><td>enum </td></tr>\n",
       "<tr><td>mins   </td><td>1987.0       </td><td>1.0          </td><td>1.0          </td><td>1.0          </td><td>1.0          </td><td>0.0          </td><td>1.0          </td><td>0.0          </td><td>    </td><td>1.0          </td><td>     </td><td>16.0         </td><td>17.0         </td><td>14.0         </td><td>-63.0        </td><td>-16.0        </td><td>     </td><td>     </td><td>11.0         </td><td>0.0          </td><td>0.0          </td><td>0.0            </td><td>     </td><td>0.0             </td><td>0.0          </td><td>0.0           </td><td>0.0          </td><td>0.0            </td><td>0.0          </td><td>     </td><td>     </td></tr>\n",
       "<tr><td>mean   </td><td>1997.5       </td><td>1.40909090909</td><td>14.6010732639</td><td>3.82061485288</td><td>1345.84666138</td><td>1313.22286143</td><td>1504.63413038</td><td>1485.28916731</td><td>    </td><td>818.842989677</td><td>     </td><td>124.814529135</td><td>125.021562607</td><td>114.316111091</td><td>9.31711193698</td><td>10.0073906556</td><td>     </td><td>     </td><td>730.182190565</td><td>5.38136805953</td><td>14.1686341847</td><td>0.0246941652645</td><td>     </td><td>0.00247851198326</td><td>4.04780029106</td><td>0.289376469271</td><td>4.85503190418</td><td>0.0170155602821</td><td>7.62006045002</td><td>     </td><td>     </td></tr>\n",
       "<tr><td>maxs   </td><td>2008.0       </td><td>10.0         </td><td>31.0         </td><td>7.0          </td><td>2400.0       </td><td>2359.0       </td><td>2400.0       </td><td>2359.0       </td><td>    </td><td>3949.0       </td><td>     </td><td>475.0        </td><td>437.0        </td><td>402.0        </td><td>475.0        </td><td>473.0        </td><td>     </td><td>     </td><td>3365.0       </td><td>128.0        </td><td>254.0        </td><td>1.0            </td><td>     </td><td>1.0             </td><td>369.0        </td><td>201.0         </td><td>323.0        </td><td>14.0           </td><td>373.0        </td><td>     </td><td>     </td></tr>\n",
       "<tr><td>sigma  </td><td>6.34436090171</td><td>1.87471137134</td><td>9.17579042586</td><td>1.90501311913</td><td>465.340899124</td><td>476.251139993</td><td>484.347487904</td><td>492.750434123</td><td>    </td><td>777.404369164</td><td>     </td><td>73.9744416606</td><td>73.40159463  </td><td>69.6363295151</td><td>29.8402219624</td><td>26.4388090429</td><td>     </td><td>     </td><td>578.43800823 </td><td>4.20197993986</td><td>9.9050857472 </td><td>0.155193141358 </td><td>     </td><td>0.0497234872189 </td><td>16.2057299045</td><td>4.41677989873 </td><td>18.6197762215</td><td>0.403940182102 </td><td>23.4875658741</td><td>     </td><td>     </td></tr>\n",
       "<tr><td>zeros  </td><td>0            </td><td>0            </td><td>0            </td><td>0            </td><td>0            </td><td>569          </td><td>0            </td><td>569          </td><td>    </td><td>0            </td><td>     </td><td>0            </td><td>0            </td><td>0            </td><td>1514         </td><td>6393         </td><td>     </td><td>     </td><td>0            </td><td>623          </td><td>557          </td><td>42892          </td><td>     </td><td>43869           </td><td>7344         </td><td>8840          </td><td>7388         </td><td>8914           </td><td>7140         </td><td>     </td><td>     </td></tr>\n",
       "<tr><td>missing</td><td>0            </td><td>0            </td><td>0            </td><td>0            </td><td>1086         </td><td>0            </td><td>1195         </td><td>0            </td><td>0   </td><td>0            </td><td>32   </td><td>1195         </td><td>13           </td><td>16649        </td><td>1195         </td><td>1086         </td><td>0    </td><td>0    </td><td>35           </td><td>16026        </td><td>16024        </td><td>0              </td><td>9774 </td><td>0               </td><td>35045        </td><td>35045         </td><td>35045        </td><td>35045          </td><td>35045        </td><td>0    </td><td>0    </td></tr>\n",
       "<tr><td>0      </td><td>1987.0       </td><td>10.0         </td><td>14.0         </td><td>3.0          </td><td>741.0        </td><td>730.0        </td><td>912.0        </td><td>849.0        </td><td>PS  </td><td>1451.0       </td><td>NA   </td><td>91.0         </td><td>79.0         </td><td>nan          </td><td>23.0         </td><td>11.0         </td><td>SAN  </td><td>SFO  </td><td>447.0        </td><td>nan          </td><td>nan          </td><td>0.0            </td><td>NA   </td><td>0.0             </td><td>nan          </td><td>nan           </td><td>nan          </td><td>nan            </td><td>nan          </td><td>YES  </td><td>YES  </td></tr>\n",
       "<tr><td>1      </td><td>1987.0       </td><td>10.0         </td><td>15.0         </td><td>4.0          </td><td>729.0        </td><td>730.0        </td><td>903.0        </td><td>849.0        </td><td>PS  </td><td>1451.0       </td><td>NA   </td><td>94.0         </td><td>79.0         </td><td>nan          </td><td>14.0         </td><td>-1.0         </td><td>SAN  </td><td>SFO  </td><td>447.0        </td><td>nan          </td><td>nan          </td><td>0.0            </td><td>NA   </td><td>0.0             </td><td>nan          </td><td>nan           </td><td>nan          </td><td>nan            </td><td>nan          </td><td>YES  </td><td>NO   </td></tr>\n",
       "<tr><td>2      </td><td>1987.0       </td><td>10.0         </td><td>17.0         </td><td>6.0          </td><td>741.0        </td><td>730.0        </td><td>918.0        </td><td>849.0        </td><td>PS  </td><td>1451.0       </td><td>NA   </td><td>97.0         </td><td>79.0         </td><td>nan          </td><td>29.0         </td><td>11.0         </td><td>SAN  </td><td>SFO  </td><td>447.0        </td><td>nan          </td><td>nan          </td><td>0.0            </td><td>NA   </td><td>0.0             </td><td>nan          </td><td>nan           </td><td>nan          </td><td>nan            </td><td>nan          </td><td>YES  </td><td>YES  </td></tr>\n",
       "<tr><td>3      </td><td>1987.0       </td><td>10.0         </td><td>18.0         </td><td>7.0          </td><td>729.0        </td><td>730.0        </td><td>847.0        </td><td>849.0        </td><td>PS  </td><td>1451.0       </td><td>NA   </td><td>78.0         </td><td>79.0         </td><td>nan          </td><td>-2.0         </td><td>-1.0         </td><td>SAN  </td><td>SFO  </td><td>447.0        </td><td>nan          </td><td>nan          </td><td>0.0            </td><td>NA   </td><td>0.0             </td><td>nan          </td><td>nan           </td><td>nan          </td><td>nan            </td><td>nan          </td><td>NO   </td><td>NO   </td></tr>\n",
       "<tr><td>4      </td><td>1987.0       </td><td>10.0         </td><td>19.0         </td><td>1.0          </td><td>749.0        </td><td>730.0        </td><td>922.0        </td><td>849.0        </td><td>PS  </td><td>1451.0       </td><td>NA   </td><td>93.0         </td><td>79.0         </td><td>nan          </td><td>33.0         </td><td>19.0         </td><td>SAN  </td><td>SFO  </td><td>447.0        </td><td>nan          </td><td>nan          </td><td>0.0            </td><td>NA   </td><td>0.0             </td><td>nan          </td><td>nan           </td><td>nan          </td><td>nan            </td><td>nan          </td><td>YES  </td><td>YES  </td></tr>\n",
       "<tr><td>5      </td><td>1987.0       </td><td>10.0         </td><td>21.0         </td><td>3.0          </td><td>728.0        </td><td>730.0        </td><td>848.0        </td><td>849.0        </td><td>PS  </td><td>1451.0       </td><td>NA   </td><td>80.0         </td><td>79.0         </td><td>nan          </td><td>-1.0         </td><td>-2.0         </td><td>SAN  </td><td>SFO  </td><td>447.0        </td><td>nan          </td><td>nan          </td><td>0.0            </td><td>NA   </td><td>0.0             </td><td>nan          </td><td>nan           </td><td>nan          </td><td>nan            </td><td>nan          </td><td>NO   </td><td>NO   </td></tr>\n",
       "<tr><td>6      </td><td>1987.0       </td><td>10.0         </td><td>22.0         </td><td>4.0          </td><td>728.0        </td><td>730.0        </td><td>852.0        </td><td>849.0        </td><td>PS  </td><td>1451.0       </td><td>NA   </td><td>84.0         </td><td>79.0         </td><td>nan          </td><td>3.0          </td><td>-2.0         </td><td>SAN  </td><td>SFO  </td><td>447.0        </td><td>nan          </td><td>nan          </td><td>0.0            </td><td>NA   </td><td>0.0             </td><td>nan          </td><td>nan           </td><td>nan          </td><td>nan            </td><td>nan          </td><td>YES  </td><td>NO   </td></tr>\n",
       "<tr><td>7      </td><td>1987.0       </td><td>10.0         </td><td>23.0         </td><td>5.0          </td><td>731.0        </td><td>730.0        </td><td>902.0        </td><td>849.0        </td><td>PS  </td><td>1451.0       </td><td>NA   </td><td>91.0         </td><td>79.0         </td><td>nan          </td><td>13.0         </td><td>1.0          </td><td>SAN  </td><td>SFO  </td><td>447.0        </td><td>nan          </td><td>nan          </td><td>0.0            </td><td>NA   </td><td>0.0             </td><td>nan          </td><td>nan           </td><td>nan          </td><td>nan            </td><td>nan          </td><td>YES  </td><td>YES  </td></tr>\n",
       "<tr><td>8      </td><td>1987.0       </td><td>10.0         </td><td>24.0         </td><td>6.0          </td><td>744.0        </td><td>730.0        </td><td>908.0        </td><td>849.0        </td><td>PS  </td><td>1451.0       </td><td>NA   </td><td>84.0         </td><td>79.0         </td><td>nan          </td><td>19.0         </td><td>14.0         </td><td>SAN  </td><td>SFO  </td><td>447.0        </td><td>nan          </td><td>nan          </td><td>0.0            </td><td>NA   </td><td>0.0             </td><td>nan          </td><td>nan           </td><td>nan          </td><td>nan            </td><td>nan          </td><td>YES  </td><td>YES  </td></tr>\n",
       "<tr><td>9      </td><td>1987.0       </td><td>10.0         </td><td>25.0         </td><td>7.0          </td><td>729.0        </td><td>730.0        </td><td>851.0        </td><td>849.0        </td><td>PS  </td><td>1451.0       </td><td>NA   </td><td>82.0         </td><td>79.0         </td><td>nan          </td><td>2.0          </td><td>-1.0         </td><td>SAN  </td><td>SFO  </td><td>447.0        </td><td>nan          </td><td>nan          </td><td>0.0            </td><td>NA   </td><td>0.0             </td><td>nan          </td><td>nan           </td><td>nan          </td><td>nan            </td><td>nan          </td><td>YES  </td><td>NO   </td></tr>\n",
       "</table>"
      ]
     },
     "metadata": {},
     "output_type": "display_data"
    }
   ],
   "source": [
    "airline_df.describe()"
   ]
  },
  {
   "cell_type": "code",
   "execution_count": 8,
   "metadata": {
    "collapsed": false
   },
   "outputs": [
    {
     "data": {
      "text/plain": [
       "(43978, 31)"
      ]
     },
     "execution_count": 8,
     "metadata": {},
     "output_type": "execute_result"
    }
   ],
   "source": [
    "airline_df.shape"
   ]
  },
  {
   "cell_type": "markdown",
   "metadata": {},
   "source": [
    "# Data Frames in H2O FLOW\n",
    "Add this point if you will see H2O data frames list and you will see the following 2 frames\n",
    "\n",
    "Command: getFrames\n",
    "\n",
    "[Frame Name        Rows  Cols  Size]\n",
    "\n",
    "allyears2k.hex    43978\t31\t2MB\n",
    "\t\t\n",
    "prostate.hex      380\t9\t5KB"
   ]
  },
  {
   "cell_type": "code",
   "execution_count": 9,
   "metadata": {
    "collapsed": true
   },
   "outputs": [],
   "source": [
    "titanic = \"/Users/avkashchauhan/src/github.com/h2oai/h2o-3/smalldata/gbm_test/titanic.csv\""
   ]
  },
  {
   "cell_type": "code",
   "execution_count": 10,
   "metadata": {
    "collapsed": false
   },
   "outputs": [
    {
     "name": "stdout",
     "output_type": "stream",
     "text": [
      "Parse progress: |█████████████████████████████████████████████████████████| 100%\n"
     ]
    }
   ],
   "source": [
    "titanic_df = h2o.upload_file(titanic)"
   ]
  },
  {
   "cell_type": "code",
   "execution_count": 11,
   "metadata": {
    "collapsed": false
   },
   "outputs": [
    {
     "data": {
      "text/html": [
       "<table>\n",
       "<tr><th style=\"text-align: right;\">  pclass</th><th style=\"text-align: right;\">  survived</th><th>name                                           </th><th>sex   </th><th style=\"text-align: right;\">    age</th><th style=\"text-align: right;\">  sibsp</th><th style=\"text-align: right;\">  parch</th><th style=\"text-align: right;\">  ticket</th><th style=\"text-align: right;\">    fare</th><th>cabin  </th><th>embarked  </th><th style=\"text-align: right;\">  boat</th><th style=\"text-align: right;\">  body</th><th>home.dest                      </th></tr>\n",
       "<tr><td style=\"text-align: right;\">       1</td><td style=\"text-align: right;\">         1</td><td>Allen  Miss. Elisabeth Walton                  </td><td>female</td><td style=\"text-align: right;\">29     </td><td style=\"text-align: right;\">      0</td><td style=\"text-align: right;\">      0</td><td style=\"text-align: right;\">   24160</td><td style=\"text-align: right;\">211.338 </td><td>B5     </td><td>S         </td><td style=\"text-align: right;\">     2</td><td style=\"text-align: right;\">   nan</td><td>St Louis  MO                   </td></tr>\n",
       "<tr><td style=\"text-align: right;\">       1</td><td style=\"text-align: right;\">         1</td><td>Allison  Master. Hudson Trevor                 </td><td>male  </td><td style=\"text-align: right;\"> 0.9167</td><td style=\"text-align: right;\">      1</td><td style=\"text-align: right;\">      2</td><td style=\"text-align: right;\">  113781</td><td style=\"text-align: right;\">151.55  </td><td>C22 C26</td><td>S         </td><td style=\"text-align: right;\">    11</td><td style=\"text-align: right;\">   nan</td><td>Montreal  PQ / Chesterville  ON</td></tr>\n",
       "<tr><td style=\"text-align: right;\">       1</td><td style=\"text-align: right;\">         0</td><td>Allison  Miss. Helen Loraine                   </td><td>female</td><td style=\"text-align: right;\"> 2     </td><td style=\"text-align: right;\">      1</td><td style=\"text-align: right;\">      2</td><td style=\"text-align: right;\">  113781</td><td style=\"text-align: right;\">151.55  </td><td>C22 C26</td><td>S         </td><td style=\"text-align: right;\">   nan</td><td style=\"text-align: right;\">   nan</td><td>Montreal  PQ / Chesterville  ON</td></tr>\n",
       "<tr><td style=\"text-align: right;\">       1</td><td style=\"text-align: right;\">         0</td><td>Allison  Mr. Hudson Joshua Creighton           </td><td>male  </td><td style=\"text-align: right;\">30     </td><td style=\"text-align: right;\">      1</td><td style=\"text-align: right;\">      2</td><td style=\"text-align: right;\">  113781</td><td style=\"text-align: right;\">151.55  </td><td>C22 C26</td><td>S         </td><td style=\"text-align: right;\">   nan</td><td style=\"text-align: right;\">   135</td><td>Montreal  PQ / Chesterville  ON</td></tr>\n",
       "<tr><td style=\"text-align: right;\">       1</td><td style=\"text-align: right;\">         0</td><td>Allison  Mrs. Hudson J C (Bessie Waldo Daniels)</td><td>female</td><td style=\"text-align: right;\">25     </td><td style=\"text-align: right;\">      1</td><td style=\"text-align: right;\">      2</td><td style=\"text-align: right;\">  113781</td><td style=\"text-align: right;\">151.55  </td><td>C22 C26</td><td>S         </td><td style=\"text-align: right;\">   nan</td><td style=\"text-align: right;\">   nan</td><td>Montreal  PQ / Chesterville  ON</td></tr>\n",
       "<tr><td style=\"text-align: right;\">       1</td><td style=\"text-align: right;\">         1</td><td>Anderson  Mr. Harry                            </td><td>male  </td><td style=\"text-align: right;\">48     </td><td style=\"text-align: right;\">      0</td><td style=\"text-align: right;\">      0</td><td style=\"text-align: right;\">   19952</td><td style=\"text-align: right;\"> 26.55  </td><td>E12    </td><td>S         </td><td style=\"text-align: right;\">     3</td><td style=\"text-align: right;\">   nan</td><td>New York  NY                   </td></tr>\n",
       "<tr><td style=\"text-align: right;\">       1</td><td style=\"text-align: right;\">         1</td><td>Andrews  Miss. Kornelia Theodosia              </td><td>female</td><td style=\"text-align: right;\">63     </td><td style=\"text-align: right;\">      1</td><td style=\"text-align: right;\">      0</td><td style=\"text-align: right;\">   13502</td><td style=\"text-align: right;\"> 77.9583</td><td>D7     </td><td>S         </td><td style=\"text-align: right;\">    10</td><td style=\"text-align: right;\">   nan</td><td>Hudson  NY                     </td></tr>\n",
       "<tr><td style=\"text-align: right;\">       1</td><td style=\"text-align: right;\">         0</td><td>Andrews  Mr. Thomas Jr                         </td><td>male  </td><td style=\"text-align: right;\">39     </td><td style=\"text-align: right;\">      0</td><td style=\"text-align: right;\">      0</td><td style=\"text-align: right;\">  112050</td><td style=\"text-align: right;\">  0     </td><td>A36    </td><td>S         </td><td style=\"text-align: right;\">   nan</td><td style=\"text-align: right;\">   nan</td><td>Belfast  NI                    </td></tr>\n",
       "<tr><td style=\"text-align: right;\">       1</td><td style=\"text-align: right;\">         1</td><td>Appleton  Mrs. Edward Dale (Charlotte Lamson)  </td><td>female</td><td style=\"text-align: right;\">53     </td><td style=\"text-align: right;\">      2</td><td style=\"text-align: right;\">      0</td><td style=\"text-align: right;\">   11769</td><td style=\"text-align: right;\"> 51.4792</td><td>C101   </td><td>S         </td><td style=\"text-align: right;\">   nan</td><td style=\"text-align: right;\">   nan</td><td>Bayside  Queens  NY            </td></tr>\n",
       "<tr><td style=\"text-align: right;\">       1</td><td style=\"text-align: right;\">         0</td><td>Artagaveytia  Mr. Ramon                        </td><td>male  </td><td style=\"text-align: right;\">71     </td><td style=\"text-align: right;\">      0</td><td style=\"text-align: right;\">      0</td><td style=\"text-align: right;\">     nan</td><td style=\"text-align: right;\"> 49.5042</td><td>       </td><td>C         </td><td style=\"text-align: right;\">   nan</td><td style=\"text-align: right;\">    22</td><td>Montevideo  Uruguay            </td></tr>\n",
       "</table>"
      ]
     },
     "metadata": {},
     "output_type": "display_data"
    },
    {
     "data": {
      "text/plain": []
     },
     "execution_count": 11,
     "metadata": {},
     "output_type": "execute_result"
    }
   ],
   "source": [
    "titanic_df"
   ]
  },
  {
   "cell_type": "code",
   "execution_count": 61,
   "metadata": {
    "collapsed": false
   },
   "outputs": [
    {
     "data": {
      "text/html": [
       "<table>\n",
       "<tr><th style=\"text-align: right;\">  pclass</th><th style=\"text-align: right;\">  survived</th><th>name                                           </th><th>sex   </th><th style=\"text-align: right;\">    age</th><th style=\"text-align: right;\">  sibsp</th><th style=\"text-align: right;\">  parch</th><th style=\"text-align: right;\">  ticket</th><th style=\"text-align: right;\">    fare</th><th>cabin  </th><th>embarked  </th><th style=\"text-align: right;\">  boat</th><th style=\"text-align: right;\">  body</th><th>home.dest                      </th></tr>\n",
       "<tr><td style=\"text-align: right;\">       1</td><td style=\"text-align: right;\">         1</td><td>Allen  Miss. Elisabeth Walton                  </td><td>female</td><td style=\"text-align: right;\">29     </td><td style=\"text-align: right;\">      0</td><td style=\"text-align: right;\">      0</td><td style=\"text-align: right;\">   24160</td><td style=\"text-align: right;\">211.338 </td><td>B5     </td><td>S         </td><td style=\"text-align: right;\">     2</td><td style=\"text-align: right;\">   nan</td><td>St Louis  MO                   </td></tr>\n",
       "<tr><td style=\"text-align: right;\">       1</td><td style=\"text-align: right;\">         1</td><td>Allison  Master. Hudson Trevor                 </td><td>male  </td><td style=\"text-align: right;\"> 0.9167</td><td style=\"text-align: right;\">      1</td><td style=\"text-align: right;\">      2</td><td style=\"text-align: right;\">  113781</td><td style=\"text-align: right;\">151.55  </td><td>C22 C26</td><td>S         </td><td style=\"text-align: right;\">    11</td><td style=\"text-align: right;\">   nan</td><td>Montreal  PQ / Chesterville  ON</td></tr>\n",
       "<tr><td style=\"text-align: right;\">       1</td><td style=\"text-align: right;\">         0</td><td>Allison  Miss. Helen Loraine                   </td><td>female</td><td style=\"text-align: right;\"> 2     </td><td style=\"text-align: right;\">      1</td><td style=\"text-align: right;\">      2</td><td style=\"text-align: right;\">  113781</td><td style=\"text-align: right;\">151.55  </td><td>C22 C26</td><td>S         </td><td style=\"text-align: right;\">   nan</td><td style=\"text-align: right;\">   nan</td><td>Montreal  PQ / Chesterville  ON</td></tr>\n",
       "<tr><td style=\"text-align: right;\">       1</td><td style=\"text-align: right;\">         0</td><td>Allison  Mr. Hudson Joshua Creighton           </td><td>male  </td><td style=\"text-align: right;\">30     </td><td style=\"text-align: right;\">      1</td><td style=\"text-align: right;\">      2</td><td style=\"text-align: right;\">  113781</td><td style=\"text-align: right;\">151.55  </td><td>C22 C26</td><td>S         </td><td style=\"text-align: right;\">   nan</td><td style=\"text-align: right;\">   135</td><td>Montreal  PQ / Chesterville  ON</td></tr>\n",
       "<tr><td style=\"text-align: right;\">       1</td><td style=\"text-align: right;\">         0</td><td>Allison  Mrs. Hudson J C (Bessie Waldo Daniels)</td><td>female</td><td style=\"text-align: right;\">25     </td><td style=\"text-align: right;\">      1</td><td style=\"text-align: right;\">      2</td><td style=\"text-align: right;\">  113781</td><td style=\"text-align: right;\">151.55  </td><td>C22 C26</td><td>S         </td><td style=\"text-align: right;\">   nan</td><td style=\"text-align: right;\">   nan</td><td>Montreal  PQ / Chesterville  ON</td></tr>\n",
       "<tr><td style=\"text-align: right;\">       1</td><td style=\"text-align: right;\">         1</td><td>Anderson  Mr. Harry                            </td><td>male  </td><td style=\"text-align: right;\">48     </td><td style=\"text-align: right;\">      0</td><td style=\"text-align: right;\">      0</td><td style=\"text-align: right;\">   19952</td><td style=\"text-align: right;\"> 26.55  </td><td>E12    </td><td>S         </td><td style=\"text-align: right;\">     3</td><td style=\"text-align: right;\">   nan</td><td>New York  NY                   </td></tr>\n",
       "<tr><td style=\"text-align: right;\">       1</td><td style=\"text-align: right;\">         1</td><td>Andrews  Miss. Kornelia Theodosia              </td><td>female</td><td style=\"text-align: right;\">63     </td><td style=\"text-align: right;\">      1</td><td style=\"text-align: right;\">      0</td><td style=\"text-align: right;\">   13502</td><td style=\"text-align: right;\"> 77.9583</td><td>D7     </td><td>S         </td><td style=\"text-align: right;\">    10</td><td style=\"text-align: right;\">   nan</td><td>Hudson  NY                     </td></tr>\n",
       "<tr><td style=\"text-align: right;\">       1</td><td style=\"text-align: right;\">         0</td><td>Andrews  Mr. Thomas Jr                         </td><td>male  </td><td style=\"text-align: right;\">39     </td><td style=\"text-align: right;\">      0</td><td style=\"text-align: right;\">      0</td><td style=\"text-align: right;\">  112050</td><td style=\"text-align: right;\">  0     </td><td>A36    </td><td>S         </td><td style=\"text-align: right;\">   nan</td><td style=\"text-align: right;\">   nan</td><td>Belfast  NI                    </td></tr>\n",
       "<tr><td style=\"text-align: right;\">       1</td><td style=\"text-align: right;\">         1</td><td>Appleton  Mrs. Edward Dale (Charlotte Lamson)  </td><td>female</td><td style=\"text-align: right;\">53     </td><td style=\"text-align: right;\">      2</td><td style=\"text-align: right;\">      0</td><td style=\"text-align: right;\">   11769</td><td style=\"text-align: right;\"> 51.4792</td><td>C101   </td><td>S         </td><td style=\"text-align: right;\">   nan</td><td style=\"text-align: right;\">   nan</td><td>Bayside  Queens  NY            </td></tr>\n",
       "<tr><td style=\"text-align: right;\">       1</td><td style=\"text-align: right;\">         0</td><td>Artagaveytia  Mr. Ramon                        </td><td>male  </td><td style=\"text-align: right;\">71     </td><td style=\"text-align: right;\">      0</td><td style=\"text-align: right;\">      0</td><td style=\"text-align: right;\">     nan</td><td style=\"text-align: right;\"> 49.5042</td><td>       </td><td>C         </td><td style=\"text-align: right;\">   nan</td><td style=\"text-align: right;\">    22</td><td>Montevideo  Uruguay            </td></tr>\n",
       "</table>"
      ]
     },
     "metadata": {},
     "output_type": "display_data"
    },
    {
     "data": {
      "text/plain": [
       "<bound method H2OFrame.show of >"
      ]
     },
     "execution_count": 61,
     "metadata": {},
     "output_type": "execute_result"
    }
   ],
   "source": [
    "titanic_df.show"
   ]
  },
  {
   "cell_type": "code",
   "execution_count": 12,
   "metadata": {
    "collapsed": false
   },
   "outputs": [
    {
     "data": {
      "text/html": [
       "<table>\n",
       "<tr><th style=\"text-align: right;\">  pclass</th><th style=\"text-align: right;\">  survived</th><th>name                                           </th><th>sex   </th><th style=\"text-align: right;\">    age</th><th style=\"text-align: right;\">  sibsp</th><th style=\"text-align: right;\">  parch</th><th style=\"text-align: right;\">  ticket</th><th style=\"text-align: right;\">    fare</th><th>cabin  </th><th>embarked  </th><th style=\"text-align: right;\">  boat</th><th style=\"text-align: right;\">  body</th><th>home.dest                      </th></tr>\n",
       "<tr><td style=\"text-align: right;\">       1</td><td style=\"text-align: right;\">         1</td><td>Allen  Miss. Elisabeth Walton                  </td><td>female</td><td style=\"text-align: right;\">29     </td><td style=\"text-align: right;\">      0</td><td style=\"text-align: right;\">      0</td><td style=\"text-align: right;\">   24160</td><td style=\"text-align: right;\">211.338 </td><td>B5     </td><td>S         </td><td style=\"text-align: right;\">     2</td><td style=\"text-align: right;\">   nan</td><td>St Louis  MO                   </td></tr>\n",
       "<tr><td style=\"text-align: right;\">       1</td><td style=\"text-align: right;\">         1</td><td>Allison  Master. Hudson Trevor                 </td><td>male  </td><td style=\"text-align: right;\"> 0.9167</td><td style=\"text-align: right;\">      1</td><td style=\"text-align: right;\">      2</td><td style=\"text-align: right;\">  113781</td><td style=\"text-align: right;\">151.55  </td><td>C22 C26</td><td>S         </td><td style=\"text-align: right;\">    11</td><td style=\"text-align: right;\">   nan</td><td>Montreal  PQ / Chesterville  ON</td></tr>\n",
       "<tr><td style=\"text-align: right;\">       1</td><td style=\"text-align: right;\">         0</td><td>Allison  Miss. Helen Loraine                   </td><td>female</td><td style=\"text-align: right;\"> 2     </td><td style=\"text-align: right;\">      1</td><td style=\"text-align: right;\">      2</td><td style=\"text-align: right;\">  113781</td><td style=\"text-align: right;\">151.55  </td><td>C22 C26</td><td>S         </td><td style=\"text-align: right;\">   nan</td><td style=\"text-align: right;\">   nan</td><td>Montreal  PQ / Chesterville  ON</td></tr>\n",
       "<tr><td style=\"text-align: right;\">       1</td><td style=\"text-align: right;\">         0</td><td>Allison  Mr. Hudson Joshua Creighton           </td><td>male  </td><td style=\"text-align: right;\">30     </td><td style=\"text-align: right;\">      1</td><td style=\"text-align: right;\">      2</td><td style=\"text-align: right;\">  113781</td><td style=\"text-align: right;\">151.55  </td><td>C22 C26</td><td>S         </td><td style=\"text-align: right;\">   nan</td><td style=\"text-align: right;\">   135</td><td>Montreal  PQ / Chesterville  ON</td></tr>\n",
       "<tr><td style=\"text-align: right;\">       1</td><td style=\"text-align: right;\">         0</td><td>Allison  Mrs. Hudson J C (Bessie Waldo Daniels)</td><td>female</td><td style=\"text-align: right;\">25     </td><td style=\"text-align: right;\">      1</td><td style=\"text-align: right;\">      2</td><td style=\"text-align: right;\">  113781</td><td style=\"text-align: right;\">151.55  </td><td>C22 C26</td><td>S         </td><td style=\"text-align: right;\">   nan</td><td style=\"text-align: right;\">   nan</td><td>Montreal  PQ / Chesterville  ON</td></tr>\n",
       "<tr><td style=\"text-align: right;\">       1</td><td style=\"text-align: right;\">         1</td><td>Anderson  Mr. Harry                            </td><td>male  </td><td style=\"text-align: right;\">48     </td><td style=\"text-align: right;\">      0</td><td style=\"text-align: right;\">      0</td><td style=\"text-align: right;\">   19952</td><td style=\"text-align: right;\"> 26.55  </td><td>E12    </td><td>S         </td><td style=\"text-align: right;\">     3</td><td style=\"text-align: right;\">   nan</td><td>New York  NY                   </td></tr>\n",
       "<tr><td style=\"text-align: right;\">       1</td><td style=\"text-align: right;\">         1</td><td>Andrews  Miss. Kornelia Theodosia              </td><td>female</td><td style=\"text-align: right;\">63     </td><td style=\"text-align: right;\">      1</td><td style=\"text-align: right;\">      0</td><td style=\"text-align: right;\">   13502</td><td style=\"text-align: right;\"> 77.9583</td><td>D7     </td><td>S         </td><td style=\"text-align: right;\">    10</td><td style=\"text-align: right;\">   nan</td><td>Hudson  NY                     </td></tr>\n",
       "<tr><td style=\"text-align: right;\">       1</td><td style=\"text-align: right;\">         0</td><td>Andrews  Mr. Thomas Jr                         </td><td>male  </td><td style=\"text-align: right;\">39     </td><td style=\"text-align: right;\">      0</td><td style=\"text-align: right;\">      0</td><td style=\"text-align: right;\">  112050</td><td style=\"text-align: right;\">  0     </td><td>A36    </td><td>S         </td><td style=\"text-align: right;\">   nan</td><td style=\"text-align: right;\">   nan</td><td>Belfast  NI                    </td></tr>\n",
       "<tr><td style=\"text-align: right;\">       1</td><td style=\"text-align: right;\">         1</td><td>Appleton  Mrs. Edward Dale (Charlotte Lamson)  </td><td>female</td><td style=\"text-align: right;\">53     </td><td style=\"text-align: right;\">      2</td><td style=\"text-align: right;\">      0</td><td style=\"text-align: right;\">   11769</td><td style=\"text-align: right;\"> 51.4792</td><td>C101   </td><td>S         </td><td style=\"text-align: right;\">   nan</td><td style=\"text-align: right;\">   nan</td><td>Bayside  Queens  NY            </td></tr>\n",
       "<tr><td style=\"text-align: right;\">       1</td><td style=\"text-align: right;\">         0</td><td>Artagaveytia  Mr. Ramon                        </td><td>male  </td><td style=\"text-align: right;\">71     </td><td style=\"text-align: right;\">      0</td><td style=\"text-align: right;\">      0</td><td style=\"text-align: right;\">     nan</td><td style=\"text-align: right;\"> 49.5042</td><td>       </td><td>C         </td><td style=\"text-align: right;\">   nan</td><td style=\"text-align: right;\">    22</td><td>Montevideo  Uruguay            </td></tr>\n",
       "</table>"
      ]
     },
     "metadata": {},
     "output_type": "display_data"
    },
    {
     "data": {
      "text/plain": []
     },
     "execution_count": 12,
     "metadata": {},
     "output_type": "execute_result"
    }
   ],
   "source": [
    "titanic_df.head()"
   ]
  },
  {
   "cell_type": "code",
   "execution_count": 13,
   "metadata": {
    "collapsed": false
   },
   "outputs": [
    {
     "data": {
      "text/html": [
       "<table>\n",
       "<tr><th style=\"text-align: right;\">  pclass</th><th style=\"text-align: right;\">  survived</th><th>name                                   </th><th>sex   </th><th style=\"text-align: right;\">  age</th><th style=\"text-align: right;\">  sibsp</th><th style=\"text-align: right;\">  parch</th><th style=\"text-align: right;\">  ticket</th><th style=\"text-align: right;\">   fare</th><th>cabin  </th><th>embarked  </th><th style=\"text-align: right;\">  boat</th><th style=\"text-align: right;\">  body</th><th>home.dest  </th></tr>\n",
       "<tr><td style=\"text-align: right;\">       3</td><td style=\"text-align: right;\">         0</td><td>Yasbeck  Mr. Antoni                    </td><td>male  </td><td style=\"text-align: right;\"> 27  </td><td style=\"text-align: right;\">      1</td><td style=\"text-align: right;\">      0</td><td style=\"text-align: right;\">    2659</td><td style=\"text-align: right;\">14.4542</td><td>       </td><td>C         </td><td style=\"text-align: right;\">   nan</td><td style=\"text-align: right;\">   nan</td><td>           </td></tr>\n",
       "<tr><td style=\"text-align: right;\">       3</td><td style=\"text-align: right;\">         1</td><td>Yasbeck  Mrs. Antoni (Selini Alexander)</td><td>female</td><td style=\"text-align: right;\"> 15  </td><td style=\"text-align: right;\">      1</td><td style=\"text-align: right;\">      0</td><td style=\"text-align: right;\">    2659</td><td style=\"text-align: right;\">14.4542</td><td>       </td><td>C         </td><td style=\"text-align: right;\">   nan</td><td style=\"text-align: right;\">   nan</td><td>           </td></tr>\n",
       "<tr><td style=\"text-align: right;\">       3</td><td style=\"text-align: right;\">         0</td><td>Youseff  Mr. Gerious                   </td><td>male  </td><td style=\"text-align: right;\"> 45.5</td><td style=\"text-align: right;\">      0</td><td style=\"text-align: right;\">      0</td><td style=\"text-align: right;\">    2628</td><td style=\"text-align: right;\"> 7.225 </td><td>       </td><td>C         </td><td style=\"text-align: right;\">   nan</td><td style=\"text-align: right;\">   312</td><td>           </td></tr>\n",
       "<tr><td style=\"text-align: right;\">       3</td><td style=\"text-align: right;\">         0</td><td>Yousif  Mr. Wazli                      </td><td>male  </td><td style=\"text-align: right;\">nan  </td><td style=\"text-align: right;\">      0</td><td style=\"text-align: right;\">      0</td><td style=\"text-align: right;\">    2647</td><td style=\"text-align: right;\"> 7.225 </td><td>       </td><td>C         </td><td style=\"text-align: right;\">   nan</td><td style=\"text-align: right;\">   nan</td><td>           </td></tr>\n",
       "<tr><td style=\"text-align: right;\">       3</td><td style=\"text-align: right;\">         0</td><td>Yousseff  Mr. Gerious                  </td><td>male  </td><td style=\"text-align: right;\">nan  </td><td style=\"text-align: right;\">      0</td><td style=\"text-align: right;\">      0</td><td style=\"text-align: right;\">    2627</td><td style=\"text-align: right;\">14.4583</td><td>       </td><td>C         </td><td style=\"text-align: right;\">   nan</td><td style=\"text-align: right;\">   nan</td><td>           </td></tr>\n",
       "<tr><td style=\"text-align: right;\">       3</td><td style=\"text-align: right;\">         0</td><td>Zabour  Miss. Hileni                   </td><td>female</td><td style=\"text-align: right;\"> 14.5</td><td style=\"text-align: right;\">      1</td><td style=\"text-align: right;\">      0</td><td style=\"text-align: right;\">    2665</td><td style=\"text-align: right;\">14.4542</td><td>       </td><td>C         </td><td style=\"text-align: right;\">   nan</td><td style=\"text-align: right;\">   328</td><td>           </td></tr>\n",
       "<tr><td style=\"text-align: right;\">       3</td><td style=\"text-align: right;\">         0</td><td>Zabour  Miss. Thamine                  </td><td>female</td><td style=\"text-align: right;\">nan  </td><td style=\"text-align: right;\">      1</td><td style=\"text-align: right;\">      0</td><td style=\"text-align: right;\">    2665</td><td style=\"text-align: right;\">14.4542</td><td>       </td><td>C         </td><td style=\"text-align: right;\">   nan</td><td style=\"text-align: right;\">   nan</td><td>           </td></tr>\n",
       "<tr><td style=\"text-align: right;\">       3</td><td style=\"text-align: right;\">         0</td><td>Zakarian  Mr. Mapriededer              </td><td>male  </td><td style=\"text-align: right;\"> 26.5</td><td style=\"text-align: right;\">      0</td><td style=\"text-align: right;\">      0</td><td style=\"text-align: right;\">    2656</td><td style=\"text-align: right;\"> 7.225 </td><td>       </td><td>C         </td><td style=\"text-align: right;\">   nan</td><td style=\"text-align: right;\">   304</td><td>           </td></tr>\n",
       "<tr><td style=\"text-align: right;\">       3</td><td style=\"text-align: right;\">         0</td><td>Zakarian  Mr. Ortin                    </td><td>male  </td><td style=\"text-align: right;\"> 27  </td><td style=\"text-align: right;\">      0</td><td style=\"text-align: right;\">      0</td><td style=\"text-align: right;\">    2670</td><td style=\"text-align: right;\"> 7.225 </td><td>       </td><td>C         </td><td style=\"text-align: right;\">   nan</td><td style=\"text-align: right;\">   nan</td><td>           </td></tr>\n",
       "<tr><td style=\"text-align: right;\">       3</td><td style=\"text-align: right;\">         0</td><td>Zimmerman  Mr. Leo                     </td><td>male  </td><td style=\"text-align: right;\"> 29  </td><td style=\"text-align: right;\">      0</td><td style=\"text-align: right;\">      0</td><td style=\"text-align: right;\">  315082</td><td style=\"text-align: right;\"> 7.875 </td><td>       </td><td>S         </td><td style=\"text-align: right;\">   nan</td><td style=\"text-align: right;\">   nan</td><td>           </td></tr>\n",
       "</table>"
      ]
     },
     "metadata": {},
     "output_type": "display_data"
    },
    {
     "data": {
      "text/plain": []
     },
     "execution_count": 13,
     "metadata": {},
     "output_type": "execute_result"
    }
   ],
   "source": [
    "titanic_df.tail()"
   ]
  },
  {
   "cell_type": "code",
   "execution_count": 54,
   "metadata": {
    "collapsed": false
   },
   "outputs": [
    {
     "data": {
      "text/plain": [
       "14"
      ]
     },
     "execution_count": 54,
     "metadata": {},
     "output_type": "execute_result"
    }
   ],
   "source": [
    "titanic_df.ncol"
   ]
  },
  {
   "cell_type": "code",
   "execution_count": 55,
   "metadata": {
    "collapsed": false
   },
   "outputs": [
    {
     "data": {
      "text/plain": [
       "1309"
      ]
     },
     "execution_count": 55,
     "metadata": {},
     "output_type": "execute_result"
    }
   ],
   "source": [
    "titanic_df.nrow"
   ]
  },
  {
   "cell_type": "code",
   "execution_count": 56,
   "metadata": {
    "collapsed": false
   },
   "outputs": [
    {
     "data": {
      "text/html": [
       "<table>\n",
       "<tr><th style=\"text-align: right;\">  pclass</th><th style=\"text-align: right;\">  survived</th><th>name                                           </th><th>sex   </th><th style=\"text-align: right;\">    age</th><th style=\"text-align: right;\">  sibsp</th><th style=\"text-align: right;\">  parch</th><th style=\"text-align: right;\">  ticket</th><th style=\"text-align: right;\">    fare</th><th>cabin  </th><th>embarked  </th><th style=\"text-align: right;\">  boat</th><th style=\"text-align: right;\">  body</th><th>home.dest                      </th></tr>\n",
       "<tr><td style=\"text-align: right;\">       1</td><td style=\"text-align: right;\">         1</td><td>Allen  Miss. Elisabeth Walton                  </td><td>female</td><td style=\"text-align: right;\">29     </td><td style=\"text-align: right;\">      0</td><td style=\"text-align: right;\">      0</td><td style=\"text-align: right;\">   24160</td><td style=\"text-align: right;\">211.338 </td><td>B5     </td><td>S         </td><td style=\"text-align: right;\">     2</td><td style=\"text-align: right;\">   nan</td><td>St Louis  MO                   </td></tr>\n",
       "<tr><td style=\"text-align: right;\">       1</td><td style=\"text-align: right;\">         1</td><td>Allison  Master. Hudson Trevor                 </td><td>male  </td><td style=\"text-align: right;\"> 0.9167</td><td style=\"text-align: right;\">      1</td><td style=\"text-align: right;\">      2</td><td style=\"text-align: right;\">  113781</td><td style=\"text-align: right;\">151.55  </td><td>C22 C26</td><td>S         </td><td style=\"text-align: right;\">    11</td><td style=\"text-align: right;\">   nan</td><td>Montreal  PQ / Chesterville  ON</td></tr>\n",
       "<tr><td style=\"text-align: right;\">       1</td><td style=\"text-align: right;\">         0</td><td>Allison  Miss. Helen Loraine                   </td><td>female</td><td style=\"text-align: right;\"> 2     </td><td style=\"text-align: right;\">      1</td><td style=\"text-align: right;\">      2</td><td style=\"text-align: right;\">  113781</td><td style=\"text-align: right;\">151.55  </td><td>C22 C26</td><td>S         </td><td style=\"text-align: right;\">   nan</td><td style=\"text-align: right;\">   nan</td><td>Montreal  PQ / Chesterville  ON</td></tr>\n",
       "<tr><td style=\"text-align: right;\">       1</td><td style=\"text-align: right;\">         0</td><td>Allison  Mr. Hudson Joshua Creighton           </td><td>male  </td><td style=\"text-align: right;\">30     </td><td style=\"text-align: right;\">      1</td><td style=\"text-align: right;\">      2</td><td style=\"text-align: right;\">  113781</td><td style=\"text-align: right;\">151.55  </td><td>C22 C26</td><td>S         </td><td style=\"text-align: right;\">   nan</td><td style=\"text-align: right;\">   135</td><td>Montreal  PQ / Chesterville  ON</td></tr>\n",
       "<tr><td style=\"text-align: right;\">       1</td><td style=\"text-align: right;\">         0</td><td>Allison  Mrs. Hudson J C (Bessie Waldo Daniels)</td><td>female</td><td style=\"text-align: right;\">25     </td><td style=\"text-align: right;\">      1</td><td style=\"text-align: right;\">      2</td><td style=\"text-align: right;\">  113781</td><td style=\"text-align: right;\">151.55  </td><td>C22 C26</td><td>S         </td><td style=\"text-align: right;\">   nan</td><td style=\"text-align: right;\">   nan</td><td>Montreal  PQ / Chesterville  ON</td></tr>\n",
       "<tr><td style=\"text-align: right;\">       1</td><td style=\"text-align: right;\">         1</td><td>Anderson  Mr. Harry                            </td><td>male  </td><td style=\"text-align: right;\">48     </td><td style=\"text-align: right;\">      0</td><td style=\"text-align: right;\">      0</td><td style=\"text-align: right;\">   19952</td><td style=\"text-align: right;\"> 26.55  </td><td>E12    </td><td>S         </td><td style=\"text-align: right;\">     3</td><td style=\"text-align: right;\">   nan</td><td>New York  NY                   </td></tr>\n",
       "<tr><td style=\"text-align: right;\">       1</td><td style=\"text-align: right;\">         1</td><td>Andrews  Miss. Kornelia Theodosia              </td><td>female</td><td style=\"text-align: right;\">63     </td><td style=\"text-align: right;\">      1</td><td style=\"text-align: right;\">      0</td><td style=\"text-align: right;\">   13502</td><td style=\"text-align: right;\"> 77.9583</td><td>D7     </td><td>S         </td><td style=\"text-align: right;\">    10</td><td style=\"text-align: right;\">   nan</td><td>Hudson  NY                     </td></tr>\n",
       "<tr><td style=\"text-align: right;\">       1</td><td style=\"text-align: right;\">         0</td><td>Andrews  Mr. Thomas Jr                         </td><td>male  </td><td style=\"text-align: right;\">39     </td><td style=\"text-align: right;\">      0</td><td style=\"text-align: right;\">      0</td><td style=\"text-align: right;\">  112050</td><td style=\"text-align: right;\">  0     </td><td>A36    </td><td>S         </td><td style=\"text-align: right;\">   nan</td><td style=\"text-align: right;\">   nan</td><td>Belfast  NI                    </td></tr>\n",
       "<tr><td style=\"text-align: right;\">       1</td><td style=\"text-align: right;\">         1</td><td>Appleton  Mrs. Edward Dale (Charlotte Lamson)  </td><td>female</td><td style=\"text-align: right;\">53     </td><td style=\"text-align: right;\">      2</td><td style=\"text-align: right;\">      0</td><td style=\"text-align: right;\">   11769</td><td style=\"text-align: right;\"> 51.4792</td><td>C101   </td><td>S         </td><td style=\"text-align: right;\">   nan</td><td style=\"text-align: right;\">   nan</td><td>Bayside  Queens  NY            </td></tr>\n",
       "<tr><td style=\"text-align: right;\">       1</td><td style=\"text-align: right;\">         0</td><td>Artagaveytia  Mr. Ramon                        </td><td>male  </td><td style=\"text-align: right;\">71     </td><td style=\"text-align: right;\">      0</td><td style=\"text-align: right;\">      0</td><td style=\"text-align: right;\">     nan</td><td style=\"text-align: right;\"> 49.5042</td><td>       </td><td>C         </td><td style=\"text-align: right;\">   nan</td><td style=\"text-align: right;\">    22</td><td>Montevideo  Uruguay            </td></tr>\n",
       "</table>"
      ]
     },
     "metadata": {},
     "output_type": "display_data"
    },
    {
     "data": {
      "text/plain": []
     },
     "execution_count": 56,
     "metadata": {},
     "output_type": "execute_result"
    }
   ],
   "source": [
    "titanic_df.head()"
   ]
  },
  {
   "cell_type": "code",
   "execution_count": 57,
   "metadata": {
    "collapsed": false
   },
   "outputs": [
    {
     "data": {
      "text/html": [
       "<table>\n",
       "<tr><th style=\"text-align: right;\">  pclass</th><th style=\"text-align: right;\">  survived</th><th>name                         </th><th>sex   </th><th style=\"text-align: right;\">  age</th><th style=\"text-align: right;\">  sibsp</th><th style=\"text-align: right;\">  parch</th><th style=\"text-align: right;\">  ticket</th><th style=\"text-align: right;\">   fare</th><th>cabin  </th><th>embarked  </th><th style=\"text-align: right;\">  boat</th><th style=\"text-align: right;\">  body</th><th>home.dest   </th></tr>\n",
       "<tr><td style=\"text-align: right;\">       1</td><td style=\"text-align: right;\">         1</td><td>Allen  Miss. Elisabeth Walton</td><td>female</td><td style=\"text-align: right;\">   29</td><td style=\"text-align: right;\">      0</td><td style=\"text-align: right;\">      0</td><td style=\"text-align: right;\">   24160</td><td style=\"text-align: right;\">211.338</td><td>B5     </td><td>S         </td><td style=\"text-align: right;\">     2</td><td style=\"text-align: right;\">   nan</td><td>St Louis  MO</td></tr>\n",
       "</table>"
      ]
     },
     "metadata": {},
     "output_type": "display_data"
    },
    {
     "data": {
      "text/plain": []
     },
     "execution_count": 57,
     "metadata": {},
     "output_type": "execute_result"
    }
   ],
   "source": [
    "titanic_df.head(1)"
   ]
  },
  {
   "cell_type": "code",
   "execution_count": 58,
   "metadata": {
    "collapsed": false
   },
   "outputs": [
    {
     "data": {
      "text/html": [
       "<table>\n",
       "<tr><th style=\"text-align: right;\">  pclass</th><th style=\"text-align: right;\">  survived</th><th>name                         </th><th>sex   </th><th style=\"text-align: right;\">  age</th><th style=\"text-align: right;\">  sibsp</th></tr>\n",
       "<tr><td style=\"text-align: right;\">       1</td><td style=\"text-align: right;\">         1</td><td>Allen  Miss. Elisabeth Walton</td><td>female</td><td style=\"text-align: right;\">   29</td><td style=\"text-align: right;\">      0</td></tr>\n",
       "</table>"
      ]
     },
     "metadata": {},
     "output_type": "display_data"
    },
    {
     "data": {
      "text/plain": []
     },
     "execution_count": 58,
     "metadata": {},
     "output_type": "execute_result"
    }
   ],
   "source": [
    "titanic_df.head(1,6)"
   ]
  },
  {
   "cell_type": "code",
   "execution_count": 60,
   "metadata": {
    "collapsed": false
   },
   "outputs": [
    {
     "data": {
      "text/html": [
       "<table>\n",
       "<tr><th style=\"text-align: right;\">  pclass</th><th style=\"text-align: right;\">  survived</th><th>name                          </th><th>sex   </th><th style=\"text-align: right;\">    age</th><th style=\"text-align: right;\">  sibsp</th></tr>\n",
       "<tr><td style=\"text-align: right;\">       1</td><td style=\"text-align: right;\">         1</td><td>Allen  Miss. Elisabeth Walton </td><td>female</td><td style=\"text-align: right;\">29     </td><td style=\"text-align: right;\">      0</td></tr>\n",
       "<tr><td style=\"text-align: right;\">       1</td><td style=\"text-align: right;\">         1</td><td>Allison  Master. Hudson Trevor</td><td>male  </td><td style=\"text-align: right;\"> 0.9167</td><td style=\"text-align: right;\">      1</td></tr>\n",
       "</table>"
      ]
     },
     "metadata": {},
     "output_type": "display_data"
    },
    {
     "data": {
      "text/plain": []
     },
     "execution_count": 60,
     "metadata": {},
     "output_type": "execute_result"
    }
   ],
   "source": [
    "titanic_df.head(2,6)"
   ]
  },
  {
   "cell_type": "code",
   "execution_count": 59,
   "metadata": {
    "collapsed": false
   },
   "outputs": [
    {
     "data": {
      "text/html": [
       "<table>\n",
       "<tr><th style=\"text-align: right;\">  pclass</th><th style=\"text-align: right;\">  survived</th><th>name                                           </th><th>sex   </th><th style=\"text-align: right;\">    age</th><th style=\"text-align: right;\">  sibsp</th><th style=\"text-align: right;\">  parch</th><th style=\"text-align: right;\">  ticket</th><th style=\"text-align: right;\">   fare</th><th>cabin  </th><th>embarked  </th><th style=\"text-align: right;\">  boat</th><th style=\"text-align: right;\">  body</th><th>home.dest                      </th></tr>\n",
       "<tr><td style=\"text-align: right;\">       1</td><td style=\"text-align: right;\">         1</td><td>Allen  Miss. Elisabeth Walton                  </td><td>female</td><td style=\"text-align: right;\">29     </td><td style=\"text-align: right;\">      0</td><td style=\"text-align: right;\">      0</td><td style=\"text-align: right;\">   24160</td><td style=\"text-align: right;\">211.338</td><td>B5     </td><td>S         </td><td style=\"text-align: right;\">     2</td><td style=\"text-align: right;\">   nan</td><td>St Louis  MO                   </td></tr>\n",
       "<tr><td style=\"text-align: right;\">       1</td><td style=\"text-align: right;\">         1</td><td>Allison  Master. Hudson Trevor                 </td><td>male  </td><td style=\"text-align: right;\"> 0.9167</td><td style=\"text-align: right;\">      1</td><td style=\"text-align: right;\">      2</td><td style=\"text-align: right;\">  113781</td><td style=\"text-align: right;\">151.55 </td><td>C22 C26</td><td>S         </td><td style=\"text-align: right;\">    11</td><td style=\"text-align: right;\">   nan</td><td>Montreal  PQ / Chesterville  ON</td></tr>\n",
       "<tr><td style=\"text-align: right;\">       1</td><td style=\"text-align: right;\">         0</td><td>Allison  Miss. Helen Loraine                   </td><td>female</td><td style=\"text-align: right;\"> 2     </td><td style=\"text-align: right;\">      1</td><td style=\"text-align: right;\">      2</td><td style=\"text-align: right;\">  113781</td><td style=\"text-align: right;\">151.55 </td><td>C22 C26</td><td>S         </td><td style=\"text-align: right;\">   nan</td><td style=\"text-align: right;\">   nan</td><td>Montreal  PQ / Chesterville  ON</td></tr>\n",
       "<tr><td style=\"text-align: right;\">       1</td><td style=\"text-align: right;\">         0</td><td>Allison  Mr. Hudson Joshua Creighton           </td><td>male  </td><td style=\"text-align: right;\">30     </td><td style=\"text-align: right;\">      1</td><td style=\"text-align: right;\">      2</td><td style=\"text-align: right;\">  113781</td><td style=\"text-align: right;\">151.55 </td><td>C22 C26</td><td>S         </td><td style=\"text-align: right;\">   nan</td><td style=\"text-align: right;\">   135</td><td>Montreal  PQ / Chesterville  ON</td></tr>\n",
       "<tr><td style=\"text-align: right;\">       1</td><td style=\"text-align: right;\">         0</td><td>Allison  Mrs. Hudson J C (Bessie Waldo Daniels)</td><td>female</td><td style=\"text-align: right;\">25     </td><td style=\"text-align: right;\">      1</td><td style=\"text-align: right;\">      2</td><td style=\"text-align: right;\">  113781</td><td style=\"text-align: right;\">151.55 </td><td>C22 C26</td><td>S         </td><td style=\"text-align: right;\">   nan</td><td style=\"text-align: right;\">   nan</td><td>Montreal  PQ / Chesterville  ON</td></tr>\n",
       "</table>"
      ]
     },
     "metadata": {},
     "output_type": "display_data"
    },
    {
     "data": {
      "text/plain": []
     },
     "execution_count": 59,
     "metadata": {},
     "output_type": "execute_result"
    }
   ],
   "source": [
    "titanic_df.head(5,20) # 1,1 | 1,10 | 5,10 | 5, airline_df.ncol | "
   ]
  },
  {
   "cell_type": "markdown",
   "metadata": {},
   "source": [
    "# Data Frames in H2O FLOW\n",
    "Add this point if you will see H2O data frames list and you will see the following 3 frames\n",
    "\n",
    "Command: getFrames\n",
    "\n",
    "allyears2k.hex 43978 31 2MB\n",
    "\n",
    "prostate.hex 380 9 5KB\n",
    "\n",
    "Key_Frame__upload_b34573442d4bb7de676d72ce9d6e41f3.hex      1309\t14\t121KB"
   ]
  },
  {
   "cell_type": "code",
   "execution_count": 14,
   "metadata": {
    "collapsed": false
   },
   "outputs": [
    {
     "name": "stdout",
     "output_type": "stream",
     "text": [
      "Parse progress: |█████████████████████████████████████████████████████████| 100%\n"
     ]
    }
   ],
   "source": [
    "my_titanic_df = h2o.upload_file(titanic, destination_frame = \"my_titanic.hex\")"
   ]
  },
  {
   "cell_type": "markdown",
   "metadata": {},
   "source": [
    "# Data frames in H2O FLOW\n",
    "Add this point if you will see H2O data frames list and you will see the following 4 frames\n",
    "\n",
    "Command: getFrames\n",
    "\n",
    "allyears2k.hex 43978 31 2MB\n",
    "\n",
    "prostate.hex 380 9 5KB\n",
    "\n",
    "Key_Frame__upload_b34573442d4bb7de676d72ce9d6e41f3.hex 1309 14 121KB\n",
    "\n",
    "my_titanic.hex      1309\t14\t121KB"
   ]
  },
  {
   "cell_type": "code",
   "execution_count": 15,
   "metadata": {
    "collapsed": false
   },
   "outputs": [
    {
     "data": {
      "text/plain": [
       "[u'ID',\n",
       " u'CAPSULE',\n",
       " u'AGE',\n",
       " u'RACE',\n",
       " u'DPROS',\n",
       " u'DCAPS',\n",
       " u'PSA',\n",
       " u'VOL',\n",
       " u'GLEASON']"
      ]
     },
     "execution_count": 15,
     "metadata": {},
     "output_type": "execute_result"
    }
   ],
   "source": [
    "# List Column Names\n",
    "prostate_df.col_names"
   ]
  },
  {
   "cell_type": "markdown",
   "metadata": {},
   "source": [
    "# Slicing rows by Index"
   ]
  },
  {
   "cell_type": "code",
   "execution_count": 16,
   "metadata": {
    "collapsed": false
   },
   "outputs": [
    {
     "data": {
      "text/html": [
       "<table>\n",
       "<tr><th style=\"text-align: right;\">  ID</th><th style=\"text-align: right;\">  CAPSULE</th><th style=\"text-align: right;\">  AGE</th><th style=\"text-align: right;\">  RACE</th><th style=\"text-align: right;\">  DPROS</th><th style=\"text-align: right;\">  DCAPS</th><th style=\"text-align: right;\">  PSA</th><th style=\"text-align: right;\">  VOL</th><th style=\"text-align: right;\">  GLEASON</th></tr>\n",
       "<tr><td style=\"text-align: right;\">  10</td><td style=\"text-align: right;\">        0</td><td style=\"text-align: right;\">   68</td><td style=\"text-align: right;\">     2</td><td style=\"text-align: right;\">      1</td><td style=\"text-align: right;\">      2</td><td style=\"text-align: right;\">   13</td><td style=\"text-align: right;\">    0</td><td style=\"text-align: right;\">        6</td></tr>\n",
       "</table>"
      ]
     },
     "metadata": {},
     "output_type": "display_data"
    },
    {
     "data": {
      "text/plain": []
     },
     "execution_count": 16,
     "metadata": {},
     "output_type": "execute_result"
    }
   ],
   "source": [
    "# Slicing rows by Index\n",
    "\n",
    "# Getting 10th row based on index starts from 0\n",
    "prostate_df[9,:]"
   ]
  },
  {
   "cell_type": "code",
   "execution_count": 17,
   "metadata": {
    "collapsed": false
   },
   "outputs": [
    {
     "data": {
      "text/html": [
       "<table>\n",
       "<tr><th style=\"text-align: right;\">  ID</th><th style=\"text-align: right;\">  CAPSULE</th><th style=\"text-align: right;\">  AGE</th><th style=\"text-align: right;\">  RACE</th><th style=\"text-align: right;\">  DPROS</th><th style=\"text-align: right;\">  DCAPS</th><th style=\"text-align: right;\">  PSA</th><th style=\"text-align: right;\">  VOL</th><th style=\"text-align: right;\">  GLEASON</th></tr>\n",
       "<tr><td style=\"text-align: right;\">  10</td><td style=\"text-align: right;\">        0</td><td style=\"text-align: right;\">   68</td><td style=\"text-align: right;\">     2</td><td style=\"text-align: right;\">      1</td><td style=\"text-align: right;\">      2</td><td style=\"text-align: right;\"> 13  </td><td style=\"text-align: right;\">    0</td><td style=\"text-align: right;\">        6</td></tr>\n",
       "<tr><td style=\"text-align: right;\">  11</td><td style=\"text-align: right;\">        1</td><td style=\"text-align: right;\">   68</td><td style=\"text-align: right;\">     2</td><td style=\"text-align: right;\">      4</td><td style=\"text-align: right;\">      2</td><td style=\"text-align: right;\">  4  </td><td style=\"text-align: right;\">    0</td><td style=\"text-align: right;\">        7</td></tr>\n",
       "<tr><td style=\"text-align: right;\">  12</td><td style=\"text-align: right;\">        1</td><td style=\"text-align: right;\">   72</td><td style=\"text-align: right;\">     1</td><td style=\"text-align: right;\">      2</td><td style=\"text-align: right;\">      2</td><td style=\"text-align: right;\"> 21.2</td><td style=\"text-align: right;\">    0</td><td style=\"text-align: right;\">        7</td></tr>\n",
       "<tr><td style=\"text-align: right;\">  13</td><td style=\"text-align: right;\">        1</td><td style=\"text-align: right;\">   72</td><td style=\"text-align: right;\">     1</td><td style=\"text-align: right;\">      4</td><td style=\"text-align: right;\">      2</td><td style=\"text-align: right;\"> 22.7</td><td style=\"text-align: right;\">    0</td><td style=\"text-align: right;\">        9</td></tr>\n",
       "<tr><td style=\"text-align: right;\">  14</td><td style=\"text-align: right;\">        1</td><td style=\"text-align: right;\">   65</td><td style=\"text-align: right;\">     1</td><td style=\"text-align: right;\">      4</td><td style=\"text-align: right;\">      2</td><td style=\"text-align: right;\"> 39  </td><td style=\"text-align: right;\">    0</td><td style=\"text-align: right;\">        7</td></tr>\n",
       "<tr><td style=\"text-align: right;\">  15</td><td style=\"text-align: right;\">        0</td><td style=\"text-align: right;\">   75</td><td style=\"text-align: right;\">     1</td><td style=\"text-align: right;\">      1</td><td style=\"text-align: right;\">      1</td><td style=\"text-align: right;\">  7.5</td><td style=\"text-align: right;\">    0</td><td style=\"text-align: right;\">        5</td></tr>\n",
       "</table>"
      ]
     },
     "metadata": {},
     "output_type": "display_data"
    },
    {
     "data": {
      "text/plain": []
     },
     "execution_count": 17,
     "metadata": {},
     "output_type": "execute_result"
    }
   ],
   "source": [
    "# Slicing rows by Index\n",
    "\n",
    "# Getting selected rows based on index starts from 0\n",
    "prostate_df[range(9,15),:]"
   ]
  },
  {
   "cell_type": "code",
   "execution_count": 18,
   "metadata": {
    "collapsed": false
   },
   "outputs": [
    {
     "data": {
      "text/html": [
       "<table>\n",
       "<tr><th style=\"text-align: right;\">  AGE</th></tr>\n",
       "<tr><td style=\"text-align: right;\">    0</td></tr>\n",
       "<tr><td style=\"text-align: right;\">    1</td></tr>\n",
       "<tr><td style=\"text-align: right;\">    0</td></tr>\n",
       "<tr><td style=\"text-align: right;\">    1</td></tr>\n",
       "<tr><td style=\"text-align: right;\">    0</td></tr>\n",
       "<tr><td style=\"text-align: right;\">    1</td></tr>\n",
       "<tr><td style=\"text-align: right;\">    0</td></tr>\n",
       "<tr><td style=\"text-align: right;\">    0</td></tr>\n",
       "<tr><td style=\"text-align: right;\">    0</td></tr>\n",
       "<tr><td style=\"text-align: right;\">    0</td></tr>\n",
       "</table>"
      ]
     },
     "metadata": {},
     "output_type": "display_data"
    },
    {
     "data": {
      "text/plain": []
     },
     "execution_count": 18,
     "metadata": {},
     "output_type": "execute_result"
    }
   ],
   "source": [
    "#filter data based on some value\n",
    "prostate_df[\"AGE\"] > 70"
   ]
  },
  {
   "cell_type": "code",
   "execution_count": 19,
   "metadata": {
    "collapsed": false
   },
   "outputs": [
    {
     "data": {
      "text/html": [
       "<table>\n",
       "<tr><th style=\"text-align: right;\">  PSA</th></tr>\n",
       "<tr><td style=\"text-align: right;\">    1</td></tr>\n",
       "<tr><td style=\"text-align: right;\">    1</td></tr>\n",
       "<tr><td style=\"text-align: right;\">    1</td></tr>\n",
       "<tr><td style=\"text-align: right;\">    0</td></tr>\n",
       "<tr><td style=\"text-align: right;\">    1</td></tr>\n",
       "<tr><td style=\"text-align: right;\">    1</td></tr>\n",
       "<tr><td style=\"text-align: right;\">    0</td></tr>\n",
       "<tr><td style=\"text-align: right;\">    0</td></tr>\n",
       "<tr><td style=\"text-align: right;\">    1</td></tr>\n",
       "<tr><td style=\"text-align: right;\">    1</td></tr>\n",
       "</table>"
      ]
     },
     "metadata": {},
     "output_type": "display_data"
    },
    {
     "data": {
      "text/plain": []
     },
     "execution_count": 19,
     "metadata": {},
     "output_type": "execute_result"
    }
   ],
   "source": [
    "# Slicing based on boolean values [1]\n",
    "\n",
    "mask = prostate_df['PSA'] < 20.0\n",
    "mask"
   ]
  },
  {
   "cell_type": "code",
   "execution_count": 20,
   "metadata": {
    "collapsed": false
   },
   "outputs": [
    {
     "data": {
      "text/html": [
       "<table>\n",
       "<tr><th style=\"text-align: right;\">  ID</th><th style=\"text-align: right;\">  CAPSULE</th><th style=\"text-align: right;\">  AGE</th><th style=\"text-align: right;\">  RACE</th><th style=\"text-align: right;\">  DPROS</th><th style=\"text-align: right;\">  DCAPS</th><th style=\"text-align: right;\">  PSA</th><th style=\"text-align: right;\">  VOL</th><th style=\"text-align: right;\">  GLEASON</th></tr>\n",
       "<tr><td style=\"text-align: right;\">   1</td><td style=\"text-align: right;\">        0</td><td style=\"text-align: right;\">   65</td><td style=\"text-align: right;\">     1</td><td style=\"text-align: right;\">      2</td><td style=\"text-align: right;\">      1</td><td style=\"text-align: right;\">  1.4</td><td style=\"text-align: right;\">  0  </td><td style=\"text-align: right;\">        6</td></tr>\n",
       "<tr><td style=\"text-align: right;\">   2</td><td style=\"text-align: right;\">        0</td><td style=\"text-align: right;\">   72</td><td style=\"text-align: right;\">     1</td><td style=\"text-align: right;\">      3</td><td style=\"text-align: right;\">      2</td><td style=\"text-align: right;\">  6.7</td><td style=\"text-align: right;\">  0  </td><td style=\"text-align: right;\">        7</td></tr>\n",
       "<tr><td style=\"text-align: right;\">   3</td><td style=\"text-align: right;\">        0</td><td style=\"text-align: right;\">   70</td><td style=\"text-align: right;\">     1</td><td style=\"text-align: right;\">      1</td><td style=\"text-align: right;\">      2</td><td style=\"text-align: right;\">  4.9</td><td style=\"text-align: right;\">  0  </td><td style=\"text-align: right;\">        6</td></tr>\n",
       "<tr><td style=\"text-align: right;\">   5</td><td style=\"text-align: right;\">        0</td><td style=\"text-align: right;\">   69</td><td style=\"text-align: right;\">     1</td><td style=\"text-align: right;\">      1</td><td style=\"text-align: right;\">      1</td><td style=\"text-align: right;\"> 12.3</td><td style=\"text-align: right;\"> 55.9</td><td style=\"text-align: right;\">        6</td></tr>\n",
       "<tr><td style=\"text-align: right;\">   6</td><td style=\"text-align: right;\">        1</td><td style=\"text-align: right;\">   71</td><td style=\"text-align: right;\">     1</td><td style=\"text-align: right;\">      3</td><td style=\"text-align: right;\">      2</td><td style=\"text-align: right;\">  3.3</td><td style=\"text-align: right;\">  0  </td><td style=\"text-align: right;\">        8</td></tr>\n",
       "<tr><td style=\"text-align: right;\">   9</td><td style=\"text-align: right;\">        0</td><td style=\"text-align: right;\">   69</td><td style=\"text-align: right;\">     1</td><td style=\"text-align: right;\">      1</td><td style=\"text-align: right;\">      1</td><td style=\"text-align: right;\">  3.9</td><td style=\"text-align: right;\"> 24  </td><td style=\"text-align: right;\">        7</td></tr>\n",
       "<tr><td style=\"text-align: right;\">  10</td><td style=\"text-align: right;\">        0</td><td style=\"text-align: right;\">   68</td><td style=\"text-align: right;\">     2</td><td style=\"text-align: right;\">      1</td><td style=\"text-align: right;\">      2</td><td style=\"text-align: right;\"> 13  </td><td style=\"text-align: right;\">  0  </td><td style=\"text-align: right;\">        6</td></tr>\n",
       "<tr><td style=\"text-align: right;\">  11</td><td style=\"text-align: right;\">        1</td><td style=\"text-align: right;\">   68</td><td style=\"text-align: right;\">     2</td><td style=\"text-align: right;\">      4</td><td style=\"text-align: right;\">      2</td><td style=\"text-align: right;\">  4  </td><td style=\"text-align: right;\">  0  </td><td style=\"text-align: right;\">        7</td></tr>\n",
       "<tr><td style=\"text-align: right;\">  15</td><td style=\"text-align: right;\">        0</td><td style=\"text-align: right;\">   75</td><td style=\"text-align: right;\">     1</td><td style=\"text-align: right;\">      1</td><td style=\"text-align: right;\">      1</td><td style=\"text-align: right;\">  7.5</td><td style=\"text-align: right;\">  0  </td><td style=\"text-align: right;\">        5</td></tr>\n",
       "<tr><td style=\"text-align: right;\">  16</td><td style=\"text-align: right;\">        0</td><td style=\"text-align: right;\">   73</td><td style=\"text-align: right;\">     1</td><td style=\"text-align: right;\">      2</td><td style=\"text-align: right;\">      1</td><td style=\"text-align: right;\">  2.6</td><td style=\"text-align: right;\">  0  </td><td style=\"text-align: right;\">        5</td></tr>\n",
       "</table>"
      ]
     },
     "metadata": {},
     "output_type": "display_data"
    },
    {
     "data": {
      "text/plain": []
     },
     "execution_count": 20,
     "metadata": {},
     "output_type": "execute_result"
    }
   ],
   "source": [
    "# Slicing based on boolean values [2]\n",
    "\n",
    "mask_cols = prostate_df[mask,:]\n",
    "mask_cols"
   ]
  },
  {
   "cell_type": "code",
   "execution_count": 21,
   "metadata": {
    "collapsed": false
   },
   "outputs": [
    {
     "data": {
      "text/html": [
       "<table>\n",
       "<tr><th style=\"text-align: right;\">  ID</th><th style=\"text-align: right;\">  CAPSULE</th><th style=\"text-align: right;\">  AGE</th><th style=\"text-align: right;\">  RACE</th><th style=\"text-align: right;\">  DPROS</th><th style=\"text-align: right;\">  DCAPS</th><th style=\"text-align: right;\">  PSA</th><th style=\"text-align: right;\">  VOL</th><th style=\"text-align: right;\">  GLEASON</th></tr>\n",
       "<tr><td style=\"text-align: right;\">   4</td><td style=\"text-align: right;\">        0</td><td style=\"text-align: right;\">   76</td><td style=\"text-align: right;\">     2</td><td style=\"text-align: right;\">      2</td><td style=\"text-align: right;\">      1</td><td style=\"text-align: right;\"> 51.2</td><td style=\"text-align: right;\"> 20  </td><td style=\"text-align: right;\">        7</td></tr>\n",
       "<tr><td style=\"text-align: right;\">   7</td><td style=\"text-align: right;\">        0</td><td style=\"text-align: right;\">   68</td><td style=\"text-align: right;\">     2</td><td style=\"text-align: right;\">      4</td><td style=\"text-align: right;\">      2</td><td style=\"text-align: right;\"> 31.9</td><td style=\"text-align: right;\">  0  </td><td style=\"text-align: right;\">        7</td></tr>\n",
       "<tr><td style=\"text-align: right;\">   8</td><td style=\"text-align: right;\">        0</td><td style=\"text-align: right;\">   61</td><td style=\"text-align: right;\">     2</td><td style=\"text-align: right;\">      4</td><td style=\"text-align: right;\">      2</td><td style=\"text-align: right;\"> 66.7</td><td style=\"text-align: right;\"> 27.2</td><td style=\"text-align: right;\">        7</td></tr>\n",
       "<tr><td style=\"text-align: right;\">  12</td><td style=\"text-align: right;\">        1</td><td style=\"text-align: right;\">   72</td><td style=\"text-align: right;\">     1</td><td style=\"text-align: right;\">      2</td><td style=\"text-align: right;\">      2</td><td style=\"text-align: right;\"> 21.2</td><td style=\"text-align: right;\">  0  </td><td style=\"text-align: right;\">        7</td></tr>\n",
       "<tr><td style=\"text-align: right;\">  13</td><td style=\"text-align: right;\">        1</td><td style=\"text-align: right;\">   72</td><td style=\"text-align: right;\">     1</td><td style=\"text-align: right;\">      4</td><td style=\"text-align: right;\">      2</td><td style=\"text-align: right;\"> 22.7</td><td style=\"text-align: right;\">  0  </td><td style=\"text-align: right;\">        9</td></tr>\n",
       "<tr><td style=\"text-align: right;\">  14</td><td style=\"text-align: right;\">        1</td><td style=\"text-align: right;\">   65</td><td style=\"text-align: right;\">     1</td><td style=\"text-align: right;\">      4</td><td style=\"text-align: right;\">      2</td><td style=\"text-align: right;\"> 39  </td><td style=\"text-align: right;\">  0  </td><td style=\"text-align: right;\">        7</td></tr>\n",
       "<tr><td style=\"text-align: right;\">  22</td><td style=\"text-align: right;\">        1</td><td style=\"text-align: right;\">   70</td><td style=\"text-align: right;\">     0</td><td style=\"text-align: right;\">      4</td><td style=\"text-align: right;\">      1</td><td style=\"text-align: right;\"> 67.1</td><td style=\"text-align: right;\">  0  </td><td style=\"text-align: right;\">        7</td></tr>\n",
       "<tr><td style=\"text-align: right;\">  25</td><td style=\"text-align: right;\">        1</td><td style=\"text-align: right;\">   77</td><td style=\"text-align: right;\">     1</td><td style=\"text-align: right;\">      1</td><td style=\"text-align: right;\">      1</td><td style=\"text-align: right;\"> 61.1</td><td style=\"text-align: right;\"> 58  </td><td style=\"text-align: right;\">        7</td></tr>\n",
       "<tr><td style=\"text-align: right;\">  38</td><td style=\"text-align: right;\">        1</td><td style=\"text-align: right;\">   78</td><td style=\"text-align: right;\">     1</td><td style=\"text-align: right;\">      1</td><td style=\"text-align: right;\">      2</td><td style=\"text-align: right;\"> 27.2</td><td style=\"text-align: right;\">  0  </td><td style=\"text-align: right;\">        8</td></tr>\n",
       "<tr><td style=\"text-align: right;\">  39</td><td style=\"text-align: right;\">        1</td><td style=\"text-align: right;\">   63</td><td style=\"text-align: right;\">     1</td><td style=\"text-align: right;\">      2</td><td style=\"text-align: right;\">      1</td><td style=\"text-align: right;\"> 35.1</td><td style=\"text-align: right;\"> 18.7</td><td style=\"text-align: right;\">        7</td></tr>\n",
       "</table>"
      ]
     },
     "metadata": {},
     "output_type": "display_data"
    },
    {
     "data": {
      "text/plain": []
     },
     "execution_count": 21,
     "metadata": {},
     "output_type": "execute_result"
    }
   ],
   "source": [
    "# Slicing based on boolean values [3]\n",
    "\n",
    "mask_cols = prostate_df[~mask,:]\n",
    "mask_cols"
   ]
  },
  {
   "cell_type": "code",
   "execution_count": 23,
   "metadata": {
    "collapsed": false,
    "scrolled": true
   },
   "outputs": [
    {
     "name": "stdout",
     "output_type": "stream",
     "text": [
      "(43978, 31)\n",
      "(42892, 31)\n"
     ]
    },
    {
     "data": {
      "text/html": [
       "<table>\n",
       "<tr><th style=\"text-align: right;\">  C1</th><th style=\"text-align: right;\">  C2</th><th style=\"text-align: right;\">  C3</th><th style=\"text-align: right;\">  C4</th><th style=\"text-align: right;\">  C5</th><th style=\"text-align: right;\">  C6</th><th style=\"text-align: right;\">  C7</th><th style=\"text-align: right;\">  C8</th><th>C9  </th><th style=\"text-align: right;\">  C10</th><th>C11  </th><th style=\"text-align: right;\">  C12</th><th style=\"text-align: right;\">  C13</th><th style=\"text-align: right;\">  C14</th><th style=\"text-align: right;\">  C15</th><th style=\"text-align: right;\">  C16</th><th>C17  </th><th>C18  </th><th style=\"text-align: right;\">  C19</th><th style=\"text-align: right;\">  C20</th><th style=\"text-align: right;\">  C21</th><th style=\"text-align: right;\">  C22</th><th>C23  </th><th style=\"text-align: right;\">  C24</th><th style=\"text-align: right;\">  C25</th><th style=\"text-align: right;\">  C26</th><th style=\"text-align: right;\">  C27</th><th style=\"text-align: right;\">  C28</th><th style=\"text-align: right;\">  C29</th><th>C30  </th><th>C31  </th></tr>\n",
       "<tr><td style=\"text-align: right;\">1987</td><td style=\"text-align: right;\">  10</td><td style=\"text-align: right;\">  14</td><td style=\"text-align: right;\">   3</td><td style=\"text-align: right;\"> 741</td><td style=\"text-align: right;\"> 730</td><td style=\"text-align: right;\"> 912</td><td style=\"text-align: right;\"> 849</td><td>PS  </td><td style=\"text-align: right;\"> 1451</td><td>NA   </td><td style=\"text-align: right;\">   91</td><td style=\"text-align: right;\">   79</td><td style=\"text-align: right;\">  nan</td><td style=\"text-align: right;\">   23</td><td style=\"text-align: right;\">   11</td><td>SAN  </td><td>SFO  </td><td style=\"text-align: right;\">  447</td><td style=\"text-align: right;\">  nan</td><td style=\"text-align: right;\">  nan</td><td style=\"text-align: right;\">    0</td><td>NA   </td><td style=\"text-align: right;\">    0</td><td style=\"text-align: right;\">  nan</td><td style=\"text-align: right;\">  nan</td><td style=\"text-align: right;\">  nan</td><td style=\"text-align: right;\">  nan</td><td style=\"text-align: right;\">  nan</td><td>YES  </td><td>YES  </td></tr>\n",
       "<tr><td style=\"text-align: right;\">1987</td><td style=\"text-align: right;\">  10</td><td style=\"text-align: right;\">  15</td><td style=\"text-align: right;\">   4</td><td style=\"text-align: right;\"> 729</td><td style=\"text-align: right;\"> 730</td><td style=\"text-align: right;\"> 903</td><td style=\"text-align: right;\"> 849</td><td>PS  </td><td style=\"text-align: right;\"> 1451</td><td>NA   </td><td style=\"text-align: right;\">   94</td><td style=\"text-align: right;\">   79</td><td style=\"text-align: right;\">  nan</td><td style=\"text-align: right;\">   14</td><td style=\"text-align: right;\">   -1</td><td>SAN  </td><td>SFO  </td><td style=\"text-align: right;\">  447</td><td style=\"text-align: right;\">  nan</td><td style=\"text-align: right;\">  nan</td><td style=\"text-align: right;\">    0</td><td>NA   </td><td style=\"text-align: right;\">    0</td><td style=\"text-align: right;\">  nan</td><td style=\"text-align: right;\">  nan</td><td style=\"text-align: right;\">  nan</td><td style=\"text-align: right;\">  nan</td><td style=\"text-align: right;\">  nan</td><td>YES  </td><td>NO   </td></tr>\n",
       "<tr><td style=\"text-align: right;\">1987</td><td style=\"text-align: right;\">  10</td><td style=\"text-align: right;\">  17</td><td style=\"text-align: right;\">   6</td><td style=\"text-align: right;\"> 741</td><td style=\"text-align: right;\"> 730</td><td style=\"text-align: right;\"> 918</td><td style=\"text-align: right;\"> 849</td><td>PS  </td><td style=\"text-align: right;\"> 1451</td><td>NA   </td><td style=\"text-align: right;\">   97</td><td style=\"text-align: right;\">   79</td><td style=\"text-align: right;\">  nan</td><td style=\"text-align: right;\">   29</td><td style=\"text-align: right;\">   11</td><td>SAN  </td><td>SFO  </td><td style=\"text-align: right;\">  447</td><td style=\"text-align: right;\">  nan</td><td style=\"text-align: right;\">  nan</td><td style=\"text-align: right;\">    0</td><td>NA   </td><td style=\"text-align: right;\">    0</td><td style=\"text-align: right;\">  nan</td><td style=\"text-align: right;\">  nan</td><td style=\"text-align: right;\">  nan</td><td style=\"text-align: right;\">  nan</td><td style=\"text-align: right;\">  nan</td><td>YES  </td><td>YES  </td></tr>\n",
       "<tr><td style=\"text-align: right;\">1987</td><td style=\"text-align: right;\">  10</td><td style=\"text-align: right;\">  18</td><td style=\"text-align: right;\">   7</td><td style=\"text-align: right;\"> 729</td><td style=\"text-align: right;\"> 730</td><td style=\"text-align: right;\"> 847</td><td style=\"text-align: right;\"> 849</td><td>PS  </td><td style=\"text-align: right;\"> 1451</td><td>NA   </td><td style=\"text-align: right;\">   78</td><td style=\"text-align: right;\">   79</td><td style=\"text-align: right;\">  nan</td><td style=\"text-align: right;\">   -2</td><td style=\"text-align: right;\">   -1</td><td>SAN  </td><td>SFO  </td><td style=\"text-align: right;\">  447</td><td style=\"text-align: right;\">  nan</td><td style=\"text-align: right;\">  nan</td><td style=\"text-align: right;\">    0</td><td>NA   </td><td style=\"text-align: right;\">    0</td><td style=\"text-align: right;\">  nan</td><td style=\"text-align: right;\">  nan</td><td style=\"text-align: right;\">  nan</td><td style=\"text-align: right;\">  nan</td><td style=\"text-align: right;\">  nan</td><td>NO   </td><td>NO   </td></tr>\n",
       "<tr><td style=\"text-align: right;\">1987</td><td style=\"text-align: right;\">  10</td><td style=\"text-align: right;\">  19</td><td style=\"text-align: right;\">   1</td><td style=\"text-align: right;\"> 749</td><td style=\"text-align: right;\"> 730</td><td style=\"text-align: right;\"> 922</td><td style=\"text-align: right;\"> 849</td><td>PS  </td><td style=\"text-align: right;\"> 1451</td><td>NA   </td><td style=\"text-align: right;\">   93</td><td style=\"text-align: right;\">   79</td><td style=\"text-align: right;\">  nan</td><td style=\"text-align: right;\">   33</td><td style=\"text-align: right;\">   19</td><td>SAN  </td><td>SFO  </td><td style=\"text-align: right;\">  447</td><td style=\"text-align: right;\">  nan</td><td style=\"text-align: right;\">  nan</td><td style=\"text-align: right;\">    0</td><td>NA   </td><td style=\"text-align: right;\">    0</td><td style=\"text-align: right;\">  nan</td><td style=\"text-align: right;\">  nan</td><td style=\"text-align: right;\">  nan</td><td style=\"text-align: right;\">  nan</td><td style=\"text-align: right;\">  nan</td><td>YES  </td><td>YES  </td></tr>\n",
       "<tr><td style=\"text-align: right;\">1987</td><td style=\"text-align: right;\">  10</td><td style=\"text-align: right;\">  21</td><td style=\"text-align: right;\">   3</td><td style=\"text-align: right;\"> 728</td><td style=\"text-align: right;\"> 730</td><td style=\"text-align: right;\"> 848</td><td style=\"text-align: right;\"> 849</td><td>PS  </td><td style=\"text-align: right;\"> 1451</td><td>NA   </td><td style=\"text-align: right;\">   80</td><td style=\"text-align: right;\">   79</td><td style=\"text-align: right;\">  nan</td><td style=\"text-align: right;\">   -1</td><td style=\"text-align: right;\">   -2</td><td>SAN  </td><td>SFO  </td><td style=\"text-align: right;\">  447</td><td style=\"text-align: right;\">  nan</td><td style=\"text-align: right;\">  nan</td><td style=\"text-align: right;\">    0</td><td>NA   </td><td style=\"text-align: right;\">    0</td><td style=\"text-align: right;\">  nan</td><td style=\"text-align: right;\">  nan</td><td style=\"text-align: right;\">  nan</td><td style=\"text-align: right;\">  nan</td><td style=\"text-align: right;\">  nan</td><td>NO   </td><td>NO   </td></tr>\n",
       "<tr><td style=\"text-align: right;\">1987</td><td style=\"text-align: right;\">  10</td><td style=\"text-align: right;\">  22</td><td style=\"text-align: right;\">   4</td><td style=\"text-align: right;\"> 728</td><td style=\"text-align: right;\"> 730</td><td style=\"text-align: right;\"> 852</td><td style=\"text-align: right;\"> 849</td><td>PS  </td><td style=\"text-align: right;\"> 1451</td><td>NA   </td><td style=\"text-align: right;\">   84</td><td style=\"text-align: right;\">   79</td><td style=\"text-align: right;\">  nan</td><td style=\"text-align: right;\">    3</td><td style=\"text-align: right;\">   -2</td><td>SAN  </td><td>SFO  </td><td style=\"text-align: right;\">  447</td><td style=\"text-align: right;\">  nan</td><td style=\"text-align: right;\">  nan</td><td style=\"text-align: right;\">    0</td><td>NA   </td><td style=\"text-align: right;\">    0</td><td style=\"text-align: right;\">  nan</td><td style=\"text-align: right;\">  nan</td><td style=\"text-align: right;\">  nan</td><td style=\"text-align: right;\">  nan</td><td style=\"text-align: right;\">  nan</td><td>YES  </td><td>NO   </td></tr>\n",
       "<tr><td style=\"text-align: right;\">1987</td><td style=\"text-align: right;\">  10</td><td style=\"text-align: right;\">  23</td><td style=\"text-align: right;\">   5</td><td style=\"text-align: right;\"> 731</td><td style=\"text-align: right;\"> 730</td><td style=\"text-align: right;\"> 902</td><td style=\"text-align: right;\"> 849</td><td>PS  </td><td style=\"text-align: right;\"> 1451</td><td>NA   </td><td style=\"text-align: right;\">   91</td><td style=\"text-align: right;\">   79</td><td style=\"text-align: right;\">  nan</td><td style=\"text-align: right;\">   13</td><td style=\"text-align: right;\">    1</td><td>SAN  </td><td>SFO  </td><td style=\"text-align: right;\">  447</td><td style=\"text-align: right;\">  nan</td><td style=\"text-align: right;\">  nan</td><td style=\"text-align: right;\">    0</td><td>NA   </td><td style=\"text-align: right;\">    0</td><td style=\"text-align: right;\">  nan</td><td style=\"text-align: right;\">  nan</td><td style=\"text-align: right;\">  nan</td><td style=\"text-align: right;\">  nan</td><td style=\"text-align: right;\">  nan</td><td>YES  </td><td>YES  </td></tr>\n",
       "<tr><td style=\"text-align: right;\">1987</td><td style=\"text-align: right;\">  10</td><td style=\"text-align: right;\">  24</td><td style=\"text-align: right;\">   6</td><td style=\"text-align: right;\"> 744</td><td style=\"text-align: right;\"> 730</td><td style=\"text-align: right;\"> 908</td><td style=\"text-align: right;\"> 849</td><td>PS  </td><td style=\"text-align: right;\"> 1451</td><td>NA   </td><td style=\"text-align: right;\">   84</td><td style=\"text-align: right;\">   79</td><td style=\"text-align: right;\">  nan</td><td style=\"text-align: right;\">   19</td><td style=\"text-align: right;\">   14</td><td>SAN  </td><td>SFO  </td><td style=\"text-align: right;\">  447</td><td style=\"text-align: right;\">  nan</td><td style=\"text-align: right;\">  nan</td><td style=\"text-align: right;\">    0</td><td>NA   </td><td style=\"text-align: right;\">    0</td><td style=\"text-align: right;\">  nan</td><td style=\"text-align: right;\">  nan</td><td style=\"text-align: right;\">  nan</td><td style=\"text-align: right;\">  nan</td><td style=\"text-align: right;\">  nan</td><td>YES  </td><td>YES  </td></tr>\n",
       "<tr><td style=\"text-align: right;\">1987</td><td style=\"text-align: right;\">  10</td><td style=\"text-align: right;\">  25</td><td style=\"text-align: right;\">   7</td><td style=\"text-align: right;\"> 729</td><td style=\"text-align: right;\"> 730</td><td style=\"text-align: right;\"> 851</td><td style=\"text-align: right;\"> 849</td><td>PS  </td><td style=\"text-align: right;\"> 1451</td><td>NA   </td><td style=\"text-align: right;\">   82</td><td style=\"text-align: right;\">   79</td><td style=\"text-align: right;\">  nan</td><td style=\"text-align: right;\">    2</td><td style=\"text-align: right;\">   -1</td><td>SAN  </td><td>SFO  </td><td style=\"text-align: right;\">  447</td><td style=\"text-align: right;\">  nan</td><td style=\"text-align: right;\">  nan</td><td style=\"text-align: right;\">    0</td><td>NA   </td><td style=\"text-align: right;\">    0</td><td style=\"text-align: right;\">  nan</td><td style=\"text-align: right;\">  nan</td><td style=\"text-align: right;\">  nan</td><td style=\"text-align: right;\">  nan</td><td style=\"text-align: right;\">  nan</td><td>YES  </td><td>NO   </td></tr>\n",
       "</table>"
      ]
     },
     "metadata": {},
     "output_type": "display_data"
    },
    {
     "data": {
      "text/plain": []
     },
     "execution_count": 23,
     "metadata": {},
     "output_type": "execute_result"
    }
   ],
   "source": [
    "# Slicing based on boolean values [4.1]\n",
    "\n",
    "airline_df_mask = airline_df['C5'].isna()\n",
    "airline_df_na = airline_df[airline_df_mask,:]\n",
    "print(airline_df.shape)\n",
    "print(airline_df_na.shape)\n",
    "airline_df_na"
   ]
  },
  {
   "cell_type": "code",
   "execution_count": 24,
   "metadata": {
    "collapsed": false
   },
   "outputs": [
    {
     "name": "stdout",
     "output_type": "stream",
     "text": [
      "(43978, 31)\n",
      "(42892, 31)\n"
     ]
    },
    {
     "data": {
      "text/html": [
       "<table>\n",
       "<tr><th style=\"text-align: right;\">  C1</th><th style=\"text-align: right;\">  C2</th><th style=\"text-align: right;\">  C3</th><th style=\"text-align: right;\">  C4</th><th style=\"text-align: right;\">  C5</th><th style=\"text-align: right;\">  C6</th><th style=\"text-align: right;\">  C7</th><th style=\"text-align: right;\">  C8</th><th>C9  </th><th style=\"text-align: right;\">  C10</th><th>C11  </th><th style=\"text-align: right;\">  C12</th><th style=\"text-align: right;\">  C13</th><th style=\"text-align: right;\">  C14</th><th style=\"text-align: right;\">  C15</th><th style=\"text-align: right;\">  C16</th><th>C17  </th><th>C18  </th><th style=\"text-align: right;\">  C19</th><th style=\"text-align: right;\">  C20</th><th style=\"text-align: right;\">  C21</th><th style=\"text-align: right;\">  C22</th><th>C23  </th><th style=\"text-align: right;\">  C24</th><th style=\"text-align: right;\">  C25</th><th style=\"text-align: right;\">  C26</th><th style=\"text-align: right;\">  C27</th><th style=\"text-align: right;\">  C28</th><th style=\"text-align: right;\">  C29</th><th>C30  </th><th>C31  </th></tr>\n",
       "<tr><td style=\"text-align: right;\">1987</td><td style=\"text-align: right;\">  10</td><td style=\"text-align: right;\">  14</td><td style=\"text-align: right;\">   3</td><td style=\"text-align: right;\"> 741</td><td style=\"text-align: right;\"> 730</td><td style=\"text-align: right;\"> 912</td><td style=\"text-align: right;\"> 849</td><td>PS  </td><td style=\"text-align: right;\"> 1451</td><td>NA   </td><td style=\"text-align: right;\">   91</td><td style=\"text-align: right;\">   79</td><td style=\"text-align: right;\">  nan</td><td style=\"text-align: right;\">   23</td><td style=\"text-align: right;\">   11</td><td>SAN  </td><td>SFO  </td><td style=\"text-align: right;\">  447</td><td style=\"text-align: right;\">  nan</td><td style=\"text-align: right;\">  nan</td><td style=\"text-align: right;\">    0</td><td>NA   </td><td style=\"text-align: right;\">    0</td><td style=\"text-align: right;\">  nan</td><td style=\"text-align: right;\">  nan</td><td style=\"text-align: right;\">  nan</td><td style=\"text-align: right;\">  nan</td><td style=\"text-align: right;\">  nan</td><td>YES  </td><td>YES  </td></tr>\n",
       "<tr><td style=\"text-align: right;\">1987</td><td style=\"text-align: right;\">  10</td><td style=\"text-align: right;\">  15</td><td style=\"text-align: right;\">   4</td><td style=\"text-align: right;\"> 729</td><td style=\"text-align: right;\"> 730</td><td style=\"text-align: right;\"> 903</td><td style=\"text-align: right;\"> 849</td><td>PS  </td><td style=\"text-align: right;\"> 1451</td><td>NA   </td><td style=\"text-align: right;\">   94</td><td style=\"text-align: right;\">   79</td><td style=\"text-align: right;\">  nan</td><td style=\"text-align: right;\">   14</td><td style=\"text-align: right;\">   -1</td><td>SAN  </td><td>SFO  </td><td style=\"text-align: right;\">  447</td><td style=\"text-align: right;\">  nan</td><td style=\"text-align: right;\">  nan</td><td style=\"text-align: right;\">    0</td><td>NA   </td><td style=\"text-align: right;\">    0</td><td style=\"text-align: right;\">  nan</td><td style=\"text-align: right;\">  nan</td><td style=\"text-align: right;\">  nan</td><td style=\"text-align: right;\">  nan</td><td style=\"text-align: right;\">  nan</td><td>YES  </td><td>NO   </td></tr>\n",
       "<tr><td style=\"text-align: right;\">1987</td><td style=\"text-align: right;\">  10</td><td style=\"text-align: right;\">  17</td><td style=\"text-align: right;\">   6</td><td style=\"text-align: right;\"> 741</td><td style=\"text-align: right;\"> 730</td><td style=\"text-align: right;\"> 918</td><td style=\"text-align: right;\"> 849</td><td>PS  </td><td style=\"text-align: right;\"> 1451</td><td>NA   </td><td style=\"text-align: right;\">   97</td><td style=\"text-align: right;\">   79</td><td style=\"text-align: right;\">  nan</td><td style=\"text-align: right;\">   29</td><td style=\"text-align: right;\">   11</td><td>SAN  </td><td>SFO  </td><td style=\"text-align: right;\">  447</td><td style=\"text-align: right;\">  nan</td><td style=\"text-align: right;\">  nan</td><td style=\"text-align: right;\">    0</td><td>NA   </td><td style=\"text-align: right;\">    0</td><td style=\"text-align: right;\">  nan</td><td style=\"text-align: right;\">  nan</td><td style=\"text-align: right;\">  nan</td><td style=\"text-align: right;\">  nan</td><td style=\"text-align: right;\">  nan</td><td>YES  </td><td>YES  </td></tr>\n",
       "<tr><td style=\"text-align: right;\">1987</td><td style=\"text-align: right;\">  10</td><td style=\"text-align: right;\">  18</td><td style=\"text-align: right;\">   7</td><td style=\"text-align: right;\"> 729</td><td style=\"text-align: right;\"> 730</td><td style=\"text-align: right;\"> 847</td><td style=\"text-align: right;\"> 849</td><td>PS  </td><td style=\"text-align: right;\"> 1451</td><td>NA   </td><td style=\"text-align: right;\">   78</td><td style=\"text-align: right;\">   79</td><td style=\"text-align: right;\">  nan</td><td style=\"text-align: right;\">   -2</td><td style=\"text-align: right;\">   -1</td><td>SAN  </td><td>SFO  </td><td style=\"text-align: right;\">  447</td><td style=\"text-align: right;\">  nan</td><td style=\"text-align: right;\">  nan</td><td style=\"text-align: right;\">    0</td><td>NA   </td><td style=\"text-align: right;\">    0</td><td style=\"text-align: right;\">  nan</td><td style=\"text-align: right;\">  nan</td><td style=\"text-align: right;\">  nan</td><td style=\"text-align: right;\">  nan</td><td style=\"text-align: right;\">  nan</td><td>NO   </td><td>NO   </td></tr>\n",
       "<tr><td style=\"text-align: right;\">1987</td><td style=\"text-align: right;\">  10</td><td style=\"text-align: right;\">  19</td><td style=\"text-align: right;\">   1</td><td style=\"text-align: right;\"> 749</td><td style=\"text-align: right;\"> 730</td><td style=\"text-align: right;\"> 922</td><td style=\"text-align: right;\"> 849</td><td>PS  </td><td style=\"text-align: right;\"> 1451</td><td>NA   </td><td style=\"text-align: right;\">   93</td><td style=\"text-align: right;\">   79</td><td style=\"text-align: right;\">  nan</td><td style=\"text-align: right;\">   33</td><td style=\"text-align: right;\">   19</td><td>SAN  </td><td>SFO  </td><td style=\"text-align: right;\">  447</td><td style=\"text-align: right;\">  nan</td><td style=\"text-align: right;\">  nan</td><td style=\"text-align: right;\">    0</td><td>NA   </td><td style=\"text-align: right;\">    0</td><td style=\"text-align: right;\">  nan</td><td style=\"text-align: right;\">  nan</td><td style=\"text-align: right;\">  nan</td><td style=\"text-align: right;\">  nan</td><td style=\"text-align: right;\">  nan</td><td>YES  </td><td>YES  </td></tr>\n",
       "<tr><td style=\"text-align: right;\">1987</td><td style=\"text-align: right;\">  10</td><td style=\"text-align: right;\">  21</td><td style=\"text-align: right;\">   3</td><td style=\"text-align: right;\"> 728</td><td style=\"text-align: right;\"> 730</td><td style=\"text-align: right;\"> 848</td><td style=\"text-align: right;\"> 849</td><td>PS  </td><td style=\"text-align: right;\"> 1451</td><td>NA   </td><td style=\"text-align: right;\">   80</td><td style=\"text-align: right;\">   79</td><td style=\"text-align: right;\">  nan</td><td style=\"text-align: right;\">   -1</td><td style=\"text-align: right;\">   -2</td><td>SAN  </td><td>SFO  </td><td style=\"text-align: right;\">  447</td><td style=\"text-align: right;\">  nan</td><td style=\"text-align: right;\">  nan</td><td style=\"text-align: right;\">    0</td><td>NA   </td><td style=\"text-align: right;\">    0</td><td style=\"text-align: right;\">  nan</td><td style=\"text-align: right;\">  nan</td><td style=\"text-align: right;\">  nan</td><td style=\"text-align: right;\">  nan</td><td style=\"text-align: right;\">  nan</td><td>NO   </td><td>NO   </td></tr>\n",
       "<tr><td style=\"text-align: right;\">1987</td><td style=\"text-align: right;\">  10</td><td style=\"text-align: right;\">  22</td><td style=\"text-align: right;\">   4</td><td style=\"text-align: right;\"> 728</td><td style=\"text-align: right;\"> 730</td><td style=\"text-align: right;\"> 852</td><td style=\"text-align: right;\"> 849</td><td>PS  </td><td style=\"text-align: right;\"> 1451</td><td>NA   </td><td style=\"text-align: right;\">   84</td><td style=\"text-align: right;\">   79</td><td style=\"text-align: right;\">  nan</td><td style=\"text-align: right;\">    3</td><td style=\"text-align: right;\">   -2</td><td>SAN  </td><td>SFO  </td><td style=\"text-align: right;\">  447</td><td style=\"text-align: right;\">  nan</td><td style=\"text-align: right;\">  nan</td><td style=\"text-align: right;\">    0</td><td>NA   </td><td style=\"text-align: right;\">    0</td><td style=\"text-align: right;\">  nan</td><td style=\"text-align: right;\">  nan</td><td style=\"text-align: right;\">  nan</td><td style=\"text-align: right;\">  nan</td><td style=\"text-align: right;\">  nan</td><td>YES  </td><td>NO   </td></tr>\n",
       "<tr><td style=\"text-align: right;\">1987</td><td style=\"text-align: right;\">  10</td><td style=\"text-align: right;\">  23</td><td style=\"text-align: right;\">   5</td><td style=\"text-align: right;\"> 731</td><td style=\"text-align: right;\"> 730</td><td style=\"text-align: right;\"> 902</td><td style=\"text-align: right;\"> 849</td><td>PS  </td><td style=\"text-align: right;\"> 1451</td><td>NA   </td><td style=\"text-align: right;\">   91</td><td style=\"text-align: right;\">   79</td><td style=\"text-align: right;\">  nan</td><td style=\"text-align: right;\">   13</td><td style=\"text-align: right;\">    1</td><td>SAN  </td><td>SFO  </td><td style=\"text-align: right;\">  447</td><td style=\"text-align: right;\">  nan</td><td style=\"text-align: right;\">  nan</td><td style=\"text-align: right;\">    0</td><td>NA   </td><td style=\"text-align: right;\">    0</td><td style=\"text-align: right;\">  nan</td><td style=\"text-align: right;\">  nan</td><td style=\"text-align: right;\">  nan</td><td style=\"text-align: right;\">  nan</td><td style=\"text-align: right;\">  nan</td><td>YES  </td><td>YES  </td></tr>\n",
       "<tr><td style=\"text-align: right;\">1987</td><td style=\"text-align: right;\">  10</td><td style=\"text-align: right;\">  24</td><td style=\"text-align: right;\">   6</td><td style=\"text-align: right;\"> 744</td><td style=\"text-align: right;\"> 730</td><td style=\"text-align: right;\"> 908</td><td style=\"text-align: right;\"> 849</td><td>PS  </td><td style=\"text-align: right;\"> 1451</td><td>NA   </td><td style=\"text-align: right;\">   84</td><td style=\"text-align: right;\">   79</td><td style=\"text-align: right;\">  nan</td><td style=\"text-align: right;\">   19</td><td style=\"text-align: right;\">   14</td><td>SAN  </td><td>SFO  </td><td style=\"text-align: right;\">  447</td><td style=\"text-align: right;\">  nan</td><td style=\"text-align: right;\">  nan</td><td style=\"text-align: right;\">    0</td><td>NA   </td><td style=\"text-align: right;\">    0</td><td style=\"text-align: right;\">  nan</td><td style=\"text-align: right;\">  nan</td><td style=\"text-align: right;\">  nan</td><td style=\"text-align: right;\">  nan</td><td style=\"text-align: right;\">  nan</td><td>YES  </td><td>YES  </td></tr>\n",
       "<tr><td style=\"text-align: right;\">1987</td><td style=\"text-align: right;\">  10</td><td style=\"text-align: right;\">  25</td><td style=\"text-align: right;\">   7</td><td style=\"text-align: right;\"> 729</td><td style=\"text-align: right;\"> 730</td><td style=\"text-align: right;\"> 851</td><td style=\"text-align: right;\"> 849</td><td>PS  </td><td style=\"text-align: right;\"> 1451</td><td>NA   </td><td style=\"text-align: right;\">   82</td><td style=\"text-align: right;\">   79</td><td style=\"text-align: right;\">  nan</td><td style=\"text-align: right;\">    2</td><td style=\"text-align: right;\">   -1</td><td>SAN  </td><td>SFO  </td><td style=\"text-align: right;\">  447</td><td style=\"text-align: right;\">  nan</td><td style=\"text-align: right;\">  nan</td><td style=\"text-align: right;\">    0</td><td>NA   </td><td style=\"text-align: right;\">    0</td><td style=\"text-align: right;\">  nan</td><td style=\"text-align: right;\">  nan</td><td style=\"text-align: right;\">  nan</td><td style=\"text-align: right;\">  nan</td><td style=\"text-align: right;\">  nan</td><td>YES  </td><td>NO   </td></tr>\n",
       "</table>"
      ]
     },
     "metadata": {},
     "output_type": "display_data"
    },
    {
     "data": {
      "text/plain": []
     },
     "execution_count": 24,
     "metadata": {},
     "output_type": "execute_result"
    }
   ],
   "source": [
    "# Slicing based on boolean values [4.2]\n",
    "\n",
    "airline_df_mask = airline_df['C5'].isna()\n",
    "airline_df_na = airline_df[~airline_df_mask,:]\n",
    "print(airline_df.shape)\n",
    "print(airline_df_na.shape)\n",
    "airline_df_na"
   ]
  },
  {
   "cell_type": "code",
   "execution_count": 25,
   "metadata": {
    "collapsed": false
   },
   "outputs": [
    {
     "data": {
      "text/html": [
       "<table>\n",
       "<tr><th style=\"text-align: right;\">  C2</th></tr>\n",
       "<tr><td style=\"text-align: right;\">  10</td></tr>\n",
       "<tr><td style=\"text-align: right;\">  10</td></tr>\n",
       "<tr><td style=\"text-align: right;\">  10</td></tr>\n",
       "<tr><td style=\"text-align: right;\">  10</td></tr>\n",
       "<tr><td style=\"text-align: right;\">  10</td></tr>\n",
       "<tr><td style=\"text-align: right;\">  10</td></tr>\n",
       "<tr><td style=\"text-align: right;\">  10</td></tr>\n",
       "<tr><td style=\"text-align: right;\">  10</td></tr>\n",
       "<tr><td style=\"text-align: right;\">  10</td></tr>\n",
       "<tr><td style=\"text-align: right;\">  10</td></tr>\n",
       "</table>"
      ]
     },
     "metadata": {},
     "output_type": "display_data"
    },
    {
     "data": {
      "text/plain": []
     },
     "execution_count": 25,
     "metadata": {},
     "output_type": "execute_result"
    }
   ],
   "source": [
    "# Slicing Columns [1]\n",
    "\n",
    "# Column by id\n",
    "airline_df[:,1] # try 0 , 1 or other"
   ]
  },
  {
   "cell_type": "code",
   "execution_count": 26,
   "metadata": {
    "collapsed": false
   },
   "outputs": [
    {
     "data": {
      "text/html": [
       "<table>\n",
       "<tr><th>C11  </th></tr>\n",
       "<tr><td>NA   </td></tr>\n",
       "<tr><td>NA   </td></tr>\n",
       "<tr><td>NA   </td></tr>\n",
       "<tr><td>NA   </td></tr>\n",
       "<tr><td>NA   </td></tr>\n",
       "<tr><td>NA   </td></tr>\n",
       "<tr><td>NA   </td></tr>\n",
       "<tr><td>NA   </td></tr>\n",
       "<tr><td>NA   </td></tr>\n",
       "<tr><td>NA   </td></tr>\n",
       "</table>"
      ]
     },
     "metadata": {},
     "output_type": "display_data"
    },
    {
     "data": {
      "text/plain": []
     },
     "execution_count": 26,
     "metadata": {},
     "output_type": "execute_result"
    }
   ],
   "source": [
    "# Slicing Columns [2]\n",
    "\n",
    "# Column by name\n",
    "airline_df[:,'C11'] # try C1, C4 , C11 or other"
   ]
  },
  {
   "cell_type": "code",
   "execution_count": 27,
   "metadata": {
    "collapsed": false
   },
   "outputs": [
    {
     "data": {
      "text/html": [
       "<table>\n",
       "<tr><th>C11  </th><th style=\"text-align: right;\">  C1</th></tr>\n",
       "<tr><td>NA   </td><td style=\"text-align: right;\">1987</td></tr>\n",
       "<tr><td>NA   </td><td style=\"text-align: right;\">1987</td></tr>\n",
       "<tr><td>NA   </td><td style=\"text-align: right;\">1987</td></tr>\n",
       "<tr><td>NA   </td><td style=\"text-align: right;\">1987</td></tr>\n",
       "<tr><td>NA   </td><td style=\"text-align: right;\">1987</td></tr>\n",
       "<tr><td>NA   </td><td style=\"text-align: right;\">1987</td></tr>\n",
       "<tr><td>NA   </td><td style=\"text-align: right;\">1987</td></tr>\n",
       "<tr><td>NA   </td><td style=\"text-align: right;\">1987</td></tr>\n",
       "<tr><td>NA   </td><td style=\"text-align: right;\">1987</td></tr>\n",
       "<tr><td>NA   </td><td style=\"text-align: right;\">1987</td></tr>\n",
       "</table>"
      ]
     },
     "metadata": {},
     "output_type": "display_data"
    },
    {
     "data": {
      "text/plain": []
     },
     "execution_count": 27,
     "metadata": {},
     "output_type": "execute_result"
    }
   ],
   "source": [
    "# Slicing Columns [3]\n",
    "\n",
    "# Column by names\n",
    "airline_df[:,['C11', 'C1']] # try ['C1', 'C11'] | "
   ]
  },
  {
   "cell_type": "code",
   "execution_count": 28,
   "metadata": {
    "collapsed": false
   },
   "outputs": [
    {
     "data": {
      "text/html": [
       "<table>\n",
       "<tr><th style=\"text-align: right;\">  C1</th><th style=\"text-align: right;\">  C2</th><th style=\"text-align: right;\">  C3</th><th style=\"text-align: right;\">  C4</th><th style=\"text-align: right;\">  C5</th></tr>\n",
       "<tr><td style=\"text-align: right;\">1987</td><td style=\"text-align: right;\">  10</td><td style=\"text-align: right;\">  14</td><td style=\"text-align: right;\">   3</td><td style=\"text-align: right;\"> 741</td></tr>\n",
       "<tr><td style=\"text-align: right;\">1987</td><td style=\"text-align: right;\">  10</td><td style=\"text-align: right;\">  15</td><td style=\"text-align: right;\">   4</td><td style=\"text-align: right;\"> 729</td></tr>\n",
       "<tr><td style=\"text-align: right;\">1987</td><td style=\"text-align: right;\">  10</td><td style=\"text-align: right;\">  17</td><td style=\"text-align: right;\">   6</td><td style=\"text-align: right;\"> 741</td></tr>\n",
       "<tr><td style=\"text-align: right;\">1987</td><td style=\"text-align: right;\">  10</td><td style=\"text-align: right;\">  18</td><td style=\"text-align: right;\">   7</td><td style=\"text-align: right;\"> 729</td></tr>\n",
       "<tr><td style=\"text-align: right;\">1987</td><td style=\"text-align: right;\">  10</td><td style=\"text-align: right;\">  19</td><td style=\"text-align: right;\">   1</td><td style=\"text-align: right;\"> 749</td></tr>\n",
       "<tr><td style=\"text-align: right;\">1987</td><td style=\"text-align: right;\">  10</td><td style=\"text-align: right;\">  21</td><td style=\"text-align: right;\">   3</td><td style=\"text-align: right;\"> 728</td></tr>\n",
       "<tr><td style=\"text-align: right;\">1987</td><td style=\"text-align: right;\">  10</td><td style=\"text-align: right;\">  22</td><td style=\"text-align: right;\">   4</td><td style=\"text-align: right;\"> 728</td></tr>\n",
       "<tr><td style=\"text-align: right;\">1987</td><td style=\"text-align: right;\">  10</td><td style=\"text-align: right;\">  23</td><td style=\"text-align: right;\">   5</td><td style=\"text-align: right;\"> 731</td></tr>\n",
       "<tr><td style=\"text-align: right;\">1987</td><td style=\"text-align: right;\">  10</td><td style=\"text-align: right;\">  24</td><td style=\"text-align: right;\">   6</td><td style=\"text-align: right;\"> 744</td></tr>\n",
       "<tr><td style=\"text-align: right;\">1987</td><td style=\"text-align: right;\">  10</td><td style=\"text-align: right;\">  25</td><td style=\"text-align: right;\">   7</td><td style=\"text-align: right;\"> 729</td></tr>\n",
       "</table>"
      ]
     },
     "metadata": {},
     "output_type": "display_data"
    },
    {
     "data": {
      "text/plain": []
     },
     "execution_count": 28,
     "metadata": {},
     "output_type": "execute_result"
    }
   ],
   "source": [
    "# Slicing Columns [4]\n",
    "\n",
    "# Column by range\n",
    "airline_df[:,range(5)] # try range(2,9) | range(5,9) | range(9,2) - Error"
   ]
  },
  {
   "cell_type": "code",
   "execution_count": 29,
   "metadata": {
    "collapsed": false
   },
   "outputs": [
    {
     "data": {
      "text/plain": [
       "79.0"
      ]
     },
     "execution_count": 29,
     "metadata": {},
     "output_type": "execute_result"
    }
   ],
   "source": [
    "# Getting value at speific cell [1]\n",
    "\n",
    "#airline_df[0,0] # Value at row 0 and column 0\n",
    "airline_df[10,12]  # Value at row 10 and column 20 "
   ]
  },
  {
   "cell_type": "code",
   "execution_count": 30,
   "metadata": {
    "collapsed": false
   },
   "outputs": [
    {
     "data": {
      "text/html": [
       "<table>\n",
       "<tr><th style=\"text-align: right;\">  C1</th><th style=\"text-align: right;\">  C2</th><th style=\"text-align: right;\">  C3</th><th style=\"text-align: right;\">  C4</th><th style=\"text-align: right;\">  C5</th><th style=\"text-align: right;\">  C6</th><th style=\"text-align: right;\">  C7</th><th style=\"text-align: right;\">  C8</th><th>C9  </th><th style=\"text-align: right;\">  C10</th><th>C11  </th><th style=\"text-align: right;\">  C12</th><th style=\"text-align: right;\">  C13</th><th style=\"text-align: right;\">  C14</th><th style=\"text-align: right;\">  C15</th><th style=\"text-align: right;\">  C16</th><th>C17  </th><th>C18  </th><th style=\"text-align: right;\">  C19</th><th style=\"text-align: right;\">  C20</th><th style=\"text-align: right;\">  C21</th><th style=\"text-align: right;\">  C22</th><th>C23  </th><th style=\"text-align: right;\">  C24</th><th style=\"text-align: right;\">  C25</th><th style=\"text-align: right;\">  C26</th><th style=\"text-align: right;\">  C27</th><th style=\"text-align: right;\">  C28</th><th style=\"text-align: right;\">  C29</th><th>C30  </th><th>C31  </th></tr>\n",
       "<tr><td style=\"text-align: right;\">1987</td><td style=\"text-align: right;\">  10</td><td style=\"text-align: right;\">  14</td><td style=\"text-align: right;\">   3</td><td style=\"text-align: right;\"> 741</td><td style=\"text-align: right;\"> 730</td><td style=\"text-align: right;\"> 912</td><td style=\"text-align: right;\"> 849</td><td>PS  </td><td style=\"text-align: right;\"> 1451</td><td>NA   </td><td style=\"text-align: right;\">   91</td><td style=\"text-align: right;\">   79</td><td style=\"text-align: right;\">  nan</td><td style=\"text-align: right;\">   23</td><td style=\"text-align: right;\">   11</td><td>SAN  </td><td>SFO  </td><td style=\"text-align: right;\">  447</td><td style=\"text-align: right;\">  nan</td><td style=\"text-align: right;\">  nan</td><td style=\"text-align: right;\">    0</td><td>NA   </td><td style=\"text-align: right;\">    0</td><td style=\"text-align: right;\">  nan</td><td style=\"text-align: right;\">  nan</td><td style=\"text-align: right;\">  nan</td><td style=\"text-align: right;\">  nan</td><td style=\"text-align: right;\">  nan</td><td>YES  </td><td>YES  </td></tr>\n",
       "<tr><td style=\"text-align: right;\">1987</td><td style=\"text-align: right;\">  10</td><td style=\"text-align: right;\">  15</td><td style=\"text-align: right;\">   4</td><td style=\"text-align: right;\"> 729</td><td style=\"text-align: right;\"> 730</td><td style=\"text-align: right;\"> 903</td><td style=\"text-align: right;\"> 849</td><td>PS  </td><td style=\"text-align: right;\"> 1451</td><td>NA   </td><td style=\"text-align: right;\">   94</td><td style=\"text-align: right;\">   79</td><td style=\"text-align: right;\">  nan</td><td style=\"text-align: right;\">   14</td><td style=\"text-align: right;\">   -1</td><td>SAN  </td><td>SFO  </td><td style=\"text-align: right;\">  447</td><td style=\"text-align: right;\">  nan</td><td style=\"text-align: right;\">  nan</td><td style=\"text-align: right;\">    0</td><td>NA   </td><td style=\"text-align: right;\">    0</td><td style=\"text-align: right;\">  nan</td><td style=\"text-align: right;\">  nan</td><td style=\"text-align: right;\">  nan</td><td style=\"text-align: right;\">  nan</td><td style=\"text-align: right;\">  nan</td><td>YES  </td><td>NO   </td></tr>\n",
       "<tr><td style=\"text-align: right;\">1987</td><td style=\"text-align: right;\">  10</td><td style=\"text-align: right;\">  17</td><td style=\"text-align: right;\">   6</td><td style=\"text-align: right;\"> 741</td><td style=\"text-align: right;\"> 730</td><td style=\"text-align: right;\"> 918</td><td style=\"text-align: right;\"> 849</td><td>PS  </td><td style=\"text-align: right;\"> 1451</td><td>NA   </td><td style=\"text-align: right;\">   97</td><td style=\"text-align: right;\">   79</td><td style=\"text-align: right;\">  nan</td><td style=\"text-align: right;\">   29</td><td style=\"text-align: right;\">   11</td><td>SAN  </td><td>SFO  </td><td style=\"text-align: right;\">  447</td><td style=\"text-align: right;\">  nan</td><td style=\"text-align: right;\">  nan</td><td style=\"text-align: right;\">    0</td><td>NA   </td><td style=\"text-align: right;\">    0</td><td style=\"text-align: right;\">  nan</td><td style=\"text-align: right;\">  nan</td><td style=\"text-align: right;\">  nan</td><td style=\"text-align: right;\">  nan</td><td style=\"text-align: right;\">  nan</td><td>YES  </td><td>YES  </td></tr>\n",
       "<tr><td style=\"text-align: right;\">1987</td><td style=\"text-align: right;\">  10</td><td style=\"text-align: right;\">  18</td><td style=\"text-align: right;\">   7</td><td style=\"text-align: right;\"> 729</td><td style=\"text-align: right;\"> 730</td><td style=\"text-align: right;\"> 847</td><td style=\"text-align: right;\"> 849</td><td>PS  </td><td style=\"text-align: right;\"> 1451</td><td>NA   </td><td style=\"text-align: right;\">   78</td><td style=\"text-align: right;\">   79</td><td style=\"text-align: right;\">  nan</td><td style=\"text-align: right;\">   -2</td><td style=\"text-align: right;\">   -1</td><td>SAN  </td><td>SFO  </td><td style=\"text-align: right;\">  447</td><td style=\"text-align: right;\">  nan</td><td style=\"text-align: right;\">  nan</td><td style=\"text-align: right;\">    0</td><td>NA   </td><td style=\"text-align: right;\">    0</td><td style=\"text-align: right;\">  nan</td><td style=\"text-align: right;\">  nan</td><td style=\"text-align: right;\">  nan</td><td style=\"text-align: right;\">  nan</td><td style=\"text-align: right;\">  nan</td><td>NO   </td><td>NO   </td></tr>\n",
       "<tr><td style=\"text-align: right;\">1987</td><td style=\"text-align: right;\">  10</td><td style=\"text-align: right;\">  19</td><td style=\"text-align: right;\">   1</td><td style=\"text-align: right;\"> 749</td><td style=\"text-align: right;\"> 730</td><td style=\"text-align: right;\"> 922</td><td style=\"text-align: right;\"> 849</td><td>PS  </td><td style=\"text-align: right;\"> 1451</td><td>NA   </td><td style=\"text-align: right;\">   93</td><td style=\"text-align: right;\">   79</td><td style=\"text-align: right;\">  nan</td><td style=\"text-align: right;\">   33</td><td style=\"text-align: right;\">   19</td><td>SAN  </td><td>SFO  </td><td style=\"text-align: right;\">  447</td><td style=\"text-align: right;\">  nan</td><td style=\"text-align: right;\">  nan</td><td style=\"text-align: right;\">    0</td><td>NA   </td><td style=\"text-align: right;\">    0</td><td style=\"text-align: right;\">  nan</td><td style=\"text-align: right;\">  nan</td><td style=\"text-align: right;\">  nan</td><td style=\"text-align: right;\">  nan</td><td style=\"text-align: right;\">  nan</td><td>YES  </td><td>YES  </td></tr>\n",
       "<tr><td style=\"text-align: right;\">1987</td><td style=\"text-align: right;\">  10</td><td style=\"text-align: right;\">  21</td><td style=\"text-align: right;\">   3</td><td style=\"text-align: right;\"> 728</td><td style=\"text-align: right;\"> 730</td><td style=\"text-align: right;\"> 848</td><td style=\"text-align: right;\"> 849</td><td>PS  </td><td style=\"text-align: right;\"> 1451</td><td>NA   </td><td style=\"text-align: right;\">   80</td><td style=\"text-align: right;\">   79</td><td style=\"text-align: right;\">  nan</td><td style=\"text-align: right;\">   -1</td><td style=\"text-align: right;\">   -2</td><td>SAN  </td><td>SFO  </td><td style=\"text-align: right;\">  447</td><td style=\"text-align: right;\">  nan</td><td style=\"text-align: right;\">  nan</td><td style=\"text-align: right;\">    0</td><td>NA   </td><td style=\"text-align: right;\">    0</td><td style=\"text-align: right;\">  nan</td><td style=\"text-align: right;\">  nan</td><td style=\"text-align: right;\">  nan</td><td style=\"text-align: right;\">  nan</td><td style=\"text-align: right;\">  nan</td><td>NO   </td><td>NO   </td></tr>\n",
       "<tr><td style=\"text-align: right;\">1987</td><td style=\"text-align: right;\">  10</td><td style=\"text-align: right;\">  22</td><td style=\"text-align: right;\">   4</td><td style=\"text-align: right;\"> 728</td><td style=\"text-align: right;\"> 730</td><td style=\"text-align: right;\"> 852</td><td style=\"text-align: right;\"> 849</td><td>PS  </td><td style=\"text-align: right;\"> 1451</td><td>NA   </td><td style=\"text-align: right;\">   84</td><td style=\"text-align: right;\">   79</td><td style=\"text-align: right;\">  nan</td><td style=\"text-align: right;\">    3</td><td style=\"text-align: right;\">   -2</td><td>SAN  </td><td>SFO  </td><td style=\"text-align: right;\">  447</td><td style=\"text-align: right;\">  nan</td><td style=\"text-align: right;\">  nan</td><td style=\"text-align: right;\">    0</td><td>NA   </td><td style=\"text-align: right;\">    0</td><td style=\"text-align: right;\">  nan</td><td style=\"text-align: right;\">  nan</td><td style=\"text-align: right;\">  nan</td><td style=\"text-align: right;\">  nan</td><td style=\"text-align: right;\">  nan</td><td>YES  </td><td>NO   </td></tr>\n",
       "<tr><td style=\"text-align: right;\">1987</td><td style=\"text-align: right;\">  10</td><td style=\"text-align: right;\">  23</td><td style=\"text-align: right;\">   5</td><td style=\"text-align: right;\"> 731</td><td style=\"text-align: right;\"> 730</td><td style=\"text-align: right;\"> 902</td><td style=\"text-align: right;\"> 849</td><td>PS  </td><td style=\"text-align: right;\"> 1451</td><td>NA   </td><td style=\"text-align: right;\">   91</td><td style=\"text-align: right;\">   79</td><td style=\"text-align: right;\">  nan</td><td style=\"text-align: right;\">   13</td><td style=\"text-align: right;\">    1</td><td>SAN  </td><td>SFO  </td><td style=\"text-align: right;\">  447</td><td style=\"text-align: right;\">  nan</td><td style=\"text-align: right;\">  nan</td><td style=\"text-align: right;\">    0</td><td>NA   </td><td style=\"text-align: right;\">    0</td><td style=\"text-align: right;\">  nan</td><td style=\"text-align: right;\">  nan</td><td style=\"text-align: right;\">  nan</td><td style=\"text-align: right;\">  nan</td><td style=\"text-align: right;\">  nan</td><td>YES  </td><td>YES  </td></tr>\n",
       "<tr><td style=\"text-align: right;\">1987</td><td style=\"text-align: right;\">  10</td><td style=\"text-align: right;\">  24</td><td style=\"text-align: right;\">   6</td><td style=\"text-align: right;\"> 744</td><td style=\"text-align: right;\"> 730</td><td style=\"text-align: right;\"> 908</td><td style=\"text-align: right;\"> 849</td><td>PS  </td><td style=\"text-align: right;\"> 1451</td><td>NA   </td><td style=\"text-align: right;\">   84</td><td style=\"text-align: right;\">   79</td><td style=\"text-align: right;\">  nan</td><td style=\"text-align: right;\">   19</td><td style=\"text-align: right;\">   14</td><td>SAN  </td><td>SFO  </td><td style=\"text-align: right;\">  447</td><td style=\"text-align: right;\">  nan</td><td style=\"text-align: right;\">  nan</td><td style=\"text-align: right;\">    0</td><td>NA   </td><td style=\"text-align: right;\">    0</td><td style=\"text-align: right;\">  nan</td><td style=\"text-align: right;\">  nan</td><td style=\"text-align: right;\">  nan</td><td style=\"text-align: right;\">  nan</td><td style=\"text-align: right;\">  nan</td><td>YES  </td><td>YES  </td></tr>\n",
       "<tr><td style=\"text-align: right;\">1987</td><td style=\"text-align: right;\">  10</td><td style=\"text-align: right;\">  25</td><td style=\"text-align: right;\">   7</td><td style=\"text-align: right;\"> 729</td><td style=\"text-align: right;\"> 730</td><td style=\"text-align: right;\"> 851</td><td style=\"text-align: right;\"> 849</td><td>PS  </td><td style=\"text-align: right;\"> 1451</td><td>NA   </td><td style=\"text-align: right;\">   82</td><td style=\"text-align: right;\">   79</td><td style=\"text-align: right;\">  nan</td><td style=\"text-align: right;\">    2</td><td style=\"text-align: right;\">   -1</td><td>SAN  </td><td>SFO  </td><td style=\"text-align: right;\">  447</td><td style=\"text-align: right;\">  nan</td><td style=\"text-align: right;\">  nan</td><td style=\"text-align: right;\">    0</td><td>NA   </td><td style=\"text-align: right;\">    0</td><td style=\"text-align: right;\">  nan</td><td style=\"text-align: right;\">  nan</td><td style=\"text-align: right;\">  nan</td><td style=\"text-align: right;\">  nan</td><td style=\"text-align: right;\">  nan</td><td>YES  </td><td>NO   </td></tr>\n",
       "</table>"
      ]
     },
     "metadata": {},
     "output_type": "display_data"
    },
    {
     "data": {
      "text/plain": []
     },
     "execution_count": 30,
     "metadata": {},
     "output_type": "execute_result"
    }
   ],
   "source": [
    "airline_df"
   ]
  },
  {
   "cell_type": "code",
   "execution_count": 31,
   "metadata": {
    "collapsed": false
   },
   "outputs": [
    {
     "name": "stdout",
     "output_type": "stream",
     "text": [
      "(43978, 31)\n"
     ]
    },
    {
     "data": {
      "text/plain": [
       "u'YES'"
      ]
     },
     "execution_count": 31,
     "metadata": {},
     "output_type": "execute_result"
    }
   ],
   "source": [
    "# Getting value at speific cell [2]\n",
    "print(airline_df.shape)\n",
    "airline_df[10,30]  # Value at row 10 and column 30 "
   ]
  },
  {
   "cell_type": "code",
   "execution_count": 32,
   "metadata": {
    "collapsed": false
   },
   "outputs": [
    {
     "name": "stdout",
     "output_type": "stream",
     "text": [
      "79.0\n"
     ]
    }
   ],
   "source": [
    "# Getting value at speific cell [1]\n",
    "\n",
    "print(airline_df[10,12])  # Value at row 10 and column 20 "
   ]
  },
  {
   "cell_type": "code",
   "execution_count": 33,
   "metadata": {
    "collapsed": false
   },
   "outputs": [
    {
     "name": "stdout",
     "output_type": "stream",
     "text": [
      "79.0\n",
      "98.0\n",
      "948.0\n",
      "237.0\n"
     ]
    }
   ],
   "source": [
    "# Replacing value at speific cell [1]\n",
    "\n",
    "print(airline_df[10,12])  # Value at row 10 and column 20 \n",
    "print(airline_df[10,12]+19)  # Value at row 10 and column 20 \n",
    "print(airline_df[10,12]*12)  # Value at row 10 and column 20 \n",
    "print(airline_df[10,12]*airline_df[0,3])  # Value at row 10 and column 20 "
   ]
  },
  {
   "cell_type": "code",
   "execution_count": 34,
   "metadata": {
    "collapsed": false
   },
   "outputs": [
    {
     "data": {
      "text/html": [
       "<table>\n",
       "<tr><th style=\"text-align: right;\">  C2</th></tr>\n",
       "<tr><td style=\"text-align: right;\">  90</td></tr>\n",
       "<tr><td style=\"text-align: right;\">  90</td></tr>\n",
       "<tr><td style=\"text-align: right;\">  90</td></tr>\n",
       "<tr><td style=\"text-align: right;\">  90</td></tr>\n",
       "<tr><td style=\"text-align: right;\">  90</td></tr>\n",
       "<tr><td style=\"text-align: right;\">  90</td></tr>\n",
       "<tr><td style=\"text-align: right;\">  90</td></tr>\n",
       "<tr><td style=\"text-align: right;\">  90</td></tr>\n",
       "<tr><td style=\"text-align: right;\">  90</td></tr>\n",
       "<tr><td style=\"text-align: right;\">  90</td></tr>\n",
       "</table>"
      ]
     },
     "metadata": {},
     "output_type": "display_data"
    },
    {
     "data": {
      "text/plain": []
     },
     "execution_count": 34,
     "metadata": {},
     "output_type": "execute_result"
    }
   ],
   "source": [
    "# Replacing Values in the Frame [1]\n",
    "\n",
    "# Multipying values into specific column\n",
    "# airline_df['C2']\n",
    "airline_df['C2']*9"
   ]
  },
  {
   "cell_type": "code",
   "execution_count": 35,
   "metadata": {
    "collapsed": false
   },
   "outputs": [
    {
     "name": "stdout",
     "output_type": "stream",
     "text": [
      "(43978, 31)\n",
      "(43978, 1)\n",
      "(43978, 1)\n",
      "(42783, 31)\n",
      "There are 1195 missing values\n",
      "setting all NA to 0\n",
      "now checking the count of NA\n",
      "(43978, 1)\n",
      "(43978, 1)\n"
     ]
    }
   ],
   "source": [
    "# Replacing NA values in the Frame for a column\n",
    "\n",
    "# Multipying values into specific column\n",
    "print(airline_df.shape)\n",
    "print(airline_df['C7'].shape)\n",
    "print(airline_df['C7'].isna().shape)\n",
    "mask_c7_na = airline_df['C7'].isna()\n",
    "airline_df_c7_na = airline_df[~mask_c7_na,:]\n",
    "print(airline_df_c7_na.shape)\n",
    "print \"There are 1195 missing values\"\n",
    "print \"setting all NA to 0\"\n",
    "airline_df[airline_df[\"C7\"].isna(), \"C7\"] = 0\n",
    "print \"now checking the count of NA\"\n",
    "print(airline_df['C7'].shape)\n",
    "print(airline_df['C7'].isna().shape)"
   ]
  },
  {
   "cell_type": "markdown",
   "metadata": {},
   "source": [
    "# Splitting Data sets\n"
   ]
  },
  {
   "cell_type": "code",
   "execution_count": 36,
   "metadata": {
    "collapsed": false
   },
   "outputs": [
    {
     "data": {
      "text/plain": [
       "(43978, 31)"
      ]
     },
     "execution_count": 36,
     "metadata": {},
     "output_type": "execute_result"
    }
   ],
   "source": [
    "# Splitting Data sets [1]\n",
    "\n",
    "# Estimate the size of dataframe\n",
    "airline_df.shape"
   ]
  },
  {
   "cell_type": "code",
   "execution_count": 37,
   "metadata": {
    "collapsed": false
   },
   "outputs": [
    {
     "name": "stdout",
     "output_type": "stream",
     "text": [
      "(35259, 31)\n",
      "(4306, 31)\n",
      "(4413, 31)\n"
     ]
    }
   ],
   "source": [
    "# Splitting Data sets [1]\n",
    "\n",
    "# Spliting frame into 3 sets - train, valid and test\n",
    "train1,test1,valid1 = airline_df.split_frame(ratios=[0.8,0.1])\n",
    "print(train1.shape)\n",
    "print(test1.shape)\n",
    "print(valid1.shape)"
   ]
  },
  {
   "cell_type": "code",
   "execution_count": 38,
   "metadata": {
    "collapsed": false
   },
   "outputs": [
    {
     "name": "stdout",
     "output_type": "stream",
     "text": [
      "(43978, 31)\n",
      "(32904, 31)\n",
      "(11074, 31)\n"
     ]
    }
   ],
   "source": [
    "# Spliting frame into 2 sets - train and test\n",
    "\n",
    "# ERROR BELOW\n",
    "print(airline_df.shape)\n",
    "train2,test2 = airline_df.split_frame(ratios=[0.75])\n",
    "print(train2.shape)\n",
    "print(test2.shape)\n"
   ]
  },
  {
   "cell_type": "markdown",
   "metadata": {},
   "source": [
    "# Combining two datasets  - Adding Rows\n",
    "\n"
   ]
  },
  {
   "cell_type": "code",
   "execution_count": 39,
   "metadata": {
    "collapsed": false
   },
   "outputs": [
    {
     "name": "stdout",
     "output_type": "stream",
     "text": [
      "(35259, 31)\n",
      "(4306, 31)\n",
      "(39565, 31)\n"
     ]
    },
    {
     "data": {
      "text/html": [
       "<table>\n",
       "<tr><th style=\"text-align: right;\">  C1</th><th style=\"text-align: right;\">  C2</th><th style=\"text-align: right;\">  C3</th><th style=\"text-align: right;\">  C4</th><th style=\"text-align: right;\">  C5</th><th style=\"text-align: right;\">  C6</th><th style=\"text-align: right;\">  C7</th><th style=\"text-align: right;\">  C8</th><th>C9  </th><th style=\"text-align: right;\">  C10</th><th>C11  </th><th style=\"text-align: right;\">  C12</th><th style=\"text-align: right;\">  C13</th><th style=\"text-align: right;\">  C14</th><th style=\"text-align: right;\">  C15</th><th style=\"text-align: right;\">  C16</th><th>C17  </th><th>C18  </th><th style=\"text-align: right;\">  C19</th><th style=\"text-align: right;\">  C20</th><th style=\"text-align: right;\">  C21</th><th style=\"text-align: right;\">  C22</th><th>C23  </th><th style=\"text-align: right;\">  C24</th><th style=\"text-align: right;\">  C25</th><th style=\"text-align: right;\">  C26</th><th style=\"text-align: right;\">  C27</th><th style=\"text-align: right;\">  C28</th><th style=\"text-align: right;\">  C29</th><th>C30  </th><th>C31  </th></tr>\n",
       "<tr><td style=\"text-align: right;\">1987</td><td style=\"text-align: right;\">  10</td><td style=\"text-align: right;\">  14</td><td style=\"text-align: right;\">   3</td><td style=\"text-align: right;\"> 741</td><td style=\"text-align: right;\"> 730</td><td style=\"text-align: right;\"> 912</td><td style=\"text-align: right;\"> 849</td><td>PS  </td><td style=\"text-align: right;\"> 1451</td><td>NA   </td><td style=\"text-align: right;\">   91</td><td style=\"text-align: right;\">   79</td><td style=\"text-align: right;\">  nan</td><td style=\"text-align: right;\">   23</td><td style=\"text-align: right;\">   11</td><td>SAN  </td><td>SFO  </td><td style=\"text-align: right;\">  447</td><td style=\"text-align: right;\">  nan</td><td style=\"text-align: right;\">  nan</td><td style=\"text-align: right;\">    0</td><td>NA   </td><td style=\"text-align: right;\">    0</td><td style=\"text-align: right;\">  nan</td><td style=\"text-align: right;\">  nan</td><td style=\"text-align: right;\">  nan</td><td style=\"text-align: right;\">  nan</td><td style=\"text-align: right;\">  nan</td><td>YES  </td><td>YES  </td></tr>\n",
       "<tr><td style=\"text-align: right;\">1987</td><td style=\"text-align: right;\">  10</td><td style=\"text-align: right;\">  15</td><td style=\"text-align: right;\">   4</td><td style=\"text-align: right;\"> 729</td><td style=\"text-align: right;\"> 730</td><td style=\"text-align: right;\"> 903</td><td style=\"text-align: right;\"> 849</td><td>PS  </td><td style=\"text-align: right;\"> 1451</td><td>NA   </td><td style=\"text-align: right;\">   94</td><td style=\"text-align: right;\">   79</td><td style=\"text-align: right;\">  nan</td><td style=\"text-align: right;\">   14</td><td style=\"text-align: right;\">   -1</td><td>SAN  </td><td>SFO  </td><td style=\"text-align: right;\">  447</td><td style=\"text-align: right;\">  nan</td><td style=\"text-align: right;\">  nan</td><td style=\"text-align: right;\">    0</td><td>NA   </td><td style=\"text-align: right;\">    0</td><td style=\"text-align: right;\">  nan</td><td style=\"text-align: right;\">  nan</td><td style=\"text-align: right;\">  nan</td><td style=\"text-align: right;\">  nan</td><td style=\"text-align: right;\">  nan</td><td>YES  </td><td>NO   </td></tr>\n",
       "<tr><td style=\"text-align: right;\">1987</td><td style=\"text-align: right;\">  10</td><td style=\"text-align: right;\">  17</td><td style=\"text-align: right;\">   6</td><td style=\"text-align: right;\"> 741</td><td style=\"text-align: right;\"> 730</td><td style=\"text-align: right;\"> 918</td><td style=\"text-align: right;\"> 849</td><td>PS  </td><td style=\"text-align: right;\"> 1451</td><td>NA   </td><td style=\"text-align: right;\">   97</td><td style=\"text-align: right;\">   79</td><td style=\"text-align: right;\">  nan</td><td style=\"text-align: right;\">   29</td><td style=\"text-align: right;\">   11</td><td>SAN  </td><td>SFO  </td><td style=\"text-align: right;\">  447</td><td style=\"text-align: right;\">  nan</td><td style=\"text-align: right;\">  nan</td><td style=\"text-align: right;\">    0</td><td>NA   </td><td style=\"text-align: right;\">    0</td><td style=\"text-align: right;\">  nan</td><td style=\"text-align: right;\">  nan</td><td style=\"text-align: right;\">  nan</td><td style=\"text-align: right;\">  nan</td><td style=\"text-align: right;\">  nan</td><td>YES  </td><td>YES  </td></tr>\n",
       "<tr><td style=\"text-align: right;\">1987</td><td style=\"text-align: right;\">  10</td><td style=\"text-align: right;\">  18</td><td style=\"text-align: right;\">   7</td><td style=\"text-align: right;\"> 729</td><td style=\"text-align: right;\"> 730</td><td style=\"text-align: right;\"> 847</td><td style=\"text-align: right;\"> 849</td><td>PS  </td><td style=\"text-align: right;\"> 1451</td><td>NA   </td><td style=\"text-align: right;\">   78</td><td style=\"text-align: right;\">   79</td><td style=\"text-align: right;\">  nan</td><td style=\"text-align: right;\">   -2</td><td style=\"text-align: right;\">   -1</td><td>SAN  </td><td>SFO  </td><td style=\"text-align: right;\">  447</td><td style=\"text-align: right;\">  nan</td><td style=\"text-align: right;\">  nan</td><td style=\"text-align: right;\">    0</td><td>NA   </td><td style=\"text-align: right;\">    0</td><td style=\"text-align: right;\">  nan</td><td style=\"text-align: right;\">  nan</td><td style=\"text-align: right;\">  nan</td><td style=\"text-align: right;\">  nan</td><td style=\"text-align: right;\">  nan</td><td>NO   </td><td>NO   </td></tr>\n",
       "<tr><td style=\"text-align: right;\">1987</td><td style=\"text-align: right;\">  10</td><td style=\"text-align: right;\">  19</td><td style=\"text-align: right;\">   1</td><td style=\"text-align: right;\"> 749</td><td style=\"text-align: right;\"> 730</td><td style=\"text-align: right;\"> 922</td><td style=\"text-align: right;\"> 849</td><td>PS  </td><td style=\"text-align: right;\"> 1451</td><td>NA   </td><td style=\"text-align: right;\">   93</td><td style=\"text-align: right;\">   79</td><td style=\"text-align: right;\">  nan</td><td style=\"text-align: right;\">   33</td><td style=\"text-align: right;\">   19</td><td>SAN  </td><td>SFO  </td><td style=\"text-align: right;\">  447</td><td style=\"text-align: right;\">  nan</td><td style=\"text-align: right;\">  nan</td><td style=\"text-align: right;\">    0</td><td>NA   </td><td style=\"text-align: right;\">    0</td><td style=\"text-align: right;\">  nan</td><td style=\"text-align: right;\">  nan</td><td style=\"text-align: right;\">  nan</td><td style=\"text-align: right;\">  nan</td><td style=\"text-align: right;\">  nan</td><td>YES  </td><td>YES  </td></tr>\n",
       "<tr><td style=\"text-align: right;\">1987</td><td style=\"text-align: right;\">  10</td><td style=\"text-align: right;\">  21</td><td style=\"text-align: right;\">   3</td><td style=\"text-align: right;\"> 728</td><td style=\"text-align: right;\"> 730</td><td style=\"text-align: right;\"> 848</td><td style=\"text-align: right;\"> 849</td><td>PS  </td><td style=\"text-align: right;\"> 1451</td><td>NA   </td><td style=\"text-align: right;\">   80</td><td style=\"text-align: right;\">   79</td><td style=\"text-align: right;\">  nan</td><td style=\"text-align: right;\">   -1</td><td style=\"text-align: right;\">   -2</td><td>SAN  </td><td>SFO  </td><td style=\"text-align: right;\">  447</td><td style=\"text-align: right;\">  nan</td><td style=\"text-align: right;\">  nan</td><td style=\"text-align: right;\">    0</td><td>NA   </td><td style=\"text-align: right;\">    0</td><td style=\"text-align: right;\">  nan</td><td style=\"text-align: right;\">  nan</td><td style=\"text-align: right;\">  nan</td><td style=\"text-align: right;\">  nan</td><td style=\"text-align: right;\">  nan</td><td>NO   </td><td>NO   </td></tr>\n",
       "<tr><td style=\"text-align: right;\">1987</td><td style=\"text-align: right;\">  10</td><td style=\"text-align: right;\">  22</td><td style=\"text-align: right;\">   4</td><td style=\"text-align: right;\"> 728</td><td style=\"text-align: right;\"> 730</td><td style=\"text-align: right;\"> 852</td><td style=\"text-align: right;\"> 849</td><td>PS  </td><td style=\"text-align: right;\"> 1451</td><td>NA   </td><td style=\"text-align: right;\">   84</td><td style=\"text-align: right;\">   79</td><td style=\"text-align: right;\">  nan</td><td style=\"text-align: right;\">    3</td><td style=\"text-align: right;\">   -2</td><td>SAN  </td><td>SFO  </td><td style=\"text-align: right;\">  447</td><td style=\"text-align: right;\">  nan</td><td style=\"text-align: right;\">  nan</td><td style=\"text-align: right;\">    0</td><td>NA   </td><td style=\"text-align: right;\">    0</td><td style=\"text-align: right;\">  nan</td><td style=\"text-align: right;\">  nan</td><td style=\"text-align: right;\">  nan</td><td style=\"text-align: right;\">  nan</td><td style=\"text-align: right;\">  nan</td><td>YES  </td><td>NO   </td></tr>\n",
       "<tr><td style=\"text-align: right;\">1987</td><td style=\"text-align: right;\">  10</td><td style=\"text-align: right;\">  23</td><td style=\"text-align: right;\">   5</td><td style=\"text-align: right;\"> 731</td><td style=\"text-align: right;\"> 730</td><td style=\"text-align: right;\"> 902</td><td style=\"text-align: right;\"> 849</td><td>PS  </td><td style=\"text-align: right;\"> 1451</td><td>NA   </td><td style=\"text-align: right;\">   91</td><td style=\"text-align: right;\">   79</td><td style=\"text-align: right;\">  nan</td><td style=\"text-align: right;\">   13</td><td style=\"text-align: right;\">    1</td><td>SAN  </td><td>SFO  </td><td style=\"text-align: right;\">  447</td><td style=\"text-align: right;\">  nan</td><td style=\"text-align: right;\">  nan</td><td style=\"text-align: right;\">    0</td><td>NA   </td><td style=\"text-align: right;\">    0</td><td style=\"text-align: right;\">  nan</td><td style=\"text-align: right;\">  nan</td><td style=\"text-align: right;\">  nan</td><td style=\"text-align: right;\">  nan</td><td style=\"text-align: right;\">  nan</td><td>YES  </td><td>YES  </td></tr>\n",
       "<tr><td style=\"text-align: right;\">1987</td><td style=\"text-align: right;\">  10</td><td style=\"text-align: right;\">  24</td><td style=\"text-align: right;\">   6</td><td style=\"text-align: right;\"> 744</td><td style=\"text-align: right;\"> 730</td><td style=\"text-align: right;\"> 908</td><td style=\"text-align: right;\"> 849</td><td>PS  </td><td style=\"text-align: right;\"> 1451</td><td>NA   </td><td style=\"text-align: right;\">   84</td><td style=\"text-align: right;\">   79</td><td style=\"text-align: right;\">  nan</td><td style=\"text-align: right;\">   19</td><td style=\"text-align: right;\">   14</td><td>SAN  </td><td>SFO  </td><td style=\"text-align: right;\">  447</td><td style=\"text-align: right;\">  nan</td><td style=\"text-align: right;\">  nan</td><td style=\"text-align: right;\">    0</td><td>NA   </td><td style=\"text-align: right;\">    0</td><td style=\"text-align: right;\">  nan</td><td style=\"text-align: right;\">  nan</td><td style=\"text-align: right;\">  nan</td><td style=\"text-align: right;\">  nan</td><td style=\"text-align: right;\">  nan</td><td>YES  </td><td>YES  </td></tr>\n",
       "<tr><td style=\"text-align: right;\">1987</td><td style=\"text-align: right;\">  10</td><td style=\"text-align: right;\">  25</td><td style=\"text-align: right;\">   7</td><td style=\"text-align: right;\"> 729</td><td style=\"text-align: right;\"> 730</td><td style=\"text-align: right;\"> 851</td><td style=\"text-align: right;\"> 849</td><td>PS  </td><td style=\"text-align: right;\"> 1451</td><td>NA   </td><td style=\"text-align: right;\">   82</td><td style=\"text-align: right;\">   79</td><td style=\"text-align: right;\">  nan</td><td style=\"text-align: right;\">    2</td><td style=\"text-align: right;\">   -1</td><td>SAN  </td><td>SFO  </td><td style=\"text-align: right;\">  447</td><td style=\"text-align: right;\">  nan</td><td style=\"text-align: right;\">  nan</td><td style=\"text-align: right;\">    0</td><td>NA   </td><td style=\"text-align: right;\">    0</td><td style=\"text-align: right;\">  nan</td><td style=\"text-align: right;\">  nan</td><td style=\"text-align: right;\">  nan</td><td style=\"text-align: right;\">  nan</td><td style=\"text-align: right;\">  nan</td><td>YES  </td><td>NO   </td></tr>\n",
       "</table>"
      ]
     },
     "metadata": {},
     "output_type": "display_data"
    },
    {
     "data": {
      "text/plain": [
       "<bound method H2OFrame.describe of >"
      ]
     },
     "execution_count": 39,
     "metadata": {},
     "output_type": "execute_result"
    }
   ],
   "source": [
    "# Previously we create train1 and test1\n",
    "# lets combine them\n",
    "print(train1.shape)\n",
    "print(test1.shape)\n",
    "\n",
    "newdf = train1.rbind(test1)\n",
    "print(newdf.shape)\n",
    "newdf.describe\n"
   ]
  },
  {
   "cell_type": "markdown",
   "metadata": {},
   "source": [
    "# Combining two datasets - Adding Columns"
   ]
  },
  {
   "cell_type": "code",
   "execution_count": 40,
   "metadata": {
    "collapsed": false
   },
   "outputs": [
    {
     "data": {
      "image/png": "[encoded data removed]",
      "text/plain": [
       "<matplotlib.figure.Figure at 0x10b41cf50>"
      ]
     },
     "metadata": {},
     "output_type": "display_data"
    }
   ],
   "source": [
    "%matplotlib inline \n",
    "airline_df['C4'].hist(10,True)"
   ]
  },
  {
   "cell_type": "code",
   "execution_count": 41,
   "metadata": {
    "collapsed": false
   },
   "outputs": [
    {
     "name": "stdout",
     "output_type": "stream",
     "text": [
      "(43978, 31)\n",
      "(23842, 31)\n",
      "(20136, 31)\n"
     ]
    }
   ],
   "source": [
    "# We are working on full dataframe\n",
    "\n",
    "print(airline_df.shape)\n",
    "print(airline_df[airline_df[\"C4\"] >= 4].shape)\n",
    "print(airline_df[airline_df[\"C4\"] < 4].shape)\n",
    "airline_df_C4_high = airline_df[airline_df[\"C4\"] >= 4]\n",
    "airline_df_C4_low = airline_df[airline_df[\"C4\"] < 4]"
   ]
  },
  {
   "cell_type": "code",
   "execution_count": 42,
   "metadata": {
    "collapsed": false
   },
   "outputs": [
    {
     "data": {
      "text/plain": [
       "(43978, 1)"
      ]
     },
     "execution_count": 42,
     "metadata": {},
     "output_type": "execute_result"
    }
   ],
   "source": [
    "# lets work only on the specific column\n",
    "airline_c4 = airline_df[\"C4\"]\n",
    "airline_c4.shape"
   ]
  },
  {
   "cell_type": "code",
   "execution_count": 43,
   "metadata": {
    "collapsed": false
   },
   "outputs": [
    {
     "data": {
      "text/plain": [
       "[u'C1',\n",
       " u'C2',\n",
       " u'C3',\n",
       " u'C4',\n",
       " u'C5',\n",
       " u'C6',\n",
       " u'C7',\n",
       " u'C8',\n",
       " u'C9',\n",
       " u'C10',\n",
       " u'C11',\n",
       " u'C12',\n",
       " u'C13',\n",
       " u'C14',\n",
       " u'C15',\n",
       " u'C16',\n",
       " u'C17',\n",
       " u'C18',\n",
       " u'C19',\n",
       " u'C20',\n",
       " u'C21',\n",
       " u'C22',\n",
       " u'C23',\n",
       " u'C24',\n",
       " u'C25',\n",
       " u'C26',\n",
       " u'C27',\n",
       " u'C28',\n",
       " u'C29',\n",
       " u'C30',\n",
       " u'C31']"
      ]
     },
     "execution_count": 43,
     "metadata": {},
     "output_type": "execute_result"
    }
   ],
   "source": [
    "len(airline_df.columns)\n",
    "airline_df.columns"
   ]
  },
  {
   "cell_type": "code",
   "execution_count": 44,
   "metadata": {
    "collapsed": false
   },
   "outputs": [],
   "source": [
    "airline_c4['C32'] = (airline_c4[\"C4\"] >= 4)"
   ]
  },
  {
   "cell_type": "code",
   "execution_count": 45,
   "metadata": {
    "collapsed": false
   },
   "outputs": [
    {
     "name": "stdout",
     "output_type": "stream",
     "text": [
      "(43978, 1)\n"
     ]
    },
    {
     "data": {
      "text/html": [
       "<table>\n",
       "<tr><th style=\"text-align: right;\">  C32</th></tr>\n",
       "<tr><td style=\"text-align: right;\">    0</td></tr>\n",
       "<tr><td style=\"text-align: right;\">    1</td></tr>\n",
       "<tr><td style=\"text-align: right;\">    1</td></tr>\n",
       "<tr><td style=\"text-align: right;\">    1</td></tr>\n",
       "<tr><td style=\"text-align: right;\">    0</td></tr>\n",
       "<tr><td style=\"text-align: right;\">    0</td></tr>\n",
       "<tr><td style=\"text-align: right;\">    1</td></tr>\n",
       "<tr><td style=\"text-align: right;\">    1</td></tr>\n",
       "<tr><td style=\"text-align: right;\">    1</td></tr>\n",
       "<tr><td style=\"text-align: right;\">    1</td></tr>\n",
       "</table>"
      ]
     },
     "metadata": {},
     "output_type": "display_data"
    },
    {
     "data": {
      "text/plain": []
     },
     "execution_count": 45,
     "metadata": {},
     "output_type": "execute_result"
    }
   ],
   "source": [
    "print(airline_c4['C32'].shape)\n",
    "airline_c4['C32']"
   ]
  },
  {
   "cell_type": "code",
   "execution_count": 46,
   "metadata": {
    "collapsed": true
   },
   "outputs": [],
   "source": [
    "airline_df = airline_df.cbind(airline_c4['C32'])"
   ]
  },
  {
   "cell_type": "code",
   "execution_count": 47,
   "metadata": {
    "collapsed": false
   },
   "outputs": [
    {
     "data": {
      "text/html": [
       "<table>\n",
       "<tr><th style=\"text-align: right;\">  C1</th><th style=\"text-align: right;\">  C2</th><th style=\"text-align: right;\">  C3</th><th style=\"text-align: right;\">  C4</th><th style=\"text-align: right;\">  C5</th><th style=\"text-align: right;\">  C6</th><th style=\"text-align: right;\">  C7</th><th style=\"text-align: right;\">  C8</th><th>C9  </th><th style=\"text-align: right;\">  C10</th><th>C11  </th><th style=\"text-align: right;\">  C12</th><th style=\"text-align: right;\">  C13</th><th style=\"text-align: right;\">  C14</th><th style=\"text-align: right;\">  C15</th><th style=\"text-align: right;\">  C16</th><th>C17  </th><th>C18  </th><th style=\"text-align: right;\">  C19</th><th style=\"text-align: right;\">  C20</th><th style=\"text-align: right;\">  C21</th><th style=\"text-align: right;\">  C22</th><th>C23  </th><th style=\"text-align: right;\">  C24</th><th style=\"text-align: right;\">  C25</th><th style=\"text-align: right;\">  C26</th><th style=\"text-align: right;\">  C27</th><th style=\"text-align: right;\">  C28</th><th style=\"text-align: right;\">  C29</th><th>C30  </th><th>C31  </th><th style=\"text-align: right;\">  C32</th></tr>\n",
       "<tr><td style=\"text-align: right;\">1987</td><td style=\"text-align: right;\">  10</td><td style=\"text-align: right;\">  14</td><td style=\"text-align: right;\">   3</td><td style=\"text-align: right;\"> 741</td><td style=\"text-align: right;\"> 730</td><td style=\"text-align: right;\"> 912</td><td style=\"text-align: right;\"> 849</td><td>PS  </td><td style=\"text-align: right;\"> 1451</td><td>NA   </td><td style=\"text-align: right;\">   91</td><td style=\"text-align: right;\">   79</td><td style=\"text-align: right;\">  nan</td><td style=\"text-align: right;\">   23</td><td style=\"text-align: right;\">   11</td><td>SAN  </td><td>SFO  </td><td style=\"text-align: right;\">  447</td><td style=\"text-align: right;\">  nan</td><td style=\"text-align: right;\">  nan</td><td style=\"text-align: right;\">    0</td><td>NA   </td><td style=\"text-align: right;\">    0</td><td style=\"text-align: right;\">  nan</td><td style=\"text-align: right;\">  nan</td><td style=\"text-align: right;\">  nan</td><td style=\"text-align: right;\">  nan</td><td style=\"text-align: right;\">  nan</td><td>YES  </td><td>YES  </td><td style=\"text-align: right;\">    0</td></tr>\n",
       "<tr><td style=\"text-align: right;\">1987</td><td style=\"text-align: right;\">  10</td><td style=\"text-align: right;\">  15</td><td style=\"text-align: right;\">   4</td><td style=\"text-align: right;\"> 729</td><td style=\"text-align: right;\"> 730</td><td style=\"text-align: right;\"> 903</td><td style=\"text-align: right;\"> 849</td><td>PS  </td><td style=\"text-align: right;\"> 1451</td><td>NA   </td><td style=\"text-align: right;\">   94</td><td style=\"text-align: right;\">   79</td><td style=\"text-align: right;\">  nan</td><td style=\"text-align: right;\">   14</td><td style=\"text-align: right;\">   -1</td><td>SAN  </td><td>SFO  </td><td style=\"text-align: right;\">  447</td><td style=\"text-align: right;\">  nan</td><td style=\"text-align: right;\">  nan</td><td style=\"text-align: right;\">    0</td><td>NA   </td><td style=\"text-align: right;\">    0</td><td style=\"text-align: right;\">  nan</td><td style=\"text-align: right;\">  nan</td><td style=\"text-align: right;\">  nan</td><td style=\"text-align: right;\">  nan</td><td style=\"text-align: right;\">  nan</td><td>YES  </td><td>NO   </td><td style=\"text-align: right;\">    1</td></tr>\n",
       "<tr><td style=\"text-align: right;\">1987</td><td style=\"text-align: right;\">  10</td><td style=\"text-align: right;\">  17</td><td style=\"text-align: right;\">   6</td><td style=\"text-align: right;\"> 741</td><td style=\"text-align: right;\"> 730</td><td style=\"text-align: right;\"> 918</td><td style=\"text-align: right;\"> 849</td><td>PS  </td><td style=\"text-align: right;\"> 1451</td><td>NA   </td><td style=\"text-align: right;\">   97</td><td style=\"text-align: right;\">   79</td><td style=\"text-align: right;\">  nan</td><td style=\"text-align: right;\">   29</td><td style=\"text-align: right;\">   11</td><td>SAN  </td><td>SFO  </td><td style=\"text-align: right;\">  447</td><td style=\"text-align: right;\">  nan</td><td style=\"text-align: right;\">  nan</td><td style=\"text-align: right;\">    0</td><td>NA   </td><td style=\"text-align: right;\">    0</td><td style=\"text-align: right;\">  nan</td><td style=\"text-align: right;\">  nan</td><td style=\"text-align: right;\">  nan</td><td style=\"text-align: right;\">  nan</td><td style=\"text-align: right;\">  nan</td><td>YES  </td><td>YES  </td><td style=\"text-align: right;\">    1</td></tr>\n",
       "<tr><td style=\"text-align: right;\">1987</td><td style=\"text-align: right;\">  10</td><td style=\"text-align: right;\">  18</td><td style=\"text-align: right;\">   7</td><td style=\"text-align: right;\"> 729</td><td style=\"text-align: right;\"> 730</td><td style=\"text-align: right;\"> 847</td><td style=\"text-align: right;\"> 849</td><td>PS  </td><td style=\"text-align: right;\"> 1451</td><td>NA   </td><td style=\"text-align: right;\">   78</td><td style=\"text-align: right;\">   79</td><td style=\"text-align: right;\">  nan</td><td style=\"text-align: right;\">   -2</td><td style=\"text-align: right;\">   -1</td><td>SAN  </td><td>SFO  </td><td style=\"text-align: right;\">  447</td><td style=\"text-align: right;\">  nan</td><td style=\"text-align: right;\">  nan</td><td style=\"text-align: right;\">    0</td><td>NA   </td><td style=\"text-align: right;\">    0</td><td style=\"text-align: right;\">  nan</td><td style=\"text-align: right;\">  nan</td><td style=\"text-align: right;\">  nan</td><td style=\"text-align: right;\">  nan</td><td style=\"text-align: right;\">  nan</td><td>NO   </td><td>NO   </td><td style=\"text-align: right;\">    1</td></tr>\n",
       "<tr><td style=\"text-align: right;\">1987</td><td style=\"text-align: right;\">  10</td><td style=\"text-align: right;\">  19</td><td style=\"text-align: right;\">   1</td><td style=\"text-align: right;\"> 749</td><td style=\"text-align: right;\"> 730</td><td style=\"text-align: right;\"> 922</td><td style=\"text-align: right;\"> 849</td><td>PS  </td><td style=\"text-align: right;\"> 1451</td><td>NA   </td><td style=\"text-align: right;\">   93</td><td style=\"text-align: right;\">   79</td><td style=\"text-align: right;\">  nan</td><td style=\"text-align: right;\">   33</td><td style=\"text-align: right;\">   19</td><td>SAN  </td><td>SFO  </td><td style=\"text-align: right;\">  447</td><td style=\"text-align: right;\">  nan</td><td style=\"text-align: right;\">  nan</td><td style=\"text-align: right;\">    0</td><td>NA   </td><td style=\"text-align: right;\">    0</td><td style=\"text-align: right;\">  nan</td><td style=\"text-align: right;\">  nan</td><td style=\"text-align: right;\">  nan</td><td style=\"text-align: right;\">  nan</td><td style=\"text-align: right;\">  nan</td><td>YES  </td><td>YES  </td><td style=\"text-align: right;\">    0</td></tr>\n",
       "<tr><td style=\"text-align: right;\">1987</td><td style=\"text-align: right;\">  10</td><td style=\"text-align: right;\">  21</td><td style=\"text-align: right;\">   3</td><td style=\"text-align: right;\"> 728</td><td style=\"text-align: right;\"> 730</td><td style=\"text-align: right;\"> 848</td><td style=\"text-align: right;\"> 849</td><td>PS  </td><td style=\"text-align: right;\"> 1451</td><td>NA   </td><td style=\"text-align: right;\">   80</td><td style=\"text-align: right;\">   79</td><td style=\"text-align: right;\">  nan</td><td style=\"text-align: right;\">   -1</td><td style=\"text-align: right;\">   -2</td><td>SAN  </td><td>SFO  </td><td style=\"text-align: right;\">  447</td><td style=\"text-align: right;\">  nan</td><td style=\"text-align: right;\">  nan</td><td style=\"text-align: right;\">    0</td><td>NA   </td><td style=\"text-align: right;\">    0</td><td style=\"text-align: right;\">  nan</td><td style=\"text-align: right;\">  nan</td><td style=\"text-align: right;\">  nan</td><td style=\"text-align: right;\">  nan</td><td style=\"text-align: right;\">  nan</td><td>NO   </td><td>NO   </td><td style=\"text-align: right;\">    0</td></tr>\n",
       "<tr><td style=\"text-align: right;\">1987</td><td style=\"text-align: right;\">  10</td><td style=\"text-align: right;\">  22</td><td style=\"text-align: right;\">   4</td><td style=\"text-align: right;\"> 728</td><td style=\"text-align: right;\"> 730</td><td style=\"text-align: right;\"> 852</td><td style=\"text-align: right;\"> 849</td><td>PS  </td><td style=\"text-align: right;\"> 1451</td><td>NA   </td><td style=\"text-align: right;\">   84</td><td style=\"text-align: right;\">   79</td><td style=\"text-align: right;\">  nan</td><td style=\"text-align: right;\">    3</td><td style=\"text-align: right;\">   -2</td><td>SAN  </td><td>SFO  </td><td style=\"text-align: right;\">  447</td><td style=\"text-align: right;\">  nan</td><td style=\"text-align: right;\">  nan</td><td style=\"text-align: right;\">    0</td><td>NA   </td><td style=\"text-align: right;\">    0</td><td style=\"text-align: right;\">  nan</td><td style=\"text-align: right;\">  nan</td><td style=\"text-align: right;\">  nan</td><td style=\"text-align: right;\">  nan</td><td style=\"text-align: right;\">  nan</td><td>YES  </td><td>NO   </td><td style=\"text-align: right;\">    1</td></tr>\n",
       "<tr><td style=\"text-align: right;\">1987</td><td style=\"text-align: right;\">  10</td><td style=\"text-align: right;\">  23</td><td style=\"text-align: right;\">   5</td><td style=\"text-align: right;\"> 731</td><td style=\"text-align: right;\"> 730</td><td style=\"text-align: right;\"> 902</td><td style=\"text-align: right;\"> 849</td><td>PS  </td><td style=\"text-align: right;\"> 1451</td><td>NA   </td><td style=\"text-align: right;\">   91</td><td style=\"text-align: right;\">   79</td><td style=\"text-align: right;\">  nan</td><td style=\"text-align: right;\">   13</td><td style=\"text-align: right;\">    1</td><td>SAN  </td><td>SFO  </td><td style=\"text-align: right;\">  447</td><td style=\"text-align: right;\">  nan</td><td style=\"text-align: right;\">  nan</td><td style=\"text-align: right;\">    0</td><td>NA   </td><td style=\"text-align: right;\">    0</td><td style=\"text-align: right;\">  nan</td><td style=\"text-align: right;\">  nan</td><td style=\"text-align: right;\">  nan</td><td style=\"text-align: right;\">  nan</td><td style=\"text-align: right;\">  nan</td><td>YES  </td><td>YES  </td><td style=\"text-align: right;\">    1</td></tr>\n",
       "<tr><td style=\"text-align: right;\">1987</td><td style=\"text-align: right;\">  10</td><td style=\"text-align: right;\">  24</td><td style=\"text-align: right;\">   6</td><td style=\"text-align: right;\"> 744</td><td style=\"text-align: right;\"> 730</td><td style=\"text-align: right;\"> 908</td><td style=\"text-align: right;\"> 849</td><td>PS  </td><td style=\"text-align: right;\"> 1451</td><td>NA   </td><td style=\"text-align: right;\">   84</td><td style=\"text-align: right;\">   79</td><td style=\"text-align: right;\">  nan</td><td style=\"text-align: right;\">   19</td><td style=\"text-align: right;\">   14</td><td>SAN  </td><td>SFO  </td><td style=\"text-align: right;\">  447</td><td style=\"text-align: right;\">  nan</td><td style=\"text-align: right;\">  nan</td><td style=\"text-align: right;\">    0</td><td>NA   </td><td style=\"text-align: right;\">    0</td><td style=\"text-align: right;\">  nan</td><td style=\"text-align: right;\">  nan</td><td style=\"text-align: right;\">  nan</td><td style=\"text-align: right;\">  nan</td><td style=\"text-align: right;\">  nan</td><td>YES  </td><td>YES  </td><td style=\"text-align: right;\">    1</td></tr>\n",
       "<tr><td style=\"text-align: right;\">1987</td><td style=\"text-align: right;\">  10</td><td style=\"text-align: right;\">  25</td><td style=\"text-align: right;\">   7</td><td style=\"text-align: right;\"> 729</td><td style=\"text-align: right;\"> 730</td><td style=\"text-align: right;\"> 851</td><td style=\"text-align: right;\"> 849</td><td>PS  </td><td style=\"text-align: right;\"> 1451</td><td>NA   </td><td style=\"text-align: right;\">   82</td><td style=\"text-align: right;\">   79</td><td style=\"text-align: right;\">  nan</td><td style=\"text-align: right;\">    2</td><td style=\"text-align: right;\">   -1</td><td>SAN  </td><td>SFO  </td><td style=\"text-align: right;\">  447</td><td style=\"text-align: right;\">  nan</td><td style=\"text-align: right;\">  nan</td><td style=\"text-align: right;\">    0</td><td>NA   </td><td style=\"text-align: right;\">    0</td><td style=\"text-align: right;\">  nan</td><td style=\"text-align: right;\">  nan</td><td style=\"text-align: right;\">  nan</td><td style=\"text-align: right;\">  nan</td><td style=\"text-align: right;\">  nan</td><td>YES  </td><td>NO   </td><td style=\"text-align: right;\">    1</td></tr>\n",
       "</table>"
      ]
     },
     "metadata": {},
     "output_type": "display_data"
    },
    {
     "data": {
      "text/plain": []
     },
     "execution_count": 47,
     "metadata": {},
     "output_type": "execute_result"
    }
   ],
   "source": [
    "airline_df"
   ]
  },
  {
   "cell_type": "code",
   "execution_count": 48,
   "metadata": {
    "collapsed": false
   },
   "outputs": [
    {
     "data": {
      "text/plain": [
       "[u'C1',\n",
       " u'C2',\n",
       " u'C3',\n",
       " u'C4',\n",
       " u'C5',\n",
       " u'C6',\n",
       " u'C7',\n",
       " u'C8',\n",
       " u'C9',\n",
       " u'C10',\n",
       " u'C11',\n",
       " u'C12',\n",
       " u'C13',\n",
       " u'C14',\n",
       " u'C15',\n",
       " u'C16',\n",
       " u'C17',\n",
       " u'C18',\n",
       " u'C19',\n",
       " u'C20',\n",
       " u'C21',\n",
       " u'C22',\n",
       " u'C23',\n",
       " u'C24',\n",
       " u'C25',\n",
       " u'C26',\n",
       " u'C27',\n",
       " u'C28',\n",
       " u'C29',\n",
       " u'C30',\n",
       " u'C31',\n",
       " u'C32']"
      ]
     },
     "execution_count": 48,
     "metadata": {},
     "output_type": "execute_result"
    }
   ],
   "source": [
    "airline_df.columns"
   ]
  },
  {
   "cell_type": "code",
   "execution_count": 49,
   "metadata": {
    "collapsed": false
   },
   "outputs": [
    {
     "data": {
      "text/html": [
       "<table>\n",
       "<tr><th style=\"text-align: right;\">  C1</th><th style=\"text-align: right;\">  C2</th><th style=\"text-align: right;\">  C3</th><th style=\"text-align: right;\">  C4</th><th style=\"text-align: right;\">  C5</th><th style=\"text-align: right;\">  C6</th><th style=\"text-align: right;\">  C7</th><th style=\"text-align: right;\">  C8</th><th>C9  </th><th style=\"text-align: right;\">  C10</th><th>C11  </th><th style=\"text-align: right;\">  C12</th><th style=\"text-align: right;\">  C13</th><th style=\"text-align: right;\">  C14</th><th style=\"text-align: right;\">  C15</th><th style=\"text-align: right;\">  C16</th><th>C17  </th><th>C18  </th><th style=\"text-align: right;\">  C19</th><th style=\"text-align: right;\">  C20</th><th style=\"text-align: right;\">  C21</th><th style=\"text-align: right;\">  C22</th><th>C23  </th><th style=\"text-align: right;\">  C24</th><th style=\"text-align: right;\">  C25</th><th style=\"text-align: right;\">  C26</th><th style=\"text-align: right;\">  C27</th><th style=\"text-align: right;\">  C28</th><th style=\"text-align: right;\">  C29</th><th>C30  </th><th>C31  </th><th style=\"text-align: right;\">  C32</th></tr>\n",
       "<tr><td style=\"text-align: right;\">1987</td><td style=\"text-align: right;\">  10</td><td style=\"text-align: right;\">  14</td><td style=\"text-align: right;\">   3</td><td style=\"text-align: right;\"> 741</td><td style=\"text-align: right;\"> 730</td><td style=\"text-align: right;\"> 912</td><td style=\"text-align: right;\"> 849</td><td>PS  </td><td style=\"text-align: right;\"> 1451</td><td>NA   </td><td style=\"text-align: right;\">   91</td><td style=\"text-align: right;\">   79</td><td style=\"text-align: right;\">  nan</td><td style=\"text-align: right;\">   23</td><td style=\"text-align: right;\">   11</td><td>SAN  </td><td>SFO  </td><td style=\"text-align: right;\">  447</td><td style=\"text-align: right;\">  nan</td><td style=\"text-align: right;\">  nan</td><td style=\"text-align: right;\">    0</td><td>NA   </td><td style=\"text-align: right;\">    0</td><td style=\"text-align: right;\">  nan</td><td style=\"text-align: right;\">  nan</td><td style=\"text-align: right;\">  nan</td><td style=\"text-align: right;\">  nan</td><td style=\"text-align: right;\">  nan</td><td>YES  </td><td>YES  </td><td style=\"text-align: right;\">    0</td></tr>\n",
       "<tr><td style=\"text-align: right;\">1987</td><td style=\"text-align: right;\">  10</td><td style=\"text-align: right;\">  15</td><td style=\"text-align: right;\">   4</td><td style=\"text-align: right;\"> 729</td><td style=\"text-align: right;\"> 730</td><td style=\"text-align: right;\"> 903</td><td style=\"text-align: right;\"> 849</td><td>PS  </td><td style=\"text-align: right;\"> 1451</td><td>NA   </td><td style=\"text-align: right;\">   94</td><td style=\"text-align: right;\">   79</td><td style=\"text-align: right;\">  nan</td><td style=\"text-align: right;\">   14</td><td style=\"text-align: right;\">   -1</td><td>SAN  </td><td>SFO  </td><td style=\"text-align: right;\">  447</td><td style=\"text-align: right;\">  nan</td><td style=\"text-align: right;\">  nan</td><td style=\"text-align: right;\">    0</td><td>NA   </td><td style=\"text-align: right;\">    0</td><td style=\"text-align: right;\">  nan</td><td style=\"text-align: right;\">  nan</td><td style=\"text-align: right;\">  nan</td><td style=\"text-align: right;\">  nan</td><td style=\"text-align: right;\">  nan</td><td>YES  </td><td>NO   </td><td style=\"text-align: right;\">    1</td></tr>\n",
       "<tr><td style=\"text-align: right;\">1987</td><td style=\"text-align: right;\">  10</td><td style=\"text-align: right;\">  17</td><td style=\"text-align: right;\">   6</td><td style=\"text-align: right;\"> 741</td><td style=\"text-align: right;\"> 730</td><td style=\"text-align: right;\"> 918</td><td style=\"text-align: right;\"> 849</td><td>PS  </td><td style=\"text-align: right;\"> 1451</td><td>NA   </td><td style=\"text-align: right;\">   97</td><td style=\"text-align: right;\">   79</td><td style=\"text-align: right;\">  nan</td><td style=\"text-align: right;\">   29</td><td style=\"text-align: right;\">   11</td><td>SAN  </td><td>SFO  </td><td style=\"text-align: right;\">  447</td><td style=\"text-align: right;\">  nan</td><td style=\"text-align: right;\">  nan</td><td style=\"text-align: right;\">    0</td><td>NA   </td><td style=\"text-align: right;\">    0</td><td style=\"text-align: right;\">  nan</td><td style=\"text-align: right;\">  nan</td><td style=\"text-align: right;\">  nan</td><td style=\"text-align: right;\">  nan</td><td style=\"text-align: right;\">  nan</td><td>YES  </td><td>YES  </td><td style=\"text-align: right;\">    1</td></tr>\n",
       "<tr><td style=\"text-align: right;\">1987</td><td style=\"text-align: right;\">  10</td><td style=\"text-align: right;\">  18</td><td style=\"text-align: right;\">   7</td><td style=\"text-align: right;\"> 729</td><td style=\"text-align: right;\"> 730</td><td style=\"text-align: right;\"> 847</td><td style=\"text-align: right;\"> 849</td><td>PS  </td><td style=\"text-align: right;\"> 1451</td><td>NA   </td><td style=\"text-align: right;\">   78</td><td style=\"text-align: right;\">   79</td><td style=\"text-align: right;\">  nan</td><td style=\"text-align: right;\">   -2</td><td style=\"text-align: right;\">   -1</td><td>SAN  </td><td>SFO  </td><td style=\"text-align: right;\">  447</td><td style=\"text-align: right;\">  nan</td><td style=\"text-align: right;\">  nan</td><td style=\"text-align: right;\">    0</td><td>NA   </td><td style=\"text-align: right;\">    0</td><td style=\"text-align: right;\">  nan</td><td style=\"text-align: right;\">  nan</td><td style=\"text-align: right;\">  nan</td><td style=\"text-align: right;\">  nan</td><td style=\"text-align: right;\">  nan</td><td>NO   </td><td>NO   </td><td style=\"text-align: right;\">    1</td></tr>\n",
       "<tr><td style=\"text-align: right;\">1987</td><td style=\"text-align: right;\">  10</td><td style=\"text-align: right;\">  19</td><td style=\"text-align: right;\">   1</td><td style=\"text-align: right;\"> 749</td><td style=\"text-align: right;\"> 730</td><td style=\"text-align: right;\"> 922</td><td style=\"text-align: right;\"> 849</td><td>PS  </td><td style=\"text-align: right;\"> 1451</td><td>NA   </td><td style=\"text-align: right;\">   93</td><td style=\"text-align: right;\">   79</td><td style=\"text-align: right;\">  nan</td><td style=\"text-align: right;\">   33</td><td style=\"text-align: right;\">   19</td><td>SAN  </td><td>SFO  </td><td style=\"text-align: right;\">  447</td><td style=\"text-align: right;\">  nan</td><td style=\"text-align: right;\">  nan</td><td style=\"text-align: right;\">    0</td><td>NA   </td><td style=\"text-align: right;\">    0</td><td style=\"text-align: right;\">  nan</td><td style=\"text-align: right;\">  nan</td><td style=\"text-align: right;\">  nan</td><td style=\"text-align: right;\">  nan</td><td style=\"text-align: right;\">  nan</td><td>YES  </td><td>YES  </td><td style=\"text-align: right;\">    0</td></tr>\n",
       "<tr><td style=\"text-align: right;\">1987</td><td style=\"text-align: right;\">  10</td><td style=\"text-align: right;\">  21</td><td style=\"text-align: right;\">   3</td><td style=\"text-align: right;\"> 728</td><td style=\"text-align: right;\"> 730</td><td style=\"text-align: right;\"> 848</td><td style=\"text-align: right;\"> 849</td><td>PS  </td><td style=\"text-align: right;\"> 1451</td><td>NA   </td><td style=\"text-align: right;\">   80</td><td style=\"text-align: right;\">   79</td><td style=\"text-align: right;\">  nan</td><td style=\"text-align: right;\">   -1</td><td style=\"text-align: right;\">   -2</td><td>SAN  </td><td>SFO  </td><td style=\"text-align: right;\">  447</td><td style=\"text-align: right;\">  nan</td><td style=\"text-align: right;\">  nan</td><td style=\"text-align: right;\">    0</td><td>NA   </td><td style=\"text-align: right;\">    0</td><td style=\"text-align: right;\">  nan</td><td style=\"text-align: right;\">  nan</td><td style=\"text-align: right;\">  nan</td><td style=\"text-align: right;\">  nan</td><td style=\"text-align: right;\">  nan</td><td>NO   </td><td>NO   </td><td style=\"text-align: right;\">    0</td></tr>\n",
       "<tr><td style=\"text-align: right;\">1987</td><td style=\"text-align: right;\">  10</td><td style=\"text-align: right;\">  22</td><td style=\"text-align: right;\">   4</td><td style=\"text-align: right;\"> 728</td><td style=\"text-align: right;\"> 730</td><td style=\"text-align: right;\"> 852</td><td style=\"text-align: right;\"> 849</td><td>PS  </td><td style=\"text-align: right;\"> 1451</td><td>NA   </td><td style=\"text-align: right;\">   84</td><td style=\"text-align: right;\">   79</td><td style=\"text-align: right;\">  nan</td><td style=\"text-align: right;\">    3</td><td style=\"text-align: right;\">   -2</td><td>SAN  </td><td>SFO  </td><td style=\"text-align: right;\">  447</td><td style=\"text-align: right;\">  nan</td><td style=\"text-align: right;\">  nan</td><td style=\"text-align: right;\">    0</td><td>NA   </td><td style=\"text-align: right;\">    0</td><td style=\"text-align: right;\">  nan</td><td style=\"text-align: right;\">  nan</td><td style=\"text-align: right;\">  nan</td><td style=\"text-align: right;\">  nan</td><td style=\"text-align: right;\">  nan</td><td>YES  </td><td>NO   </td><td style=\"text-align: right;\">    1</td></tr>\n",
       "<tr><td style=\"text-align: right;\">1987</td><td style=\"text-align: right;\">  10</td><td style=\"text-align: right;\">  23</td><td style=\"text-align: right;\">   5</td><td style=\"text-align: right;\"> 731</td><td style=\"text-align: right;\"> 730</td><td style=\"text-align: right;\"> 902</td><td style=\"text-align: right;\"> 849</td><td>PS  </td><td style=\"text-align: right;\"> 1451</td><td>NA   </td><td style=\"text-align: right;\">   91</td><td style=\"text-align: right;\">   79</td><td style=\"text-align: right;\">  nan</td><td style=\"text-align: right;\">   13</td><td style=\"text-align: right;\">    1</td><td>SAN  </td><td>SFO  </td><td style=\"text-align: right;\">  447</td><td style=\"text-align: right;\">  nan</td><td style=\"text-align: right;\">  nan</td><td style=\"text-align: right;\">    0</td><td>NA   </td><td style=\"text-align: right;\">    0</td><td style=\"text-align: right;\">  nan</td><td style=\"text-align: right;\">  nan</td><td style=\"text-align: right;\">  nan</td><td style=\"text-align: right;\">  nan</td><td style=\"text-align: right;\">  nan</td><td>YES  </td><td>YES  </td><td style=\"text-align: right;\">    1</td></tr>\n",
       "<tr><td style=\"text-align: right;\">1987</td><td style=\"text-align: right;\">  10</td><td style=\"text-align: right;\">  24</td><td style=\"text-align: right;\">   6</td><td style=\"text-align: right;\"> 744</td><td style=\"text-align: right;\"> 730</td><td style=\"text-align: right;\"> 908</td><td style=\"text-align: right;\"> 849</td><td>PS  </td><td style=\"text-align: right;\"> 1451</td><td>NA   </td><td style=\"text-align: right;\">   84</td><td style=\"text-align: right;\">   79</td><td style=\"text-align: right;\">  nan</td><td style=\"text-align: right;\">   19</td><td style=\"text-align: right;\">   14</td><td>SAN  </td><td>SFO  </td><td style=\"text-align: right;\">  447</td><td style=\"text-align: right;\">  nan</td><td style=\"text-align: right;\">  nan</td><td style=\"text-align: right;\">    0</td><td>NA   </td><td style=\"text-align: right;\">    0</td><td style=\"text-align: right;\">  nan</td><td style=\"text-align: right;\">  nan</td><td style=\"text-align: right;\">  nan</td><td style=\"text-align: right;\">  nan</td><td style=\"text-align: right;\">  nan</td><td>YES  </td><td>YES  </td><td style=\"text-align: right;\">    1</td></tr>\n",
       "<tr><td style=\"text-align: right;\">1987</td><td style=\"text-align: right;\">  10</td><td style=\"text-align: right;\">  25</td><td style=\"text-align: right;\">   7</td><td style=\"text-align: right;\"> 729</td><td style=\"text-align: right;\"> 730</td><td style=\"text-align: right;\"> 851</td><td style=\"text-align: right;\"> 849</td><td>PS  </td><td style=\"text-align: right;\"> 1451</td><td>NA   </td><td style=\"text-align: right;\">   82</td><td style=\"text-align: right;\">   79</td><td style=\"text-align: right;\">  nan</td><td style=\"text-align: right;\">    2</td><td style=\"text-align: right;\">   -1</td><td>SAN  </td><td>SFO  </td><td style=\"text-align: right;\">  447</td><td style=\"text-align: right;\">  nan</td><td style=\"text-align: right;\">  nan</td><td style=\"text-align: right;\">    0</td><td>NA   </td><td style=\"text-align: right;\">    0</td><td style=\"text-align: right;\">  nan</td><td style=\"text-align: right;\">  nan</td><td style=\"text-align: right;\">  nan</td><td style=\"text-align: right;\">  nan</td><td style=\"text-align: right;\">  nan</td><td>YES  </td><td>NO   </td><td style=\"text-align: right;\">    1</td></tr>\n",
       "</table>"
      ]
     },
     "metadata": {},
     "output_type": "display_data"
    },
    {
     "data": {
      "text/plain": []
     },
     "execution_count": 49,
     "metadata": {},
     "output_type": "execute_result"
    }
   ],
   "source": [
    "# Lets verify C32 columns\n",
    "airline_df"
   ]
  },
  {
   "cell_type": "markdown",
   "metadata": {},
   "source": [
    "# Using Functions on frames and columns"
   ]
  },
  {
   "cell_type": "code",
   "execution_count": 50,
   "metadata": {
    "collapsed": false
   },
   "outputs": [
    {
     "data": {
      "text/plain": [
       "1.0"
      ]
     },
     "execution_count": 50,
     "metadata": {},
     "output_type": "execute_result"
    }
   ],
   "source": [
    "airline_df['C4'].min()"
   ]
  },
  {
   "cell_type": "code",
   "execution_count": 51,
   "metadata": {
    "collapsed": false
   },
   "outputs": [
    {
     "data": {
      "text/plain": [
       "7.0"
      ]
     },
     "execution_count": 51,
     "metadata": {},
     "output_type": "execute_result"
    }
   ],
   "source": [
    "airline_df['C4'].max()"
   ]
  },
  {
   "cell_type": "code",
   "execution_count": 52,
   "metadata": {
    "collapsed": false
   },
   "outputs": [
    {
     "name": "stdout",
     "output_type": "stream",
     "text": [
      "[0.0]\n",
      "[16026.0]\n"
     ]
    }
   ],
   "source": [
    "print(airline_df['C4'].nacnt())\n",
    "print(airline_df['C20'].nacnt())"
   ]
  },
  {
   "cell_type": "code",
   "execution_count": 53,
   "metadata": {
    "collapsed": false
   },
   "outputs": [
    {
     "name": "stdout",
     "output_type": "stream",
     "text": [
      "[134]\n",
      "(134, 1)\n"
     ]
    },
    {
     "data": {
      "text/html": [
       "<table>\n",
       "<tr><th>C1  </th></tr>\n",
       "<tr><td>ABE </td></tr>\n",
       "<tr><td>ABQ </td></tr>\n",
       "<tr><td>ACY </td></tr>\n",
       "<tr><td>ALB </td></tr>\n",
       "<tr><td>AMA </td></tr>\n",
       "<tr><td>ANC </td></tr>\n",
       "<tr><td>ATL </td></tr>\n",
       "<tr><td>AUS </td></tr>\n",
       "<tr><td>AVL </td></tr>\n",
       "<tr><td>AVP </td></tr>\n",
       "</table>"
      ]
     },
     "metadata": {},
     "output_type": "display_data"
    },
    {
     "data": {
      "text/plain": []
     },
     "execution_count": 53,
     "metadata": {},
     "output_type": "execute_result"
    }
   ],
   "source": [
    "# total number of categorical elements in the column \n",
    "print(airline_df['C18'].nlevels())\n",
    "print(airline_df['C18'].unique().shape)\n",
    "airline_df['C18'].unique()"
   ]
  },
  {
   "cell_type": "markdown",
   "metadata": {},
   "source": [
    "# Documentation help\n",
    "\n",
    "List of funstions applied on H2OFrame\n",
    "http://docs.h2o.ai/h2o/latest-stable/h2o-py/docs/frame.html"
   ]
  },
  {
   "cell_type": "code",
   "execution_count": null,
   "metadata": {
    "collapsed": true
   },
   "outputs": [],
   "source": []
  }
 ],
 "metadata": {
  "kernelspec": {
   "display_name": "Python 2",
   "language": "python",
   "name": "python2"
  },
  "language_info": {
   "codemirror_mode": {
    "name": "ipython",
    "version": 2
   },
   "file_extension": ".py",
   "mimetype": "text/x-python",
   "name": "python",
   "nbconvert_exporter": "python",
   "pygments_lexer": "ipython2",
   "version": "2.7.10"
  }
 },
 "nbformat": 4,
 "nbformat_minor": 1
}
